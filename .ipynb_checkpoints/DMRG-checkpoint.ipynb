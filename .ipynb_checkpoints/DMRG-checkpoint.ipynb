{
 "cells": [
  {
   "cell_type": "code",
   "execution_count": 2,
   "id": "b4f87eb4",
   "metadata": {},
   "outputs": [
    {
     "name": "stdout",
     "output_type": "stream",
     "text": [
      "After sweep 1 energy=-51.770731504197606  maxlinkdim=8 maxerr=1.07E-15 time=0.086\n",
      "After sweep 2 energy=-52.07159518918674  maxlinkdim=31 maxerr=9.98E-11 time=0.340\n",
      "After sweep 3 energy=-52.07540757574335  maxlinkdim=49 maxerr=9.98E-11 time=1.045\n",
      "After sweep 4 energy=-52.07663199755513  maxlinkdim=69 maxerr=1.00E-10 time=1.815\n",
      "After sweep 5 energy=-52.07832663092238  maxlinkdim=81 maxerr=9.99E-11 time=3.081\n",
      "After sweep 6 energy=-52.079321680711004  maxlinkdim=96 maxerr=1.00E-10 time=3.694\n",
      "After sweep 7 energy=-52.07955846849692  maxlinkdim=95 maxerr=9.99E-11 time=4.475\n",
      "After sweep 8 energy=-52.079626824167526  maxlinkdim=113 maxerr=1.00E-10 time=4.964\n",
      "After sweep 9 energy=-52.079640885063014  maxlinkdim=125 maxerr=9.99E-11 time=5.299\n",
      "After sweep 10 energy=-52.079643431906376  maxlinkdim=128 maxerr=1.00E-10 time=6.008\n",
      "After sweep 11 energy=-52.07964363804223  maxlinkdim=104 maxerr=9.99E-11 time=5.869\n",
      "After sweep 12 energy=-52.07964363652983  maxlinkdim=100 maxerr=1.00E-10 time=5.124\n",
      "After sweep 13 energy=-52.07964363574885  maxlinkdim=100 maxerr=1.00E-10 time=5.046\n",
      "After sweep 14 energy=-52.079643635489475  maxlinkdim=100 maxerr=1.00E-10 time=5.148\n",
      "After sweep 15 energy=-52.07964363553396  maxlinkdim=100 maxerr=9.95E-11 time=5.266\n",
      "After sweep 16 energy=-52.07964363555201  maxlinkdim=100 maxerr=9.95E-11 time=5.014\n",
      "After sweep 17 energy=-52.079643635568544  maxlinkdim=100 maxerr=9.95E-11 time=5.883\n",
      "After sweep 18 energy=-52.07964363559809  maxlinkdim=100 maxerr=9.95E-11 time=5.911\n",
      "After sweep 19 energy=-52.079643635529365  maxlinkdim=99 maxerr=9.98E-11 time=5.333\n",
      "After sweep 20 energy=-52.07964363552026  maxlinkdim=99 maxerr=9.95E-11 time=5.596\n",
      "The converged ground state energy is: -52.07964363552026\n",
      "\n",
      "Sx = [-2.808052226074137e-10, 2.538733563647399e-11, -2.1108117705982699e-10, 1.199277336429065e-10, -2.0543738918729e-10, 1.080072204563015e-10, -4.218097971819202e-11, 4.178988148526206e-11, 4.260581364429903e-11, 7.726494340425936e-12, 8.264131658501516e-11, -1.1449139716218636e-10, 1.5840193965192144e-10, -5.975048390686372e-11, 1.3297172716411183e-10, -4.099781298081278e-11, 9.686285883798535e-11, -2.2730418309616887e-11, 6.582967880287007e-11, -5.4760596064821905e-12, 4.0799630919911925e-11, 1.1215656131476997e-11, 2.3756198480211164e-11, 1.7268038701606418e-11, 1.3424272452873514e-11, 2.0055260327259977e-11, 8.635790211188933e-12, 2.064633850517377e-11, 5.815347383148332e-12, 2.3559455308773575e-11, 4.074865475716982e-12, 2.2343760430525294e-11, -9.958256710566238e-13, 2.7245582733806108e-11, -8.101210286394298e-12, 2.1317617333139594e-11, -3.113460805572374e-12, 1.9240553181192717e-11, -5.066119843967627e-12, 1.0414664407488967e-11, -1.0417149590017905e-11, 1.429987697235006e-11, -8.106735329842684e-12, 2.378749563537201e-11, -1.512665854305083e-11, 4.188460247576349e-11, -4.704758909927248e-11, 8.181353941575218e-11, -4.136088312197738e-11, 4.9850684207242414e-11, -3.337376778894177e-11, 3.6819906239248175e-11, -2.4162088265430837e-11, 2.5478111450454073e-11, -1.0565111791637413e-11, 1.8718604168095915e-11, -1.315777700831686e-11, 2.370907944509419e-11, 1.2104898262042393e-11, -1.8399407559571948e-11, 1.2939662107803673e-11, -1.686136030668896e-11, 2.2644710445500944e-11, -2.372435119467669e-11, 3.039512889136335e-11, -3.8000466227309086e-11, 4.117393813899642e-11, -4.9587989326336836e-11, 5.86535131313509e-11, -5.406791788723709e-11, 6.216745142849417e-11, -5.754071424021367e-11, 6.554747024267023e-11, -6.486768527823728e-11, 7.365595254145778e-11, -7.698793409811381e-11, 8.72456361352013e-11, -9.325322636434955e-11, 1.048150088761606e-10, -1.1156024603806335e-10, 1.2379307016667834e-10, -1.293815794543453e-10, 1.409018805877402e-10, -1.4299361236368343e-10, 1.523973531785202e-10, -1.4834486215169828e-10, 1.535597939251858e-10, -1.433612958793887e-10, 1.4064853637294884e-10, -1.3505205180037905e-10, 1.324440008719549e-10, -1.6590734953338846e-10, 1.2675188533335448e-10, 2.611685860293747e-11, -1.6375750413183697e-10, -2.6532645713170666e-10, -3.6229963853214725e-11, -3.225598026058221e-10, 4.4196137960299253e-11, -4.761317141336457e-10]\n"
     ]
    }
   ],
   "source": [
    "# Conduct a basic DMRG calculation on the 1D XXZ Model\n",
    "using ITensors\n",
    "using HDF5 \n",
    "\n",
    "let \n",
    "    # Define the number of sites in the chain\n",
    "    # The random MPS must be defined in the same Hilbert space as the Hamiltonian\n",
    "    number_of_sites = 100\n",
    "    sites = siteinds(\"S=1/2\", number_of_sites)\n",
    "    ψ₀ = randomMPS(sites; linkdims = 2)              \n",
    "\n",
    "    # Define the paramters used in the Hamiltonian\n",
    "    J₁ = 1.0\n",
    "    Δ = 1.5\n",
    "\n",
    "    # Set up the Hamiltonian\n",
    "    os = OpSum()\n",
    "\n",
    "    # Set up the nearest-neighbor interactions\n",
    "    for index = 1 : number_of_sites - 1\n",
    "        os += 0.5 * J₁, \"S+\", index, \"S-\", index + 1\n",
    "        os += 0.5 * J₁, \"S-\", index, \"S+\", index + 1\n",
    "        os += Δ, \"Sz\", index, \"Sz\", index + 1\n",
    "    end\n",
    "    Hamiltonian = MPO(os, sites)\n",
    "\n",
    "    # Parameters that control the DMRG optimization process\n",
    "    nsweeps = 20\n",
    "    maxdim = [20, 50, 200, 1000]\n",
    "    cutoff = [1E-10]\n",
    "    # Perform the DMRG calculation\n",
    "    E₀, ψ = dmrg(Hamiltonian, ψ₀; nsweeps, maxdim, cutoff)\n",
    "    \n",
    "    println(\"The converged ground state energy is: $E₀\")\n",
    "    println(\"\")\n",
    "    # @show E₀\n",
    "\n",
    "    # Measure one-point and two-point functions\n",
    "    Sx = expect(ψ, \"Sx\"; sites = 1 : number_of_sites)\n",
    "    Cxx = correlation_matrix(ψ, \"Sx\", \"Sx\"; sites = 1 : number_of_sites)\n",
    "    @show Sx\n",
    "    # @show Czz\n",
    "\n",
    "    # Store the wavefunction and expectation value of observables into a HDF5 file\n",
    "    h5open(\"Data/XXZ_Delta$(Δ)_N$(number_of_sites)_x.h5\", \"w\") do file\n",
    "        write(file, \"E0\", E₀)\n",
    "        write(file, \"Sx\", Sx)\n",
    "        write(file, \"Cxx\", Cxx)\n",
    "        write(file, \"Psi\", ψ)\n",
    "    end    \n",
    "\n",
    "    return\n",
    "end"
   ]
  },
  {
   "cell_type": "code",
   "execution_count": null,
   "id": "1aa410e5",
   "metadata": {},
   "outputs": [],
   "source": []
  }
 ],
 "metadata": {
  "kernelspec": {
   "display_name": "Julia 1.10.4",
   "language": "julia",
   "name": "julia-1.10"
  },
  "language_info": {
   "file_extension": ".jl",
   "mimetype": "application/julia",
   "name": "julia",
   "version": "1.10.4"
  }
 },
 "nbformat": 4,
 "nbformat_minor": 5
}
