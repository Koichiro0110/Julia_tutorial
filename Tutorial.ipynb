{
 "cells": [
  {
   "cell_type": "code",
   "execution_count": 19,
   "id": "1f565f72",
   "metadata": {},
   "outputs": [
    {
     "name": "stdout",
     "output_type": "stream",
     "text": [
      "I'm excited to learn Julia!\n"
     ]
    }
   ],
   "source": [
    "println(\"I'm excited to learn Julia!\")"
   ]
  },
  {
   "cell_type": "code",
   "execution_count": 20,
   "id": "43a61a9c",
   "metadata": {},
   "outputs": [],
   "source": [
    "123\n",
    "456;"
   ]
  },
  {
   "cell_type": "code",
   "execution_count": 21,
   "id": "3b526760",
   "metadata": {},
   "outputs": [
    {
     "data": {
      "text/plain": [
       "Int64"
      ]
     },
     "execution_count": 21,
     "metadata": {},
     "output_type": "execute_result"
    }
   ],
   "source": [
    "my_answer = 42\n",
    "typeof(my_answer)"
   ]
  },
  {
   "cell_type": "code",
   "execution_count": 22,
   "id": "b371fb4e",
   "metadata": {},
   "outputs": [
    {
     "data": {
      "text/plain": [
       "Float64"
      ]
     },
     "execution_count": 22,
     "metadata": {},
     "output_type": "execute_result"
    }
   ],
   "source": [
    "my_pi = 3.14159\n",
    "typeof(my_pi)"
   ]
  },
  {
   "cell_type": "code",
   "execution_count": 23,
   "id": "4e98fcb6",
   "metadata": {},
   "outputs": [
    {
     "data": {
      "text/plain": [
       "String"
      ]
     },
     "execution_count": 23,
     "metadata": {},
     "output_type": "execute_result"
    }
   ],
   "source": [
    "my_name = \"Koichiro\"\n",
    "typeof(my_name)"
   ]
  },
  {
   "cell_type": "code",
   "execution_count": 24,
   "id": "dbad97d1",
   "metadata": {},
   "outputs": [],
   "source": [
    "#=\n",
    "\n",
    "Comment\n",
    "out!\n",
    "\n",
    "=#\n",
    "\n",
    "# Single comment out"
   ]
  },
  {
   "cell_type": "code",
   "execution_count": 25,
   "id": "b2f5f6f1",
   "metadata": {},
   "outputs": [
    {
     "data": {
      "text/plain": [
       "100"
      ]
     },
     "execution_count": 25,
     "metadata": {},
     "output_type": "execute_result"
    }
   ],
   "source": [
    "power = 10^2"
   ]
  },
  {
   "cell_type": "code",
   "execution_count": 26,
   "id": "d3f60add",
   "metadata": {},
   "outputs": [
    {
     "data": {
      "text/plain": [
       "\"I am a string.\""
      ]
     },
     "execution_count": 26,
     "metadata": {},
     "output_type": "execute_result"
    }
   ],
   "source": [
    "s1 = \"I am a string.\""
   ]
  },
  {
   "cell_type": "code",
   "execution_count": 27,
   "id": "dd0bff41",
   "metadata": {},
   "outputs": [
    {
     "data": {
      "text/plain": [
       "\" If you want to use \\\"double quotations\\\" in a string!! \""
      ]
     },
     "execution_count": 27,
     "metadata": {},
     "output_type": "execute_result"
    }
   ],
   "source": [
    "s2 = \"\"\" If you want to use \"double quotations\" in a string!! \"\"\""
   ]
  },
  {
   "cell_type": "code",
   "execution_count": 28,
   "id": "a0b39044",
   "metadata": {},
   "outputs": [
    {
     "data": {
      "text/plain": [
       "Char"
      ]
     },
     "execution_count": 28,
     "metadata": {},
     "output_type": "execute_result"
    }
   ],
   "source": [
    "typeof('a') # define a character!"
   ]
  },
  {
   "cell_type": "code",
   "execution_count": 33,
   "id": "115cc606",
   "metadata": {},
   "outputs": [
    {
     "name": "stdout",
     "output_type": "stream",
     "text": [
      " If you want to insert my name, Koichiro, use dollar mark!\n",
      "Or you can even do 3.0\n"
     ]
    }
   ],
   "source": [
    "digit1 = 1\n",
    "digit2 = 2.\n",
    "println(\" If you want to insert my name, $my_name, use dollar mark!\")\n",
    "println(\"Or you can even do $(digit1 + digit2)\")"
   ]
  },
  {
   "cell_type": "code",
   "execution_count": 34,
   "id": "49ccad30",
   "metadata": {},
   "outputs": [
    {
     "data": {
      "text/plain": [
       "\"How many cats are too many cats?\""
      ]
     },
     "execution_count": 34,
     "metadata": {},
     "output_type": "execute_result"
    }
   ],
   "source": [
    "string(\"How many cats \", \"are too many cats?\")"
   ]
  },
  {
   "cell_type": "code",
   "execution_count": 35,
   "id": "7b557cbb",
   "metadata": {},
   "outputs": [
    {
     "data": {
      "text/plain": [
       "\" I don't know, but 10 are too few.\""
      ]
     },
     "execution_count": 35,
     "metadata": {},
     "output_type": "execute_result"
    }
   ],
   "source": [
    "string(\" I don't know, but \", 10, \" are too few.\")"
   ]
  },
  {
   "cell_type": "code",
   "execution_count": 36,
   "id": "e90732ff",
   "metadata": {},
   "outputs": [
    {
     "data": {
      "text/plain": [
       "\"are too many cats?\""
      ]
     },
     "execution_count": 36,
     "metadata": {},
     "output_type": "execute_result"
    }
   ],
   "source": [
    "s3 = \"How many cats \"\n",
    "s4 = \"are too many cats?\""
   ]
  },
  {
   "cell_type": "code",
   "execution_count": 37,
   "id": "70673f40",
   "metadata": {},
   "outputs": [
    {
     "data": {
      "text/plain": [
       "\"How many cats are too many cats?\""
      ]
     },
     "execution_count": 37,
     "metadata": {},
     "output_type": "execute_result"
    }
   ],
   "source": [
    "s3*s4"
   ]
  },
  {
   "cell_type": "code",
   "execution_count": 38,
   "id": "ae0ffc51",
   "metadata": {},
   "outputs": [
    {
     "data": {
      "text/plain": [
       "\"How many cats are too many cats?\""
      ]
     },
     "execution_count": 38,
     "metadata": {},
     "output_type": "execute_result"
    }
   ],
   "source": [
    "\"$s3$s4\""
   ]
  },
  {
   "cell_type": "markdown",
   "id": "1f95a200",
   "metadata": {},
   "source": [
    "# Dictionary"
   ]
  },
  {
   "cell_type": "code",
   "execution_count": 39,
   "id": "8f2945e9",
   "metadata": {},
   "outputs": [
    {
     "data": {
      "text/plain": [
       "Dict{String, String} with 2 entries:\n",
       "  \"Jenny\"        => \"867-5309\"\n",
       "  \"Ghostbusters\" => \"555-2368\""
      ]
     },
     "execution_count": 39,
     "metadata": {},
     "output_type": "execute_result"
    }
   ],
   "source": [
    "myphonebook = Dict(\"Jenny\" => \"867-5309\", \"Ghostbusters\" => \"555-2368\")"
   ]
  },
  {
   "cell_type": "code",
   "execution_count": 40,
   "id": "514e36b1",
   "metadata": {},
   "outputs": [
    {
     "data": {
      "text/plain": [
       "\"555-FILK\""
      ]
     },
     "execution_count": 40,
     "metadata": {},
     "output_type": "execute_result"
    }
   ],
   "source": [
    "myphonebook[\"Kramer\"] = \"555-FILK\""
   ]
  },
  {
   "cell_type": "code",
   "execution_count": 41,
   "id": "2a374bdb",
   "metadata": {},
   "outputs": [
    {
     "data": {
      "text/plain": [
       "Dict{String, String} with 3 entries:\n",
       "  \"Jenny\"        => \"867-5309\"\n",
       "  \"Kramer\"       => \"555-FILK\"\n",
       "  \"Ghostbusters\" => \"555-2368\""
      ]
     },
     "execution_count": 41,
     "metadata": {},
     "output_type": "execute_result"
    }
   ],
   "source": [
    "myphonebook"
   ]
  },
  {
   "cell_type": "code",
   "execution_count": 42,
   "id": "894c6e00",
   "metadata": {},
   "outputs": [
    {
     "data": {
      "text/plain": [
       "\"555-FILK\""
      ]
     },
     "execution_count": 42,
     "metadata": {},
     "output_type": "execute_result"
    }
   ],
   "source": [
    "myphonebook[\"Kramer\"]"
   ]
  },
  {
   "cell_type": "code",
   "execution_count": 44,
   "id": "288a29c4",
   "metadata": {},
   "outputs": [
    {
     "data": {
      "text/plain": [
       "\"555-FILK\""
      ]
     },
     "execution_count": 44,
     "metadata": {},
     "output_type": "execute_result"
    }
   ],
   "source": [
    "pop!(myphonebook, \"Kramer\")"
   ]
  },
  {
   "cell_type": "code",
   "execution_count": 45,
   "id": "1cf485ad",
   "metadata": {},
   "outputs": [
    {
     "data": {
      "text/plain": [
       "Dict{String, String} with 2 entries:\n",
       "  \"Jenny\"        => \"867-5309\"\n",
       "  \"Ghostbusters\" => \"555-2368\""
      ]
     },
     "execution_count": 45,
     "metadata": {},
     "output_type": "execute_result"
    }
   ],
   "source": [
    "myphonebook"
   ]
  },
  {
   "cell_type": "code",
   "execution_count": 46,
   "id": "adbb9516",
   "metadata": {},
   "outputs": [
    {
     "ename": "LoadError",
     "evalue": "KeyError: key 1 not found",
     "output_type": "error",
     "traceback": [
      "KeyError: key 1 not found",
      "",
      "Stacktrace:",
      " [1] getindex(h::Dict{String, String}, key::Int64)",
      "   @ Base ./dict.jl:498",
      " [2] top-level scope",
      "   @ In[46]:1"
     ]
    }
   ],
   "source": [
    "myphonebook[1] # we can't index dictionary"
   ]
  },
  {
   "cell_type": "markdown",
   "id": "8780fb42",
   "metadata": {},
   "source": [
    "# Tuples"
   ]
  },
  {
   "cell_type": "code",
   "execution_count": 47,
   "id": "bfe75682",
   "metadata": {},
   "outputs": [
    {
     "data": {
      "text/plain": [
       "(\"penguins\", \"cats\", \"sugargliders\")"
      ]
     },
     "execution_count": 47,
     "metadata": {},
     "output_type": "execute_result"
    }
   ],
   "source": [
    "myfavoriteanimals = (\"penguins\", \"cats\", \"sugargliders\")"
   ]
  },
  {
   "cell_type": "code",
   "execution_count": 49,
   "id": "2fb9b87d",
   "metadata": {},
   "outputs": [
    {
     "data": {
      "text/plain": [
       "\"penguins\""
      ]
     },
     "execution_count": 49,
     "metadata": {},
     "output_type": "execute_result"
    }
   ],
   "source": [
    "myfavoriteanimals[1] # we can index tuples"
   ]
  },
  {
   "cell_type": "code",
   "execution_count": 51,
   "id": "11e9418e",
   "metadata": {},
   "outputs": [
    {
     "ename": "LoadError",
     "evalue": "MethodError: no method matching setindex!(::Tuple{String, String, String}, ::String, ::Int64)",
     "output_type": "error",
     "traceback": [
      "MethodError: no method matching setindex!(::Tuple{String, String, String}, ::String, ::Int64)",
      "",
      "Stacktrace:",
      " [1] top-level scope",
      "   @ In[51]:1"
     ]
    }
   ],
   "source": [
    "myfavoriteanimals[1] = \"otters\" # but can't update the elements!"
   ]
  },
  {
   "cell_type": "markdown",
   "id": "d2416c6b",
   "metadata": {},
   "source": [
    "# Arrays"
   ]
  },
  {
   "cell_type": "code",
   "execution_count": 52,
   "id": "7c481b3d",
   "metadata": {},
   "outputs": [
    {
     "data": {
      "text/plain": [
       "5-element Vector{String}:\n",
       " \"Ted\"\n",
       " \"Robyn\"\n",
       " \"Barney\"\n",
       " \"Lily\"\n",
       " \"Marshall\""
      ]
     },
     "execution_count": 52,
     "metadata": {},
     "output_type": "execute_result"
    }
   ],
   "source": [
    "myfriend = [\"Ted\", \"Robyn\", \"Barney\", \"Lily\", \"Marshall\"]"
   ]
  },
  {
   "cell_type": "code",
   "execution_count": 54,
   "id": "a0e2f1ef",
   "metadata": {},
   "outputs": [
    {
     "data": {
      "text/plain": [
       "4-element Vector{Any}:\n",
       " 1\n",
       " 2\n",
       " 3\n",
       "  \"hi\""
      ]
     },
     "execution_count": 54,
     "metadata": {},
     "output_type": "execute_result"
    }
   ],
   "source": [
    "fibonacci = [1, 1, 2, 3, 5, 8, 13]\n",
    "mix = [1, 2, 3, \"hi\"]"
   ]
  },
  {
   "cell_type": "code",
   "execution_count": 55,
   "id": "0f33b3e4",
   "metadata": {},
   "outputs": [
    {
     "data": {
      "text/plain": [
       "\"Barney\""
      ]
     },
     "execution_count": 55,
     "metadata": {},
     "output_type": "execute_result"
    }
   ],
   "source": [
    "myfriend[3] #indexable"
   ]
  },
  {
   "cell_type": "code",
   "execution_count": 58,
   "id": "8930f2ee",
   "metadata": {},
   "outputs": [
    {
     "data": {
      "text/plain": [
       "5-element Vector{String}:\n",
       " \"Ted\"\n",
       " \"Robyn\"\n",
       " \"Baby Bop\"\n",
       " \"Lily\"\n",
       " \"Marshall\""
      ]
     },
     "execution_count": 58,
     "metadata": {},
     "output_type": "execute_result"
    }
   ],
   "source": [
    "myfriend[3] = \"Baby Bop\" # immutable!\n",
    "myfriend"
   ]
  },
  {
   "cell_type": "code",
   "execution_count": 59,
   "id": "2b60dac4",
   "metadata": {},
   "outputs": [
    {
     "data": {
      "text/plain": [
       "8-element Vector{Int64}:\n",
       "  1\n",
       "  1\n",
       "  2\n",
       "  3\n",
       "  5\n",
       "  8\n",
       " 13\n",
       " 21"
      ]
     },
     "execution_count": 59,
     "metadata": {},
     "output_type": "execute_result"
    }
   ],
   "source": [
    "push!(fibonacci, 21)"
   ]
  },
  {
   "cell_type": "code",
   "execution_count": 60,
   "id": "dfc68a66",
   "metadata": {},
   "outputs": [
    {
     "data": {
      "text/plain": [
       "21"
      ]
     },
     "execution_count": 60,
     "metadata": {},
     "output_type": "execute_result"
    }
   ],
   "source": [
    "pop!(fibonacci)"
   ]
  },
  {
   "cell_type": "code",
   "execution_count": 61,
   "id": "de59d560",
   "metadata": {},
   "outputs": [
    {
     "data": {
      "text/plain": [
       "7-element Vector{Int64}:\n",
       "  1\n",
       "  1\n",
       "  2\n",
       "  3\n",
       "  5\n",
       "  8\n",
       " 13"
      ]
     },
     "execution_count": 61,
     "metadata": {},
     "output_type": "execute_result"
    }
   ],
   "source": [
    "fibonacci"
   ]
  },
  {
   "cell_type": "code",
   "execution_count": 62,
   "id": "e28ff6bc",
   "metadata": {},
   "outputs": [
    {
     "data": {
      "text/plain": [
       "3-element Vector{Vector{Int64}}:\n",
       " [1, 2, 3]\n",
       " [4, 5]\n",
       " [6, 7, 8, 9]"
      ]
     },
     "execution_count": 62,
     "metadata": {},
     "output_type": "execute_result"
    }
   ],
   "source": [
    "numbers = [[1,2,3], [4,5], [6,7,8,9]]"
   ]
  },
  {
   "cell_type": "code",
   "execution_count": 63,
   "id": "d2228233",
   "metadata": {},
   "outputs": [
    {
     "data": {
      "text/plain": [
       "4×3 Matrix{Float64}:\n",
       " 0.911334  0.93524   0.667262\n",
       " 0.187357  0.491998  0.710367\n",
       " 0.960565  0.411609  0.434071\n",
       " 0.670689  0.521379  0.44237"
      ]
     },
     "execution_count": 63,
     "metadata": {},
     "output_type": "execute_result"
    }
   ],
   "source": [
    "rand(4, 3)"
   ]
  },
  {
   "cell_type": "markdown",
   "id": "eb06d459",
   "metadata": {},
   "source": [
    "# Loops"
   ]
  },
  {
   "cell_type": "code",
   "execution_count": 64,
   "id": "a5518f56",
   "metadata": {},
   "outputs": [
    {
     "name": "stdout",
     "output_type": "stream",
     "text": [
      "1\n",
      "2\n",
      "3\n",
      "4\n",
      "5\n",
      "6\n",
      "7\n",
      "8\n",
      "9\n",
      "10\n"
     ]
    }
   ],
   "source": [
    "n = 0\n",
    "while n < 10\n",
    "    n += 1\n",
    "    println(n)\n",
    "end"
   ]
  },
  {
   "cell_type": "code",
   "execution_count": 65,
   "id": "a7f3351d",
   "metadata": {},
   "outputs": [
    {
     "name": "stdout",
     "output_type": "stream",
     "text": [
      "1\n",
      "2\n",
      "3\n",
      "4\n",
      "5\n",
      "6\n",
      "7\n",
      "8\n",
      "9\n",
      "10\n"
     ]
    }
   ],
   "source": [
    "for n in 1:10\n",
    "    println(n)\n",
    "end"
   ]
  },
  {
   "cell_type": "code",
   "execution_count": 69,
   "id": "5615fa91",
   "metadata": {},
   "outputs": [
    {
     "name": "stdout",
     "output_type": "stream",
     "text": [
      "1\n",
      "2\n",
      "3\n",
      "4\n",
      "5\n",
      "6\n",
      "7\n",
      "8\n",
      "9\n",
      "10\n"
     ]
    }
   ],
   "source": [
    "for n ∈  1:10\n",
    "    println(n)\n",
    "end"
   ]
  },
  {
   "cell_type": "code",
   "execution_count": 70,
   "id": "f2f057ea",
   "metadata": {},
   "outputs": [
    {
     "name": "stdout",
     "output_type": "stream",
     "text": [
      "1\n",
      "2\n",
      "3\n",
      "4\n",
      "5\n",
      "6\n",
      "7\n",
      "8\n",
      "9\n",
      "10\n"
     ]
    }
   ],
   "source": [
    "for n = 1:10\n",
    "    println(n)\n",
    "end"
   ]
  },
  {
   "cell_type": "code",
   "execution_count": 71,
   "id": "45761087",
   "metadata": {},
   "outputs": [
    {
     "data": {
      "text/plain": [
       "5×5 Matrix{Float64}:\n",
       " 0.0  0.0  0.0  0.0  0.0\n",
       " 0.0  0.0  0.0  0.0  0.0\n",
       " 0.0  0.0  0.0  0.0  0.0\n",
       " 0.0  0.0  0.0  0.0  0.0\n",
       " 0.0  0.0  0.0  0.0  0.0"
      ]
     },
     "execution_count": 71,
     "metadata": {},
     "output_type": "execute_result"
    }
   ],
   "source": [
    "m, n = 5, 5\n",
    "A = zeros(m, n)"
   ]
  },
  {
   "cell_type": "code",
   "execution_count": 72,
   "id": "34e894d3",
   "metadata": {},
   "outputs": [
    {
     "data": {
      "text/plain": [
       "5×5 Matrix{Float64}:\n",
       " 2.0  3.0  4.0  5.0   6.0\n",
       " 3.0  4.0  5.0  6.0   7.0\n",
       " 4.0  5.0  6.0  7.0   8.0\n",
       " 5.0  6.0  7.0  8.0   9.0\n",
       " 6.0  7.0  8.0  9.0  10.0"
      ]
     },
     "execution_count": 72,
     "metadata": {},
     "output_type": "execute_result"
    }
   ],
   "source": [
    "for i in 1:m\n",
    "    for j in 1:n\n",
    "        A[i, j] = i + j\n",
    "    end\n",
    "end\n",
    "A"
   ]
  },
  {
   "cell_type": "code",
   "execution_count": 75,
   "id": "fa73d04c",
   "metadata": {},
   "outputs": [
    {
     "data": {
      "text/plain": [
       "5×5 Matrix{Float64}:\n",
       " 2.0  3.0  4.0  5.0   6.0\n",
       " 3.0  4.0  5.0  6.0   7.0\n",
       " 4.0  5.0  6.0  7.0   8.0\n",
       " 5.0  6.0  7.0  8.0   9.0\n",
       " 6.0  7.0  8.0  9.0  10.0"
      ]
     },
     "execution_count": 75,
     "metadata": {},
     "output_type": "execute_result"
    }
   ],
   "source": [
    "B = zeros(m, n)\n",
    "for i in 1:m, j in 1:n\n",
    "    B[i, j] = i + j\n",
    "end\n",
    "B"
   ]
  },
  {
   "cell_type": "code",
   "execution_count": 76,
   "id": "ba7b9b13",
   "metadata": {},
   "outputs": [
    {
     "data": {
      "text/plain": [
       "5×5 Matrix{Int64}:\n",
       " 2  3  4  5   6\n",
       " 3  4  5  6   7\n",
       " 4  5  6  7   8\n",
       " 5  6  7  8   9\n",
       " 6  7  8  9  10"
      ]
     },
     "execution_count": 76,
     "metadata": {},
     "output_type": "execute_result"
    }
   ],
   "source": [
    "C = [i + j for i in 1:m, j in 1:n]"
   ]
  },
  {
   "cell_type": "code",
   "execution_count": 78,
   "id": "3f605644",
   "metadata": {},
   "outputs": [
    {
     "data": {
      "text/plain": [
       "1×1 Matrix{Int64}:\n",
       " 2"
      ]
     },
     "metadata": {},
     "output_type": "display_data"
    },
    {
     "data": {
      "text/plain": [
       "2×2 Matrix{Int64}:\n",
       " 2  3\n",
       " 3  4"
      ]
     },
     "metadata": {},
     "output_type": "display_data"
    },
    {
     "data": {
      "text/plain": [
       "3×3 Matrix{Int64}:\n",
       " 2  3  4\n",
       " 3  4  5\n",
       " 4  5  6"
      ]
     },
     "metadata": {},
     "output_type": "display_data"
    },
    {
     "data": {
      "text/plain": [
       "4×4 Matrix{Int64}:\n",
       " 2  3  4  5\n",
       " 3  4  5  6\n",
       " 4  5  6  7\n",
       " 5  6  7  8"
      ]
     },
     "metadata": {},
     "output_type": "display_data"
    }
   ],
   "source": [
    "for n in 1:4\n",
    "    A = [i+j for i in 1:n, j in 1:n]\n",
    "    display(A)\n",
    "end"
   ]
  },
  {
   "cell_type": "markdown",
   "id": "189718d3",
   "metadata": {},
   "source": [
    "# Conditionals"
   ]
  },
  {
   "cell_type": "code",
   "execution_count": 79,
   "id": "be599f0c",
   "metadata": {},
   "outputs": [
    {
     "data": {
      "text/plain": [
       "7"
      ]
     },
     "execution_count": 79,
     "metadata": {},
     "output_type": "execute_result"
    }
   ],
   "source": [
    "x = 1\n",
    "y = 7"
   ]
  },
  {
   "cell_type": "code",
   "execution_count": 82,
   "id": "b03ab51b",
   "metadata": {},
   "outputs": [
    {
     "name": "stdout",
     "output_type": "stream",
     "text": [
      "7 is larger than 1\n"
     ]
    }
   ],
   "source": [
    "if x > y\n",
    "    println(\"$x is larger than $y\")\n",
    "elseif y > x\n",
    "    println(\"$y is larger than $x\")\n",
    "else\n",
    "    println(\"$x and $y are equal!\")\n",
    "end"
   ]
  },
  {
   "cell_type": "code",
   "execution_count": 83,
   "id": "496a0d26",
   "metadata": {},
   "outputs": [
    {
     "data": {
      "text/plain": [
       "7"
      ]
     },
     "execution_count": 83,
     "metadata": {},
     "output_type": "execute_result"
    }
   ],
   "source": [
    "(x > y) ? x : y # for short!"
   ]
  },
  {
   "cell_type": "code",
   "execution_count": 84,
   "id": "a316d17e",
   "metadata": {},
   "outputs": [
    {
     "data": {
      "text/plain": [
       "false"
      ]
     },
     "execution_count": 84,
     "metadata": {},
     "output_type": "execute_result"
    }
   ],
   "source": [
    "(x > y) && println(\"$x is larger than $y\")"
   ]
  },
  {
   "cell_type": "code",
   "execution_count": 86,
   "id": "0d55bc04",
   "metadata": {},
   "outputs": [
    {
     "name": "stdout",
     "output_type": "stream",
     "text": [
      "7 is larger than 1\n"
     ]
    }
   ],
   "source": [
    "(y > x) && println(\"$y is larger than $x\")"
   ]
  },
  {
   "cell_type": "markdown",
   "id": "4ac8175b",
   "metadata": {},
   "source": [
    "# Functions"
   ]
  },
  {
   "cell_type": "code",
   "execution_count": 87,
   "id": "d305aa24",
   "metadata": {},
   "outputs": [
    {
     "data": {
      "text/plain": [
       "sayhi (generic function with 1 method)"
      ]
     },
     "execution_count": 87,
     "metadata": {},
     "output_type": "execute_result"
    }
   ],
   "source": [
    "function sayhi(name)\n",
    "    println(\"Hi $name, it's great to see you!\")\n",
    "end"
   ]
  },
  {
   "cell_type": "code",
   "execution_count": 88,
   "id": "a516d87e",
   "metadata": {},
   "outputs": [
    {
     "data": {
      "text/plain": [
       "f (generic function with 1 method)"
      ]
     },
     "execution_count": 88,
     "metadata": {},
     "output_type": "execute_result"
    }
   ],
   "source": [
    "function f(x)\n",
    "    x^2\n",
    "end"
   ]
  },
  {
   "cell_type": "code",
   "execution_count": 89,
   "id": "5396554b",
   "metadata": {},
   "outputs": [
    {
     "name": "stdout",
     "output_type": "stream",
     "text": [
      "Hi C-3PO, it's great to see you!\n"
     ]
    }
   ],
   "source": [
    "sayhi(\"C-3PO\")"
   ]
  },
  {
   "cell_type": "code",
   "execution_count": 92,
   "id": "7592ad99",
   "metadata": {},
   "outputs": [
    {
     "data": {
      "text/plain": [
       "121"
      ]
     },
     "execution_count": 92,
     "metadata": {},
     "output_type": "execute_result"
    }
   ],
   "source": [
    "f(11)"
   ]
  },
  {
   "cell_type": "code",
   "execution_count": 93,
   "id": "86089b5b",
   "metadata": {},
   "outputs": [
    {
     "data": {
      "text/plain": [
       "sayhi2 (generic function with 1 method)"
      ]
     },
     "execution_count": 93,
     "metadata": {},
     "output_type": "execute_result"
    }
   ],
   "source": [
    "sayhi2(name) = println(\"Hi $name, it's great to see you!\")"
   ]
  },
  {
   "cell_type": "code",
   "execution_count": 94,
   "id": "744237a6",
   "metadata": {},
   "outputs": [
    {
     "data": {
      "text/plain": [
       "f2 (generic function with 1 method)"
      ]
     },
     "execution_count": 94,
     "metadata": {},
     "output_type": "execute_result"
    }
   ],
   "source": [
    "f2(x) = x^2"
   ]
  },
  {
   "cell_type": "code",
   "execution_count": 95,
   "id": "9c546d96",
   "metadata": {},
   "outputs": [
    {
     "name": "stdout",
     "output_type": "stream",
     "text": [
      "Hi R2D2, it's great to see you!\n"
     ]
    }
   ],
   "source": [
    "sayhi2(\"R2D2\")"
   ]
  },
  {
   "cell_type": "code",
   "execution_count": 96,
   "id": "258cda71",
   "metadata": {},
   "outputs": [
    {
     "data": {
      "text/plain": [
       "144"
      ]
     },
     "execution_count": 96,
     "metadata": {},
     "output_type": "execute_result"
    }
   ],
   "source": [
    "f2(12)"
   ]
  },
  {
   "cell_type": "code",
   "execution_count": 97,
   "id": "ff9418f1",
   "metadata": {},
   "outputs": [
    {
     "data": {
      "text/plain": [
       "#7 (generic function with 1 method)"
      ]
     },
     "execution_count": 97,
     "metadata": {},
     "output_type": "execute_result"
    }
   ],
   "source": [
    "sayhi3 = name -> println(\"HI $name, it's great to see you!\")"
   ]
  },
  {
   "cell_type": "code",
   "execution_count": 98,
   "id": "f7511bd4",
   "metadata": {},
   "outputs": [
    {
     "data": {
      "text/plain": [
       "#9 (generic function with 1 method)"
      ]
     },
     "execution_count": 98,
     "metadata": {},
     "output_type": "execute_result"
    }
   ],
   "source": [
    "f3 = x -> x^2"
   ]
  },
  {
   "cell_type": "code",
   "execution_count": 99,
   "id": "653f4014",
   "metadata": {},
   "outputs": [
    {
     "name": "stdout",
     "output_type": "stream",
     "text": [
      "HI Chewbacca, it's great to see you!\n"
     ]
    }
   ],
   "source": [
    "sayhi3(\"Chewbacca\")"
   ]
  },
  {
   "cell_type": "code",
   "execution_count": 100,
   "id": "a47e97a1",
   "metadata": {},
   "outputs": [
    {
     "data": {
      "text/plain": [
       "169"
      ]
     },
     "execution_count": 100,
     "metadata": {},
     "output_type": "execute_result"
    }
   ],
   "source": [
    "f3(13)"
   ]
  },
  {
   "cell_type": "code",
   "execution_count": 101,
   "id": "a982be1c",
   "metadata": {},
   "outputs": [
    {
     "data": {
      "text/plain": [
       "3×3 Matrix{Float64}:\n",
       " 0.626204  0.174933  0.123355\n",
       " 0.204479  0.916813  0.874232\n",
       " 0.702718  0.376522  0.821998"
      ]
     },
     "execution_count": 101,
     "metadata": {},
     "output_type": "execute_result"
    }
   ],
   "source": [
    "A = rand(3, 3)\n",
    "A"
   ]
  },
  {
   "cell_type": "code",
   "execution_count": 102,
   "id": "7fa0b260",
   "metadata": {},
   "outputs": [
    {
     "data": {
      "text/plain": [
       "3×3 Matrix{Float64}:\n",
       " 0.514585  0.31637   0.331575\n",
       " 0.929853  1.20548   1.54535\n",
       " 1.09467   0.777629  1.09153"
      ]
     },
     "execution_count": 102,
     "metadata": {},
     "output_type": "execute_result"
    }
   ],
   "source": [
    "f(A)"
   ]
  },
  {
   "cell_type": "code",
   "execution_count": 103,
   "id": "b9538e08",
   "metadata": {},
   "outputs": [
    {
     "data": {
      "text/plain": [
       "3-element Vector{Float64}:\n",
       " 0.5017158790348873\n",
       " 0.45768669986403243\n",
       " 0.4603347549192809"
      ]
     },
     "execution_count": 103,
     "metadata": {},
     "output_type": "execute_result"
    }
   ],
   "source": [
    "v = rand(3)"
   ]
  },
  {
   "cell_type": "code",
   "execution_count": 104,
   "id": "aaf5f260",
   "metadata": {},
   "outputs": [
    {
     "ename": "LoadError",
     "evalue": "MethodError: no method matching ^(::Vector{Float64}, ::Int64)\n\n\u001b[0mClosest candidates are:\n\u001b[0m  ^(\u001b[91m::BigInt\u001b[39m, ::Integer)\n\u001b[0m\u001b[90m   @\u001b[39m \u001b[90mBase\u001b[39m \u001b[90m\u001b[4mgmp.jl:654\u001b[24m\u001b[39m\n\u001b[0m  ^(\u001b[91m::Missing\u001b[39m, ::Integer)\n\u001b[0m\u001b[90m   @\u001b[39m \u001b[90mBase\u001b[39m \u001b[90m\u001b[4mmissing.jl:165\u001b[24m\u001b[39m\n\u001b[0m  ^(\u001b[91m::Missing\u001b[39m, ::Number)\n\u001b[0m\u001b[90m   @\u001b[39m \u001b[90mBase\u001b[39m \u001b[90m\u001b[4mmissing.jl:123\u001b[24m\u001b[39m\n\u001b[0m  ...\n",
     "output_type": "error",
     "traceback": [
      "MethodError: no method matching ^(::Vector{Float64}, ::Int64)\n\n\u001b[0mClosest candidates are:\n\u001b[0m  ^(\u001b[91m::BigInt\u001b[39m, ::Integer)\n\u001b[0m\u001b[90m   @\u001b[39m \u001b[90mBase\u001b[39m \u001b[90m\u001b[4mgmp.jl:654\u001b[24m\u001b[39m\n\u001b[0m  ^(\u001b[91m::Missing\u001b[39m, ::Integer)\n\u001b[0m\u001b[90m   @\u001b[39m \u001b[90mBase\u001b[39m \u001b[90m\u001b[4mmissing.jl:165\u001b[24m\u001b[39m\n\u001b[0m  ^(\u001b[91m::Missing\u001b[39m, ::Number)\n\u001b[0m\u001b[90m   @\u001b[39m \u001b[90mBase\u001b[39m \u001b[90m\u001b[4mmissing.jl:123\u001b[24m\u001b[39m\n\u001b[0m  ...\n",
      "",
      "Stacktrace:",
      " [1] literal_pow",
      "   @ ./intfuncs.jl:351 [inlined]",
      " [2] f(x::Vector{Float64})",
      "   @ Main ./In[88]:2",
      " [3] top-level scope",
      "   @ In[104]:1"
     ]
    }
   ],
   "source": [
    "f(v)"
   ]
  },
  {
   "cell_type": "code",
   "execution_count": 109,
   "id": "33c9e49c",
   "metadata": {},
   "outputs": [
    {
     "data": {
      "text/plain": [
       "3-element Vector{Int64}:\n",
       " 3\n",
       " 5\n",
       " 2"
      ]
     },
     "execution_count": 109,
     "metadata": {},
     "output_type": "execute_result"
    }
   ],
   "source": [
    "v = [3,5,2]"
   ]
  },
  {
   "cell_type": "code",
   "execution_count": 110,
   "id": "df9fc51f",
   "metadata": {},
   "outputs": [
    {
     "data": {
      "text/plain": [
       "3-element Vector{Int64}:\n",
       " 2\n",
       " 3\n",
       " 5"
      ]
     },
     "execution_count": 110,
     "metadata": {},
     "output_type": "execute_result"
    }
   ],
   "source": [
    "sort(v)"
   ]
  },
  {
   "cell_type": "code",
   "execution_count": 111,
   "id": "08a516ee",
   "metadata": {},
   "outputs": [
    {
     "data": {
      "text/plain": [
       "3-element Vector{Int64}:\n",
       " 3\n",
       " 5\n",
       " 2"
      ]
     },
     "execution_count": 111,
     "metadata": {},
     "output_type": "execute_result"
    }
   ],
   "source": [
    "v"
   ]
  },
  {
   "cell_type": "code",
   "execution_count": 112,
   "id": "33820e70",
   "metadata": {},
   "outputs": [
    {
     "data": {
      "text/plain": [
       "3-element Vector{Int64}:\n",
       " 2\n",
       " 3\n",
       " 5"
      ]
     },
     "execution_count": 112,
     "metadata": {},
     "output_type": "execute_result"
    }
   ],
   "source": [
    "sort!(v) # ! mutates the object!!"
   ]
  },
  {
   "cell_type": "code",
   "execution_count": 113,
   "id": "9a058659",
   "metadata": {},
   "outputs": [
    {
     "data": {
      "text/plain": [
       "3-element Vector{Int64}:\n",
       " 2\n",
       " 3\n",
       " 5"
      ]
     },
     "execution_count": 113,
     "metadata": {},
     "output_type": "execute_result"
    }
   ],
   "source": [
    "v"
   ]
  },
  {
   "cell_type": "code",
   "execution_count": 115,
   "id": "7bc78073",
   "metadata": {},
   "outputs": [
    {
     "data": {
      "text/plain": [
       "3×3 Matrix{Int64}:\n",
       " 1  2  3\n",
       " 4  5  6\n",
       " 7  8  9"
      ]
     },
     "execution_count": 115,
     "metadata": {},
     "output_type": "execute_result"
    }
   ],
   "source": [
    "A = [i + 3*j for j in 0:2, i in 1:3]"
   ]
  },
  {
   "cell_type": "code",
   "execution_count": 118,
   "id": "12dec282",
   "metadata": {},
   "outputs": [
    {
     "data": {
      "text/plain": [
       "3×3 Matrix{Int64}:\n",
       "  30   36   42\n",
       "  66   81   96\n",
       " 102  126  150"
      ]
     },
     "execution_count": 118,
     "metadata": {},
     "output_type": "execute_result"
    }
   ],
   "source": [
    "f(A)　# A^2 = A*A!"
   ]
  },
  {
   "cell_type": "code",
   "execution_count": 119,
   "id": "312c5425",
   "metadata": {
    "slideshow": {
     "slide_type": "subslide"
    }
   },
   "outputs": [
    {
     "data": {
      "text/plain": [
       "3×3 Matrix{Int64}:\n",
       "  1   4   9\n",
       " 16  25  36\n",
       " 49  64  81"
      ]
     },
     "execution_count": 119,
     "metadata": {},
     "output_type": "execute_result"
    }
   ],
   "source": [
    "B = f.(A)  #A[i,j]^2 = A[i,j]*A[i,j]!! Broadcasting"
   ]
  },
  {
   "cell_type": "code",
   "execution_count": 120,
   "id": "55722053",
   "metadata": {},
   "outputs": [
    {
     "data": {
      "text/plain": [
       "3-element Vector{Int64}:\n",
       " 1\n",
       " 2\n",
       " 3"
      ]
     },
     "execution_count": 120,
     "metadata": {},
     "output_type": "execute_result"
    }
   ],
   "source": [
    "v = [1, 2, 3]"
   ]
  },
  {
   "cell_type": "code",
   "execution_count": 122,
   "id": "2dba1e61",
   "metadata": {},
   "outputs": [
    {
     "data": {
      "text/plain": [
       "3-element Vector{Int64}:\n",
       " 1\n",
       " 4\n",
       " 9"
      ]
     },
     "execution_count": 122,
     "metadata": {},
     "output_type": "execute_result"
    }
   ],
   "source": [
    "f.(v) #well-defined"
   ]
  },
  {
   "cell_type": "markdown",
   "id": "838ba656",
   "metadata": {},
   "source": [
    "# Packages"
   ]
  },
  {
   "cell_type": "code",
   "execution_count": 125,
   "id": "f4fd4f6e",
   "metadata": {},
   "outputs": [],
   "source": [
    "using Example"
   ]
  },
  {
   "cell_type": "code",
   "execution_count": 126,
   "id": "cb945578",
   "metadata": {},
   "outputs": [
    {
     "data": {
      "text/plain": [
       "\"Hello, it's me\""
      ]
     },
     "execution_count": 126,
     "metadata": {},
     "output_type": "execute_result"
    }
   ],
   "source": [
    "hello(\"it's me\")"
   ]
  },
  {
   "cell_type": "code",
   "execution_count": 128,
   "id": "ff387525",
   "metadata": {},
   "outputs": [],
   "source": [
    "using Colors"
   ]
  },
  {
   "cell_type": "code",
   "execution_count": 129,
   "id": "cb124d4b",
   "metadata": {},
   "outputs": [
    {
     "data": {
      "image/svg+xml": [
       "<?xml version=\"1.0\" encoding=\"UTF-8\"?>\n",
       "<!DOCTYPE svg PUBLIC \"-//W3C//DTD SVG 1.1//EN\"\n",
       " \"http://www.w3.org/Graphics/SVG/1.1/DTD/svg11.dtd\">\n",
       "<svg xmlns=\"http://www.w3.org/2000/svg\" version=\"1.1\"\n",
       "     width=\"180mm\" height=\"25mm\"\n",
       "     viewBox=\"0 0 100 1\" preserveAspectRatio=\"none\"\n",
       "     shape-rendering=\"crispEdges\" stroke=\"none\">\n",
       "<rect width=\"1\" height=\".96\" x=\"0\" y=\"0\" fill=\"#000000\" />\n",
       "<rect width=\"1\" height=\".96\" x=\"1\" y=\"0\" fill=\"#FFFF74\" />\n",
       "<rect width=\"1\" height=\".96\" x=\"2\" y=\"0\" fill=\"#FF9BFF\" />\n",
       "<rect width=\"1\" height=\".96\" x=\"3\" y=\"0\" fill=\"#00D3FF\" />\n",
       "<rect width=\"1\" height=\".96\" x=\"4\" y=\"0\" fill=\"#E2630D\" />\n",
       "<rect width=\"1\" height=\".96\" x=\"5\" y=\"0\" fill=\"#007E00\" />\n",
       "<rect width=\"1\" height=\".96\" x=\"6\" y=\"0\" fill=\"#0050E6\" />\n",
       "<rect width=\"1\" height=\".96\" x=\"7\" y=\"0\" fill=\"#AC0047\" />\n",
       "<rect width=\"1\" height=\".96\" x=\"8\" y=\"0\" fill=\"#00FFC8\" />\n",
       "<rect width=\"1\" height=\".96\" x=\"9\" y=\"0\" fill=\"#006468\" />\n",
       "<rect width=\"1\" height=\".96\" x=\"10\" y=\"0\" fill=\"#FFD5C4\" />\n",
       "<rect width=\"1\" height=\".96\" x=\"11\" y=\"0\" fill=\"#6C5200\" />\n",
       "<rect width=\"1\" height=\".96\" x=\"12\" y=\"0\" fill=\"#7A7581\" />\n",
       "<rect width=\"1\" height=\".96\" x=\"13\" y=\"0\" fill=\"#44005C\" />\n",
       "<rect width=\"1\" height=\".96\" x=\"14\" y=\"0\" fill=\"#9E9E77\" />\n",
       "<rect width=\"1\" height=\".96\" x=\"15\" y=\"0\" fill=\"#FF5C78\" />\n",
       "<rect width=\"1\" height=\".96\" x=\"16\" y=\"0\" fill=\"#8197F1\" />\n",
       "<rect width=\"1\" height=\".96\" x=\"17\" y=\"0\" fill=\"#003200\" />\n",
       "<rect width=\"1\" height=\".96\" x=\"18\" y=\"0\" fill=\"#C721DD\" />\n",
       "<rect width=\"1\" height=\".96\" x=\"19\" y=\"0\" fill=\"#FFAD07\" />\n",
       "<rect width=\"1\" height=\".96\" x=\"20\" y=\"0\" fill=\"#611C00\" />\n",
       "<rect width=\"1\" height=\".96\" x=\"21\" y=\"0\" fill=\"#F3FFFA\" />\n",
       "<rect width=\"1\" height=\".96\" x=\"22\" y=\"0\" fill=\"#009E88\" />\n",
       "<rect width=\"1\" height=\".96\" x=\"23\" y=\"0\" fill=\"#5EC700\" />\n",
       "<rect width=\"1\" height=\".96\" x=\"24\" y=\"0\" fill=\"#002D54\" />\n",
       "<rect width=\"1\" height=\".96\" x=\"25\" y=\"0\" fill=\"#553C4A\" />\n",
       "<rect width=\"1\" height=\".96\" x=\"26\" y=\"0\" fill=\"#444439\" />\n",
       "<rect width=\"1\" height=\".96\" x=\"27\" y=\"0\" fill=\"#008FB6\" />\n",
       "<rect width=\"1\" height=\".96\" x=\"28\" y=\"0\" fill=\"#CFD4FD\" />\n",
       "<rect width=\"1\" height=\".96\" x=\"29\" y=\"0\" fill=\"#C40000\" />\n",
       "<rect width=\"1\" height=\".96\" x=\"30\" y=\"0\" fill=\"#A4675C\" />\n",
       "<rect width=\"1\" height=\".96\" x=\"31\" y=\"0\" fill=\"#BB8FA8\" />\n",
       "<rect width=\"1\" height=\".96\" x=\"32\" y=\"0\" fill=\"#290001\" />\n",
       "<rect width=\"1\" height=\".96\" x=\"33\" y=\"0\" fill=\"#A78600\" />\n",
       "<rect width=\"1\" height=\".96\" x=\"34\" y=\"0\" fill=\"#002D30\" />\n",
       "<rect width=\"1\" height=\".96\" x=\"35\" y=\"0\" fill=\"#C7DEAA\" />\n",
       "<rect width=\"1\" height=\".96\" x=\"36\" y=\"0\" fill=\"#8D9FA3\" />\n",
       "<rect width=\"1\" height=\".96\" x=\"37\" y=\"0\" fill=\"#6F5B95\" />\n",
       "<rect width=\"1\" height=\".96\" x=\"38\" y=\"0\" fill=\"#A1FFFF\" />\n",
       "<rect width=\"1\" height=\".96\" x=\"39\" y=\"0\" fill=\"#B39688\" />\n",
       "<rect width=\"1\" height=\".96\" x=\"40\" y=\"0\" fill=\"#4E6D50\" />\n",
       "<rect width=\"1\" height=\".96\" x=\"41\" y=\"0\" fill=\"#FF977B\" />\n",
       "<rect width=\"1\" height=\".96\" x=\"42\" y=\"0\" fill=\"#FFD1EC\" />\n",
       "<rect width=\"1\" height=\".96\" x=\"43\" y=\"0\" fill=\"#9E5100\" />\n",
       "<rect width=\"1\" height=\".96\" x=\"44\" y=\"0\" fill=\"#AE5B8E\" />\n",
       "<rect width=\"1\" height=\".96\" x=\"45\" y=\"0\" fill=\"#799400\" />\n",
       "<rect width=\"1\" height=\".96\" x=\"46\" y=\"0\" fill=\"#362200\" />\n",
       "<rect width=\"1\" height=\".96\" x=\"47\" y=\"0\" fill=\"#0E0026\" />\n",
       "<rect width=\"1\" height=\".96\" x=\"48\" y=\"0\" fill=\"#80765F\" />\n",
       "<rect width=\"1\" height=\".96\" x=\"49\" y=\"0\" fill=\"#485C00\" />\n",
       "<rect width=\"1\" height=\".96\" x=\"50\" y=\"0\" fill=\"#C8C2B5\" />\n",
       "<rect width=\"1\" height=\".96\" x=\"51\" y=\"0\" fill=\"#8800A1\" />\n",
       "<rect width=\"1\" height=\".96\" x=\"52\" y=\"0\" fill=\"#00A853\" />\n",
       "<rect width=\"1\" height=\".96\" x=\"53\" y=\"0\" fill=\"#FFE1AA\" />\n",
       "<rect width=\"1\" height=\".96\" x=\"54\" y=\"0\" fill=\"#674F42\" />\n",
       "<rect width=\"1\" height=\".96\" x=\"55\" y=\"0\" fill=\"#FF342D\" />\n",
       "<rect width=\"1\" height=\".96\" x=\"56\" y=\"0\" fill=\"#6B0041\" />\n",
       "<rect width=\"1\" height=\".96\" x=\"57\" y=\"0\" fill=\"#0806B1\" />\n",
       "<rect width=\"1\" height=\".96\" x=\"58\" y=\"0\" fill=\"#986DFF\" />\n",
       "<rect width=\"1\" height=\".96\" x=\"59\" y=\"0\" fill=\"#FF4EC7\" />\n",
       "<rect width=\"1\" height=\".96\" x=\"60\" y=\"0\" fill=\"#8AB9A2\" />\n",
       "<rect width=\"1\" height=\".96\" x=\"61\" y=\"0\" fill=\"#2EFF71\" />\n",
       "<rect width=\"1\" height=\".96\" x=\"62\" y=\"0\" fill=\"#005577\" />\n",
       "<rect width=\"1\" height=\".96\" x=\"63\" y=\"0\" fill=\"#0078E3\" />\n",
       "<rect width=\"1\" height=\".96\" x=\"64\" y=\"0\" fill=\"#B2ADB9\" />\n",
       "<rect width=\"1\" height=\".96\" x=\"65\" y=\"0\" fill=\"#00C3C6\" />\n",
       "<rect width=\"1\" height=\".96\" x=\"66\" y=\"0\" fill=\"#00AEFF\" />\n",
       "<rect width=\"1\" height=\".96\" x=\"67\" y=\"0\" fill=\"#4E545F\" />\n",
       "<rect width=\"1\" height=\".96\" x=\"68\" y=\"0\" fill=\"#FF9BB0\" />\n",
       "<rect width=\"1\" height=\".96\" x=\"69\" y=\"0\" fill=\"#FED206\" />\n",
       "<rect width=\"1\" height=\".96\" x=\"70\" y=\"0\" fill=\"#687B7A\" />\n",
       "<rect width=\"1\" height=\".96\" x=\"71\" y=\"0\" fill=\"#B1DCFC\" />\n",
       "<rect width=\"1\" height=\".96\" x=\"72\" y=\"0\" fill=\"#FFF6FF\" />\n",
       "<rect width=\"1\" height=\".96\" x=\"73\" y=\"0\" fill=\"#620019\" />\n",
       "<rect width=\"1\" height=\".96\" x=\"74\" y=\"0\" fill=\"#C79253\" />\n",
       "<rect width=\"1\" height=\".96\" x=\"75\" y=\"0\" fill=\"#A891CF\" />\n",
       "<rect width=\"1\" height=\".96\" x=\"76\" y=\"0\" fill=\"#EF007A\" />\n",
       "<rect width=\"1\" height=\".96\" x=\"77\" y=\"0\" fill=\"#B8CE00\" />\n",
       "<rect width=\"1\" height=\".96\" x=\"78\" y=\"0\" fill=\"#001700\" />\n",
       "<rect width=\"1\" height=\".96\" x=\"79\" y=\"0\" fill=\"#204B39\" />\n",
       "<rect width=\"1\" height=\".96\" x=\"80\" y=\"0\" fill=\"#875866\" />\n",
       "<rect width=\"1\" height=\".96\" x=\"81\" y=\"0\" fill=\"#B5FF4E\" />\n",
       "<rect width=\"1\" height=\".96\" x=\"82\" y=\"0\" fill=\"#B40080\" />\n",
       "<rect width=\"1\" height=\".96\" x=\"83\" y=\"0\" fill=\"#853F34\" />\n",
       "<rect width=\"1\" height=\".96\" x=\"84\" y=\"0\" fill=\"#69936B\" />\n",
       "<rect width=\"1\" height=\".96\" x=\"85\" y=\"0\" fill=\"#FFBC80\" />\n",
       "<rect width=\"1\" height=\".96\" x=\"86\" y=\"0\" fill=\"#4C3779\" />\n",
       "<rect width=\"1\" height=\".96\" x=\"87\" y=\"0\" fill=\"#323606\" />\n",
       "<rect width=\"1\" height=\".96\" x=\"88\" y=\"0\" fill=\"#008E94\" />\n",
       "<rect width=\"1\" height=\".96\" x=\"89\" y=\"0\" fill=\"#CAAC51\" />\n",
       "<rect width=\"1\" height=\".96\" x=\"90\" y=\"0\" fill=\"#787B3B\" />\n",
       "<rect width=\"1\" height=\".96\" x=\"91\" y=\"0\" fill=\"#B6F9D9\" />\n",
       "<rect width=\"1\" height=\".96\" x=\"92\" y=\"0\" fill=\"#DA003F\" />\n",
       "<rect width=\"1\" height=\".96\" x=\"93\" y=\"0\" fill=\"#2E2124\" />\n",
       "<rect width=\"1\" height=\".96\" x=\"94\" y=\"0\" fill=\"#005815\" />\n",
       "<rect width=\"1\" height=\".96\" x=\"95\" y=\"0\" fill=\"#FF8E1D\" />\n",
       "<rect width=\"1\" height=\".96\" x=\"96\" y=\"0\" fill=\"#6674B1\" />\n",
       "<rect width=\"1\" height=\".96\" x=\"97\" y=\"0\" fill=\"#00CDAD\" />\n",
       "<rect width=\"1\" height=\".96\" x=\"98\" y=\"0\" fill=\"#007F63\" />\n",
       "<rect width=\"1\" height=\".96\" x=\"99\" y=\"0\" fill=\"#996F3D\" />\n",
       "</svg>"
      ],
      "text/plain": [
       "100-element Array{RGB{N0f8},1} with eltype RGB{FixedPointNumbers.N0f8}:\n",
       " RGB{N0f8}(0.0,0.0,0.0)\n",
       " RGB{N0f8}(1.0,1.0,0.455)\n",
       " RGB{N0f8}(1.0,0.608,1.0)\n",
       " RGB{N0f8}(0.0,0.827,1.0)\n",
       " RGB{N0f8}(0.886,0.388,0.051)\n",
       " RGB{N0f8}(0.0,0.494,0.0)\n",
       " RGB{N0f8}(0.0,0.314,0.902)\n",
       " RGB{N0f8}(0.675,0.0,0.278)\n",
       " RGB{N0f8}(0.0,1.0,0.784)\n",
       " RGB{N0f8}(0.0,0.392,0.408)\n",
       " RGB{N0f8}(1.0,0.835,0.769)\n",
       " RGB{N0f8}(0.424,0.322,0.0)\n",
       " RGB{N0f8}(0.478,0.459,0.506)\n",
       " ⋮\n",
       " RGB{N0f8}(0.0,0.557,0.58)\n",
       " RGB{N0f8}(0.792,0.675,0.318)\n",
       " RGB{N0f8}(0.471,0.482,0.231)\n",
       " RGB{N0f8}(0.714,0.976,0.851)\n",
       " RGB{N0f8}(0.855,0.0,0.247)\n",
       " RGB{N0f8}(0.18,0.129,0.141)\n",
       " RGB{N0f8}(0.0,0.345,0.082)\n",
       " RGB{N0f8}(1.0,0.557,0.114)\n",
       " RGB{N0f8}(0.4,0.455,0.694)\n",
       " RGB{N0f8}(0.0,0.804,0.678)\n",
       " RGB{N0f8}(0.0,0.498,0.388)\n",
       " RGB{N0f8}(0.6,0.435,0.239)"
      ]
     },
     "execution_count": 129,
     "metadata": {},
     "output_type": "execute_result"
    }
   ],
   "source": [
    "palette = distinguishable_colors(100)"
   ]
  },
  {
   "cell_type": "code",
   "execution_count": 132,
   "id": "8c4df7f2",
   "metadata": {},
   "outputs": [
    {
     "data": {
      "image/svg+xml": [
       "<?xml version=\"1.0\" encoding=\"UTF-8\"?>\n",
       "<!DOCTYPE svg PUBLIC \"-//W3C//DTD SVG 1.1//EN\"\n",
       " \"http://www.w3.org/Graphics/SVG/1.1/DTD/svg11.dtd\">\n",
       "<svg xmlns=\"http://www.w3.org/2000/svg\" version=\"1.1\"\n",
       "     width=\"75mm\" height=\"75mm\"\n",
       "     viewBox=\"0 0 3 3\" preserveAspectRatio=\"none\"\n",
       "     shape-rendering=\"crispEdges\" stroke=\"none\">\n",
       "<rect width=\".96\" height=\".96\" x=\"0\" y=\"0\" fill=\"#9E5100\" />\n",
       "<rect width=\".96\" height=\".96\" x=\"1\" y=\"0\" fill=\"#0078E3\" />\n",
       "<rect width=\".96\" height=\".96\" x=\"2\" y=\"0\" fill=\"#00D3FF\" />\n",
       "<rect width=\".96\" height=\".96\" x=\"0\" y=\"1\" fill=\"#F3FFFA\" />\n",
       "<rect width=\".96\" height=\".96\" x=\"1\" y=\"1\" fill=\"#8800A1\" />\n",
       "<rect width=\".96\" height=\".96\" x=\"2\" y=\"1\" fill=\"#875866\" />\n",
       "<rect width=\".96\" height=\".96\" x=\"0\" y=\"2\" fill=\"#875866\" />\n",
       "<rect width=\".96\" height=\".96\" x=\"1\" y=\"2\" fill=\"#00CDAD\" />\n",
       "<rect width=\".96\" height=\".96\" x=\"2\" y=\"2\" fill=\"#FF5C78\" />\n",
       "</svg>"
      ],
      "text/plain": [
       "3×3 Array{RGB{N0f8},2} with eltype RGB{FixedPointNumbers.N0f8}:\n",
       " RGB{N0f8}(0.62,0.318,0.0)   …  RGB{N0f8}(0.0,0.827,1.0)\n",
       " RGB{N0f8}(0.953,1.0,0.98)      RGB{N0f8}(0.529,0.345,0.4)\n",
       " RGB{N0f8}(0.529,0.345,0.4)     RGB{N0f8}(1.0,0.361,0.471)"
      ]
     },
     "execution_count": 132,
     "metadata": {},
     "output_type": "execute_result"
    }
   ],
   "source": [
    "rand(palette, 3, 3)"
   ]
  },
  {
   "cell_type": "markdown",
   "id": "651218d8",
   "metadata": {},
   "source": [
    "# Plotting"
   ]
  },
  {
   "cell_type": "code",
   "execution_count": 140,
   "id": "1e436e9e",
   "metadata": {},
   "outputs": [],
   "source": [
    "using Plots"
   ]
  },
  {
   "cell_type": "code",
   "execution_count": 143,
   "id": "688d7f99",
   "metadata": {},
   "outputs": [
    {
     "data": {
      "text/plain": [
       "61-element Vector{Float64}:\n",
       " 9.0\n",
       " 8.41\n",
       " 7.839999999999999\n",
       " 7.290000000000001\n",
       " 6.760000000000001\n",
       " 6.25\n",
       " 5.76\n",
       " 5.289999999999999\n",
       " 4.840000000000001\n",
       " 4.41\n",
       " 4.0\n",
       " 3.61\n",
       " 3.24\n",
       " ⋮\n",
       " 3.61\n",
       " 4.0\n",
       " 4.41\n",
       " 4.840000000000001\n",
       " 5.289999999999999\n",
       " 5.76\n",
       " 6.25\n",
       " 6.760000000000001\n",
       " 7.290000000000001\n",
       " 7.839999999999999\n",
       " 8.41\n",
       " 9.0"
      ]
     },
     "execution_count": 143,
     "metadata": {},
     "output_type": "execute_result"
    }
   ],
   "source": [
    "x = -3:0.1:3 # same as linspace, but, start:step:end !!\n",
    "f(x) = x^2\n",
    "\n",
    "y = f.(x)"
   ]
  },
  {
   "cell_type": "code",
   "execution_count": 144,
   "id": "25333daa",
   "metadata": {},
   "outputs": [
    {
     "data": {
      "text/plain": [
       "Plots.GRBackend()"
      ]
     },
     "execution_count": 144,
     "metadata": {},
     "output_type": "execute_result"
    }
   ],
   "source": [
    "gr()"
   ]
  },
  {
   "cell_type": "code",
   "execution_count": 145,
   "id": "1ea90bad",
   "metadata": {},
   "outputs": [
    {
     "data": {
      "image/png": "[encoded data removed]",
      "image/svg+xml": [
       "<?xml version=\"1.0\" encoding=\"utf-8\"?>\n",
       "<svg xmlns=\"http://www.w3.org/2000/svg\" xmlns:xlink=\"http://www.w3.org/1999/xlink\" width=\"600\" height=\"400\" viewBox=\"0 0 2400 1600\">\n",
       "<defs>\n",
       "  <clipPath id=\"clip090\">\n",
       "    <rect x=\"0\" y=\"0\" width=\"2400\" height=\"1600\"/>\n",
       "  </clipPath>\n",
       "</defs>\n",
       "<path clip-path=\"url(#clip090)\" d=\"M0 1600 L2400 1600 L2400 0 L0 0  Z\" fill=\"#ffffff\" fill-rule=\"evenodd\" fill-opacity=\"1\"/>\n",
       "<defs>\n",
       "  <clipPath id=\"clip091\">\n",
       "    <rect x=\"480\" y=\"0\" width=\"1681\" height=\"1600\"/>\n",
       "  </clipPath>\n",
       "</defs>\n",
       "<path clip-path=\"url(#clip090)\" d=\"M112.177 1486.45 L2352.76 1486.45 L2352.76 47.2441 L112.177 47.2441  Z\" fill=\"#ffffff\" fill-rule=\"evenodd\" fill-opacity=\"1\"/>\n",
       "<defs>\n",
       "  <clipPath id=\"clip092\">\n",
       "    <rect x=\"112\" y=\"47\" width=\"2242\" height=\"1440\"/>\n",
       "  </clipPath>\n",
       "</defs>\n",
       "<polyline clip-path=\"url(#clip092)\" style=\"stroke:#000000; stroke-linecap:round; stroke-linejoin:round; stroke-width:2; stroke-opacity:0.1; fill:none\" points=\"175.59,1486.45 175.59,47.2441 \"/>\n",
       "<polyline clip-path=\"url(#clip092)\" style=\"stroke:#000000; stroke-linecap:round; stroke-linejoin:round; stroke-width:2; stroke-opacity:0.1; fill:none\" points=\"527.882,1486.45 527.882,47.2441 \"/>\n",
       "<polyline clip-path=\"url(#clip092)\" style=\"stroke:#000000; stroke-linecap:round; stroke-linejoin:round; stroke-width:2; stroke-opacity:0.1; fill:none\" points=\"880.174,1486.45 880.174,47.2441 \"/>\n",
       "<polyline clip-path=\"url(#clip092)\" style=\"stroke:#000000; stroke-linecap:round; stroke-linejoin:round; stroke-width:2; stroke-opacity:0.1; fill:none\" points=\"1232.47,1486.45 1232.47,47.2441 \"/>\n",
       "<polyline clip-path=\"url(#clip092)\" style=\"stroke:#000000; stroke-linecap:round; stroke-linejoin:round; stroke-width:2; stroke-opacity:0.1; fill:none\" points=\"1584.76,1486.45 1584.76,47.2441 \"/>\n",
       "<polyline clip-path=\"url(#clip092)\" style=\"stroke:#000000; stroke-linecap:round; stroke-linejoin:round; stroke-width:2; stroke-opacity:0.1; fill:none\" points=\"1937.05,1486.45 1937.05,47.2441 \"/>\n",
       "<polyline clip-path=\"url(#clip092)\" style=\"stroke:#000000; stroke-linecap:round; stroke-linejoin:round; stroke-width:2; stroke-opacity:0.1; fill:none\" points=\"2289.34,1486.45 2289.34,47.2441 \"/>\n",
       "<polyline clip-path=\"url(#clip090)\" style=\"stroke:#000000; stroke-linecap:round; stroke-linejoin:round; stroke-width:4; stroke-opacity:1; fill:none\" points=\"112.177,1486.45 2352.76,1486.45 \"/>\n",
       "<polyline clip-path=\"url(#clip090)\" style=\"stroke:#000000; stroke-linecap:round; stroke-linejoin:round; stroke-width:4; stroke-opacity:1; fill:none\" points=\"175.59,1486.45 175.59,1467.55 \"/>\n",
       "<polyline clip-path=\"url(#clip090)\" style=\"stroke:#000000; stroke-linecap:round; stroke-linejoin:round; stroke-width:4; stroke-opacity:1; fill:none\" points=\"527.882,1486.45 527.882,1467.55 \"/>\n",
       "<polyline clip-path=\"url(#clip090)\" style=\"stroke:#000000; stroke-linecap:round; stroke-linejoin:round; stroke-width:4; stroke-opacity:1; fill:none\" points=\"880.174,1486.45 880.174,1467.55 \"/>\n",
       "<polyline clip-path=\"url(#clip090)\" style=\"stroke:#000000; stroke-linecap:round; stroke-linejoin:round; stroke-width:4; stroke-opacity:1; fill:none\" points=\"1232.47,1486.45 1232.47,1467.55 \"/>\n",
       "<polyline clip-path=\"url(#clip090)\" style=\"stroke:#000000; stroke-linecap:round; stroke-linejoin:round; stroke-width:4; stroke-opacity:1; fill:none\" points=\"1584.76,1486.45 1584.76,1467.55 \"/>\n",
       "<polyline clip-path=\"url(#clip090)\" style=\"stroke:#000000; stroke-linecap:round; stroke-linejoin:round; stroke-width:4; stroke-opacity:1; fill:none\" points=\"1937.05,1486.45 1937.05,1467.55 \"/>\n",
       "<polyline clip-path=\"url(#clip090)\" style=\"stroke:#000000; stroke-linecap:round; stroke-linejoin:round; stroke-width:4; stroke-opacity:1; fill:none\" points=\"2289.34,1486.45 2289.34,1467.55 \"/>\n",
       "<path clip-path=\"url(#clip090)\" d=\"M145.058 1532.02 L174.733 1532.02 L174.733 1535.95 L145.058 1535.95 L145.058 1532.02 Z\" fill=\"#000000\" fill-rule=\"nonzero\" fill-opacity=\"1\" /><path clip-path=\"url(#clip090)\" d=\"M198.992 1530.21 Q202.349 1530.93 204.224 1533.2 Q206.122 1535.47 206.122 1538.8 Q206.122 1543.92 202.604 1546.72 Q199.085 1549.52 192.604 1549.52 Q190.428 1549.52 188.113 1549.08 Q185.821 1548.66 183.368 1547.81 L183.368 1543.29 Q185.312 1544.43 187.627 1545.01 Q189.942 1545.58 192.465 1545.58 Q196.863 1545.58 199.154 1543.85 Q201.469 1542.11 201.469 1538.8 Q201.469 1535.75 199.317 1534.03 Q197.187 1532.3 193.367 1532.3 L189.34 1532.3 L189.34 1528.45 L193.553 1528.45 Q197.002 1528.45 198.83 1527.09 Q200.659 1525.7 200.659 1523.11 Q200.659 1520.45 198.761 1519.03 Q196.886 1517.6 193.367 1517.6 Q191.446 1517.6 189.247 1518.01 Q187.048 1518.43 184.409 1519.31 L184.409 1515.14 Q187.071 1514.4 189.386 1514.03 Q191.724 1513.66 193.784 1513.66 Q199.108 1513.66 202.21 1516.09 Q205.312 1518.5 205.312 1522.62 Q205.312 1525.49 203.668 1527.48 Q202.025 1529.45 198.992 1530.21 Z\" fill=\"#000000\" fill-rule=\"nonzero\" fill-opacity=\"1\" /><path clip-path=\"url(#clip090)\" d=\"M497.824 1532.02 L527.5 1532.02 L527.5 1535.95 L497.824 1535.95 L497.824 1532.02 Z\" fill=\"#000000\" fill-rule=\"nonzero\" fill-opacity=\"1\" /><path clip-path=\"url(#clip090)\" d=\"M541.62 1544.91 L557.94 1544.91 L557.94 1548.85 L535.995 1548.85 L535.995 1544.91 Q538.657 1542.16 543.241 1537.53 Q547.847 1532.88 549.028 1531.53 Q551.273 1529.01 552.153 1527.27 Q553.056 1525.51 553.056 1523.82 Q553.056 1521.07 551.111 1519.33 Q549.19 1517.6 546.088 1517.6 Q543.889 1517.6 541.435 1518.36 Q539.005 1519.13 536.227 1520.68 L536.227 1515.95 Q539.051 1514.82 541.505 1514.24 Q543.958 1513.66 545.995 1513.66 Q551.366 1513.66 554.56 1516.35 Q557.755 1519.03 557.755 1523.52 Q557.755 1525.65 556.944 1527.57 Q556.157 1529.47 554.051 1532.07 Q553.472 1532.74 550.37 1535.95 Q547.269 1539.15 541.62 1544.91 Z\" fill=\"#000000\" fill-rule=\"nonzero\" fill-opacity=\"1\" /><path clip-path=\"url(#clip090)\" d=\"M849.931 1532.02 L879.607 1532.02 L879.607 1535.95 L849.931 1535.95 L849.931 1532.02 Z\" fill=\"#000000\" fill-rule=\"nonzero\" fill-opacity=\"1\" /><path clip-path=\"url(#clip090)\" d=\"M890.51 1544.91 L898.149 1544.91 L898.149 1518.55 L889.839 1520.21 L889.839 1515.95 L898.102 1514.29 L902.778 1514.29 L902.778 1544.91 L910.417 1544.91 L910.417 1548.85 L890.51 1548.85 L890.51 1544.91 Z\" fill=\"#000000\" fill-rule=\"nonzero\" fill-opacity=\"1\" /><path clip-path=\"url(#clip090)\" d=\"M1232.47 1517.37 Q1228.86 1517.37 1227.03 1520.93 Q1225.22 1524.47 1225.22 1531.6 Q1225.22 1538.71 1227.03 1542.27 Q1228.86 1545.82 1232.47 1545.82 Q1236.1 1545.82 1237.91 1542.27 Q1239.74 1538.71 1239.74 1531.6 Q1239.74 1524.47 1237.91 1520.93 Q1236.1 1517.37 1232.47 1517.37 M1232.47 1513.66 Q1238.28 1513.66 1241.33 1518.27 Q1244.41 1522.85 1244.41 1531.6 Q1244.41 1540.33 1241.33 1544.94 Q1238.28 1549.52 1232.47 1549.52 Q1226.66 1549.52 1223.58 1544.94 Q1220.52 1540.33 1220.52 1531.6 Q1220.52 1522.85 1223.58 1518.27 Q1226.66 1513.66 1232.47 1513.66 Z\" fill=\"#000000\" fill-rule=\"nonzero\" fill-opacity=\"1\" /><path clip-path=\"url(#clip090)\" d=\"M1575.14 1544.91 L1582.78 1544.91 L1582.78 1518.55 L1574.47 1520.21 L1574.47 1515.95 L1582.73 1514.29 L1587.41 1514.29 L1587.41 1544.91 L1595.05 1544.91 L1595.05 1548.85 L1575.14 1548.85 L1575.14 1544.91 Z\" fill=\"#000000\" fill-rule=\"nonzero\" fill-opacity=\"1\" /><path clip-path=\"url(#clip090)\" d=\"M1931.7 1544.91 L1948.02 1544.91 L1948.02 1548.85 L1926.08 1548.85 L1926.08 1544.91 Q1928.74 1542.16 1933.32 1537.53 Q1937.93 1532.88 1939.11 1531.53 Q1941.36 1529.01 1942.24 1527.27 Q1943.14 1525.51 1943.14 1523.82 Q1943.14 1521.07 1941.19 1519.33 Q1939.27 1517.6 1936.17 1517.6 Q1933.97 1517.6 1931.52 1518.36 Q1929.09 1519.13 1926.31 1520.68 L1926.31 1515.95 Q1929.13 1514.82 1931.59 1514.24 Q1934.04 1513.66 1936.08 1513.66 Q1941.45 1513.66 1944.64 1516.35 Q1947.84 1519.03 1947.84 1523.52 Q1947.84 1525.65 1947.03 1527.57 Q1946.24 1529.47 1944.13 1532.07 Q1943.56 1532.74 1940.45 1535.95 Q1937.35 1539.15 1931.7 1544.91 Z\" fill=\"#000000\" fill-rule=\"nonzero\" fill-opacity=\"1\" /><path clip-path=\"url(#clip090)\" d=\"M2293.59 1530.21 Q2296.95 1530.93 2298.82 1533.2 Q2300.72 1535.47 2300.72 1538.8 Q2300.72 1543.92 2297.2 1546.72 Q2293.68 1549.52 2287.2 1549.52 Q2285.03 1549.52 2282.71 1549.08 Q2280.42 1548.66 2277.97 1547.81 L2277.97 1543.29 Q2279.91 1544.43 2282.23 1545.01 Q2284.54 1545.58 2287.06 1545.58 Q2291.46 1545.58 2293.75 1543.85 Q2296.07 1542.11 2296.07 1538.8 Q2296.07 1535.75 2293.92 1534.03 Q2291.79 1532.3 2287.97 1532.3 L2283.94 1532.3 L2283.94 1528.45 L2288.15 1528.45 Q2291.6 1528.45 2293.43 1527.09 Q2295.26 1525.7 2295.26 1523.11 Q2295.26 1520.45 2293.36 1519.03 Q2291.48 1517.6 2287.97 1517.6 Q2286.04 1517.6 2283.85 1518.01 Q2281.65 1518.43 2279.01 1519.31 L2279.01 1515.14 Q2281.67 1514.4 2283.98 1514.03 Q2286.32 1513.66 2288.38 1513.66 Q2293.71 1513.66 2296.81 1516.09 Q2299.91 1518.5 2299.91 1522.62 Q2299.91 1525.49 2298.27 1527.48 Q2296.62 1529.45 2293.59 1530.21 Z\" fill=\"#000000\" fill-rule=\"nonzero\" fill-opacity=\"1\" /><polyline clip-path=\"url(#clip092)\" style=\"stroke:#000000; stroke-linecap:round; stroke-linejoin:round; stroke-width:2; stroke-opacity:0.1; fill:none\" points=\"112.177,1445.72 2352.76,1445.72 \"/>\n",
       "<polyline clip-path=\"url(#clip092)\" style=\"stroke:#000000; stroke-linecap:round; stroke-linejoin:round; stroke-width:2; stroke-opacity:0.1; fill:none\" points=\"112.177,1144 2352.76,1144 \"/>\n",
       "<polyline clip-path=\"url(#clip092)\" style=\"stroke:#000000; stroke-linecap:round; stroke-linejoin:round; stroke-width:2; stroke-opacity:0.1; fill:none\" points=\"112.177,842.276 2352.76,842.276 \"/>\n",
       "<polyline clip-path=\"url(#clip092)\" style=\"stroke:#000000; stroke-linecap:round; stroke-linejoin:round; stroke-width:2; stroke-opacity:0.1; fill:none\" points=\"112.177,540.556 2352.76,540.556 \"/>\n",
       "<polyline clip-path=\"url(#clip092)\" style=\"stroke:#000000; stroke-linecap:round; stroke-linejoin:round; stroke-width:2; stroke-opacity:0.1; fill:none\" points=\"112.177,238.836 2352.76,238.836 \"/>\n",
       "<polyline clip-path=\"url(#clip090)\" style=\"stroke:#000000; stroke-linecap:round; stroke-linejoin:round; stroke-width:4; stroke-opacity:1; fill:none\" points=\"112.177,1486.45 112.177,47.2441 \"/>\n",
       "<polyline clip-path=\"url(#clip090)\" style=\"stroke:#000000; stroke-linecap:round; stroke-linejoin:round; stroke-width:4; stroke-opacity:1; fill:none\" points=\"112.177,1445.72 131.075,1445.72 \"/>\n",
       "<polyline clip-path=\"url(#clip090)\" style=\"stroke:#000000; stroke-linecap:round; stroke-linejoin:round; stroke-width:4; stroke-opacity:1; fill:none\" points=\"112.177,1144 131.075,1144 \"/>\n",
       "<polyline clip-path=\"url(#clip090)\" style=\"stroke:#000000; stroke-linecap:round; stroke-linejoin:round; stroke-width:4; stroke-opacity:1; fill:none\" points=\"112.177,842.276 131.075,842.276 \"/>\n",
       "<polyline clip-path=\"url(#clip090)\" style=\"stroke:#000000; stroke-linecap:round; stroke-linejoin:round; stroke-width:4; stroke-opacity:1; fill:none\" points=\"112.177,540.556 131.075,540.556 \"/>\n",
       "<polyline clip-path=\"url(#clip090)\" style=\"stroke:#000000; stroke-linecap:round; stroke-linejoin:round; stroke-width:4; stroke-opacity:1; fill:none\" points=\"112.177,238.836 131.075,238.836 \"/>\n",
       "<path clip-path=\"url(#clip090)\" d=\"M64.2328 1431.51 Q60.6217 1431.51 58.793 1435.08 Q56.9875 1438.62 56.9875 1445.75 Q56.9875 1452.86 58.793 1456.42 Q60.6217 1459.96 64.2328 1459.96 Q67.867 1459.96 69.6726 1456.42 Q71.5013 1452.86 71.5013 1445.75 Q71.5013 1438.62 69.6726 1435.08 Q67.867 1431.51 64.2328 1431.51 M64.2328 1427.81 Q70.0429 1427.81 73.0985 1432.42 Q76.1772 1437 76.1772 1445.75 Q76.1772 1454.48 73.0985 1459.08 Q70.0429 1463.67 64.2328 1463.67 Q58.4226 1463.67 55.344 1459.08 Q52.2884 1454.48 52.2884 1445.75 Q52.2884 1437 55.344 1432.42 Q58.4226 1427.81 64.2328 1427.81 Z\" fill=\"#000000\" fill-rule=\"nonzero\" fill-opacity=\"1\" /><path clip-path=\"url(#clip090)\" d=\"M59.8578 1157.34 L76.1772 1157.34 L76.1772 1161.28 L54.2328 1161.28 L54.2328 1157.34 Q56.8949 1154.59 61.4782 1149.96 Q66.0846 1145.3 67.2652 1143.96 Q69.5105 1141.44 70.3902 1139.7 Q71.2929 1137.94 71.2929 1136.25 Q71.2929 1133.5 69.3485 1131.76 Q67.4272 1130.03 64.3254 1130.03 Q62.1263 1130.03 59.6726 1130.79 Q57.2421 1131.55 54.4643 1133.1 L54.4643 1128.38 Q57.2884 1127.25 59.7421 1126.67 Q62.1958 1126.09 64.2328 1126.09 Q69.6031 1126.09 72.7976 1128.78 Q75.992 1131.46 75.992 1135.95 Q75.992 1138.08 75.1818 1140 Q74.3948 1141.9 72.2883 1144.49 Q71.7096 1145.16 68.6078 1148.38 Q65.5059 1151.58 59.8578 1157.34 Z\" fill=\"#000000\" fill-rule=\"nonzero\" fill-opacity=\"1\" /><path clip-path=\"url(#clip090)\" d=\"M66.5939 829.07 L54.7884 847.519 L66.5939 847.519 L66.5939 829.07 M65.367 824.996 L71.2466 824.996 L71.2466 847.519 L76.1772 847.519 L76.1772 851.408 L71.2466 851.408 L71.2466 859.556 L66.5939 859.556 L66.5939 851.408 L50.9921 851.408 L50.9921 846.894 L65.367 824.996 Z\" fill=\"#000000\" fill-rule=\"nonzero\" fill-opacity=\"1\" /><path clip-path=\"url(#clip090)\" d=\"M64.6495 538.693 Q61.5013 538.693 59.6495 540.845 Q57.8208 542.998 57.8208 546.748 Q57.8208 550.475 59.6495 552.651 Q61.5013 554.804 64.6495 554.804 Q67.7976 554.804 69.6263 552.651 Q71.4781 550.475 71.4781 546.748 Q71.4781 542.998 69.6263 540.845 Q67.7976 538.693 64.6495 538.693 M73.9318 524.04 L73.9318 528.299 Q72.1726 527.466 70.367 527.026 Q68.5846 526.586 66.8254 526.586 Q62.1958 526.586 59.7421 529.711 Q57.3115 532.836 56.9643 539.156 Q58.33 537.142 60.3902 536.077 Q62.4504 534.989 64.9272 534.989 Q70.1355 534.989 73.1448 538.16 Q76.1772 541.308 76.1772 546.748 Q76.1772 552.072 73.029 555.29 Q69.8809 558.507 64.6495 558.507 Q58.6541 558.507 55.4828 553.924 Q52.3116 549.318 52.3116 540.591 Q52.3116 532.396 56.2004 527.535 Q60.0893 522.651 66.6402 522.651 Q68.3994 522.651 70.1818 522.998 Q71.9874 523.346 73.9318 524.04 Z\" fill=\"#000000\" fill-rule=\"nonzero\" fill-opacity=\"1\" /><path clip-path=\"url(#clip090)\" d=\"M64.3254 239.704 Q60.9921 239.704 59.0708 241.487 Q57.1726 243.269 57.1726 246.394 Q57.1726 249.519 59.0708 251.301 Q60.9921 253.084 64.3254 253.084 Q67.6587 253.084 69.58 251.301 Q71.5013 249.496 71.5013 246.394 Q71.5013 243.269 69.58 241.487 Q67.6819 239.704 64.3254 239.704 M59.6495 237.714 Q56.6402 236.973 54.9504 234.913 Q53.2838 232.852 53.2838 229.89 Q53.2838 225.746 56.2236 223.339 Q59.1865 220.931 64.3254 220.931 Q69.4874 220.931 72.4272 223.339 Q75.367 225.746 75.367 229.89 Q75.367 232.852 73.6772 234.913 Q72.0105 236.973 69.0244 237.714 Q72.404 238.501 74.279 240.792 Q76.1772 243.084 76.1772 246.394 Q76.1772 251.417 73.0985 254.102 Q70.0429 256.788 64.3254 256.788 Q58.6078 256.788 55.5291 254.102 Q52.4736 251.417 52.4736 246.394 Q52.4736 243.084 54.3717 240.792 Q56.2699 238.501 59.6495 237.714 M57.9365 230.329 Q57.9365 233.014 59.6032 234.519 Q61.293 236.024 64.3254 236.024 Q67.3346 236.024 69.0244 234.519 Q70.7374 233.014 70.7374 230.329 Q70.7374 227.644 69.0244 226.14 Q67.3346 224.635 64.3254 224.635 Q61.293 224.635 59.6032 226.14 Q57.9365 227.644 57.9365 230.329 Z\" fill=\"#000000\" fill-rule=\"nonzero\" fill-opacity=\"1\" /><polyline clip-path=\"url(#clip092)\" style=\"stroke:#009af9; stroke-linecap:round; stroke-linejoin:round; stroke-width:4; stroke-opacity:1; fill:none\" points=\"175.59,87.9763 210.819,176.984 246.048,262.974 281.277,345.947 316.507,425.903 351.736,502.841 386.965,576.762 422.194,647.667 457.424,715.554 492.653,780.423 527.882,842.276 563.111,901.111 598.34,956.93 633.57,1009.73 668.799,1059.51 704.028,1106.28 739.257,1150.03 774.487,1190.76 809.716,1228.48 844.945,1263.18 880.174,1294.86 915.404,1323.52 950.633,1349.17 985.862,1371.79 1021.09,1391.41 1056.32,1408 1091.55,1421.58 1126.78,1432.14 1162.01,1439.68 1197.24,1444.21 1232.47,1445.72 1267.7,1444.21 1302.92,1439.68 1338.15,1432.14 1373.38,1421.58 1408.61,1408 1443.84,1391.41 1479.07,1371.79 1514.3,1349.17 1549.53,1323.52 1584.76,1294.86 1619.99,1263.18 1655.22,1228.48 1690.45,1190.76 1725.68,1150.03 1760.9,1106.28 1796.13,1059.51 1831.36,1009.73 1866.59,956.93 1901.82,901.111 1937.05,842.276 1972.28,780.423 2007.51,715.554 2042.74,647.667 2077.97,576.762 2113.2,502.841 2148.43,425.903 2183.66,345.947 2218.88,262.974 2254.11,176.984 2289.34,87.9763 \"/>\n",
       "<circle clip-path=\"url(#clip092)\" cx=\"175.59\" cy=\"87.9763\" r=\"14.4\" fill=\"#e26f46\" fill-rule=\"evenodd\" fill-opacity=\"1\" stroke=\"#000000\" stroke-opacity=\"1\" stroke-width=\"3.2\"/>\n",
       "<circle clip-path=\"url(#clip092)\" cx=\"210.819\" cy=\"176.984\" r=\"14.4\" fill=\"#e26f46\" fill-rule=\"evenodd\" fill-opacity=\"1\" stroke=\"#000000\" stroke-opacity=\"1\" stroke-width=\"3.2\"/>\n",
       "<circle clip-path=\"url(#clip092)\" cx=\"246.048\" cy=\"262.974\" r=\"14.4\" fill=\"#e26f46\" fill-rule=\"evenodd\" fill-opacity=\"1\" stroke=\"#000000\" stroke-opacity=\"1\" stroke-width=\"3.2\"/>\n",
       "<circle clip-path=\"url(#clip092)\" cx=\"281.277\" cy=\"345.947\" r=\"14.4\" fill=\"#e26f46\" fill-rule=\"evenodd\" fill-opacity=\"1\" stroke=\"#000000\" stroke-opacity=\"1\" stroke-width=\"3.2\"/>\n",
       "<circle clip-path=\"url(#clip092)\" cx=\"316.507\" cy=\"425.903\" r=\"14.4\" fill=\"#e26f46\" fill-rule=\"evenodd\" fill-opacity=\"1\" stroke=\"#000000\" stroke-opacity=\"1\" stroke-width=\"3.2\"/>\n",
       "<circle clip-path=\"url(#clip092)\" cx=\"351.736\" cy=\"502.841\" r=\"14.4\" fill=\"#e26f46\" fill-rule=\"evenodd\" fill-opacity=\"1\" stroke=\"#000000\" stroke-opacity=\"1\" stroke-width=\"3.2\"/>\n",
       "<circle clip-path=\"url(#clip092)\" cx=\"386.965\" cy=\"576.762\" r=\"14.4\" fill=\"#e26f46\" fill-rule=\"evenodd\" fill-opacity=\"1\" stroke=\"#000000\" stroke-opacity=\"1\" stroke-width=\"3.2\"/>\n",
       "<circle clip-path=\"url(#clip092)\" cx=\"422.194\" cy=\"647.667\" r=\"14.4\" fill=\"#e26f46\" fill-rule=\"evenodd\" fill-opacity=\"1\" stroke=\"#000000\" stroke-opacity=\"1\" stroke-width=\"3.2\"/>\n",
       "<circle clip-path=\"url(#clip092)\" cx=\"457.424\" cy=\"715.554\" r=\"14.4\" fill=\"#e26f46\" fill-rule=\"evenodd\" fill-opacity=\"1\" stroke=\"#000000\" stroke-opacity=\"1\" stroke-width=\"3.2\"/>\n",
       "<circle clip-path=\"url(#clip092)\" cx=\"492.653\" cy=\"780.423\" r=\"14.4\" fill=\"#e26f46\" fill-rule=\"evenodd\" fill-opacity=\"1\" stroke=\"#000000\" stroke-opacity=\"1\" stroke-width=\"3.2\"/>\n",
       "<circle clip-path=\"url(#clip092)\" cx=\"527.882\" cy=\"842.276\" r=\"14.4\" fill=\"#e26f46\" fill-rule=\"evenodd\" fill-opacity=\"1\" stroke=\"#000000\" stroke-opacity=\"1\" stroke-width=\"3.2\"/>\n",
       "<circle clip-path=\"url(#clip092)\" cx=\"563.111\" cy=\"901.111\" r=\"14.4\" fill=\"#e26f46\" fill-rule=\"evenodd\" fill-opacity=\"1\" stroke=\"#000000\" stroke-opacity=\"1\" stroke-width=\"3.2\"/>\n",
       "<circle clip-path=\"url(#clip092)\" cx=\"598.34\" cy=\"956.93\" r=\"14.4\" fill=\"#e26f46\" fill-rule=\"evenodd\" fill-opacity=\"1\" stroke=\"#000000\" stroke-opacity=\"1\" stroke-width=\"3.2\"/>\n",
       "<circle clip-path=\"url(#clip092)\" cx=\"633.57\" cy=\"1009.73\" r=\"14.4\" fill=\"#e26f46\" fill-rule=\"evenodd\" fill-opacity=\"1\" stroke=\"#000000\" stroke-opacity=\"1\" stroke-width=\"3.2\"/>\n",
       "<circle clip-path=\"url(#clip092)\" cx=\"668.799\" cy=\"1059.51\" r=\"14.4\" fill=\"#e26f46\" fill-rule=\"evenodd\" fill-opacity=\"1\" stroke=\"#000000\" stroke-opacity=\"1\" stroke-width=\"3.2\"/>\n",
       "<circle clip-path=\"url(#clip092)\" cx=\"704.028\" cy=\"1106.28\" r=\"14.4\" fill=\"#e26f46\" fill-rule=\"evenodd\" fill-opacity=\"1\" stroke=\"#000000\" stroke-opacity=\"1\" stroke-width=\"3.2\"/>\n",
       "<circle clip-path=\"url(#clip092)\" cx=\"739.257\" cy=\"1150.03\" r=\"14.4\" fill=\"#e26f46\" fill-rule=\"evenodd\" fill-opacity=\"1\" stroke=\"#000000\" stroke-opacity=\"1\" stroke-width=\"3.2\"/>\n",
       "<circle clip-path=\"url(#clip092)\" cx=\"774.487\" cy=\"1190.76\" r=\"14.4\" fill=\"#e26f46\" fill-rule=\"evenodd\" fill-opacity=\"1\" stroke=\"#000000\" stroke-opacity=\"1\" stroke-width=\"3.2\"/>\n",
       "<circle clip-path=\"url(#clip092)\" cx=\"809.716\" cy=\"1228.48\" r=\"14.4\" fill=\"#e26f46\" fill-rule=\"evenodd\" fill-opacity=\"1\" stroke=\"#000000\" stroke-opacity=\"1\" stroke-width=\"3.2\"/>\n",
       "<circle clip-path=\"url(#clip092)\" cx=\"844.945\" cy=\"1263.18\" r=\"14.4\" fill=\"#e26f46\" fill-rule=\"evenodd\" fill-opacity=\"1\" stroke=\"#000000\" stroke-opacity=\"1\" stroke-width=\"3.2\"/>\n",
       "<circle clip-path=\"url(#clip092)\" cx=\"880.174\" cy=\"1294.86\" r=\"14.4\" fill=\"#e26f46\" fill-rule=\"evenodd\" fill-opacity=\"1\" stroke=\"#000000\" stroke-opacity=\"1\" stroke-width=\"3.2\"/>\n",
       "<circle clip-path=\"url(#clip092)\" cx=\"915.404\" cy=\"1323.52\" r=\"14.4\" fill=\"#e26f46\" fill-rule=\"evenodd\" fill-opacity=\"1\" stroke=\"#000000\" stroke-opacity=\"1\" stroke-width=\"3.2\"/>\n",
       "<circle clip-path=\"url(#clip092)\" cx=\"950.633\" cy=\"1349.17\" r=\"14.4\" fill=\"#e26f46\" fill-rule=\"evenodd\" fill-opacity=\"1\" stroke=\"#000000\" stroke-opacity=\"1\" stroke-width=\"3.2\"/>\n",
       "<circle clip-path=\"url(#clip092)\" cx=\"985.862\" cy=\"1371.79\" r=\"14.4\" fill=\"#e26f46\" fill-rule=\"evenodd\" fill-opacity=\"1\" stroke=\"#000000\" stroke-opacity=\"1\" stroke-width=\"3.2\"/>\n",
       "<circle clip-path=\"url(#clip092)\" cx=\"1021.09\" cy=\"1391.41\" r=\"14.4\" fill=\"#e26f46\" fill-rule=\"evenodd\" fill-opacity=\"1\" stroke=\"#000000\" stroke-opacity=\"1\" stroke-width=\"3.2\"/>\n",
       "<circle clip-path=\"url(#clip092)\" cx=\"1056.32\" cy=\"1408\" r=\"14.4\" fill=\"#e26f46\" fill-rule=\"evenodd\" fill-opacity=\"1\" stroke=\"#000000\" stroke-opacity=\"1\" stroke-width=\"3.2\"/>\n",
       "<circle clip-path=\"url(#clip092)\" cx=\"1091.55\" cy=\"1421.58\" r=\"14.4\" fill=\"#e26f46\" fill-rule=\"evenodd\" fill-opacity=\"1\" stroke=\"#000000\" stroke-opacity=\"1\" stroke-width=\"3.2\"/>\n",
       "<circle clip-path=\"url(#clip092)\" cx=\"1126.78\" cy=\"1432.14\" r=\"14.4\" fill=\"#e26f46\" fill-rule=\"evenodd\" fill-opacity=\"1\" stroke=\"#000000\" stroke-opacity=\"1\" stroke-width=\"3.2\"/>\n",
       "<circle clip-path=\"url(#clip092)\" cx=\"1162.01\" cy=\"1439.68\" r=\"14.4\" fill=\"#e26f46\" fill-rule=\"evenodd\" fill-opacity=\"1\" stroke=\"#000000\" stroke-opacity=\"1\" stroke-width=\"3.2\"/>\n",
       "<circle clip-path=\"url(#clip092)\" cx=\"1197.24\" cy=\"1444.21\" r=\"14.4\" fill=\"#e26f46\" fill-rule=\"evenodd\" fill-opacity=\"1\" stroke=\"#000000\" stroke-opacity=\"1\" stroke-width=\"3.2\"/>\n",
       "<circle clip-path=\"url(#clip092)\" cx=\"1232.47\" cy=\"1445.72\" r=\"14.4\" fill=\"#e26f46\" fill-rule=\"evenodd\" fill-opacity=\"1\" stroke=\"#000000\" stroke-opacity=\"1\" stroke-width=\"3.2\"/>\n",
       "<circle clip-path=\"url(#clip092)\" cx=\"1267.7\" cy=\"1444.21\" r=\"14.4\" fill=\"#e26f46\" fill-rule=\"evenodd\" fill-opacity=\"1\" stroke=\"#000000\" stroke-opacity=\"1\" stroke-width=\"3.2\"/>\n",
       "<circle clip-path=\"url(#clip092)\" cx=\"1302.92\" cy=\"1439.68\" r=\"14.4\" fill=\"#e26f46\" fill-rule=\"evenodd\" fill-opacity=\"1\" stroke=\"#000000\" stroke-opacity=\"1\" stroke-width=\"3.2\"/>\n",
       "<circle clip-path=\"url(#clip092)\" cx=\"1338.15\" cy=\"1432.14\" r=\"14.4\" fill=\"#e26f46\" fill-rule=\"evenodd\" fill-opacity=\"1\" stroke=\"#000000\" stroke-opacity=\"1\" stroke-width=\"3.2\"/>\n",
       "<circle clip-path=\"url(#clip092)\" cx=\"1373.38\" cy=\"1421.58\" r=\"14.4\" fill=\"#e26f46\" fill-rule=\"evenodd\" fill-opacity=\"1\" stroke=\"#000000\" stroke-opacity=\"1\" stroke-width=\"3.2\"/>\n",
       "<circle clip-path=\"url(#clip092)\" cx=\"1408.61\" cy=\"1408\" r=\"14.4\" fill=\"#e26f46\" fill-rule=\"evenodd\" fill-opacity=\"1\" stroke=\"#000000\" stroke-opacity=\"1\" stroke-width=\"3.2\"/>\n",
       "<circle clip-path=\"url(#clip092)\" cx=\"1443.84\" cy=\"1391.41\" r=\"14.4\" fill=\"#e26f46\" fill-rule=\"evenodd\" fill-opacity=\"1\" stroke=\"#000000\" stroke-opacity=\"1\" stroke-width=\"3.2\"/>\n",
       "<circle clip-path=\"url(#clip092)\" cx=\"1479.07\" cy=\"1371.79\" r=\"14.4\" fill=\"#e26f46\" fill-rule=\"evenodd\" fill-opacity=\"1\" stroke=\"#000000\" stroke-opacity=\"1\" stroke-width=\"3.2\"/>\n",
       "<circle clip-path=\"url(#clip092)\" cx=\"1514.3\" cy=\"1349.17\" r=\"14.4\" fill=\"#e26f46\" fill-rule=\"evenodd\" fill-opacity=\"1\" stroke=\"#000000\" stroke-opacity=\"1\" stroke-width=\"3.2\"/>\n",
       "<circle clip-path=\"url(#clip092)\" cx=\"1549.53\" cy=\"1323.52\" r=\"14.4\" fill=\"#e26f46\" fill-rule=\"evenodd\" fill-opacity=\"1\" stroke=\"#000000\" stroke-opacity=\"1\" stroke-width=\"3.2\"/>\n",
       "<circle clip-path=\"url(#clip092)\" cx=\"1584.76\" cy=\"1294.86\" r=\"14.4\" fill=\"#e26f46\" fill-rule=\"evenodd\" fill-opacity=\"1\" stroke=\"#000000\" stroke-opacity=\"1\" stroke-width=\"3.2\"/>\n",
       "<circle clip-path=\"url(#clip092)\" cx=\"1619.99\" cy=\"1263.18\" r=\"14.4\" fill=\"#e26f46\" fill-rule=\"evenodd\" fill-opacity=\"1\" stroke=\"#000000\" stroke-opacity=\"1\" stroke-width=\"3.2\"/>\n",
       "<circle clip-path=\"url(#clip092)\" cx=\"1655.22\" cy=\"1228.48\" r=\"14.4\" fill=\"#e26f46\" fill-rule=\"evenodd\" fill-opacity=\"1\" stroke=\"#000000\" stroke-opacity=\"1\" stroke-width=\"3.2\"/>\n",
       "<circle clip-path=\"url(#clip092)\" cx=\"1690.45\" cy=\"1190.76\" r=\"14.4\" fill=\"#e26f46\" fill-rule=\"evenodd\" fill-opacity=\"1\" stroke=\"#000000\" stroke-opacity=\"1\" stroke-width=\"3.2\"/>\n",
       "<circle clip-path=\"url(#clip092)\" cx=\"1725.68\" cy=\"1150.03\" r=\"14.4\" fill=\"#e26f46\" fill-rule=\"evenodd\" fill-opacity=\"1\" stroke=\"#000000\" stroke-opacity=\"1\" stroke-width=\"3.2\"/>\n",
       "<circle clip-path=\"url(#clip092)\" cx=\"1760.9\" cy=\"1106.28\" r=\"14.4\" fill=\"#e26f46\" fill-rule=\"evenodd\" fill-opacity=\"1\" stroke=\"#000000\" stroke-opacity=\"1\" stroke-width=\"3.2\"/>\n",
       "<circle clip-path=\"url(#clip092)\" cx=\"1796.13\" cy=\"1059.51\" r=\"14.4\" fill=\"#e26f46\" fill-rule=\"evenodd\" fill-opacity=\"1\" stroke=\"#000000\" stroke-opacity=\"1\" stroke-width=\"3.2\"/>\n",
       "<circle clip-path=\"url(#clip092)\" cx=\"1831.36\" cy=\"1009.73\" r=\"14.4\" fill=\"#e26f46\" fill-rule=\"evenodd\" fill-opacity=\"1\" stroke=\"#000000\" stroke-opacity=\"1\" stroke-width=\"3.2\"/>\n",
       "<circle clip-path=\"url(#clip092)\" cx=\"1866.59\" cy=\"956.93\" r=\"14.4\" fill=\"#e26f46\" fill-rule=\"evenodd\" fill-opacity=\"1\" stroke=\"#000000\" stroke-opacity=\"1\" stroke-width=\"3.2\"/>\n",
       "<circle clip-path=\"url(#clip092)\" cx=\"1901.82\" cy=\"901.111\" r=\"14.4\" fill=\"#e26f46\" fill-rule=\"evenodd\" fill-opacity=\"1\" stroke=\"#000000\" stroke-opacity=\"1\" stroke-width=\"3.2\"/>\n",
       "<circle clip-path=\"url(#clip092)\" cx=\"1937.05\" cy=\"842.276\" r=\"14.4\" fill=\"#e26f46\" fill-rule=\"evenodd\" fill-opacity=\"1\" stroke=\"#000000\" stroke-opacity=\"1\" stroke-width=\"3.2\"/>\n",
       "<circle clip-path=\"url(#clip092)\" cx=\"1972.28\" cy=\"780.423\" r=\"14.4\" fill=\"#e26f46\" fill-rule=\"evenodd\" fill-opacity=\"1\" stroke=\"#000000\" stroke-opacity=\"1\" stroke-width=\"3.2\"/>\n",
       "<circle clip-path=\"url(#clip092)\" cx=\"2007.51\" cy=\"715.554\" r=\"14.4\" fill=\"#e26f46\" fill-rule=\"evenodd\" fill-opacity=\"1\" stroke=\"#000000\" stroke-opacity=\"1\" stroke-width=\"3.2\"/>\n",
       "<circle clip-path=\"url(#clip092)\" cx=\"2042.74\" cy=\"647.667\" r=\"14.4\" fill=\"#e26f46\" fill-rule=\"evenodd\" fill-opacity=\"1\" stroke=\"#000000\" stroke-opacity=\"1\" stroke-width=\"3.2\"/>\n",
       "<circle clip-path=\"url(#clip092)\" cx=\"2077.97\" cy=\"576.762\" r=\"14.4\" fill=\"#e26f46\" fill-rule=\"evenodd\" fill-opacity=\"1\" stroke=\"#000000\" stroke-opacity=\"1\" stroke-width=\"3.2\"/>\n",
       "<circle clip-path=\"url(#clip092)\" cx=\"2113.2\" cy=\"502.841\" r=\"14.4\" fill=\"#e26f46\" fill-rule=\"evenodd\" fill-opacity=\"1\" stroke=\"#000000\" stroke-opacity=\"1\" stroke-width=\"3.2\"/>\n",
       "<circle clip-path=\"url(#clip092)\" cx=\"2148.43\" cy=\"425.903\" r=\"14.4\" fill=\"#e26f46\" fill-rule=\"evenodd\" fill-opacity=\"1\" stroke=\"#000000\" stroke-opacity=\"1\" stroke-width=\"3.2\"/>\n",
       "<circle clip-path=\"url(#clip092)\" cx=\"2183.66\" cy=\"345.947\" r=\"14.4\" fill=\"#e26f46\" fill-rule=\"evenodd\" fill-opacity=\"1\" stroke=\"#000000\" stroke-opacity=\"1\" stroke-width=\"3.2\"/>\n",
       "<circle clip-path=\"url(#clip092)\" cx=\"2218.88\" cy=\"262.974\" r=\"14.4\" fill=\"#e26f46\" fill-rule=\"evenodd\" fill-opacity=\"1\" stroke=\"#000000\" stroke-opacity=\"1\" stroke-width=\"3.2\"/>\n",
       "<circle clip-path=\"url(#clip092)\" cx=\"2254.11\" cy=\"176.984\" r=\"14.4\" fill=\"#e26f46\" fill-rule=\"evenodd\" fill-opacity=\"1\" stroke=\"#000000\" stroke-opacity=\"1\" stroke-width=\"3.2\"/>\n",
       "<circle clip-path=\"url(#clip092)\" cx=\"2289.34\" cy=\"87.9763\" r=\"14.4\" fill=\"#e26f46\" fill-rule=\"evenodd\" fill-opacity=\"1\" stroke=\"#000000\" stroke-opacity=\"1\" stroke-width=\"3.2\"/>\n",
       "<path clip-path=\"url(#clip090)\" d=\"M1915.03 1438.47 L2278.07 1438.47 L2278.07 1282.95 L1915.03 1282.95  Z\" fill=\"#ffffff\" fill-rule=\"evenodd\" fill-opacity=\"1\"/>\n",
       "<polyline clip-path=\"url(#clip090)\" style=\"stroke:#000000; stroke-linecap:round; stroke-linejoin:round; stroke-width:4; stroke-opacity:1; fill:none\" points=\"1915.03,1438.47 2278.07,1438.47 2278.07,1282.95 1915.03,1282.95 1915.03,1438.47 \"/>\n",
       "<polyline clip-path=\"url(#clip090)\" style=\"stroke:#009af9; stroke-linecap:round; stroke-linejoin:round; stroke-width:4; stroke-opacity:1; fill:none\" points=\"1939.93,1334.79 2089.3,1334.79 \"/>\n",
       "<path clip-path=\"url(#clip090)\" d=\"M2128.04 1354.48 Q2126.23 1359.11 2124.52 1360.52 Q2122.8 1361.94 2119.93 1361.94 L2116.53 1361.94 L2116.53 1358.37 L2119.03 1358.37 Q2120.79 1358.37 2121.76 1357.54 Q2122.74 1356.7 2123.92 1353.6 L2124.68 1351.66 L2114.19 1326.15 L2118.71 1326.15 L2126.81 1346.43 L2134.91 1326.15 L2139.43 1326.15 L2128.04 1354.48 Z\" fill=\"#000000\" fill-rule=\"nonzero\" fill-opacity=\"1\" /><path clip-path=\"url(#clip090)\" d=\"M2146.72 1348.14 L2154.36 1348.14 L2154.36 1321.77 L2146.05 1323.44 L2146.05 1319.18 L2154.31 1317.51 L2158.99 1317.51 L2158.99 1348.14 L2166.62 1348.14 L2166.62 1352.07 L2146.72 1352.07 L2146.72 1348.14 Z\" fill=\"#000000\" fill-rule=\"nonzero\" fill-opacity=\"1\" /><circle clip-path=\"url(#clip090)\" cx=\"2014.61\" cy=\"1386.63\" r=\"20.48\" fill=\"#e26f46\" fill-rule=\"evenodd\" fill-opacity=\"1\" stroke=\"#000000\" stroke-opacity=\"1\" stroke-width=\"4.55111\"/>\n",
       "<path clip-path=\"url(#clip090)\" d=\"M2118.48 1400.03 L2118.48 1413.78 L2114.19 1413.78 L2114.19 1377.99 L2118.48 1377.99 L2118.48 1381.92 Q2119.82 1379.61 2121.86 1378.5 Q2123.92 1377.36 2126.76 1377.36 Q2131.49 1377.36 2134.43 1381.11 Q2137.39 1384.86 2137.39 1390.97 Q2137.39 1397.09 2134.43 1400.84 Q2131.49 1404.59 2126.76 1404.59 Q2123.92 1404.59 2121.86 1403.47 Q2119.82 1402.34 2118.48 1400.03 M2132.97 1390.97 Q2132.97 1386.28 2131.02 1383.61 Q2129.1 1380.93 2125.72 1380.93 Q2122.34 1380.93 2120.4 1383.61 Q2118.48 1386.28 2118.48 1390.97 Q2118.48 1395.67 2120.4 1398.36 Q2122.34 1401.02 2125.72 1401.02 Q2129.1 1401.02 2131.02 1398.36 Q2132.97 1395.67 2132.97 1390.97 Z\" fill=\"#000000\" fill-rule=\"nonzero\" fill-opacity=\"1\" /><path clip-path=\"url(#clip090)\" d=\"M2154.49 1380.97 Q2151.07 1380.97 2149.08 1383.66 Q2147.09 1386.32 2147.09 1390.97 Q2147.09 1395.63 2149.05 1398.31 Q2151.05 1400.97 2154.49 1400.97 Q2157.9 1400.97 2159.89 1398.29 Q2161.88 1395.6 2161.88 1390.97 Q2161.88 1386.37 2159.89 1383.68 Q2157.9 1380.97 2154.49 1380.97 M2154.49 1377.36 Q2160.05 1377.36 2163.22 1380.97 Q2166.39 1384.59 2166.39 1390.97 Q2166.39 1397.34 2163.22 1400.97 Q2160.05 1404.59 2154.49 1404.59 Q2148.92 1404.59 2145.74 1400.97 Q2142.6 1397.34 2142.6 1390.97 Q2142.6 1384.59 2145.74 1380.97 Q2148.92 1377.36 2154.49 1377.36 Z\" fill=\"#000000\" fill-rule=\"nonzero\" fill-opacity=\"1\" /><path clip-path=\"url(#clip090)\" d=\"M2173.45 1377.99 L2177.71 1377.99 L2177.71 1403.91 L2173.45 1403.91 L2173.45 1377.99 M2173.45 1367.9 L2177.71 1367.9 L2177.71 1373.29 L2173.45 1373.29 L2173.45 1367.9 Z\" fill=\"#000000\" fill-rule=\"nonzero\" fill-opacity=\"1\" /><path clip-path=\"url(#clip090)\" d=\"M2208.17 1388.27 L2208.17 1403.91 L2203.92 1403.91 L2203.92 1388.41 Q2203.92 1384.72 2202.48 1382.9 Q2201.05 1381.07 2198.17 1381.07 Q2194.73 1381.07 2192.74 1383.27 Q2190.74 1385.47 2190.74 1389.26 L2190.74 1403.91 L2186.46 1403.91 L2186.46 1377.99 L2190.74 1377.99 L2190.74 1382.02 Q2192.27 1379.68 2194.33 1378.52 Q2196.42 1377.36 2199.12 1377.36 Q2203.59 1377.36 2205.88 1380.14 Q2208.17 1382.9 2208.17 1388.27 Z\" fill=\"#000000\" fill-rule=\"nonzero\" fill-opacity=\"1\" /><path clip-path=\"url(#clip090)\" d=\"M2220.88 1370.63 L2220.88 1377.99 L2229.66 1377.99 L2229.66 1381.3 L2220.88 1381.3 L2220.88 1395.37 Q2220.88 1398.54 2221.74 1399.45 Q2222.62 1400.35 2225.28 1400.35 L2229.66 1400.35 L2229.66 1403.91 L2225.28 1403.91 Q2220.35 1403.91 2218.48 1402.09 Q2216.6 1400.23 2216.6 1395.37 L2216.6 1381.3 L2213.48 1381.3 L2213.48 1377.99 L2216.6 1377.99 L2216.6 1370.63 L2220.88 1370.63 Z\" fill=\"#000000\" fill-rule=\"nonzero\" fill-opacity=\"1\" /><path clip-path=\"url(#clip090)\" d=\"M2251.79 1378.75 L2251.79 1382.78 Q2249.98 1381.85 2248.04 1381.39 Q2246.09 1380.93 2244.01 1380.93 Q2240.84 1380.93 2239.24 1381.9 Q2237.67 1382.87 2237.67 1384.82 Q2237.67 1386.3 2238.8 1387.16 Q2239.93 1387.99 2243.36 1388.75 L2244.82 1389.08 Q2249.36 1390.05 2251.25 1391.83 Q2253.17 1393.59 2253.17 1396.76 Q2253.17 1400.37 2250.3 1402.48 Q2247.46 1404.59 2242.46 1404.59 Q2240.37 1404.59 2238.11 1404.17 Q2235.86 1403.78 2233.36 1402.97 L2233.36 1398.57 Q2235.72 1399.79 2238.01 1400.42 Q2240.3 1401.02 2242.55 1401.02 Q2245.56 1401.02 2247.18 1400 Q2248.8 1398.96 2248.8 1397.09 Q2248.8 1395.35 2247.62 1394.42 Q2246.46 1393.5 2242.5 1392.64 L2241.02 1392.29 Q2237.06 1391.46 2235.3 1389.75 Q2233.55 1388.01 2233.55 1385 Q2233.55 1381.35 2236.14 1379.35 Q2238.73 1377.36 2243.5 1377.36 Q2245.86 1377.36 2247.94 1377.71 Q2250.03 1378.06 2251.79 1378.75 Z\" fill=\"#000000\" fill-rule=\"nonzero\" fill-opacity=\"1\" /></svg>\n"
      ],
      "text/html": [
       "<?xml version=\"1.0\" encoding=\"utf-8\"?>\n",
       "<svg xmlns=\"http://www.w3.org/2000/svg\" xmlns:xlink=\"http://www.w3.org/1999/xlink\" width=\"600\" height=\"400\" viewBox=\"0 0 2400 1600\">\n",
       "<defs>\n",
       "  <clipPath id=\"clip140\">\n",
       "    <rect x=\"0\" y=\"0\" width=\"2400\" height=\"1600\"/>\n",
       "  </clipPath>\n",
       "</defs>\n",
       "<path clip-path=\"url(#clip140)\" d=\"M0 1600 L2400 1600 L2400 0 L0 0  Z\" fill=\"#ffffff\" fill-rule=\"evenodd\" fill-opacity=\"1\"/>\n",
       "<defs>\n",
       "  <clipPath id=\"clip141\">\n",
       "    <rect x=\"480\" y=\"0\" width=\"1681\" height=\"1600\"/>\n",
       "  </clipPath>\n",
       "</defs>\n",
       "<path clip-path=\"url(#clip140)\" d=\"M112.177 1486.45 L2352.76 1486.45 L2352.76 47.2441 L112.177 47.2441  Z\" fill=\"#ffffff\" fill-rule=\"evenodd\" fill-opacity=\"1\"/>\n",
       "<defs>\n",
       "  <clipPath id=\"clip142\">\n",
       "    <rect x=\"112\" y=\"47\" width=\"2242\" height=\"1440\"/>\n",
       "  </clipPath>\n",
       "</defs>\n",
       "<polyline clip-path=\"url(#clip142)\" style=\"stroke:#000000; stroke-linecap:round; stroke-linejoin:round; stroke-width:2; stroke-opacity:0.1; fill:none\" points=\"175.59,1486.45 175.59,47.2441 \"/>\n",
       "<polyline clip-path=\"url(#clip142)\" style=\"stroke:#000000; stroke-linecap:round; stroke-linejoin:round; stroke-width:2; stroke-opacity:0.1; fill:none\" points=\"527.882,1486.45 527.882,47.2441 \"/>\n",
       "<polyline clip-path=\"url(#clip142)\" style=\"stroke:#000000; stroke-linecap:round; stroke-linejoin:round; stroke-width:2; stroke-opacity:0.1; fill:none\" points=\"880.174,1486.45 880.174,47.2441 \"/>\n",
       "<polyline clip-path=\"url(#clip142)\" style=\"stroke:#000000; stroke-linecap:round; stroke-linejoin:round; stroke-width:2; stroke-opacity:0.1; fill:none\" points=\"1232.47,1486.45 1232.47,47.2441 \"/>\n",
       "<polyline clip-path=\"url(#clip142)\" style=\"stroke:#000000; stroke-linecap:round; stroke-linejoin:round; stroke-width:2; stroke-opacity:0.1; fill:none\" points=\"1584.76,1486.45 1584.76,47.2441 \"/>\n",
       "<polyline clip-path=\"url(#clip142)\" style=\"stroke:#000000; stroke-linecap:round; stroke-linejoin:round; stroke-width:2; stroke-opacity:0.1; fill:none\" points=\"1937.05,1486.45 1937.05,47.2441 \"/>\n",
       "<polyline clip-path=\"url(#clip142)\" style=\"stroke:#000000; stroke-linecap:round; stroke-linejoin:round; stroke-width:2; stroke-opacity:0.1; fill:none\" points=\"2289.34,1486.45 2289.34,47.2441 \"/>\n",
       "<polyline clip-path=\"url(#clip140)\" style=\"stroke:#000000; stroke-linecap:round; stroke-linejoin:round; stroke-width:4; stroke-opacity:1; fill:none\" points=\"112.177,1486.45 2352.76,1486.45 \"/>\n",
       "<polyline clip-path=\"url(#clip140)\" style=\"stroke:#000000; stroke-linecap:round; stroke-linejoin:round; stroke-width:4; stroke-opacity:1; fill:none\" points=\"175.59,1486.45 175.59,1467.55 \"/>\n",
       "<polyline clip-path=\"url(#clip140)\" style=\"stroke:#000000; stroke-linecap:round; stroke-linejoin:round; stroke-width:4; stroke-opacity:1; fill:none\" points=\"527.882,1486.45 527.882,1467.55 \"/>\n",
       "<polyline clip-path=\"url(#clip140)\" style=\"stroke:#000000; stroke-linecap:round; stroke-linejoin:round; stroke-width:4; stroke-opacity:1; fill:none\" points=\"880.174,1486.45 880.174,1467.55 \"/>\n",
       "<polyline clip-path=\"url(#clip140)\" style=\"stroke:#000000; stroke-linecap:round; stroke-linejoin:round; stroke-width:4; stroke-opacity:1; fill:none\" points=\"1232.47,1486.45 1232.47,1467.55 \"/>\n",
       "<polyline clip-path=\"url(#clip140)\" style=\"stroke:#000000; stroke-linecap:round; stroke-linejoin:round; stroke-width:4; stroke-opacity:1; fill:none\" points=\"1584.76,1486.45 1584.76,1467.55 \"/>\n",
       "<polyline clip-path=\"url(#clip140)\" style=\"stroke:#000000; stroke-linecap:round; stroke-linejoin:round; stroke-width:4; stroke-opacity:1; fill:none\" points=\"1937.05,1486.45 1937.05,1467.55 \"/>\n",
       "<polyline clip-path=\"url(#clip140)\" style=\"stroke:#000000; stroke-linecap:round; stroke-linejoin:round; stroke-width:4; stroke-opacity:1; fill:none\" points=\"2289.34,1486.45 2289.34,1467.55 \"/>\n",
       "<path clip-path=\"url(#clip140)\" d=\"M145.058 1532.02 L174.733 1532.02 L174.733 1535.95 L145.058 1535.95 L145.058 1532.02 Z\" fill=\"#000000\" fill-rule=\"nonzero\" fill-opacity=\"1\" /><path clip-path=\"url(#clip140)\" d=\"M198.992 1530.21 Q202.349 1530.93 204.224 1533.2 Q206.122 1535.47 206.122 1538.8 Q206.122 1543.92 202.604 1546.72 Q199.085 1549.52 192.604 1549.52 Q190.428 1549.52 188.113 1549.08 Q185.821 1548.66 183.368 1547.81 L183.368 1543.29 Q185.312 1544.43 187.627 1545.01 Q189.942 1545.58 192.465 1545.58 Q196.863 1545.58 199.154 1543.85 Q201.469 1542.11 201.469 1538.8 Q201.469 1535.75 199.317 1534.03 Q197.187 1532.3 193.367 1532.3 L189.34 1532.3 L189.34 1528.45 L193.553 1528.45 Q197.002 1528.45 198.83 1527.09 Q200.659 1525.7 200.659 1523.11 Q200.659 1520.45 198.761 1519.03 Q196.886 1517.6 193.367 1517.6 Q191.446 1517.6 189.247 1518.01 Q187.048 1518.43 184.409 1519.31 L184.409 1515.14 Q187.071 1514.4 189.386 1514.03 Q191.724 1513.66 193.784 1513.66 Q199.108 1513.66 202.21 1516.09 Q205.312 1518.5 205.312 1522.62 Q205.312 1525.49 203.668 1527.48 Q202.025 1529.45 198.992 1530.21 Z\" fill=\"#000000\" fill-rule=\"nonzero\" fill-opacity=\"1\" /><path clip-path=\"url(#clip140)\" d=\"M497.824 1532.02 L527.5 1532.02 L527.5 1535.95 L497.824 1535.95 L497.824 1532.02 Z\" fill=\"#000000\" fill-rule=\"nonzero\" fill-opacity=\"1\" /><path clip-path=\"url(#clip140)\" d=\"M541.62 1544.91 L557.94 1544.91 L557.94 1548.85 L535.995 1548.85 L535.995 1544.91 Q538.657 1542.16 543.241 1537.53 Q547.847 1532.88 549.028 1531.53 Q551.273 1529.01 552.153 1527.27 Q553.056 1525.51 553.056 1523.82 Q553.056 1521.07 551.111 1519.33 Q549.19 1517.6 546.088 1517.6 Q543.889 1517.6 541.435 1518.36 Q539.005 1519.13 536.227 1520.68 L536.227 1515.95 Q539.051 1514.82 541.505 1514.24 Q543.958 1513.66 545.995 1513.66 Q551.366 1513.66 554.56 1516.35 Q557.755 1519.03 557.755 1523.52 Q557.755 1525.65 556.944 1527.57 Q556.157 1529.47 554.051 1532.07 Q553.472 1532.74 550.37 1535.95 Q547.269 1539.15 541.62 1544.91 Z\" fill=\"#000000\" fill-rule=\"nonzero\" fill-opacity=\"1\" /><path clip-path=\"url(#clip140)\" d=\"M849.931 1532.02 L879.607 1532.02 L879.607 1535.95 L849.931 1535.95 L849.931 1532.02 Z\" fill=\"#000000\" fill-rule=\"nonzero\" fill-opacity=\"1\" /><path clip-path=\"url(#clip140)\" d=\"M890.51 1544.91 L898.149 1544.91 L898.149 1518.55 L889.839 1520.21 L889.839 1515.95 L898.102 1514.29 L902.778 1514.29 L902.778 1544.91 L910.417 1544.91 L910.417 1548.85 L890.51 1548.85 L890.51 1544.91 Z\" fill=\"#000000\" fill-rule=\"nonzero\" fill-opacity=\"1\" /><path clip-path=\"url(#clip140)\" d=\"M1232.47 1517.37 Q1228.86 1517.37 1227.03 1520.93 Q1225.22 1524.47 1225.22 1531.6 Q1225.22 1538.71 1227.03 1542.27 Q1228.86 1545.82 1232.47 1545.82 Q1236.1 1545.82 1237.91 1542.27 Q1239.74 1538.71 1239.74 1531.6 Q1239.74 1524.47 1237.91 1520.93 Q1236.1 1517.37 1232.47 1517.37 M1232.47 1513.66 Q1238.28 1513.66 1241.33 1518.27 Q1244.41 1522.85 1244.41 1531.6 Q1244.41 1540.33 1241.33 1544.94 Q1238.28 1549.52 1232.47 1549.52 Q1226.66 1549.52 1223.58 1544.94 Q1220.52 1540.33 1220.52 1531.6 Q1220.52 1522.85 1223.58 1518.27 Q1226.66 1513.66 1232.47 1513.66 Z\" fill=\"#000000\" fill-rule=\"nonzero\" fill-opacity=\"1\" /><path clip-path=\"url(#clip140)\" d=\"M1575.14 1544.91 L1582.78 1544.91 L1582.78 1518.55 L1574.47 1520.21 L1574.47 1515.95 L1582.73 1514.29 L1587.41 1514.29 L1587.41 1544.91 L1595.05 1544.91 L1595.05 1548.85 L1575.14 1548.85 L1575.14 1544.91 Z\" fill=\"#000000\" fill-rule=\"nonzero\" fill-opacity=\"1\" /><path clip-path=\"url(#clip140)\" d=\"M1931.7 1544.91 L1948.02 1544.91 L1948.02 1548.85 L1926.08 1548.85 L1926.08 1544.91 Q1928.74 1542.16 1933.32 1537.53 Q1937.93 1532.88 1939.11 1531.53 Q1941.36 1529.01 1942.24 1527.27 Q1943.14 1525.51 1943.14 1523.82 Q1943.14 1521.07 1941.19 1519.33 Q1939.27 1517.6 1936.17 1517.6 Q1933.97 1517.6 1931.52 1518.36 Q1929.09 1519.13 1926.31 1520.68 L1926.31 1515.95 Q1929.13 1514.82 1931.59 1514.24 Q1934.04 1513.66 1936.08 1513.66 Q1941.45 1513.66 1944.64 1516.35 Q1947.84 1519.03 1947.84 1523.52 Q1947.84 1525.65 1947.03 1527.57 Q1946.24 1529.47 1944.13 1532.07 Q1943.56 1532.74 1940.45 1535.95 Q1937.35 1539.15 1931.7 1544.91 Z\" fill=\"#000000\" fill-rule=\"nonzero\" fill-opacity=\"1\" /><path clip-path=\"url(#clip140)\" d=\"M2293.59 1530.21 Q2296.95 1530.93 2298.82 1533.2 Q2300.72 1535.47 2300.72 1538.8 Q2300.72 1543.92 2297.2 1546.72 Q2293.68 1549.52 2287.2 1549.52 Q2285.03 1549.52 2282.71 1549.08 Q2280.42 1548.66 2277.97 1547.81 L2277.97 1543.29 Q2279.91 1544.43 2282.23 1545.01 Q2284.54 1545.58 2287.06 1545.58 Q2291.46 1545.58 2293.75 1543.85 Q2296.07 1542.11 2296.07 1538.8 Q2296.07 1535.75 2293.92 1534.03 Q2291.79 1532.3 2287.97 1532.3 L2283.94 1532.3 L2283.94 1528.45 L2288.15 1528.45 Q2291.6 1528.45 2293.43 1527.09 Q2295.26 1525.7 2295.26 1523.11 Q2295.26 1520.45 2293.36 1519.03 Q2291.48 1517.6 2287.97 1517.6 Q2286.04 1517.6 2283.85 1518.01 Q2281.65 1518.43 2279.01 1519.31 L2279.01 1515.14 Q2281.67 1514.4 2283.98 1514.03 Q2286.32 1513.66 2288.38 1513.66 Q2293.71 1513.66 2296.81 1516.09 Q2299.91 1518.5 2299.91 1522.62 Q2299.91 1525.49 2298.27 1527.48 Q2296.62 1529.45 2293.59 1530.21 Z\" fill=\"#000000\" fill-rule=\"nonzero\" fill-opacity=\"1\" /><polyline clip-path=\"url(#clip142)\" style=\"stroke:#000000; stroke-linecap:round; stroke-linejoin:round; stroke-width:2; stroke-opacity:0.1; fill:none\" points=\"112.177,1445.72 2352.76,1445.72 \"/>\n",
       "<polyline clip-path=\"url(#clip142)\" style=\"stroke:#000000; stroke-linecap:round; stroke-linejoin:round; stroke-width:2; stroke-opacity:0.1; fill:none\" points=\"112.177,1144 2352.76,1144 \"/>\n",
       "<polyline clip-path=\"url(#clip142)\" style=\"stroke:#000000; stroke-linecap:round; stroke-linejoin:round; stroke-width:2; stroke-opacity:0.1; fill:none\" points=\"112.177,842.276 2352.76,842.276 \"/>\n",
       "<polyline clip-path=\"url(#clip142)\" style=\"stroke:#000000; stroke-linecap:round; stroke-linejoin:round; stroke-width:2; stroke-opacity:0.1; fill:none\" points=\"112.177,540.556 2352.76,540.556 \"/>\n",
       "<polyline clip-path=\"url(#clip142)\" style=\"stroke:#000000; stroke-linecap:round; stroke-linejoin:round; stroke-width:2; stroke-opacity:0.1; fill:none\" points=\"112.177,238.836 2352.76,238.836 \"/>\n",
       "<polyline clip-path=\"url(#clip140)\" style=\"stroke:#000000; stroke-linecap:round; stroke-linejoin:round; stroke-width:4; stroke-opacity:1; fill:none\" points=\"112.177,1486.45 112.177,47.2441 \"/>\n",
       "<polyline clip-path=\"url(#clip140)\" style=\"stroke:#000000; stroke-linecap:round; stroke-linejoin:round; stroke-width:4; stroke-opacity:1; fill:none\" points=\"112.177,1445.72 131.075,1445.72 \"/>\n",
       "<polyline clip-path=\"url(#clip140)\" style=\"stroke:#000000; stroke-linecap:round; stroke-linejoin:round; stroke-width:4; stroke-opacity:1; fill:none\" points=\"112.177,1144 131.075,1144 \"/>\n",
       "<polyline clip-path=\"url(#clip140)\" style=\"stroke:#000000; stroke-linecap:round; stroke-linejoin:round; stroke-width:4; stroke-opacity:1; fill:none\" points=\"112.177,842.276 131.075,842.276 \"/>\n",
       "<polyline clip-path=\"url(#clip140)\" style=\"stroke:#000000; stroke-linecap:round; stroke-linejoin:round; stroke-width:4; stroke-opacity:1; fill:none\" points=\"112.177,540.556 131.075,540.556 \"/>\n",
       "<polyline clip-path=\"url(#clip140)\" style=\"stroke:#000000; stroke-linecap:round; stroke-linejoin:round; stroke-width:4; stroke-opacity:1; fill:none\" points=\"112.177,238.836 131.075,238.836 \"/>\n",
       "<path clip-path=\"url(#clip140)\" d=\"M64.2328 1431.51 Q60.6217 1431.51 58.793 1435.08 Q56.9875 1438.62 56.9875 1445.75 Q56.9875 1452.86 58.793 1456.42 Q60.6217 1459.96 64.2328 1459.96 Q67.867 1459.96 69.6726 1456.42 Q71.5013 1452.86 71.5013 1445.75 Q71.5013 1438.62 69.6726 1435.08 Q67.867 1431.51 64.2328 1431.51 M64.2328 1427.81 Q70.0429 1427.81 73.0985 1432.42 Q76.1772 1437 76.1772 1445.75 Q76.1772 1454.48 73.0985 1459.08 Q70.0429 1463.67 64.2328 1463.67 Q58.4226 1463.67 55.344 1459.08 Q52.2884 1454.48 52.2884 1445.75 Q52.2884 1437 55.344 1432.42 Q58.4226 1427.81 64.2328 1427.81 Z\" fill=\"#000000\" fill-rule=\"nonzero\" fill-opacity=\"1\" /><path clip-path=\"url(#clip140)\" d=\"M59.8578 1157.34 L76.1772 1157.34 L76.1772 1161.28 L54.2328 1161.28 L54.2328 1157.34 Q56.8949 1154.59 61.4782 1149.96 Q66.0846 1145.3 67.2652 1143.96 Q69.5105 1141.44 70.3902 1139.7 Q71.2929 1137.94 71.2929 1136.25 Q71.2929 1133.5 69.3485 1131.76 Q67.4272 1130.03 64.3254 1130.03 Q62.1263 1130.03 59.6726 1130.79 Q57.2421 1131.55 54.4643 1133.1 L54.4643 1128.38 Q57.2884 1127.25 59.7421 1126.67 Q62.1958 1126.09 64.2328 1126.09 Q69.6031 1126.09 72.7976 1128.78 Q75.992 1131.46 75.992 1135.95 Q75.992 1138.08 75.1818 1140 Q74.3948 1141.9 72.2883 1144.49 Q71.7096 1145.16 68.6078 1148.38 Q65.5059 1151.58 59.8578 1157.34 Z\" fill=\"#000000\" fill-rule=\"nonzero\" fill-opacity=\"1\" /><path clip-path=\"url(#clip140)\" d=\"M66.5939 829.07 L54.7884 847.519 L66.5939 847.519 L66.5939 829.07 M65.367 824.996 L71.2466 824.996 L71.2466 847.519 L76.1772 847.519 L76.1772 851.408 L71.2466 851.408 L71.2466 859.556 L66.5939 859.556 L66.5939 851.408 L50.9921 851.408 L50.9921 846.894 L65.367 824.996 Z\" fill=\"#000000\" fill-rule=\"nonzero\" fill-opacity=\"1\" /><path clip-path=\"url(#clip140)\" d=\"M64.6495 538.693 Q61.5013 538.693 59.6495 540.845 Q57.8208 542.998 57.8208 546.748 Q57.8208 550.475 59.6495 552.651 Q61.5013 554.804 64.6495 554.804 Q67.7976 554.804 69.6263 552.651 Q71.4781 550.475 71.4781 546.748 Q71.4781 542.998 69.6263 540.845 Q67.7976 538.693 64.6495 538.693 M73.9318 524.04 L73.9318 528.299 Q72.1726 527.466 70.367 527.026 Q68.5846 526.586 66.8254 526.586 Q62.1958 526.586 59.7421 529.711 Q57.3115 532.836 56.9643 539.156 Q58.33 537.142 60.3902 536.077 Q62.4504 534.989 64.9272 534.989 Q70.1355 534.989 73.1448 538.16 Q76.1772 541.308 76.1772 546.748 Q76.1772 552.072 73.029 555.29 Q69.8809 558.507 64.6495 558.507 Q58.6541 558.507 55.4828 553.924 Q52.3116 549.318 52.3116 540.591 Q52.3116 532.396 56.2004 527.535 Q60.0893 522.651 66.6402 522.651 Q68.3994 522.651 70.1818 522.998 Q71.9874 523.346 73.9318 524.04 Z\" fill=\"#000000\" fill-rule=\"nonzero\" fill-opacity=\"1\" /><path clip-path=\"url(#clip140)\" d=\"M64.3254 239.704 Q60.9921 239.704 59.0708 241.487 Q57.1726 243.269 57.1726 246.394 Q57.1726 249.519 59.0708 251.301 Q60.9921 253.084 64.3254 253.084 Q67.6587 253.084 69.58 251.301 Q71.5013 249.496 71.5013 246.394 Q71.5013 243.269 69.58 241.487 Q67.6819 239.704 64.3254 239.704 M59.6495 237.714 Q56.6402 236.973 54.9504 234.913 Q53.2838 232.852 53.2838 229.89 Q53.2838 225.746 56.2236 223.339 Q59.1865 220.931 64.3254 220.931 Q69.4874 220.931 72.4272 223.339 Q75.367 225.746 75.367 229.89 Q75.367 232.852 73.6772 234.913 Q72.0105 236.973 69.0244 237.714 Q72.404 238.501 74.279 240.792 Q76.1772 243.084 76.1772 246.394 Q76.1772 251.417 73.0985 254.102 Q70.0429 256.788 64.3254 256.788 Q58.6078 256.788 55.5291 254.102 Q52.4736 251.417 52.4736 246.394 Q52.4736 243.084 54.3717 240.792 Q56.2699 238.501 59.6495 237.714 M57.9365 230.329 Q57.9365 233.014 59.6032 234.519 Q61.293 236.024 64.3254 236.024 Q67.3346 236.024 69.0244 234.519 Q70.7374 233.014 70.7374 230.329 Q70.7374 227.644 69.0244 226.14 Q67.3346 224.635 64.3254 224.635 Q61.293 224.635 59.6032 226.14 Q57.9365 227.644 57.9365 230.329 Z\" fill=\"#000000\" fill-rule=\"nonzero\" fill-opacity=\"1\" /><polyline clip-path=\"url(#clip142)\" style=\"stroke:#009af9; stroke-linecap:round; stroke-linejoin:round; stroke-width:4; stroke-opacity:1; fill:none\" points=\"175.59,87.9763 210.819,176.984 246.048,262.974 281.277,345.947 316.507,425.903 351.736,502.841 386.965,576.762 422.194,647.667 457.424,715.554 492.653,780.423 527.882,842.276 563.111,901.111 598.34,956.93 633.57,1009.73 668.799,1059.51 704.028,1106.28 739.257,1150.03 774.487,1190.76 809.716,1228.48 844.945,1263.18 880.174,1294.86 915.404,1323.52 950.633,1349.17 985.862,1371.79 1021.09,1391.41 1056.32,1408 1091.55,1421.58 1126.78,1432.14 1162.01,1439.68 1197.24,1444.21 1232.47,1445.72 1267.7,1444.21 1302.92,1439.68 1338.15,1432.14 1373.38,1421.58 1408.61,1408 1443.84,1391.41 1479.07,1371.79 1514.3,1349.17 1549.53,1323.52 1584.76,1294.86 1619.99,1263.18 1655.22,1228.48 1690.45,1190.76 1725.68,1150.03 1760.9,1106.28 1796.13,1059.51 1831.36,1009.73 1866.59,956.93 1901.82,901.111 1937.05,842.276 1972.28,780.423 2007.51,715.554 2042.74,647.667 2077.97,576.762 2113.2,502.841 2148.43,425.903 2183.66,345.947 2218.88,262.974 2254.11,176.984 2289.34,87.9763 \"/>\n",
       "<circle clip-path=\"url(#clip142)\" cx=\"175.59\" cy=\"87.9763\" r=\"14.4\" fill=\"#e26f46\" fill-rule=\"evenodd\" fill-opacity=\"1\" stroke=\"#000000\" stroke-opacity=\"1\" stroke-width=\"3.2\"/>\n",
       "<circle clip-path=\"url(#clip142)\" cx=\"210.819\" cy=\"176.984\" r=\"14.4\" fill=\"#e26f46\" fill-rule=\"evenodd\" fill-opacity=\"1\" stroke=\"#000000\" stroke-opacity=\"1\" stroke-width=\"3.2\"/>\n",
       "<circle clip-path=\"url(#clip142)\" cx=\"246.048\" cy=\"262.974\" r=\"14.4\" fill=\"#e26f46\" fill-rule=\"evenodd\" fill-opacity=\"1\" stroke=\"#000000\" stroke-opacity=\"1\" stroke-width=\"3.2\"/>\n",
       "<circle clip-path=\"url(#clip142)\" cx=\"281.277\" cy=\"345.947\" r=\"14.4\" fill=\"#e26f46\" fill-rule=\"evenodd\" fill-opacity=\"1\" stroke=\"#000000\" stroke-opacity=\"1\" stroke-width=\"3.2\"/>\n",
       "<circle clip-path=\"url(#clip142)\" cx=\"316.507\" cy=\"425.903\" r=\"14.4\" fill=\"#e26f46\" fill-rule=\"evenodd\" fill-opacity=\"1\" stroke=\"#000000\" stroke-opacity=\"1\" stroke-width=\"3.2\"/>\n",
       "<circle clip-path=\"url(#clip142)\" cx=\"351.736\" cy=\"502.841\" r=\"14.4\" fill=\"#e26f46\" fill-rule=\"evenodd\" fill-opacity=\"1\" stroke=\"#000000\" stroke-opacity=\"1\" stroke-width=\"3.2\"/>\n",
       "<circle clip-path=\"url(#clip142)\" cx=\"386.965\" cy=\"576.762\" r=\"14.4\" fill=\"#e26f46\" fill-rule=\"evenodd\" fill-opacity=\"1\" stroke=\"#000000\" stroke-opacity=\"1\" stroke-width=\"3.2\"/>\n",
       "<circle clip-path=\"url(#clip142)\" cx=\"422.194\" cy=\"647.667\" r=\"14.4\" fill=\"#e26f46\" fill-rule=\"evenodd\" fill-opacity=\"1\" stroke=\"#000000\" stroke-opacity=\"1\" stroke-width=\"3.2\"/>\n",
       "<circle clip-path=\"url(#clip142)\" cx=\"457.424\" cy=\"715.554\" r=\"14.4\" fill=\"#e26f46\" fill-rule=\"evenodd\" fill-opacity=\"1\" stroke=\"#000000\" stroke-opacity=\"1\" stroke-width=\"3.2\"/>\n",
       "<circle clip-path=\"url(#clip142)\" cx=\"492.653\" cy=\"780.423\" r=\"14.4\" fill=\"#e26f46\" fill-rule=\"evenodd\" fill-opacity=\"1\" stroke=\"#000000\" stroke-opacity=\"1\" stroke-width=\"3.2\"/>\n",
       "<circle clip-path=\"url(#clip142)\" cx=\"527.882\" cy=\"842.276\" r=\"14.4\" fill=\"#e26f46\" fill-rule=\"evenodd\" fill-opacity=\"1\" stroke=\"#000000\" stroke-opacity=\"1\" stroke-width=\"3.2\"/>\n",
       "<circle clip-path=\"url(#clip142)\" cx=\"563.111\" cy=\"901.111\" r=\"14.4\" fill=\"#e26f46\" fill-rule=\"evenodd\" fill-opacity=\"1\" stroke=\"#000000\" stroke-opacity=\"1\" stroke-width=\"3.2\"/>\n",
       "<circle clip-path=\"url(#clip142)\" cx=\"598.34\" cy=\"956.93\" r=\"14.4\" fill=\"#e26f46\" fill-rule=\"evenodd\" fill-opacity=\"1\" stroke=\"#000000\" stroke-opacity=\"1\" stroke-width=\"3.2\"/>\n",
       "<circle clip-path=\"url(#clip142)\" cx=\"633.57\" cy=\"1009.73\" r=\"14.4\" fill=\"#e26f46\" fill-rule=\"evenodd\" fill-opacity=\"1\" stroke=\"#000000\" stroke-opacity=\"1\" stroke-width=\"3.2\"/>\n",
       "<circle clip-path=\"url(#clip142)\" cx=\"668.799\" cy=\"1059.51\" r=\"14.4\" fill=\"#e26f46\" fill-rule=\"evenodd\" fill-opacity=\"1\" stroke=\"#000000\" stroke-opacity=\"1\" stroke-width=\"3.2\"/>\n",
       "<circle clip-path=\"url(#clip142)\" cx=\"704.028\" cy=\"1106.28\" r=\"14.4\" fill=\"#e26f46\" fill-rule=\"evenodd\" fill-opacity=\"1\" stroke=\"#000000\" stroke-opacity=\"1\" stroke-width=\"3.2\"/>\n",
       "<circle clip-path=\"url(#clip142)\" cx=\"739.257\" cy=\"1150.03\" r=\"14.4\" fill=\"#e26f46\" fill-rule=\"evenodd\" fill-opacity=\"1\" stroke=\"#000000\" stroke-opacity=\"1\" stroke-width=\"3.2\"/>\n",
       "<circle clip-path=\"url(#clip142)\" cx=\"774.487\" cy=\"1190.76\" r=\"14.4\" fill=\"#e26f46\" fill-rule=\"evenodd\" fill-opacity=\"1\" stroke=\"#000000\" stroke-opacity=\"1\" stroke-width=\"3.2\"/>\n",
       "<circle clip-path=\"url(#clip142)\" cx=\"809.716\" cy=\"1228.48\" r=\"14.4\" fill=\"#e26f46\" fill-rule=\"evenodd\" fill-opacity=\"1\" stroke=\"#000000\" stroke-opacity=\"1\" stroke-width=\"3.2\"/>\n",
       "<circle clip-path=\"url(#clip142)\" cx=\"844.945\" cy=\"1263.18\" r=\"14.4\" fill=\"#e26f46\" fill-rule=\"evenodd\" fill-opacity=\"1\" stroke=\"#000000\" stroke-opacity=\"1\" stroke-width=\"3.2\"/>\n",
       "<circle clip-path=\"url(#clip142)\" cx=\"880.174\" cy=\"1294.86\" r=\"14.4\" fill=\"#e26f46\" fill-rule=\"evenodd\" fill-opacity=\"1\" stroke=\"#000000\" stroke-opacity=\"1\" stroke-width=\"3.2\"/>\n",
       "<circle clip-path=\"url(#clip142)\" cx=\"915.404\" cy=\"1323.52\" r=\"14.4\" fill=\"#e26f46\" fill-rule=\"evenodd\" fill-opacity=\"1\" stroke=\"#000000\" stroke-opacity=\"1\" stroke-width=\"3.2\"/>\n",
       "<circle clip-path=\"url(#clip142)\" cx=\"950.633\" cy=\"1349.17\" r=\"14.4\" fill=\"#e26f46\" fill-rule=\"evenodd\" fill-opacity=\"1\" stroke=\"#000000\" stroke-opacity=\"1\" stroke-width=\"3.2\"/>\n",
       "<circle clip-path=\"url(#clip142)\" cx=\"985.862\" cy=\"1371.79\" r=\"14.4\" fill=\"#e26f46\" fill-rule=\"evenodd\" fill-opacity=\"1\" stroke=\"#000000\" stroke-opacity=\"1\" stroke-width=\"3.2\"/>\n",
       "<circle clip-path=\"url(#clip142)\" cx=\"1021.09\" cy=\"1391.41\" r=\"14.4\" fill=\"#e26f46\" fill-rule=\"evenodd\" fill-opacity=\"1\" stroke=\"#000000\" stroke-opacity=\"1\" stroke-width=\"3.2\"/>\n",
       "<circle clip-path=\"url(#clip142)\" cx=\"1056.32\" cy=\"1408\" r=\"14.4\" fill=\"#e26f46\" fill-rule=\"evenodd\" fill-opacity=\"1\" stroke=\"#000000\" stroke-opacity=\"1\" stroke-width=\"3.2\"/>\n",
       "<circle clip-path=\"url(#clip142)\" cx=\"1091.55\" cy=\"1421.58\" r=\"14.4\" fill=\"#e26f46\" fill-rule=\"evenodd\" fill-opacity=\"1\" stroke=\"#000000\" stroke-opacity=\"1\" stroke-width=\"3.2\"/>\n",
       "<circle clip-path=\"url(#clip142)\" cx=\"1126.78\" cy=\"1432.14\" r=\"14.4\" fill=\"#e26f46\" fill-rule=\"evenodd\" fill-opacity=\"1\" stroke=\"#000000\" stroke-opacity=\"1\" stroke-width=\"3.2\"/>\n",
       "<circle clip-path=\"url(#clip142)\" cx=\"1162.01\" cy=\"1439.68\" r=\"14.4\" fill=\"#e26f46\" fill-rule=\"evenodd\" fill-opacity=\"1\" stroke=\"#000000\" stroke-opacity=\"1\" stroke-width=\"3.2\"/>\n",
       "<circle clip-path=\"url(#clip142)\" cx=\"1197.24\" cy=\"1444.21\" r=\"14.4\" fill=\"#e26f46\" fill-rule=\"evenodd\" fill-opacity=\"1\" stroke=\"#000000\" stroke-opacity=\"1\" stroke-width=\"3.2\"/>\n",
       "<circle clip-path=\"url(#clip142)\" cx=\"1232.47\" cy=\"1445.72\" r=\"14.4\" fill=\"#e26f46\" fill-rule=\"evenodd\" fill-opacity=\"1\" stroke=\"#000000\" stroke-opacity=\"1\" stroke-width=\"3.2\"/>\n",
       "<circle clip-path=\"url(#clip142)\" cx=\"1267.7\" cy=\"1444.21\" r=\"14.4\" fill=\"#e26f46\" fill-rule=\"evenodd\" fill-opacity=\"1\" stroke=\"#000000\" stroke-opacity=\"1\" stroke-width=\"3.2\"/>\n",
       "<circle clip-path=\"url(#clip142)\" cx=\"1302.92\" cy=\"1439.68\" r=\"14.4\" fill=\"#e26f46\" fill-rule=\"evenodd\" fill-opacity=\"1\" stroke=\"#000000\" stroke-opacity=\"1\" stroke-width=\"3.2\"/>\n",
       "<circle clip-path=\"url(#clip142)\" cx=\"1338.15\" cy=\"1432.14\" r=\"14.4\" fill=\"#e26f46\" fill-rule=\"evenodd\" fill-opacity=\"1\" stroke=\"#000000\" stroke-opacity=\"1\" stroke-width=\"3.2\"/>\n",
       "<circle clip-path=\"url(#clip142)\" cx=\"1373.38\" cy=\"1421.58\" r=\"14.4\" fill=\"#e26f46\" fill-rule=\"evenodd\" fill-opacity=\"1\" stroke=\"#000000\" stroke-opacity=\"1\" stroke-width=\"3.2\"/>\n",
       "<circle clip-path=\"url(#clip142)\" cx=\"1408.61\" cy=\"1408\" r=\"14.4\" fill=\"#e26f46\" fill-rule=\"evenodd\" fill-opacity=\"1\" stroke=\"#000000\" stroke-opacity=\"1\" stroke-width=\"3.2\"/>\n",
       "<circle clip-path=\"url(#clip142)\" cx=\"1443.84\" cy=\"1391.41\" r=\"14.4\" fill=\"#e26f46\" fill-rule=\"evenodd\" fill-opacity=\"1\" stroke=\"#000000\" stroke-opacity=\"1\" stroke-width=\"3.2\"/>\n",
       "<circle clip-path=\"url(#clip142)\" cx=\"1479.07\" cy=\"1371.79\" r=\"14.4\" fill=\"#e26f46\" fill-rule=\"evenodd\" fill-opacity=\"1\" stroke=\"#000000\" stroke-opacity=\"1\" stroke-width=\"3.2\"/>\n",
       "<circle clip-path=\"url(#clip142)\" cx=\"1514.3\" cy=\"1349.17\" r=\"14.4\" fill=\"#e26f46\" fill-rule=\"evenodd\" fill-opacity=\"1\" stroke=\"#000000\" stroke-opacity=\"1\" stroke-width=\"3.2\"/>\n",
       "<circle clip-path=\"url(#clip142)\" cx=\"1549.53\" cy=\"1323.52\" r=\"14.4\" fill=\"#e26f46\" fill-rule=\"evenodd\" fill-opacity=\"1\" stroke=\"#000000\" stroke-opacity=\"1\" stroke-width=\"3.2\"/>\n",
       "<circle clip-path=\"url(#clip142)\" cx=\"1584.76\" cy=\"1294.86\" r=\"14.4\" fill=\"#e26f46\" fill-rule=\"evenodd\" fill-opacity=\"1\" stroke=\"#000000\" stroke-opacity=\"1\" stroke-width=\"3.2\"/>\n",
       "<circle clip-path=\"url(#clip142)\" cx=\"1619.99\" cy=\"1263.18\" r=\"14.4\" fill=\"#e26f46\" fill-rule=\"evenodd\" fill-opacity=\"1\" stroke=\"#000000\" stroke-opacity=\"1\" stroke-width=\"3.2\"/>\n",
       "<circle clip-path=\"url(#clip142)\" cx=\"1655.22\" cy=\"1228.48\" r=\"14.4\" fill=\"#e26f46\" fill-rule=\"evenodd\" fill-opacity=\"1\" stroke=\"#000000\" stroke-opacity=\"1\" stroke-width=\"3.2\"/>\n",
       "<circle clip-path=\"url(#clip142)\" cx=\"1690.45\" cy=\"1190.76\" r=\"14.4\" fill=\"#e26f46\" fill-rule=\"evenodd\" fill-opacity=\"1\" stroke=\"#000000\" stroke-opacity=\"1\" stroke-width=\"3.2\"/>\n",
       "<circle clip-path=\"url(#clip142)\" cx=\"1725.68\" cy=\"1150.03\" r=\"14.4\" fill=\"#e26f46\" fill-rule=\"evenodd\" fill-opacity=\"1\" stroke=\"#000000\" stroke-opacity=\"1\" stroke-width=\"3.2\"/>\n",
       "<circle clip-path=\"url(#clip142)\" cx=\"1760.9\" cy=\"1106.28\" r=\"14.4\" fill=\"#e26f46\" fill-rule=\"evenodd\" fill-opacity=\"1\" stroke=\"#000000\" stroke-opacity=\"1\" stroke-width=\"3.2\"/>\n",
       "<circle clip-path=\"url(#clip142)\" cx=\"1796.13\" cy=\"1059.51\" r=\"14.4\" fill=\"#e26f46\" fill-rule=\"evenodd\" fill-opacity=\"1\" stroke=\"#000000\" stroke-opacity=\"1\" stroke-width=\"3.2\"/>\n",
       "<circle clip-path=\"url(#clip142)\" cx=\"1831.36\" cy=\"1009.73\" r=\"14.4\" fill=\"#e26f46\" fill-rule=\"evenodd\" fill-opacity=\"1\" stroke=\"#000000\" stroke-opacity=\"1\" stroke-width=\"3.2\"/>\n",
       "<circle clip-path=\"url(#clip142)\" cx=\"1866.59\" cy=\"956.93\" r=\"14.4\" fill=\"#e26f46\" fill-rule=\"evenodd\" fill-opacity=\"1\" stroke=\"#000000\" stroke-opacity=\"1\" stroke-width=\"3.2\"/>\n",
       "<circle clip-path=\"url(#clip142)\" cx=\"1901.82\" cy=\"901.111\" r=\"14.4\" fill=\"#e26f46\" fill-rule=\"evenodd\" fill-opacity=\"1\" stroke=\"#000000\" stroke-opacity=\"1\" stroke-width=\"3.2\"/>\n",
       "<circle clip-path=\"url(#clip142)\" cx=\"1937.05\" cy=\"842.276\" r=\"14.4\" fill=\"#e26f46\" fill-rule=\"evenodd\" fill-opacity=\"1\" stroke=\"#000000\" stroke-opacity=\"1\" stroke-width=\"3.2\"/>\n",
       "<circle clip-path=\"url(#clip142)\" cx=\"1972.28\" cy=\"780.423\" r=\"14.4\" fill=\"#e26f46\" fill-rule=\"evenodd\" fill-opacity=\"1\" stroke=\"#000000\" stroke-opacity=\"1\" stroke-width=\"3.2\"/>\n",
       "<circle clip-path=\"url(#clip142)\" cx=\"2007.51\" cy=\"715.554\" r=\"14.4\" fill=\"#e26f46\" fill-rule=\"evenodd\" fill-opacity=\"1\" stroke=\"#000000\" stroke-opacity=\"1\" stroke-width=\"3.2\"/>\n",
       "<circle clip-path=\"url(#clip142)\" cx=\"2042.74\" cy=\"647.667\" r=\"14.4\" fill=\"#e26f46\" fill-rule=\"evenodd\" fill-opacity=\"1\" stroke=\"#000000\" stroke-opacity=\"1\" stroke-width=\"3.2\"/>\n",
       "<circle clip-path=\"url(#clip142)\" cx=\"2077.97\" cy=\"576.762\" r=\"14.4\" fill=\"#e26f46\" fill-rule=\"evenodd\" fill-opacity=\"1\" stroke=\"#000000\" stroke-opacity=\"1\" stroke-width=\"3.2\"/>\n",
       "<circle clip-path=\"url(#clip142)\" cx=\"2113.2\" cy=\"502.841\" r=\"14.4\" fill=\"#e26f46\" fill-rule=\"evenodd\" fill-opacity=\"1\" stroke=\"#000000\" stroke-opacity=\"1\" stroke-width=\"3.2\"/>\n",
       "<circle clip-path=\"url(#clip142)\" cx=\"2148.43\" cy=\"425.903\" r=\"14.4\" fill=\"#e26f46\" fill-rule=\"evenodd\" fill-opacity=\"1\" stroke=\"#000000\" stroke-opacity=\"1\" stroke-width=\"3.2\"/>\n",
       "<circle clip-path=\"url(#clip142)\" cx=\"2183.66\" cy=\"345.947\" r=\"14.4\" fill=\"#e26f46\" fill-rule=\"evenodd\" fill-opacity=\"1\" stroke=\"#000000\" stroke-opacity=\"1\" stroke-width=\"3.2\"/>\n",
       "<circle clip-path=\"url(#clip142)\" cx=\"2218.88\" cy=\"262.974\" r=\"14.4\" fill=\"#e26f46\" fill-rule=\"evenodd\" fill-opacity=\"1\" stroke=\"#000000\" stroke-opacity=\"1\" stroke-width=\"3.2\"/>\n",
       "<circle clip-path=\"url(#clip142)\" cx=\"2254.11\" cy=\"176.984\" r=\"14.4\" fill=\"#e26f46\" fill-rule=\"evenodd\" fill-opacity=\"1\" stroke=\"#000000\" stroke-opacity=\"1\" stroke-width=\"3.2\"/>\n",
       "<circle clip-path=\"url(#clip142)\" cx=\"2289.34\" cy=\"87.9763\" r=\"14.4\" fill=\"#e26f46\" fill-rule=\"evenodd\" fill-opacity=\"1\" stroke=\"#000000\" stroke-opacity=\"1\" stroke-width=\"3.2\"/>\n",
       "<path clip-path=\"url(#clip140)\" d=\"M1915.03 1438.47 L2278.07 1438.47 L2278.07 1282.95 L1915.03 1282.95  Z\" fill=\"#ffffff\" fill-rule=\"evenodd\" fill-opacity=\"1\"/>\n",
       "<polyline clip-path=\"url(#clip140)\" style=\"stroke:#000000; stroke-linecap:round; stroke-linejoin:round; stroke-width:4; stroke-opacity:1; fill:none\" points=\"1915.03,1438.47 2278.07,1438.47 2278.07,1282.95 1915.03,1282.95 1915.03,1438.47 \"/>\n",
       "<polyline clip-path=\"url(#clip140)\" style=\"stroke:#009af9; stroke-linecap:round; stroke-linejoin:round; stroke-width:4; stroke-opacity:1; fill:none\" points=\"1939.93,1334.79 2089.3,1334.79 \"/>\n",
       "<path clip-path=\"url(#clip140)\" d=\"M2128.04 1354.48 Q2126.23 1359.11 2124.52 1360.52 Q2122.8 1361.94 2119.93 1361.94 L2116.53 1361.94 L2116.53 1358.37 L2119.03 1358.37 Q2120.79 1358.37 2121.76 1357.54 Q2122.74 1356.7 2123.92 1353.6 L2124.68 1351.66 L2114.19 1326.15 L2118.71 1326.15 L2126.81 1346.43 L2134.91 1326.15 L2139.43 1326.15 L2128.04 1354.48 Z\" fill=\"#000000\" fill-rule=\"nonzero\" fill-opacity=\"1\" /><path clip-path=\"url(#clip140)\" d=\"M2146.72 1348.14 L2154.36 1348.14 L2154.36 1321.77 L2146.05 1323.44 L2146.05 1319.18 L2154.31 1317.51 L2158.99 1317.51 L2158.99 1348.14 L2166.62 1348.14 L2166.62 1352.07 L2146.72 1352.07 L2146.72 1348.14 Z\" fill=\"#000000\" fill-rule=\"nonzero\" fill-opacity=\"1\" /><circle clip-path=\"url(#clip140)\" cx=\"2014.61\" cy=\"1386.63\" r=\"20.48\" fill=\"#e26f46\" fill-rule=\"evenodd\" fill-opacity=\"1\" stroke=\"#000000\" stroke-opacity=\"1\" stroke-width=\"4.55111\"/>\n",
       "<path clip-path=\"url(#clip140)\" d=\"M2118.48 1400.03 L2118.48 1413.78 L2114.19 1413.78 L2114.19 1377.99 L2118.48 1377.99 L2118.48 1381.92 Q2119.82 1379.61 2121.86 1378.5 Q2123.92 1377.36 2126.76 1377.36 Q2131.49 1377.36 2134.43 1381.11 Q2137.39 1384.86 2137.39 1390.97 Q2137.39 1397.09 2134.43 1400.84 Q2131.49 1404.59 2126.76 1404.59 Q2123.92 1404.59 2121.86 1403.47 Q2119.82 1402.34 2118.48 1400.03 M2132.97 1390.97 Q2132.97 1386.28 2131.02 1383.61 Q2129.1 1380.93 2125.72 1380.93 Q2122.34 1380.93 2120.4 1383.61 Q2118.48 1386.28 2118.48 1390.97 Q2118.48 1395.67 2120.4 1398.36 Q2122.34 1401.02 2125.72 1401.02 Q2129.1 1401.02 2131.02 1398.36 Q2132.97 1395.67 2132.97 1390.97 Z\" fill=\"#000000\" fill-rule=\"nonzero\" fill-opacity=\"1\" /><path clip-path=\"url(#clip140)\" d=\"M2154.49 1380.97 Q2151.07 1380.97 2149.08 1383.66 Q2147.09 1386.32 2147.09 1390.97 Q2147.09 1395.63 2149.05 1398.31 Q2151.05 1400.97 2154.49 1400.97 Q2157.9 1400.97 2159.89 1398.29 Q2161.88 1395.6 2161.88 1390.97 Q2161.88 1386.37 2159.89 1383.68 Q2157.9 1380.97 2154.49 1380.97 M2154.49 1377.36 Q2160.05 1377.36 2163.22 1380.97 Q2166.39 1384.59 2166.39 1390.97 Q2166.39 1397.34 2163.22 1400.97 Q2160.05 1404.59 2154.49 1404.59 Q2148.92 1404.59 2145.74 1400.97 Q2142.6 1397.34 2142.6 1390.97 Q2142.6 1384.59 2145.74 1380.97 Q2148.92 1377.36 2154.49 1377.36 Z\" fill=\"#000000\" fill-rule=\"nonzero\" fill-opacity=\"1\" /><path clip-path=\"url(#clip140)\" d=\"M2173.45 1377.99 L2177.71 1377.99 L2177.71 1403.91 L2173.45 1403.91 L2173.45 1377.99 M2173.45 1367.9 L2177.71 1367.9 L2177.71 1373.29 L2173.45 1373.29 L2173.45 1367.9 Z\" fill=\"#000000\" fill-rule=\"nonzero\" fill-opacity=\"1\" /><path clip-path=\"url(#clip140)\" d=\"M2208.17 1388.27 L2208.17 1403.91 L2203.92 1403.91 L2203.92 1388.41 Q2203.92 1384.72 2202.48 1382.9 Q2201.05 1381.07 2198.17 1381.07 Q2194.73 1381.07 2192.74 1383.27 Q2190.74 1385.47 2190.74 1389.26 L2190.74 1403.91 L2186.46 1403.91 L2186.46 1377.99 L2190.74 1377.99 L2190.74 1382.02 Q2192.27 1379.68 2194.33 1378.52 Q2196.42 1377.36 2199.12 1377.36 Q2203.59 1377.36 2205.88 1380.14 Q2208.17 1382.9 2208.17 1388.27 Z\" fill=\"#000000\" fill-rule=\"nonzero\" fill-opacity=\"1\" /><path clip-path=\"url(#clip140)\" d=\"M2220.88 1370.63 L2220.88 1377.99 L2229.66 1377.99 L2229.66 1381.3 L2220.88 1381.3 L2220.88 1395.37 Q2220.88 1398.54 2221.74 1399.45 Q2222.62 1400.35 2225.28 1400.35 L2229.66 1400.35 L2229.66 1403.91 L2225.28 1403.91 Q2220.35 1403.91 2218.48 1402.09 Q2216.6 1400.23 2216.6 1395.37 L2216.6 1381.3 L2213.48 1381.3 L2213.48 1377.99 L2216.6 1377.99 L2216.6 1370.63 L2220.88 1370.63 Z\" fill=\"#000000\" fill-rule=\"nonzero\" fill-opacity=\"1\" /><path clip-path=\"url(#clip140)\" d=\"M2251.79 1378.75 L2251.79 1382.78 Q2249.98 1381.85 2248.04 1381.39 Q2246.09 1380.93 2244.01 1380.93 Q2240.84 1380.93 2239.24 1381.9 Q2237.67 1382.87 2237.67 1384.82 Q2237.67 1386.3 2238.8 1387.16 Q2239.93 1387.99 2243.36 1388.75 L2244.82 1389.08 Q2249.36 1390.05 2251.25 1391.83 Q2253.17 1393.59 2253.17 1396.76 Q2253.17 1400.37 2250.3 1402.48 Q2247.46 1404.59 2242.46 1404.59 Q2240.37 1404.59 2238.11 1404.17 Q2235.86 1403.78 2233.36 1402.97 L2233.36 1398.57 Q2235.72 1399.79 2238.01 1400.42 Q2240.3 1401.02 2242.55 1401.02 Q2245.56 1401.02 2247.18 1400 Q2248.8 1398.96 2248.8 1397.09 Q2248.8 1395.35 2247.62 1394.42 Q2246.46 1393.5 2242.5 1392.64 L2241.02 1392.29 Q2237.06 1391.46 2235.3 1389.75 Q2233.55 1388.01 2233.55 1385 Q2233.55 1381.35 2236.14 1379.35 Q2238.73 1377.36 2243.5 1377.36 Q2245.86 1377.36 2247.94 1377.71 Q2250.03 1378.06 2251.79 1378.75 Z\" fill=\"#000000\" fill-rule=\"nonzero\" fill-opacity=\"1\" /></svg>\n"
      ]
     },
     "execution_count": 145,
     "metadata": {},
     "output_type": "execute_result"
    }
   ],
   "source": [
    "plot(x, y, lable=\"line\")\n",
    "scatter!(x, y, label=\"points\")"
   ]
  },
  {
   "cell_type": "code",
   "execution_count": 149,
   "id": "6252044a",
   "metadata": {},
   "outputs": [
    {
     "data": {
      "text/plain": [
       "Plots.PlotlyJSBackend()"
      ]
     },
     "execution_count": 149,
     "metadata": {},
     "output_type": "execute_result"
    }
   ],
   "source": [
    "#import Pkg; Pkg.add(\"PlotlyJS\")\n",
    "plotlyjs()"
   ]
  },
  {
   "cell_type": "code",
   "execution_count": 151,
   "id": "16bc52c3",
   "metadata": {},
   "outputs": [
    {
     "data": {
      "application/vnd.plotly.v1+json": {
       "data": [
        {
         "colorbar": {
          "len": 0.9525371828521435,
          "title": "",
          "x": 0.9934383202099737,
          "y": 0.513888888888889
         },
         "legendgroup": "line",
         "line": {
          "color": "rgba(0, 154, 250, 1.000)",
          "dash": "solid",
          "shape": "linear",
          "width": 1
         },
         "mode": "lines",
         "name": "line",
         "showlegend": true,
         "type": "scatter",
         "x": [
          -3,
          -2.9,
          -2.8,
          -2.7,
          -2.6,
          -2.5,
          -2.4,
          -2.3,
          -2.2,
          -2.1,
          -2,
          -1.9,
          -1.8,
          -1.7,
          -1.6,
          -1.5,
          -1.4,
          -1.3,
          -1.2,
          -1.1,
          -1,
          -0.9,
          -0.8,
          -0.7,
          -0.6,
          -0.5,
          -0.4,
          -0.3,
          -0.2,
          -0.1,
          0,
          0.1,
          0.2,
          0.3,
          0.4,
          0.5,
          0.6,
          0.7,
          0.8,
          0.9,
          1,
          1.1,
          1.2,
          1.3,
          1.4,
          1.5,
          1.6,
          1.7,
          1.8,
          1.9,
          2,
          2.1,
          2.2,
          2.3,
          2.4,
          2.5,
          2.6,
          2.7,
          2.8,
          2.9,
          3
         ],
         "xaxis": "x",
         "y": [
          9,
          8.41,
          7.839999999999999,
          7.290000000000001,
          6.760000000000001,
          6.25,
          5.76,
          5.289999999999999,
          4.840000000000001,
          4.41,
          4,
          3.61,
          3.24,
          2.8899999999999997,
          2.5600000000000005,
          2.25,
          1.9599999999999997,
          1.6900000000000002,
          1.44,
          1.2100000000000002,
          1,
          0.81,
          0.6400000000000001,
          0.48999999999999994,
          0.36,
          0.25,
          0.16000000000000003,
          0.09,
          0.04000000000000001,
          0.010000000000000002,
          0,
          0.010000000000000002,
          0.04000000000000001,
          0.09,
          0.16000000000000003,
          0.25,
          0.36,
          0.48999999999999994,
          0.6400000000000001,
          0.81,
          1,
          1.2100000000000002,
          1.44,
          1.6900000000000002,
          1.9599999999999997,
          2.25,
          2.5600000000000005,
          2.8899999999999997,
          3.24,
          3.61,
          4,
          4.41,
          4.840000000000001,
          5.289999999999999,
          5.76,
          6.25,
          6.760000000000001,
          7.290000000000001,
          7.839999999999999,
          8.41,
          9
         ],
         "yaxis": "y"
        },
        {
         "colorbar": {
          "len": 0.9525371828521435,
          "title": "",
          "x": 0.9934383202099737,
          "y": 0.513888888888889
         },
         "legendgroup": "points",
         "marker": {
          "color": "rgba(227, 111, 71, 1.000)",
          "line": {
           "color": "rgba(0, 0, 0, 1.000)",
           "width": 1
          },
          "size": 8,
          "symbol": "circle"
         },
         "mode": "markers",
         "name": "points",
         "showlegend": true,
         "type": "scatter",
         "x": [
          -3,
          -2.9,
          -2.8,
          -2.7,
          -2.6,
          -2.5,
          -2.4,
          -2.3,
          -2.2,
          -2.1,
          -2,
          -1.9,
          -1.8,
          -1.7,
          -1.6,
          -1.5,
          -1.4,
          -1.3,
          -1.2,
          -1.1,
          -1,
          -0.9,
          -0.8,
          -0.7,
          -0.6,
          -0.5,
          -0.4,
          -0.3,
          -0.2,
          -0.1,
          0,
          0.1,
          0.2,
          0.3,
          0.4,
          0.5,
          0.6,
          0.7,
          0.8,
          0.9,
          1,
          1.1,
          1.2,
          1.3,
          1.4,
          1.5,
          1.6,
          1.7,
          1.8,
          1.9,
          2,
          2.1,
          2.2,
          2.3,
          2.4,
          2.5,
          2.6,
          2.7,
          2.8,
          2.9,
          3
         ],
         "xaxis": "x",
         "y": [
          9,
          8.41,
          7.839999999999999,
          7.290000000000001,
          6.760000000000001,
          6.25,
          5.76,
          5.289999999999999,
          4.840000000000001,
          4.41,
          4,
          3.61,
          3.24,
          2.8899999999999997,
          2.5600000000000005,
          2.25,
          1.9599999999999997,
          1.6900000000000002,
          1.44,
          1.2100000000000002,
          1,
          0.81,
          0.6400000000000001,
          0.48999999999999994,
          0.36,
          0.25,
          0.16000000000000003,
          0.09,
          0.04000000000000001,
          0.010000000000000002,
          0,
          0.010000000000000002,
          0.04000000000000001,
          0.09,
          0.16000000000000003,
          0.25,
          0.36,
          0.48999999999999994,
          0.6400000000000001,
          0.81,
          1,
          1.2100000000000002,
          1.44,
          1.6900000000000002,
          1.9599999999999997,
          2.25,
          2.5600000000000005,
          2.8899999999999997,
          3.24,
          3.61,
          4,
          4.41,
          4.840000000000001,
          5.289999999999999,
          5.76,
          6.25,
          6.760000000000001,
          7.290000000000001,
          7.839999999999999,
          8.41,
          9
         ],
         "yaxis": "y"
        }
       ],
       "layout": {
        "annotations": [],
        "height": 400,
        "legend": {
         "bgcolor": "rgba(255, 255, 255, 1.000)",
         "bordercolor": "rgba(0, 0, 0, 1.000)",
         "borderwidth": 1,
         "font": {
          "color": "rgba(0, 0, 0, 1.000)",
          "family": "sans-serif",
          "size": 11
         },
         "title": {
          "font": {
           "color": "rgba(0, 0, 0, 1.000)",
           "family": "sans-serif",
           "size": 15
          },
          "text": ""
         },
         "tracegroupgap": 0,
         "traceorder": "normal",
         "x": 1,
         "xanchor": "auto",
         "y": 1,
         "yanchor": "auto"
        },
        "margin": {
         "b": 20,
         "l": 0,
         "r": 0,
         "t": 20
        },
        "paper_bgcolor": "rgba(255, 255, 255, 1.000)",
        "plot_bgcolor": "rgba(255, 255, 255, 1.000)",
        "showlegend": true,
        "width": 600,
        "xaxis": {
         "anchor": "y",
         "domain": [
          0.02137649460484106,
          0.9934383202099737
         ],
         "gridcolor": "rgba(0, 0, 0, 0.100)",
         "gridwidth": 0.5,
         "linecolor": "rgba(0, 0, 0, 1.000)",
         "mirror": false,
         "range": [
          -3.18,
          3.18
         ],
         "showgrid": true,
         "showline": true,
         "showticklabels": true,
         "tickangle": 0,
         "tickcolor": "rgb(0, 0, 0)",
         "tickfont": {
          "color": "rgba(0, 0, 0, 1.000)",
          "family": "sans-serif",
          "size": 11
         },
         "tickmode": "array",
         "ticks": "inside",
         "ticktext": [
          "-3",
          "-2",
          "-1",
          "0",
          "1",
          "2",
          "3"
         ],
         "tickvals": [
          -3,
          -2,
          -1,
          0,
          1,
          2,
          3
         ],
         "title": "",
         "titlefont": {
          "color": "rgba(0, 0, 0, 1.000)",
          "family": "sans-serif",
          "size": 15
         },
         "type": "-",
         "visible": true,
         "zeroline": false,
         "zerolinecolor": "rgba(0, 0, 0, 1.000)"
        },
        "yaxis": {
         "anchor": "x",
         "domain": [
          0.03762029746281716,
          0.9901574803149606
         ],
         "gridcolor": "rgba(0, 0, 0, 0.100)",
         "gridwidth": 0.5,
         "linecolor": "rgba(0, 0, 0, 1.000)",
         "mirror": false,
         "range": [
          -0.27000000000000046,
          9.27
         ],
         "showgrid": true,
         "showline": true,
         "showticklabels": true,
         "tickangle": 0,
         "tickcolor": "rgb(0, 0, 0)",
         "tickfont": {
          "color": "rgba(0, 0, 0, 1.000)",
          "family": "sans-serif",
          "size": 11
         },
         "tickmode": "array",
         "ticks": "inside",
         "ticktext": [
          "0",
          "2",
          "4",
          "6",
          "8"
         ],
         "tickvals": [
          0,
          2,
          4,
          6,
          8
         ],
         "title": "",
         "titlefont": {
          "color": "rgba(0, 0, 0, 1.000)",
          "family": "sans-serif",
          "size": 15
         },
         "type": "-",
         "visible": true,
         "zeroline": false,
         "zerolinecolor": "rgba(0, 0, 0, 1.000)"
        }
       }
      },
      "image/png": "[encoded data removed]",
      "image/svg+xml": [
       "<svg class=\"main-svg\" xmlns=\"http://www.w3.org/2000/svg\" xmlns:xlink=\"http://www.w3.org/1999/xlink\" width=\"700\" height=\"500\" style=\"\" viewBox=\"0 0 700 500\"><rect x=\"0\" y=\"0\" width=\"700\" height=\"500\" style=\"fill: rgb(255, 255, 255); fill-opacity: 1;\"/><defs id=\"defs-792ff8\"><g class=\"clips\"><clipPath id=\"clip792ff8xyplot\" class=\"plotclip\"><rect width=\"583.2370953630796\" height=\"371.48950131233596\"/></clipPath><clipPath class=\"axesclip\" id=\"clip792ff8x\"><rect x=\"62.825896762904634\" y=\"0\" width=\"583.2370953630796\" height=\"500\"/></clipPath><clipPath class=\"axesclip\" id=\"clip792ff8y\"><rect x=\"0\" y=\"63.83858267716535\" width=\"700\" height=\"371.48950131233596\"/></clipPath><clipPath class=\"axesclip\" id=\"clip792ff8xy\"><rect x=\"62.825896762904634\" y=\"63.83858267716535\" width=\"583.2370953630796\" height=\"371.48950131233596\"/></clipPath></g><g class=\"gradients\"/></defs><g class=\"bglayer\"/><g class=\"layer-below\"><g class=\"imagelayer\"/><g class=\"shapelayer\"/></g><g class=\"cartesianlayer\"><g class=\"subplot xy\"><g class=\"layer-subplot\"><g class=\"shapelayer\"/><g class=\"imagelayer\"/></g><g class=\"gridlayer\"><g class=\"x\"><path class=\"xgrid crisp\" transform=\"translate(79.33589676290464,0)\" d=\"M0,63.83858267716535v371.48950131233596\" style=\"stroke: rgb(0, 0, 0); stroke-opacity: 0.1; stroke-width: 0.5px;\"/><path class=\"xgrid crisp\" transform=\"translate(171.03589676290463,0)\" d=\"M0,63.83858267716535v371.48950131233596\" style=\"stroke: rgb(0, 0, 0); stroke-opacity: 0.1; stroke-width: 0.5px;\"/><path class=\"xgrid crisp\" transform=\"translate(262.73589676290464,0)\" d=\"M0,63.83858267716535v371.48950131233596\" style=\"stroke: rgb(0, 0, 0); stroke-opacity: 0.1; stroke-width: 0.5px;\"/><path class=\"xgrid crisp\" transform=\"translate(354.4458967629046,0)\" d=\"M0,63.83858267716535v371.48950131233596\" style=\"stroke: rgb(0, 0, 0); stroke-opacity: 0.1; stroke-width: 0.5px;\"/><path class=\"xgrid crisp\" transform=\"translate(446.1458967629046,0)\" d=\"M0,63.83858267716535v371.48950131233596\" style=\"stroke: rgb(0, 0, 0); stroke-opacity: 0.1; stroke-width: 0.5px;\"/><path class=\"xgrid crisp\" transform=\"translate(537.8558967629046,0)\" d=\"M0,63.83858267716535v371.48950131233596\" style=\"stroke: rgb(0, 0, 0); stroke-opacity: 0.1; stroke-width: 0.5px;\"/><path class=\"xgrid crisp\" transform=\"translate(629.5558967629047,0)\" d=\"M0,63.83858267716535v371.48950131233596\" style=\"stroke: rgb(0, 0, 0); stroke-opacity: 0.1; stroke-width: 0.5px;\"/></g><g class=\"y\"><path class=\"ygrid crisp\" transform=\"translate(0,424.81858267716535)\" d=\"M62.825896762904634,0h583.2370953630796\" style=\"stroke: rgb(0, 0, 0); stroke-opacity: 0.1; stroke-width: 0.5px;\"/><path class=\"ygrid crisp\" transform=\"translate(0,346.93858267716536)\" d=\"M62.825896762904634,0h583.2370953630796\" style=\"stroke: rgb(0, 0, 0); stroke-opacity: 0.1; stroke-width: 0.5px;\"/><path class=\"ygrid crisp\" transform=\"translate(0,269.04858267716537)\" d=\"M62.825896762904634,0h583.2370953630796\" style=\"stroke: rgb(0, 0, 0); stroke-opacity: 0.1; stroke-width: 0.5px;\"/><path class=\"ygrid crisp\" transform=\"translate(0,191.16858267716535)\" d=\"M62.825896762904634,0h583.2370953630796\" style=\"stroke: rgb(0, 0, 0); stroke-opacity: 0.1; stroke-width: 0.5px;\"/><path class=\"ygrid crisp\" transform=\"translate(0,113.28858267716535)\" d=\"M62.825896762904634,0h583.2370953630796\" style=\"stroke: rgb(0, 0, 0); stroke-opacity: 0.1; stroke-width: 0.5px;\"/></g></g><g class=\"zerolinelayer\"/><path class=\"xlines-below\"/><path class=\"ylines-below\"/><g class=\"overlines-below\"/><g class=\"xaxislayer-below\"/><g class=\"yaxislayer-below\"/><g class=\"overaxes-below\"/><g class=\"plot\" transform=\"translate(62.825896762904634,63.83858267716535)\" clip-path=\"url('#clip792ff8xyplot')\"><g class=\"scatterlayer mlayer\"><g class=\"trace scatter tracec952b7\" style=\"stroke-miterlimit: 2; opacity: 1;\"><g class=\"fills\"/><g class=\"errorbars\"/><g class=\"lines\"><path class=\"js-line\" d=\"M16.51,10.51L34.85,55.68L44.02,77.1L62.36,117.6L71.53,136.68L89.87,172.51L99.04,189.25L117.38,220.4L126.55,234.81L144.89,261.29L154.06,273.36L172.4,295.17L181.57,304.9L199.91,322.04L209.08,329.43L227.43,341.89L236.6,346.96L254.94,354.75L264.11,357.47L273.28,359.42L282.45,360.59L291.62,360.98L300.79,360.59L309.96,359.42L319.13,357.47L328.3,354.75L337.47,351.24L355.81,341.89L364.98,336.05L383.32,322.04L392.49,313.86L410.83,295.17L420,284.65L438.34,261.29L447.52,248.44L465.86,220.4L475.03,205.21L493.37,172.51L502.54,154.98L520.88,117.6L530.05,97.74L548.39,55.68L557.56,33.49L566.73,10.51\" style=\"vector-effect: non-scaling-stroke; fill: none; stroke: rgb(0, 154, 250); stroke-opacity: 1; stroke-width: 1px; opacity: 1;\"/></g><g class=\"points\"/><g class=\"text\"/></g><g class=\"trace scatter trace8c1edd\" style=\"stroke-miterlimit: 2; opacity: 1;\"><g class=\"fills\"/><g class=\"errorbars\"/><g class=\"lines\"/><g class=\"points\"><path class=\"point\" transform=\"translate(16.51,10.51)\" d=\"M4,0A4,4 0 1,1 0,-4A4,4 0 0,1 4,0Z\" style=\"opacity: 1; stroke-width: 1px; fill: rgb(227, 111, 71); fill-opacity: 1; stroke: rgb(0, 0, 0); stroke-opacity: 1;\"/><path class=\"point\" transform=\"translate(25.68,33.49)\" d=\"M4,0A4,4 0 1,1 0,-4A4,4 0 0,1 4,0Z\" style=\"opacity: 1; stroke-width: 1px; fill: rgb(227, 111, 71); fill-opacity: 1; stroke: rgb(0, 0, 0); stroke-opacity: 1;\"/><path class=\"point\" transform=\"translate(34.85,55.68)\" d=\"M4,0A4,4 0 1,1 0,-4A4,4 0 0,1 4,0Z\" style=\"opacity: 1; stroke-width: 1px; fill: rgb(227, 111, 71); fill-opacity: 1; stroke: rgb(0, 0, 0); stroke-opacity: 1;\"/><path class=\"point\" transform=\"translate(44.02,77.1)\" d=\"M4,0A4,4 0 1,1 0,-4A4,4 0 0,1 4,0Z\" style=\"opacity: 1; stroke-width: 1px; fill: rgb(227, 111, 71); fill-opacity: 1; stroke: rgb(0, 0, 0); stroke-opacity: 1;\"/><path class=\"point\" transform=\"translate(53.19,97.74)\" d=\"M4,0A4,4 0 1,1 0,-4A4,4 0 0,1 4,0Z\" style=\"opacity: 1; stroke-width: 1px; fill: rgb(227, 111, 71); fill-opacity: 1; stroke: rgb(0, 0, 0); stroke-opacity: 1;\"/><path class=\"point\" transform=\"translate(62.36,117.6)\" d=\"M4,0A4,4 0 1,1 0,-4A4,4 0 0,1 4,0Z\" style=\"opacity: 1; stroke-width: 1px; fill: rgb(227, 111, 71); fill-opacity: 1; stroke: rgb(0, 0, 0); stroke-opacity: 1;\"/><path class=\"point\" transform=\"translate(71.53,136.68)\" d=\"M4,0A4,4 0 1,1 0,-4A4,4 0 0,1 4,0Z\" style=\"opacity: 1; stroke-width: 1px; fill: rgb(227, 111, 71); fill-opacity: 1; stroke: rgb(0, 0, 0); stroke-opacity: 1;\"/><path class=\"point\" transform=\"translate(80.7,154.98)\" d=\"M4,0A4,4 0 1,1 0,-4A4,4 0 0,1 4,0Z\" style=\"opacity: 1; stroke-width: 1px; fill: rgb(227, 111, 71); fill-opacity: 1; stroke: rgb(0, 0, 0); stroke-opacity: 1;\"/><path class=\"point\" transform=\"translate(89.87,172.51)\" d=\"M4,0A4,4 0 1,1 0,-4A4,4 0 0,1 4,0Z\" style=\"opacity: 1; stroke-width: 1px; fill: rgb(227, 111, 71); fill-opacity: 1; stroke: rgb(0, 0, 0); stroke-opacity: 1;\"/><path class=\"point\" transform=\"translate(99.04,189.25)\" d=\"M4,0A4,4 0 1,1 0,-4A4,4 0 0,1 4,0Z\" style=\"opacity: 1; stroke-width: 1px; fill: rgb(227, 111, 71); fill-opacity: 1; stroke: rgb(0, 0, 0); stroke-opacity: 1;\"/><path class=\"point\" transform=\"translate(108.21,205.21)\" d=\"M4,0A4,4 0 1,1 0,-4A4,4 0 0,1 4,0Z\" style=\"opacity: 1; stroke-width: 1px; fill: rgb(227, 111, 71); fill-opacity: 1; stroke: rgb(0, 0, 0); stroke-opacity: 1;\"/><path class=\"point\" transform=\"translate(117.38,220.4)\" d=\"M4,0A4,4 0 1,1 0,-4A4,4 0 0,1 4,0Z\" style=\"opacity: 1; stroke-width: 1px; fill: rgb(227, 111, 71); fill-opacity: 1; stroke: rgb(0, 0, 0); stroke-opacity: 1;\"/><path class=\"point\" transform=\"translate(126.55,234.81)\" d=\"M4,0A4,4 0 1,1 0,-4A4,4 0 0,1 4,0Z\" style=\"opacity: 1; stroke-width: 1px; fill: rgb(227, 111, 71); fill-opacity: 1; stroke: rgb(0, 0, 0); stroke-opacity: 1;\"/><path class=\"point\" transform=\"translate(135.72,248.44)\" d=\"M4,0A4,4 0 1,1 0,-4A4,4 0 0,1 4,0Z\" style=\"opacity: 1; stroke-width: 1px; fill: rgb(227, 111, 71); fill-opacity: 1; stroke: rgb(0, 0, 0); stroke-opacity: 1;\"/><path class=\"point\" transform=\"translate(144.89,261.29)\" d=\"M4,0A4,4 0 1,1 0,-4A4,4 0 0,1 4,0Z\" style=\"opacity: 1; stroke-width: 1px; fill: rgb(227, 111, 71); fill-opacity: 1; stroke: rgb(0, 0, 0); stroke-opacity: 1;\"/><path class=\"point\" transform=\"translate(154.06,273.36)\" d=\"M4,0A4,4 0 1,1 0,-4A4,4 0 0,1 4,0Z\" style=\"opacity: 1; stroke-width: 1px; fill: rgb(227, 111, 71); fill-opacity: 1; stroke: rgb(0, 0, 0); stroke-opacity: 1;\"/><path class=\"point\" transform=\"translate(163.23,284.65)\" d=\"M4,0A4,4 0 1,1 0,-4A4,4 0 0,1 4,0Z\" style=\"opacity: 1; stroke-width: 1px; fill: rgb(227, 111, 71); fill-opacity: 1; stroke: rgb(0, 0, 0); stroke-opacity: 1;\"/><path class=\"point\" transform=\"translate(172.4,295.17)\" d=\"M4,0A4,4 0 1,1 0,-4A4,4 0 0,1 4,0Z\" style=\"opacity: 1; stroke-width: 1px; fill: rgb(227, 111, 71); fill-opacity: 1; stroke: rgb(0, 0, 0); stroke-opacity: 1;\"/><path class=\"point\" transform=\"translate(181.57,304.9)\" d=\"M4,0A4,4 0 1,1 0,-4A4,4 0 0,1 4,0Z\" style=\"opacity: 1; stroke-width: 1px; fill: rgb(227, 111, 71); fill-opacity: 1; stroke: rgb(0, 0, 0); stroke-opacity: 1;\"/><path class=\"point\" transform=\"translate(190.74,313.86)\" d=\"M4,0A4,4 0 1,1 0,-4A4,4 0 0,1 4,0Z\" style=\"opacity: 1; stroke-width: 1px; fill: rgb(227, 111, 71); fill-opacity: 1; stroke: rgb(0, 0, 0); stroke-opacity: 1;\"/><path class=\"point\" transform=\"translate(199.91,322.04)\" d=\"M4,0A4,4 0 1,1 0,-4A4,4 0 0,1 4,0Z\" style=\"opacity: 1; stroke-width: 1px; fill: rgb(227, 111, 71); fill-opacity: 1; stroke: rgb(0, 0, 0); stroke-opacity: 1;\"/><path class=\"point\" transform=\"translate(209.08,329.43)\" d=\"M4,0A4,4 0 1,1 0,-4A4,4 0 0,1 4,0Z\" style=\"opacity: 1; stroke-width: 1px; fill: rgb(227, 111, 71); fill-opacity: 1; stroke: rgb(0, 0, 0); stroke-opacity: 1;\"/><path class=\"point\" transform=\"translate(218.26,336.05)\" d=\"M4,0A4,4 0 1,1 0,-4A4,4 0 0,1 4,0Z\" style=\"opacity: 1; stroke-width: 1px; fill: rgb(227, 111, 71); fill-opacity: 1; stroke: rgb(0, 0, 0); stroke-opacity: 1;\"/><path class=\"point\" transform=\"translate(227.43,341.89)\" d=\"M4,0A4,4 0 1,1 0,-4A4,4 0 0,1 4,0Z\" style=\"opacity: 1; stroke-width: 1px; fill: rgb(227, 111, 71); fill-opacity: 1; stroke: rgb(0, 0, 0); stroke-opacity: 1;\"/><path class=\"point\" transform=\"translate(236.6,346.96)\" d=\"M4,0A4,4 0 1,1 0,-4A4,4 0 0,1 4,0Z\" style=\"opacity: 1; stroke-width: 1px; fill: rgb(227, 111, 71); fill-opacity: 1; stroke: rgb(0, 0, 0); stroke-opacity: 1;\"/><path class=\"point\" transform=\"translate(245.77,351.24)\" d=\"M4,0A4,4 0 1,1 0,-4A4,4 0 0,1 4,0Z\" style=\"opacity: 1; stroke-width: 1px; fill: rgb(227, 111, 71); fill-opacity: 1; stroke: rgb(0, 0, 0); stroke-opacity: 1;\"/><path class=\"point\" transform=\"translate(254.94,354.75)\" d=\"M4,0A4,4 0 1,1 0,-4A4,4 0 0,1 4,0Z\" style=\"opacity: 1; stroke-width: 1px; fill: rgb(227, 111, 71); fill-opacity: 1; stroke: rgb(0, 0, 0); stroke-opacity: 1;\"/><path class=\"point\" transform=\"translate(264.11,357.47)\" d=\"M4,0A4,4 0 1,1 0,-4A4,4 0 0,1 4,0Z\" style=\"opacity: 1; stroke-width: 1px; fill: rgb(227, 111, 71); fill-opacity: 1; stroke: rgb(0, 0, 0); stroke-opacity: 1;\"/><path class=\"point\" transform=\"translate(273.28,359.42)\" d=\"M4,0A4,4 0 1,1 0,-4A4,4 0 0,1 4,0Z\" style=\"opacity: 1; stroke-width: 1px; fill: rgb(227, 111, 71); fill-opacity: 1; stroke: rgb(0, 0, 0); stroke-opacity: 1;\"/><path class=\"point\" transform=\"translate(282.45,360.59)\" d=\"M4,0A4,4 0 1,1 0,-4A4,4 0 0,1 4,0Z\" style=\"opacity: 1; stroke-width: 1px; fill: rgb(227, 111, 71); fill-opacity: 1; stroke: rgb(0, 0, 0); stroke-opacity: 1;\"/><path class=\"point\" transform=\"translate(291.62,360.98)\" d=\"M4,0A4,4 0 1,1 0,-4A4,4 0 0,1 4,0Z\" style=\"opacity: 1; stroke-width: 1px; fill: rgb(227, 111, 71); fill-opacity: 1; stroke: rgb(0, 0, 0); stroke-opacity: 1;\"/><path class=\"point\" transform=\"translate(300.79,360.59)\" d=\"M4,0A4,4 0 1,1 0,-4A4,4 0 0,1 4,0Z\" style=\"opacity: 1; stroke-width: 1px; fill: rgb(227, 111, 71); fill-opacity: 1; stroke: rgb(0, 0, 0); stroke-opacity: 1;\"/><path class=\"point\" transform=\"translate(309.96,359.42)\" d=\"M4,0A4,4 0 1,1 0,-4A4,4 0 0,1 4,0Z\" style=\"opacity: 1; stroke-width: 1px; fill: rgb(227, 111, 71); fill-opacity: 1; stroke: rgb(0, 0, 0); stroke-opacity: 1;\"/><path class=\"point\" transform=\"translate(319.13,357.47)\" d=\"M4,0A4,4 0 1,1 0,-4A4,4 0 0,1 4,0Z\" style=\"opacity: 1; stroke-width: 1px; fill: rgb(227, 111, 71); fill-opacity: 1; stroke: rgb(0, 0, 0); stroke-opacity: 1;\"/><path class=\"point\" transform=\"translate(328.3,354.75)\" d=\"M4,0A4,4 0 1,1 0,-4A4,4 0 0,1 4,0Z\" style=\"opacity: 1; stroke-width: 1px; fill: rgb(227, 111, 71); fill-opacity: 1; stroke: rgb(0, 0, 0); stroke-opacity: 1;\"/><path class=\"point\" transform=\"translate(337.47,351.24)\" d=\"M4,0A4,4 0 1,1 0,-4A4,4 0 0,1 4,0Z\" style=\"opacity: 1; stroke-width: 1px; fill: rgb(227, 111, 71); fill-opacity: 1; stroke: rgb(0, 0, 0); stroke-opacity: 1;\"/><path class=\"point\" transform=\"translate(346.64,346.96)\" d=\"M4,0A4,4 0 1,1 0,-4A4,4 0 0,1 4,0Z\" style=\"opacity: 1; stroke-width: 1px; fill: rgb(227, 111, 71); fill-opacity: 1; stroke: rgb(0, 0, 0); stroke-opacity: 1;\"/><path class=\"point\" transform=\"translate(355.81,341.89)\" d=\"M4,0A4,4 0 1,1 0,-4A4,4 0 0,1 4,0Z\" style=\"opacity: 1; stroke-width: 1px; fill: rgb(227, 111, 71); fill-opacity: 1; stroke: rgb(0, 0, 0); stroke-opacity: 1;\"/><path class=\"point\" transform=\"translate(364.98,336.05)\" d=\"M4,0A4,4 0 1,1 0,-4A4,4 0 0,1 4,0Z\" style=\"opacity: 1; stroke-width: 1px; fill: rgb(227, 111, 71); fill-opacity: 1; stroke: rgb(0, 0, 0); stroke-opacity: 1;\"/><path class=\"point\" transform=\"translate(374.15,329.43)\" d=\"M4,0A4,4 0 1,1 0,-4A4,4 0 0,1 4,0Z\" style=\"opacity: 1; stroke-width: 1px; fill: rgb(227, 111, 71); fill-opacity: 1; stroke: rgb(0, 0, 0); stroke-opacity: 1;\"/><path class=\"point\" transform=\"translate(383.32,322.04)\" d=\"M4,0A4,4 0 1,1 0,-4A4,4 0 0,1 4,0Z\" style=\"opacity: 1; stroke-width: 1px; fill: rgb(227, 111, 71); fill-opacity: 1; stroke: rgb(0, 0, 0); stroke-opacity: 1;\"/><path class=\"point\" transform=\"translate(392.49,313.86)\" d=\"M4,0A4,4 0 1,1 0,-4A4,4 0 0,1 4,0Z\" style=\"opacity: 1; stroke-width: 1px; fill: rgb(227, 111, 71); fill-opacity: 1; stroke: rgb(0, 0, 0); stroke-opacity: 1;\"/><path class=\"point\" transform=\"translate(401.66,304.9)\" d=\"M4,0A4,4 0 1,1 0,-4A4,4 0 0,1 4,0Z\" style=\"opacity: 1; stroke-width: 1px; fill: rgb(227, 111, 71); fill-opacity: 1; stroke: rgb(0, 0, 0); stroke-opacity: 1;\"/><path class=\"point\" transform=\"translate(410.83,295.17)\" d=\"M4,0A4,4 0 1,1 0,-4A4,4 0 0,1 4,0Z\" style=\"opacity: 1; stroke-width: 1px; fill: rgb(227, 111, 71); fill-opacity: 1; stroke: rgb(0, 0, 0); stroke-opacity: 1;\"/><path class=\"point\" transform=\"translate(420,284.65)\" d=\"M4,0A4,4 0 1,1 0,-4A4,4 0 0,1 4,0Z\" style=\"opacity: 1; stroke-width: 1px; fill: rgb(227, 111, 71); fill-opacity: 1; stroke: rgb(0, 0, 0); stroke-opacity: 1;\"/><path class=\"point\" transform=\"translate(429.17,273.36)\" d=\"M4,0A4,4 0 1,1 0,-4A4,4 0 0,1 4,0Z\" style=\"opacity: 1; stroke-width: 1px; fill: rgb(227, 111, 71); fill-opacity: 1; stroke: rgb(0, 0, 0); stroke-opacity: 1;\"/><path class=\"point\" transform=\"translate(438.34,261.29)\" d=\"M4,0A4,4 0 1,1 0,-4A4,4 0 0,1 4,0Z\" style=\"opacity: 1; stroke-width: 1px; fill: rgb(227, 111, 71); fill-opacity: 1; stroke: rgb(0, 0, 0); stroke-opacity: 1;\"/><path class=\"point\" transform=\"translate(447.52,248.44)\" d=\"M4,0A4,4 0 1,1 0,-4A4,4 0 0,1 4,0Z\" style=\"opacity: 1; stroke-width: 1px; fill: rgb(227, 111, 71); fill-opacity: 1; stroke: rgb(0, 0, 0); stroke-opacity: 1;\"/><path class=\"point\" transform=\"translate(456.69,234.81)\" d=\"M4,0A4,4 0 1,1 0,-4A4,4 0 0,1 4,0Z\" style=\"opacity: 1; stroke-width: 1px; fill: rgb(227, 111, 71); fill-opacity: 1; stroke: rgb(0, 0, 0); stroke-opacity: 1;\"/><path class=\"point\" transform=\"translate(465.86,220.4)\" d=\"M4,0A4,4 0 1,1 0,-4A4,4 0 0,1 4,0Z\" style=\"opacity: 1; stroke-width: 1px; fill: rgb(227, 111, 71); fill-opacity: 1; stroke: rgb(0, 0, 0); stroke-opacity: 1;\"/><path class=\"point\" transform=\"translate(475.03,205.21)\" d=\"M4,0A4,4 0 1,1 0,-4A4,4 0 0,1 4,0Z\" style=\"opacity: 1; stroke-width: 1px; fill: rgb(227, 111, 71); fill-opacity: 1; stroke: rgb(0, 0, 0); stroke-opacity: 1;\"/><path class=\"point\" transform=\"translate(484.2,189.25)\" d=\"M4,0A4,4 0 1,1 0,-4A4,4 0 0,1 4,0Z\" style=\"opacity: 1; stroke-width: 1px; fill: rgb(227, 111, 71); fill-opacity: 1; stroke: rgb(0, 0, 0); stroke-opacity: 1;\"/><path class=\"point\" transform=\"translate(493.37,172.51)\" d=\"M4,0A4,4 0 1,1 0,-4A4,4 0 0,1 4,0Z\" style=\"opacity: 1; stroke-width: 1px; fill: rgb(227, 111, 71); fill-opacity: 1; stroke: rgb(0, 0, 0); stroke-opacity: 1;\"/><path class=\"point\" transform=\"translate(502.54,154.98)\" d=\"M4,0A4,4 0 1,1 0,-4A4,4 0 0,1 4,0Z\" style=\"opacity: 1; stroke-width: 1px; fill: rgb(227, 111, 71); fill-opacity: 1; stroke: rgb(0, 0, 0); stroke-opacity: 1;\"/><path class=\"point\" transform=\"translate(511.71,136.68)\" d=\"M4,0A4,4 0 1,1 0,-4A4,4 0 0,1 4,0Z\" style=\"opacity: 1; stroke-width: 1px; fill: rgb(227, 111, 71); fill-opacity: 1; stroke: rgb(0, 0, 0); stroke-opacity: 1;\"/><path class=\"point\" transform=\"translate(520.88,117.6)\" d=\"M4,0A4,4 0 1,1 0,-4A4,4 0 0,1 4,0Z\" style=\"opacity: 1; stroke-width: 1px; fill: rgb(227, 111, 71); fill-opacity: 1; stroke: rgb(0, 0, 0); stroke-opacity: 1;\"/><path class=\"point\" transform=\"translate(530.05,97.74)\" d=\"M4,0A4,4 0 1,1 0,-4A4,4 0 0,1 4,0Z\" style=\"opacity: 1; stroke-width: 1px; fill: rgb(227, 111, 71); fill-opacity: 1; stroke: rgb(0, 0, 0); stroke-opacity: 1;\"/><path class=\"point\" transform=\"translate(539.22,77.1)\" d=\"M4,0A4,4 0 1,1 0,-4A4,4 0 0,1 4,0Z\" style=\"opacity: 1; stroke-width: 1px; fill: rgb(227, 111, 71); fill-opacity: 1; stroke: rgb(0, 0, 0); stroke-opacity: 1;\"/><path class=\"point\" transform=\"translate(548.39,55.68)\" d=\"M4,0A4,4 0 1,1 0,-4A4,4 0 0,1 4,0Z\" style=\"opacity: 1; stroke-width: 1px; fill: rgb(227, 111, 71); fill-opacity: 1; stroke: rgb(0, 0, 0); stroke-opacity: 1;\"/><path class=\"point\" transform=\"translate(557.56,33.49)\" d=\"M4,0A4,4 0 1,1 0,-4A4,4 0 0,1 4,0Z\" style=\"opacity: 1; stroke-width: 1px; fill: rgb(227, 111, 71); fill-opacity: 1; stroke: rgb(0, 0, 0); stroke-opacity: 1;\"/><path class=\"point\" transform=\"translate(566.73,10.51)\" d=\"M4,0A4,4 0 1,1 0,-4A4,4 0 0,1 4,0Z\" style=\"opacity: 1; stroke-width: 1px; fill: rgb(227, 111, 71); fill-opacity: 1; stroke: rgb(0, 0, 0); stroke-opacity: 1;\"/></g><g class=\"text\"/></g></g></g><g class=\"overplot\"/><path class=\"xlines-above crisp\" d=\"M61.825896762904634,435.8280839895013H646.0629921259842\" style=\"fill: none; stroke-width: 1px; stroke: rgb(0, 0, 0); stroke-opacity: 1;\"/><path class=\"ylines-above crisp\" d=\"M62.325896762904634,63.83858267716535V435.3280839895013\" style=\"fill: none; stroke-width: 1px; stroke: rgb(0, 0, 0); stroke-opacity: 1;\"/><g class=\"overlines-above\"/><g class=\"xaxislayer-above\"><path class=\"xtick ticks crisp\" d=\"M0,435.3280839895013v-5\" transform=\"translate(79.33589676290464,0)\" style=\"stroke: rgb(0, 0, 0); stroke-opacity: 1; stroke-width: 1px;\"/><path class=\"xtick ticks crisp\" d=\"M0,435.3280839895013v-5\" transform=\"translate(171.03589676290463,0)\" style=\"stroke: rgb(0, 0, 0); stroke-opacity: 1; stroke-width: 1px;\"/><path class=\"xtick ticks crisp\" d=\"M0,435.3280839895013v-5\" transform=\"translate(262.73589676290464,0)\" style=\"stroke: rgb(0, 0, 0); stroke-opacity: 1; stroke-width: 1px;\"/><path class=\"xtick ticks crisp\" d=\"M0,435.3280839895013v-5\" transform=\"translate(354.4458967629046,0)\" style=\"stroke: rgb(0, 0, 0); stroke-opacity: 1; stroke-width: 1px;\"/><path class=\"xtick ticks crisp\" d=\"M0,435.3280839895013v-5\" transform=\"translate(446.1458967629046,0)\" style=\"stroke: rgb(0, 0, 0); stroke-opacity: 1; stroke-width: 1px;\"/><path class=\"xtick ticks crisp\" d=\"M0,435.3280839895013v-5\" transform=\"translate(537.8558967629046,0)\" style=\"stroke: rgb(0, 0, 0); stroke-opacity: 1; stroke-width: 1px;\"/><path class=\"xtick ticks crisp\" d=\"M0,435.3280839895013v-5\" transform=\"translate(629.5558967629047,0)\" style=\"stroke: rgb(0, 0, 0); stroke-opacity: 1; stroke-width: 1px;\"/><g class=\"xtick\"><text text-anchor=\"middle\" x=\"0\" y=\"449.5280839895013\" transform=\"translate(79.33589676290464,0)\" style=\"font-family: sans-serif; font-size: 11px; fill: rgb(0, 0, 0); fill-opacity: 1; white-space: pre;\">-3</text></g><g class=\"xtick\"><text text-anchor=\"middle\" x=\"0\" y=\"449.5280839895013\" transform=\"translate(171.03589676290463,0)\" style=\"font-family: sans-serif; font-size: 11px; fill: rgb(0, 0, 0); fill-opacity: 1; white-space: pre;\">-2</text></g><g class=\"xtick\"><text text-anchor=\"middle\" x=\"0\" y=\"449.5280839895013\" transform=\"translate(262.73589676290464,0)\" style=\"font-family: sans-serif; font-size: 11px; fill: rgb(0, 0, 0); fill-opacity: 1; white-space: pre;\">-1</text></g><g class=\"xtick\"><text text-anchor=\"middle\" x=\"0\" y=\"449.5280839895013\" transform=\"translate(354.4458967629046,0)\" style=\"font-family: sans-serif; font-size: 11px; fill: rgb(0, 0, 0); fill-opacity: 1; white-space: pre;\">0</text></g><g class=\"xtick\"><text text-anchor=\"middle\" x=\"0\" y=\"449.5280839895013\" transform=\"translate(446.1458967629046,0)\" style=\"font-family: sans-serif; font-size: 11px; fill: rgb(0, 0, 0); fill-opacity: 1; white-space: pre;\">1</text></g><g class=\"xtick\"><text text-anchor=\"middle\" x=\"0\" y=\"449.5280839895013\" transform=\"translate(537.8558967629046,0)\" style=\"font-family: sans-serif; font-size: 11px; fill: rgb(0, 0, 0); fill-opacity: 1; white-space: pre;\">2</text></g><g class=\"xtick\"><text text-anchor=\"middle\" x=\"0\" y=\"449.5280839895013\" transform=\"translate(629.5558967629047,0)\" style=\"font-family: sans-serif; font-size: 11px; fill: rgb(0, 0, 0); fill-opacity: 1; white-space: pre;\">3</text></g></g><g class=\"yaxislayer-above\"><path class=\"ytick ticks crisp\" d=\"M62.825896762904634,0h5\" transform=\"translate(0,424.81858267716535)\" style=\"stroke: rgb(0, 0, 0); stroke-opacity: 1; stroke-width: 1px;\"/><path class=\"ytick ticks crisp\" d=\"M62.825896762904634,0h5\" transform=\"translate(0,346.93858267716536)\" style=\"stroke: rgb(0, 0, 0); stroke-opacity: 1; stroke-width: 1px;\"/><path class=\"ytick ticks crisp\" d=\"M62.825896762904634,0h5\" transform=\"translate(0,269.04858267716537)\" style=\"stroke: rgb(0, 0, 0); stroke-opacity: 1; stroke-width: 1px;\"/><path class=\"ytick ticks crisp\" d=\"M62.825896762904634,0h5\" transform=\"translate(0,191.16858267716535)\" style=\"stroke: rgb(0, 0, 0); stroke-opacity: 1; stroke-width: 1px;\"/><path class=\"ytick ticks crisp\" d=\"M62.825896762904634,0h5\" transform=\"translate(0,113.28858267716535)\" style=\"stroke: rgb(0, 0, 0); stroke-opacity: 1; stroke-width: 1px;\"/><g class=\"ytick\"><text text-anchor=\"end\" x=\"59.62589676290463\" y=\"3.8499999999999996\" transform=\"translate(0,424.81858267716535)\" style=\"font-family: sans-serif; font-size: 11px; fill: rgb(0, 0, 0); fill-opacity: 1; white-space: pre;\">0</text></g><g class=\"ytick\"><text text-anchor=\"end\" x=\"59.62589676290463\" y=\"3.8499999999999996\" transform=\"translate(0,346.93858267716536)\" style=\"font-family: sans-serif; font-size: 11px; fill: rgb(0, 0, 0); fill-opacity: 1; white-space: pre;\">2</text></g><g class=\"ytick\"><text text-anchor=\"end\" x=\"59.62589676290463\" y=\"3.8499999999999996\" transform=\"translate(0,269.04858267716537)\" style=\"font-family: sans-serif; font-size: 11px; fill: rgb(0, 0, 0); fill-opacity: 1; white-space: pre;\">4</text></g><g class=\"ytick\"><text text-anchor=\"end\" x=\"59.62589676290463\" y=\"3.8499999999999996\" transform=\"translate(0,191.16858267716535)\" style=\"font-family: sans-serif; font-size: 11px; fill: rgb(0, 0, 0); fill-opacity: 1; white-space: pre;\">6</text></g><g class=\"ytick\"><text text-anchor=\"end\" x=\"59.62589676290463\" y=\"3.8499999999999996\" transform=\"translate(0,113.28858267716535)\" style=\"font-family: sans-serif; font-size: 11px; fill: rgb(0, 0, 0); fill-opacity: 1; white-space: pre;\">8</text></g></g><g class=\"overaxes-above\"/></g></g><g class=\"polarlayer\"/><g class=\"ternarylayer\"/><g class=\"geolayer\"/><g class=\"funnelarealayer\"/><g class=\"pielayer\"/><g class=\"treemaplayer\"/><g class=\"sunburstlayer\"/><g class=\"glimages\"/><defs id=\"topdefs-792ff8\"><g class=\"clips\"/><clipPath id=\"legend792ff8\"><rect width=\"75\" height=\"48\" x=\"1\" y=\"1\"/></clipPath></defs><g class=\"layer-above\"><g class=\"imagelayer\"/><g class=\"shapelayer\"/></g><g class=\"infolayer\"><g class=\"legend\" pointer-events=\"all\" transform=\"translate(573,60)\"><rect class=\"bg\" shape-rendering=\"crispEdges\" style=\"stroke: rgb(0, 0, 0); stroke-opacity: 1; fill: rgb(255, 255, 255); fill-opacity: 1; stroke-width: 1px;\" width=\"76\" height=\"49\" x=\"0.5\" y=\"0.5\"/><g class=\"scrollbox\" transform=\"\" clip-path=\"url('#legend792ff8')\"><g class=\"groups\"><g class=\"traces\" transform=\"translate(1,15.5)\" style=\"opacity: 1;\"><text class=\"legendtext\" text-anchor=\"start\" x=\"40\" y=\"4.29\" style=\"font-family: sans-serif; font-size: 11px; fill: rgb(0, 0, 0); fill-opacity: 1; white-space: pre;\">line</text><g class=\"layers\" style=\"opacity: 1;\"><g class=\"legendfill\"/><g class=\"legendlines\"><path class=\"js-line\" d=\"M5,0h30\" style=\"fill: none; stroke: rgb(0, 154, 250); stroke-opacity: 1; stroke-width: 1px;\"/></g><g class=\"legendsymbols\"><g class=\"legendpoints\"/></g></g><rect class=\"legendtoggle\" x=\"0\" y=\"-9.5\" width=\"69.359375\" height=\"19\" style=\"fill: rgb(0, 0, 0); fill-opacity: 0;\"/></g><g class=\"traces\" transform=\"translate(1,34.5)\" style=\"opacity: 1;\"><text class=\"legendtext\" text-anchor=\"start\" x=\"40\" y=\"4.29\" style=\"font-family: sans-serif; font-size: 11px; fill: rgb(0, 0, 0); fill-opacity: 1; white-space: pre;\">points</text><g class=\"layers\" style=\"opacity: 1;\"><g class=\"legendfill\"/><g class=\"legendlines\"/><g class=\"legendsymbols\"><g class=\"legendpoints\"><path class=\"scatterpts\" transform=\"translate(20,0)\" d=\"M4,0A4,4 0 1,1 0,-4A4,4 0 0,1 4,0Z\" style=\"opacity: 1; stroke-width: 1px; fill: rgb(227, 111, 71); fill-opacity: 1; stroke: rgb(0, 0, 0); stroke-opacity: 1;\"/></g></g></g><rect class=\"legendtoggle\" x=\"0\" y=\"-9.5\" width=\"69.359375\" height=\"19\" style=\"fill: rgb(0, 0, 0); fill-opacity: 0;\"/></g></g></g><rect class=\"scrollbar\" rx=\"20\" ry=\"3\" width=\"0\" height=\"0\" style=\"fill: rgb(128, 139, 164); fill-opacity: 1;\" x=\"0\" y=\"0\"/></g><g class=\"g-gtitle\"/><g class=\"g-xtitle\"/><g class=\"g-ytitle\"/></g></svg>"
      ],
      "text/html": [
       "    <div id=\"c220d38b-d349-4095-95a9-7130f09e39ae\" style=\"width:600px;height:400px;\"></div>\n",
       "    <script>\n",
       "        requirejs.config({\n",
       "        paths: {\n",
       "            plotly: 'https://cdn.plot.ly/plotly-2.6.3.min'\n",
       "        }\n",
       "    });\n",
       "    require(['plotly'], function (Plotly) {\n",
       "\n",
       "    Plotly.newPlot('c220d38b-d349-4095-95a9-7130f09e39ae', [\n",
       "    {\n",
       "        \"showlegend\": true,\n",
       "        \"mode\": \"lines\",\n",
       "        \"xaxis\": \"x\",\n",
       "        \"colorbar\": {\n",
       "            \"y\": 0.513888888888889,\n",
       "            \"title\": \"\",\n",
       "            \"len\": 0.9525371828521435,\n",
       "            \"x\": 0.9934383202099737\n",
       "        },\n",
       "        \"name\": \"line\",\n",
       "        \"yaxis\": \"y\",\n",
       "        \"legendgroup\": \"line\",\n",
       "        \"line\": {\n",
       "            \"color\": \"rgba(0, 154, 250, 1.000)\",\n",
       "            \"shape\": \"linear\",\n",
       "            \"dash\": \"solid\",\n",
       "            \"width\": 1\n",
       "        },\n",
       "        \"y\": [\n",
       "            9.0,\n",
       "            8.41,\n",
       "            7.839999999999999,\n",
       "            7.290000000000001,\n",
       "            6.760000000000001,\n",
       "            6.25,\n",
       "            5.76,\n",
       "            5.289999999999999,\n",
       "            4.840000000000001,\n",
       "            4.41,\n",
       "            4.0,\n",
       "            3.61,\n",
       "            3.24,\n",
       "            2.8899999999999997,\n",
       "            2.5600000000000005,\n",
       "            2.25,\n",
       "            1.9599999999999997,\n",
       "            1.6900000000000002,\n",
       "            1.44,\n",
       "            1.2100000000000002,\n",
       "            1.0,\n",
       "            0.81,\n",
       "            0.6400000000000001,\n",
       "            0.48999999999999994,\n",
       "            0.36,\n",
       "            0.25,\n",
       "            0.16000000000000003,\n",
       "            0.09,\n",
       "            0.04000000000000001,\n",
       "            0.010000000000000002,\n",
       "            0.0,\n",
       "            0.010000000000000002,\n",
       "            0.04000000000000001,\n",
       "            0.09,\n",
       "            0.16000000000000003,\n",
       "            0.25,\n",
       "            0.36,\n",
       "            0.48999999999999994,\n",
       "            0.6400000000000001,\n",
       "            0.81,\n",
       "            1.0,\n",
       "            1.2100000000000002,\n",
       "            1.44,\n",
       "            1.6900000000000002,\n",
       "            1.9599999999999997,\n",
       "            2.25,\n",
       "            2.5600000000000005,\n",
       "            2.8899999999999997,\n",
       "            3.24,\n",
       "            3.61,\n",
       "            4.0,\n",
       "            4.41,\n",
       "            4.840000000000001,\n",
       "            5.289999999999999,\n",
       "            5.76,\n",
       "            6.25,\n",
       "            6.760000000000001,\n",
       "            7.290000000000001,\n",
       "            7.839999999999999,\n",
       "            8.41,\n",
       "            9.0\n",
       "        ],\n",
       "        \"type\": \"scatter\",\n",
       "        \"x\": [\n",
       "            -3.0,\n",
       "            -2.9,\n",
       "            -2.8,\n",
       "            -2.7,\n",
       "            -2.6,\n",
       "            -2.5,\n",
       "            -2.4,\n",
       "            -2.3,\n",
       "            -2.2,\n",
       "            -2.1,\n",
       "            -2.0,\n",
       "            -1.9,\n",
       "            -1.8,\n",
       "            -1.7,\n",
       "            -1.6,\n",
       "            -1.5,\n",
       "            -1.4,\n",
       "            -1.3,\n",
       "            -1.2,\n",
       "            -1.1,\n",
       "            -1.0,\n",
       "            -0.9,\n",
       "            -0.8,\n",
       "            -0.7,\n",
       "            -0.6,\n",
       "            -0.5,\n",
       "            -0.4,\n",
       "            -0.3,\n",
       "            -0.2,\n",
       "            -0.1,\n",
       "            0.0,\n",
       "            0.1,\n",
       "            0.2,\n",
       "            0.3,\n",
       "            0.4,\n",
       "            0.5,\n",
       "            0.6,\n",
       "            0.7,\n",
       "            0.8,\n",
       "            0.9,\n",
       "            1.0,\n",
       "            1.1,\n",
       "            1.2,\n",
       "            1.3,\n",
       "            1.4,\n",
       "            1.5,\n",
       "            1.6,\n",
       "            1.7,\n",
       "            1.8,\n",
       "            1.9,\n",
       "            2.0,\n",
       "            2.1,\n",
       "            2.2,\n",
       "            2.3,\n",
       "            2.4,\n",
       "            2.5,\n",
       "            2.6,\n",
       "            2.7,\n",
       "            2.8,\n",
       "            2.9,\n",
       "            3.0\n",
       "        ]\n",
       "    },\n",
       "    {\n",
       "        \"showlegend\": true,\n",
       "        \"mode\": \"markers\",\n",
       "        \"xaxis\": \"x\",\n",
       "        \"colorbar\": {\n",
       "            \"y\": 0.513888888888889,\n",
       "            \"title\": \"\",\n",
       "            \"len\": 0.9525371828521435,\n",
       "            \"x\": 0.9934383202099737\n",
       "        },\n",
       "        \"name\": \"points\",\n",
       "        \"yaxis\": \"y\",\n",
       "        \"legendgroup\": \"points\",\n",
       "        \"marker\": {\n",
       "            \"symbol\": \"circle\",\n",
       "            \"color\": \"rgba(227, 111, 71, 1.000)\",\n",
       "            \"line\": {\n",
       "                \"color\": \"rgba(0, 0, 0, 1.000)\",\n",
       "                \"width\": 1\n",
       "            },\n",
       "            \"size\": 8\n",
       "        },\n",
       "        \"y\": [\n",
       "            9.0,\n",
       "            8.41,\n",
       "            7.839999999999999,\n",
       "            7.290000000000001,\n",
       "            6.760000000000001,\n",
       "            6.25,\n",
       "            5.76,\n",
       "            5.289999999999999,\n",
       "            4.840000000000001,\n",
       "            4.41,\n",
       "            4.0,\n",
       "            3.61,\n",
       "            3.24,\n",
       "            2.8899999999999997,\n",
       "            2.5600000000000005,\n",
       "            2.25,\n",
       "            1.9599999999999997,\n",
       "            1.6900000000000002,\n",
       "            1.44,\n",
       "            1.2100000000000002,\n",
       "            1.0,\n",
       "            0.81,\n",
       "            0.6400000000000001,\n",
       "            0.48999999999999994,\n",
       "            0.36,\n",
       "            0.25,\n",
       "            0.16000000000000003,\n",
       "            0.09,\n",
       "            0.04000000000000001,\n",
       "            0.010000000000000002,\n",
       "            0.0,\n",
       "            0.010000000000000002,\n",
       "            0.04000000000000001,\n",
       "            0.09,\n",
       "            0.16000000000000003,\n",
       "            0.25,\n",
       "            0.36,\n",
       "            0.48999999999999994,\n",
       "            0.6400000000000001,\n",
       "            0.81,\n",
       "            1.0,\n",
       "            1.2100000000000002,\n",
       "            1.44,\n",
       "            1.6900000000000002,\n",
       "            1.9599999999999997,\n",
       "            2.25,\n",
       "            2.5600000000000005,\n",
       "            2.8899999999999997,\n",
       "            3.24,\n",
       "            3.61,\n",
       "            4.0,\n",
       "            4.41,\n",
       "            4.840000000000001,\n",
       "            5.289999999999999,\n",
       "            5.76,\n",
       "            6.25,\n",
       "            6.760000000000001,\n",
       "            7.290000000000001,\n",
       "            7.839999999999999,\n",
       "            8.41,\n",
       "            9.0\n",
       "        ],\n",
       "        \"type\": \"scatter\",\n",
       "        \"x\": [\n",
       "            -3.0,\n",
       "            -2.9,\n",
       "            -2.8,\n",
       "            -2.7,\n",
       "            -2.6,\n",
       "            -2.5,\n",
       "            -2.4,\n",
       "            -2.3,\n",
       "            -2.2,\n",
       "            -2.1,\n",
       "            -2.0,\n",
       "            -1.9,\n",
       "            -1.8,\n",
       "            -1.7,\n",
       "            -1.6,\n",
       "            -1.5,\n",
       "            -1.4,\n",
       "            -1.3,\n",
       "            -1.2,\n",
       "            -1.1,\n",
       "            -1.0,\n",
       "            -0.9,\n",
       "            -0.8,\n",
       "            -0.7,\n",
       "            -0.6,\n",
       "            -0.5,\n",
       "            -0.4,\n",
       "            -0.3,\n",
       "            -0.2,\n",
       "            -0.1,\n",
       "            0.0,\n",
       "            0.1,\n",
       "            0.2,\n",
       "            0.3,\n",
       "            0.4,\n",
       "            0.5,\n",
       "            0.6,\n",
       "            0.7,\n",
       "            0.8,\n",
       "            0.9,\n",
       "            1.0,\n",
       "            1.1,\n",
       "            1.2,\n",
       "            1.3,\n",
       "            1.4,\n",
       "            1.5,\n",
       "            1.6,\n",
       "            1.7,\n",
       "            1.8,\n",
       "            1.9,\n",
       "            2.0,\n",
       "            2.1,\n",
       "            2.2,\n",
       "            2.3,\n",
       "            2.4,\n",
       "            2.5,\n",
       "            2.6,\n",
       "            2.7,\n",
       "            2.8,\n",
       "            2.9,\n",
       "            3.0\n",
       "        ]\n",
       "    }\n",
       "]\n",
       ", {\n",
       "    \"showlegend\": true,\n",
       "    \"xaxis\": {\n",
       "        \"showticklabels\": true,\n",
       "        \"gridwidth\": 0.5,\n",
       "        \"tickvals\": [\n",
       "            -3.0,\n",
       "            -2.0,\n",
       "            -1.0,\n",
       "            0.0,\n",
       "            1.0,\n",
       "            2.0,\n",
       "            3.0\n",
       "        ],\n",
       "        \"range\": [\n",
       "            -3.18,\n",
       "            3.18\n",
       "        ],\n",
       "        \"domain\": [\n",
       "            0.02137649460484106,\n",
       "            0.9934383202099737\n",
       "        ],\n",
       "        \"mirror\": false,\n",
       "        \"tickangle\": 0,\n",
       "        \"showline\": true,\n",
       "        \"ticktext\": [\n",
       "            \"-3\",\n",
       "            \"-2\",\n",
       "            \"-1\",\n",
       "            \"0\",\n",
       "            \"1\",\n",
       "            \"2\",\n",
       "            \"3\"\n",
       "        ],\n",
       "        \"zeroline\": false,\n",
       "        \"tickfont\": {\n",
       "            \"color\": \"rgba(0, 0, 0, 1.000)\",\n",
       "            \"family\": \"sans-serif\",\n",
       "            \"size\": 11\n",
       "        },\n",
       "        \"zerolinecolor\": \"rgba(0, 0, 0, 1.000)\",\n",
       "        \"anchor\": \"y\",\n",
       "        \"visible\": true,\n",
       "        \"ticks\": \"inside\",\n",
       "        \"tickmode\": \"array\",\n",
       "        \"linecolor\": \"rgba(0, 0, 0, 1.000)\",\n",
       "        \"showgrid\": true,\n",
       "        \"title\": \"\",\n",
       "        \"gridcolor\": \"rgba(0, 0, 0, 0.100)\",\n",
       "        \"titlefont\": {\n",
       "            \"color\": \"rgba(0, 0, 0, 1.000)\",\n",
       "            \"family\": \"sans-serif\",\n",
       "            \"size\": 15\n",
       "        },\n",
       "        \"tickcolor\": \"rgb(0, 0, 0)\",\n",
       "        \"type\": \"-\"\n",
       "    },\n",
       "    \"paper_bgcolor\": \"rgba(255, 255, 255, 1.000)\",\n",
       "    \"annotations\": [],\n",
       "    \"height\": 400,\n",
       "    \"margin\": {\n",
       "        \"l\": 0,\n",
       "        \"b\": 20,\n",
       "        \"r\": 0,\n",
       "        \"t\": 20\n",
       "    },\n",
       "    \"plot_bgcolor\": \"rgba(255, 255, 255, 1.000)\",\n",
       "    \"yaxis\": {\n",
       "        \"showticklabels\": true,\n",
       "        \"gridwidth\": 0.5,\n",
       "        \"tickvals\": [\n",
       "            0.0,\n",
       "            2.0,\n",
       "            4.0,\n",
       "            6.0,\n",
       "            8.0\n",
       "        ],\n",
       "        \"range\": [\n",
       "            -0.27000000000000046,\n",
       "            9.27\n",
       "        ],\n",
       "        \"domain\": [\n",
       "            0.03762029746281716,\n",
       "            0.9901574803149606\n",
       "        ],\n",
       "        \"mirror\": false,\n",
       "        \"tickangle\": 0,\n",
       "        \"showline\": true,\n",
       "        \"ticktext\": [\n",
       "            \"0\",\n",
       "            \"2\",\n",
       "            \"4\",\n",
       "            \"6\",\n",
       "            \"8\"\n",
       "        ],\n",
       "        \"zeroline\": false,\n",
       "        \"tickfont\": {\n",
       "            \"color\": \"rgba(0, 0, 0, 1.000)\",\n",
       "            \"family\": \"sans-serif\",\n",
       "            \"size\": 11\n",
       "        },\n",
       "        \"zerolinecolor\": \"rgba(0, 0, 0, 1.000)\",\n",
       "        \"anchor\": \"x\",\n",
       "        \"visible\": true,\n",
       "        \"ticks\": \"inside\",\n",
       "        \"tickmode\": \"array\",\n",
       "        \"linecolor\": \"rgba(0, 0, 0, 1.000)\",\n",
       "        \"showgrid\": true,\n",
       "        \"title\": \"\",\n",
       "        \"gridcolor\": \"rgba(0, 0, 0, 0.100)\",\n",
       "        \"titlefont\": {\n",
       "            \"color\": \"rgba(0, 0, 0, 1.000)\",\n",
       "            \"family\": \"sans-serif\",\n",
       "            \"size\": 15\n",
       "        },\n",
       "        \"tickcolor\": \"rgb(0, 0, 0)\",\n",
       "        \"type\": \"-\"\n",
       "    },\n",
       "    \"legend\": {\n",
       "        \"yanchor\": \"auto\",\n",
       "        \"xanchor\": \"auto\",\n",
       "        \"bordercolor\": \"rgba(0, 0, 0, 1.000)\",\n",
       "        \"bgcolor\": \"rgba(255, 255, 255, 1.000)\",\n",
       "        \"borderwidth\": 1,\n",
       "        \"tracegroupgap\": 0,\n",
       "        \"y\": 1.0,\n",
       "        \"font\": {\n",
       "            \"color\": \"rgba(0, 0, 0, 1.000)\",\n",
       "            \"family\": \"sans-serif\",\n",
       "            \"size\": 11\n",
       "        },\n",
       "        \"title\": {\n",
       "            \"font\": {\n",
       "                \"color\": \"rgba(0, 0, 0, 1.000)\",\n",
       "                \"family\": \"sans-serif\",\n",
       "                \"size\": 15\n",
       "            },\n",
       "            \"text\": \"\"\n",
       "        },\n",
       "        \"traceorder\": \"normal\",\n",
       "        \"x\": 1.0\n",
       "    },\n",
       "    \"width\": 600\n",
       "}\n",
       ");\n",
       "    });\n",
       "    </script>\n"
      ]
     },
     "execution_count": 151,
     "metadata": {},
     "output_type": "execute_result"
    }
   ],
   "source": [
    "plot(x, y, label=\"line\")\n",
    "scatter!(x, y, label=\"points\")"
   ]
  },
  {
   "cell_type": "code",
   "execution_count": 152,
   "id": "960eef0d",
   "metadata": {},
   "outputs": [
    {
     "data": {
      "text/plain": [
       "6-element Vector{Int64}:\n",
       " 45000\n",
       " 20000\n",
       " 15000\n",
       "  5000\n",
       "   400\n",
       "    17"
      ]
     },
     "execution_count": 152,
     "metadata": {},
     "output_type": "execute_result"
    }
   ],
   "source": [
    "globaltemperatures = [14.4, 14.5, 14.8, 15.2, 15.5, 15.8]\n",
    "numpirates = [45000, 20000, 15000, 5000, 400, 17]"
   ]
  },
  {
   "cell_type": "code",
   "execution_count": 155,
   "id": "75a881a5",
   "metadata": {},
   "outputs": [
    {
     "data": {
      "application/vnd.plotly.v1+json": {
       "data": [
        {
         "colorbar": {
          "len": 0.8657316272965879,
          "title": "",
          "x": 0.9934383202099737,
          "y": 0.5086805555555556
         },
         "legendgroup": "y1",
         "line": {
          "color": "rgba(0, 154, 250, 1.000)",
          "dash": "solid",
          "shape": "linear",
          "width": 1
         },
         "mode": "lines",
         "name": "y1",
         "showlegend": true,
         "type": "scatter",
         "x": [
          45000,
          20000,
          15000,
          5000,
          400,
          17
         ],
         "xaxis": "x",
         "y": [
          14.4,
          14.5,
          14.8,
          15.2,
          15.5,
          15.8
         ],
         "yaxis": "y"
        },
        {
         "colorbar": {
          "len": 0.8657316272965879,
          "title": "",
          "x": 0.9934383202099737,
          "y": 0.5086805555555556
         },
         "legendgroup": "y2",
         "marker": {
          "color": "rgba(227, 111, 71, 1.000)",
          "line": {
           "color": "rgba(0, 0, 0, 1.000)",
           "width": 1
          },
          "size": 8,
          "symbol": "circle"
         },
         "mode": "markers",
         "name": "y2",
         "showlegend": true,
         "type": "scatter",
         "x": [
          45000,
          20000,
          15000,
          5000,
          400,
          17
         ],
         "xaxis": "x",
         "y": [
          14.4,
          14.5,
          14.8,
          15.2,
          15.5,
          15.8
         ],
         "yaxis": "y"
        }
       ],
       "layout": {
        "annotations": [
         {
          "font": {
           "color": "rgba(0, 0, 0, 1.000)",
           "family": "sans-serif",
           "size": 20
          },
          "rotation": 0,
          "showarrow": false,
          "text": "Influence of pirate population on global warming",
          "x": 0.5497685185185185,
          "xanchor": "center",
          "xref": "paper",
          "y": 1,
          "yanchor": "top",
          "yref": "paper"
         }
        ],
        "height": 400,
        "margin": {
         "b": 20,
         "l": 0,
         "r": 0,
         "t": 20
        },
        "paper_bgcolor": "rgba(255, 255, 255, 1.000)",
        "plot_bgcolor": "rgba(255, 255, 255, 1.000)",
        "showlegend": false,
        "width": 600,
        "xaxis": {
         "anchor": "y",
         "domain": [
          0.10609871682706327,
          0.9934383202099737
         ],
         "gridcolor": "rgba(0, 0, 0, 0.100)",
         "gridwidth": 0.5,
         "linecolor": "rgba(0, 0, 0, 1.000)",
         "mirror": false,
         "range": [
          46349.490000000005,
          -1332.4900000000016
         ],
         "showgrid": true,
         "showline": true,
         "showticklabels": true,
         "tickangle": 0,
         "tickcolor": "rgb(0, 0, 0)",
         "tickfont": {
          "color": "rgba(0, 0, 0, 1.000)",
          "family": "sans-serif",
          "size": 11
         },
         "tickmode": "array",
         "ticks": "inside",
         "ticktext": [
          "0",
          "1.0×10⁴",
          "2.0×10⁴",
          "3.0×10⁴",
          "4.0×10⁴"
         ],
         "tickvals": [
          0,
          10000,
          20000,
          30000,
          40000
         ],
         "title": "Number of Pirates [Approximate]",
         "titlefont": {
          "color": "rgba(0, 0, 0, 1.000)",
          "family": "sans-serif",
          "size": 15
         },
         "type": "-",
         "visible": true,
         "zeroline": false,
         "zerolinecolor": "rgba(0, 0, 0, 1.000)"
        },
        "yaxis": {
         "anchor": "x",
         "domain": [
          0.07581474190726165,
          0.9415463692038496
         ],
         "gridcolor": "rgba(0, 0, 0, 0.100)",
         "gridwidth": 0.5,
         "linecolor": "rgba(0, 0, 0, 1.000)",
         "mirror": false,
         "range": [
          14.358,
          15.842000000000002
         ],
         "showgrid": true,
         "showline": true,
         "showticklabels": true,
         "tickangle": 0,
         "tickcolor": "rgb(0, 0, 0)",
         "tickfont": {
          "color": "rgba(0, 0, 0, 1.000)",
          "family": "sans-serif",
          "size": 11
         },
         "tickmode": "array",
         "ticks": "inside",
         "ticktext": [
          "14.50",
          "14.75",
          "15.00",
          "15.25",
          "15.50",
          "15.75"
         ],
         "tickvals": [
          14.5,
          14.75,
          15,
          15.25,
          15.5,
          15.75
         ],
         "title": "Global Temperature (C)",
         "titlefont": {
          "color": "rgba(0, 0, 0, 1.000)",
          "family": "sans-serif",
          "size": 15
         },
         "type": "-",
         "visible": true,
         "zeroline": false,
         "zerolinecolor": "rgba(0, 0, 0, 1.000)"
        }
       }
      },
      "image/png": "[encoded data removed]",
      "image/svg+xml": [
       "<svg class=\"main-svg\" xmlns=\"http://www.w3.org/2000/svg\" xmlns:xlink=\"http://www.w3.org/1999/xlink\" width=\"700\" height=\"500\" style=\"\" viewBox=\"0 0 700 500\"><rect x=\"0\" y=\"0\" width=\"700\" height=\"500\" style=\"fill: rgb(255, 255, 255); fill-opacity: 1;\"/><defs id=\"defs-9c7fd6\"><g class=\"clips\"><clipPath id=\"clip9c7fd6xyplot\" class=\"plotclip\"><rect width=\"532.4037620297462\" height=\"337.6353346456693\"/></clipPath><clipPath class=\"axesclip\" id=\"clip9c7fd6x\"><rect x=\"113.65923009623796\" y=\"0\" width=\"532.4037620297462\" height=\"500\"/></clipPath><clipPath class=\"axesclip\" id=\"clip9c7fd6y\"><rect x=\"0\" y=\"82.79691601049865\" width=\"700\" height=\"337.6353346456693\"/></clipPath><clipPath class=\"axesclip\" id=\"clip9c7fd6xy\"><rect x=\"113.65923009623796\" y=\"82.79691601049865\" width=\"532.4037620297462\" height=\"337.6353346456693\"/></clipPath></g><g class=\"gradients\"/></defs><g class=\"bglayer\"/><g class=\"layer-below\"><g class=\"imagelayer\"/><g class=\"shapelayer\"/></g><g class=\"cartesianlayer\"><g class=\"subplot xy\"><g class=\"layer-subplot\"><g class=\"shapelayer\"/><g class=\"imagelayer\"/></g><g class=\"gridlayer\"><g class=\"x\"><path class=\"xgrid crisp\" transform=\"translate(631.1892300962379,0)\" d=\"M0,82.79691601049865v337.6353346456693\" style=\"stroke: rgb(0, 0, 0); stroke-opacity: 0.1; stroke-width: 0.5px;\"/><path class=\"xgrid crisp\" transform=\"translate(519.5292300962379,0)\" d=\"M0,82.79691601049865v337.6353346456693\" style=\"stroke: rgb(0, 0, 0); stroke-opacity: 0.1; stroke-width: 0.5px;\"/><path class=\"xgrid crisp\" transform=\"translate(407.86923009623797,0)\" d=\"M0,82.79691601049865v337.6353346456693\" style=\"stroke: rgb(0, 0, 0); stroke-opacity: 0.1; stroke-width: 0.5px;\"/><path class=\"xgrid crisp\" transform=\"translate(296.209230096238,0)\" d=\"M0,82.79691601049865v337.6353346456693\" style=\"stroke: rgb(0, 0, 0); stroke-opacity: 0.1; stroke-width: 0.5px;\"/><path class=\"xgrid crisp\" transform=\"translate(184.55923009623797,0)\" d=\"M0,82.79691601049865v337.6353346456693\" style=\"stroke: rgb(0, 0, 0); stroke-opacity: 0.1; stroke-width: 0.5px;\"/></g><g class=\"y\"><path class=\"ygrid crisp\" transform=\"translate(0,388.12691601049863)\" d=\"M113.65923009623796,0h532.4037620297462\" style=\"stroke: rgb(0, 0, 0); stroke-opacity: 0.1; stroke-width: 0.5px;\"/><path class=\"ygrid crisp\" transform=\"translate(0,331.24691601049864)\" d=\"M113.65923009623796,0h532.4037620297462\" style=\"stroke: rgb(0, 0, 0); stroke-opacity: 0.1; stroke-width: 0.5px;\"/><path class=\"ygrid crisp\" transform=\"translate(0,274.36691601049864)\" d=\"M113.65923009623796,0h532.4037620297462\" style=\"stroke: rgb(0, 0, 0); stroke-opacity: 0.1; stroke-width: 0.5px;\"/><path class=\"ygrid crisp\" transform=\"translate(0,217.48691601049865)\" d=\"M113.65923009623796,0h532.4037620297462\" style=\"stroke: rgb(0, 0, 0); stroke-opacity: 0.1; stroke-width: 0.5px;\"/><path class=\"ygrid crisp\" transform=\"translate(0,160.60691601049865)\" d=\"M113.65923009623796,0h532.4037620297462\" style=\"stroke: rgb(0, 0, 0); stroke-opacity: 0.1; stroke-width: 0.5px;\"/><path class=\"ygrid crisp\" transform=\"translate(0,103.72691601049866)\" d=\"M113.65923009623796,0h532.4037620297462\" style=\"stroke: rgb(0, 0, 0); stroke-opacity: 0.1; stroke-width: 0.5px;\"/></g></g><g class=\"zerolinelayer\"/><path class=\"xlines-below\"/><path class=\"ylines-below\"/><g class=\"overlines-below\"/><g class=\"xaxislayer-below\"/><g class=\"yaxislayer-below\"/><g class=\"overaxes-below\"/><g class=\"plot\" transform=\"translate(113.65923009623796,82.79691601049865)\" clip-path=\"url('#clip9c7fd6xyplot')\"><g class=\"scatterlayer mlayer\"><g class=\"trace scatter trace2c6c1d\" style=\"stroke-miterlimit: 2; opacity: 1;\"><g class=\"fills\"/><g class=\"errorbars\"/><g class=\"lines\"><path class=\"js-line\" d=\"M15.07,328.08L294.21,305.33L350.04,237.07L461.7,146.07L513.06,77.81L517.34,9.56\" style=\"vector-effect: non-scaling-stroke; fill: none; stroke: rgb(0, 154, 250); stroke-opacity: 1; stroke-width: 1px; opacity: 1;\"/></g><g class=\"points\"/><g class=\"text\"/></g><g class=\"trace scatter trace597056\" style=\"stroke-miterlimit: 2; opacity: 1;\"><g class=\"fills\"/><g class=\"errorbars\"/><g class=\"lines\"/><g class=\"points\"><path class=\"point\" transform=\"translate(15.07,328.08)\" d=\"M4,0A4,4 0 1,1 0,-4A4,4 0 0,1 4,0Z\" style=\"opacity: 1; stroke-width: 1px; fill: rgb(227, 111, 71); fill-opacity: 1; stroke: rgb(0, 0, 0); stroke-opacity: 1;\"/><path class=\"point\" transform=\"translate(294.21,305.33)\" d=\"M4,0A4,4 0 1,1 0,-4A4,4 0 0,1 4,0Z\" style=\"opacity: 1; stroke-width: 1px; fill: rgb(227, 111, 71); fill-opacity: 1; stroke: rgb(0, 0, 0); stroke-opacity: 1;\"/><path class=\"point\" transform=\"translate(350.04,237.07)\" d=\"M4,0A4,4 0 1,1 0,-4A4,4 0 0,1 4,0Z\" style=\"opacity: 1; stroke-width: 1px; fill: rgb(227, 111, 71); fill-opacity: 1; stroke: rgb(0, 0, 0); stroke-opacity: 1;\"/><path class=\"point\" transform=\"translate(461.7,146.07)\" d=\"M4,0A4,4 0 1,1 0,-4A4,4 0 0,1 4,0Z\" style=\"opacity: 1; stroke-width: 1px; fill: rgb(227, 111, 71); fill-opacity: 1; stroke: rgb(0, 0, 0); stroke-opacity: 1;\"/><path class=\"point\" transform=\"translate(513.06,77.81)\" d=\"M4,0A4,4 0 1,1 0,-4A4,4 0 0,1 4,0Z\" style=\"opacity: 1; stroke-width: 1px; fill: rgb(227, 111, 71); fill-opacity: 1; stroke: rgb(0, 0, 0); stroke-opacity: 1;\"/><path class=\"point\" transform=\"translate(517.34,9.56)\" d=\"M4,0A4,4 0 1,1 0,-4A4,4 0 0,1 4,0Z\" style=\"opacity: 1; stroke-width: 1px; fill: rgb(227, 111, 71); fill-opacity: 1; stroke: rgb(0, 0, 0); stroke-opacity: 1;\"/></g><g class=\"text\"/></g></g></g><g class=\"overplot\"/><path class=\"xlines-above crisp\" d=\"M112.65923009623796,420.9322506561679H646.0629921259841\" style=\"fill: none; stroke-width: 1px; stroke: rgb(0, 0, 0); stroke-opacity: 1;\"/><path class=\"ylines-above crisp\" d=\"M113.15923009623796,82.79691601049865V420.4322506561679\" style=\"fill: none; stroke-width: 1px; stroke: rgb(0, 0, 0); stroke-opacity: 1;\"/><g class=\"overlines-above\"/><g class=\"xaxislayer-above\"><path class=\"xtick ticks crisp\" d=\"M0,420.4322506561679v-5\" transform=\"translate(631.1892300962379,0)\" style=\"stroke: rgb(0, 0, 0); stroke-opacity: 1; stroke-width: 1px;\"/><path class=\"xtick ticks crisp\" d=\"M0,420.4322506561679v-5\" transform=\"translate(519.5292300962379,0)\" style=\"stroke: rgb(0, 0, 0); stroke-opacity: 1; stroke-width: 1px;\"/><path class=\"xtick ticks crisp\" d=\"M0,420.4322506561679v-5\" transform=\"translate(407.86923009623797,0)\" style=\"stroke: rgb(0, 0, 0); stroke-opacity: 1; stroke-width: 1px;\"/><path class=\"xtick ticks crisp\" d=\"M0,420.4322506561679v-5\" transform=\"translate(296.209230096238,0)\" style=\"stroke: rgb(0, 0, 0); stroke-opacity: 1; stroke-width: 1px;\"/><path class=\"xtick ticks crisp\" d=\"M0,420.4322506561679v-5\" transform=\"translate(184.55923009623797,0)\" style=\"stroke: rgb(0, 0, 0); stroke-opacity: 1; stroke-width: 1px;\"/><g class=\"xtick\"><text text-anchor=\"middle\" x=\"0\" y=\"434.6322506561679\" transform=\"translate(631.1892300962379,0)\" style=\"font-family: sans-serif; font-size: 11px; fill: rgb(0, 0, 0); fill-opacity: 1; white-space: pre;\">0</text></g><g class=\"xtick\"><text text-anchor=\"middle\" x=\"0\" y=\"434.6322506561679\" transform=\"translate(519.5292300962379,0)\" style=\"font-family: sans-serif; font-size: 11px; fill: rgb(0, 0, 0); fill-opacity: 1; white-space: pre;\">1.0×10⁴</text></g><g class=\"xtick\"><text text-anchor=\"middle\" x=\"0\" y=\"434.6322506561679\" transform=\"translate(407.86923009623797,0)\" style=\"font-family: sans-serif; font-size: 11px; fill: rgb(0, 0, 0); fill-opacity: 1; white-space: pre;\">2.0×10⁴</text></g><g class=\"xtick\"><text text-anchor=\"middle\" x=\"0\" y=\"434.6322506561679\" transform=\"translate(296.209230096238,0)\" style=\"font-family: sans-serif; font-size: 11px; fill: rgb(0, 0, 0); fill-opacity: 1; white-space: pre;\">3.0×10⁴</text></g><g class=\"xtick\"><text text-anchor=\"middle\" x=\"0\" y=\"434.6322506561679\" transform=\"translate(184.55923009623797,0)\" style=\"font-family: sans-serif; font-size: 11px; fill: rgb(0, 0, 0); fill-opacity: 1; white-space: pre;\">4.0×10⁴</text></g></g><g class=\"yaxislayer-above\"><path class=\"ytick ticks crisp\" d=\"M113.65923009623796,0h5\" transform=\"translate(0,388.12691601049863)\" style=\"stroke: rgb(0, 0, 0); stroke-opacity: 1; stroke-width: 1px;\"/><path class=\"ytick ticks crisp\" d=\"M113.65923009623796,0h5\" transform=\"translate(0,331.24691601049864)\" style=\"stroke: rgb(0, 0, 0); stroke-opacity: 1; stroke-width: 1px;\"/><path class=\"ytick ticks crisp\" d=\"M113.65923009623796,0h5\" transform=\"translate(0,274.36691601049864)\" style=\"stroke: rgb(0, 0, 0); stroke-opacity: 1; stroke-width: 1px;\"/><path class=\"ytick ticks crisp\" d=\"M113.65923009623796,0h5\" transform=\"translate(0,217.48691601049865)\" style=\"stroke: rgb(0, 0, 0); stroke-opacity: 1; stroke-width: 1px;\"/><path class=\"ytick ticks crisp\" d=\"M113.65923009623796,0h5\" transform=\"translate(0,160.60691601049865)\" style=\"stroke: rgb(0, 0, 0); stroke-opacity: 1; stroke-width: 1px;\"/><path class=\"ytick ticks crisp\" d=\"M113.65923009623796,0h5\" transform=\"translate(0,103.72691601049866)\" style=\"stroke: rgb(0, 0, 0); stroke-opacity: 1; stroke-width: 1px;\"/><g class=\"ytick\"><text text-anchor=\"end\" x=\"110.45923009623796\" y=\"3.8499999999999996\" transform=\"translate(0,388.12691601049863)\" style=\"font-family: sans-serif; font-size: 11px; fill: rgb(0, 0, 0); fill-opacity: 1; white-space: pre;\">14.50</text></g><g class=\"ytick\"><text text-anchor=\"end\" x=\"110.45923009623796\" y=\"3.8499999999999996\" transform=\"translate(0,331.24691601049864)\" style=\"font-family: sans-serif; font-size: 11px; fill: rgb(0, 0, 0); fill-opacity: 1; white-space: pre;\">14.75</text></g><g class=\"ytick\"><text text-anchor=\"end\" x=\"110.45923009623796\" y=\"3.8499999999999996\" transform=\"translate(0,274.36691601049864)\" style=\"font-family: sans-serif; font-size: 11px; fill: rgb(0, 0, 0); fill-opacity: 1; white-space: pre;\">15.00</text></g><g class=\"ytick\"><text text-anchor=\"end\" x=\"110.45923009623796\" y=\"3.8499999999999996\" transform=\"translate(0,217.48691601049865)\" style=\"font-family: sans-serif; font-size: 11px; fill: rgb(0, 0, 0); fill-opacity: 1; white-space: pre;\">15.25</text></g><g class=\"ytick\"><text text-anchor=\"end\" x=\"110.45923009623796\" y=\"3.8499999999999996\" transform=\"translate(0,160.60691601049865)\" style=\"font-family: sans-serif; font-size: 11px; fill: rgb(0, 0, 0); fill-opacity: 1; white-space: pre;\">15.50</text></g><g class=\"ytick\"><text text-anchor=\"end\" x=\"110.45923009623796\" y=\"3.8499999999999996\" transform=\"translate(0,103.72691601049866)\" style=\"font-family: sans-serif; font-size: 11px; fill: rgb(0, 0, 0); fill-opacity: 1; white-space: pre;\">15.75</text></g></g><g class=\"overaxes-above\"/></g></g><g class=\"polarlayer\"/><g class=\"ternarylayer\"/><g class=\"geolayer\"/><g class=\"funnelarealayer\"/><g class=\"pielayer\"/><g class=\"treemaplayer\"/><g class=\"sunburstlayer\"/><g class=\"glimages\"/><defs id=\"topdefs-9c7fd6\"><g class=\"clips\"/></defs><g class=\"layer-above\"><g class=\"imagelayer\"/><g class=\"shapelayer\"/></g><g class=\"infolayer\"><g class=\"g-gtitle\"/><g class=\"g-xtitle\"><text class=\"xtitle\" x=\"379.8611111111111\" y=\"462.640625\" text-anchor=\"middle\" style=\"font-family: sans-serif; font-size: 15px; fill: rgb(0, 0, 0); opacity: 1; font-weight: normal; white-space: pre;\">Number of Pirates [Approximate]</text></g><g class=\"g-ytitle\"><text class=\"ytitle\" transform=\"rotate(-90,57.421875,251.6145833333333)\" x=\"57.421875\" y=\"251.6145833333333\" text-anchor=\"middle\" style=\"font-family: sans-serif; font-size: 15px; fill: rgb(0, 0, 0); opacity: 1; font-weight: normal; white-space: pre;\">Global Temperature (C)</text></g><g class=\"annotation\" data-index=\"0\" style=\"opacity: 1;\"><g class=\"annotation-text-g\" transform=\"rotate(0,379.8611111111111,73.00000000000001)\"><g class=\"cursor-pointer\" transform=\"translate(165,60)\"><rect class=\"bg\" x=\"0.5\" y=\"0.5\" width=\"428\" height=\"25\" style=\"stroke-width: 1px; stroke: rgb(0, 0, 0); stroke-opacity: 0; fill: rgb(0, 0, 0); fill-opacity: 0;\"/><text class=\"annotation-text\" text-anchor=\"middle\" x=\"214.375\" y=\"20\" style=\"font-family: sans-serif; font-size: 20px; fill: rgb(0, 0, 0); fill-opacity: 1; white-space: pre;\">Influence of pirate population on global warming</text></g></g></g></g></svg>"
      ],
      "text/html": [
       "    <div id=\"a07662af-3e81-4929-8f8e-3bd0903a2af0\" style=\"width:600px;height:400px;\"></div>\n",
       "    <script>\n",
       "        requirejs.config({\n",
       "        paths: {\n",
       "            plotly: 'https://cdn.plot.ly/plotly-2.6.3.min'\n",
       "        }\n",
       "    });\n",
       "    require(['plotly'], function (Plotly) {\n",
       "\n",
       "    Plotly.newPlot('a07662af-3e81-4929-8f8e-3bd0903a2af0', [\n",
       "    {\n",
       "        \"showlegend\": true,\n",
       "        \"mode\": \"lines\",\n",
       "        \"xaxis\": \"x\",\n",
       "        \"colorbar\": {\n",
       "            \"y\": 0.5086805555555556,\n",
       "            \"title\": \"\",\n",
       "            \"len\": 0.8657316272965879,\n",
       "            \"x\": 0.9934383202099737\n",
       "        },\n",
       "        \"name\": \"y1\",\n",
       "        \"yaxis\": \"y\",\n",
       "        \"legendgroup\": \"y1\",\n",
       "        \"line\": {\n",
       "            \"color\": \"rgba(0, 154, 250, 1.000)\",\n",
       "            \"shape\": \"linear\",\n",
       "            \"dash\": \"solid\",\n",
       "            \"width\": 1\n",
       "        },\n",
       "        \"y\": [\n",
       "            14.4,\n",
       "            14.5,\n",
       "            14.8,\n",
       "            15.2,\n",
       "            15.5,\n",
       "            15.8\n",
       "        ],\n",
       "        \"type\": \"scatter\",\n",
       "        \"x\": [\n",
       "            45000.0,\n",
       "            20000.0,\n",
       "            15000.0,\n",
       "            5000.0,\n",
       "            400.0,\n",
       "            17.0\n",
       "        ]\n",
       "    },\n",
       "    {\n",
       "        \"showlegend\": true,\n",
       "        \"mode\": \"markers\",\n",
       "        \"xaxis\": \"x\",\n",
       "        \"colorbar\": {\n",
       "            \"y\": 0.5086805555555556,\n",
       "            \"title\": \"\",\n",
       "            \"len\": 0.8657316272965879,\n",
       "            \"x\": 0.9934383202099737\n",
       "        },\n",
       "        \"name\": \"y2\",\n",
       "        \"yaxis\": \"y\",\n",
       "        \"legendgroup\": \"y2\",\n",
       "        \"marker\": {\n",
       "            \"symbol\": \"circle\",\n",
       "            \"color\": \"rgba(227, 111, 71, 1.000)\",\n",
       "            \"line\": {\n",
       "                \"color\": \"rgba(0, 0, 0, 1.000)\",\n",
       "                \"width\": 1\n",
       "            },\n",
       "            \"size\": 8\n",
       "        },\n",
       "        \"y\": [\n",
       "            14.4,\n",
       "            14.5,\n",
       "            14.8,\n",
       "            15.2,\n",
       "            15.5,\n",
       "            15.8\n",
       "        ],\n",
       "        \"type\": \"scatter\",\n",
       "        \"x\": [\n",
       "            45000.0,\n",
       "            20000.0,\n",
       "            15000.0,\n",
       "            5000.0,\n",
       "            400.0,\n",
       "            17.0\n",
       "        ]\n",
       "    }\n",
       "]\n",
       ", {\n",
       "    \"showlegend\": false,\n",
       "    \"xaxis\": {\n",
       "        \"showticklabels\": true,\n",
       "        \"gridwidth\": 0.5,\n",
       "        \"tickvals\": [\n",
       "            0.0,\n",
       "            10000.0,\n",
       "            20000.0,\n",
       "            30000.0,\n",
       "            40000.0\n",
       "        ],\n",
       "        \"range\": [\n",
       "            46349.490000000005,\n",
       "            -1332.4900000000016\n",
       "        ],\n",
       "        \"domain\": [\n",
       "            0.10609871682706327,\n",
       "            0.9934383202099737\n",
       "        ],\n",
       "        \"mirror\": false,\n",
       "        \"tickangle\": 0,\n",
       "        \"showline\": true,\n",
       "        \"ticktext\": [\n",
       "            \"0\",\n",
       "            \"1.0×10⁴\",\n",
       "            \"2.0×10⁴\",\n",
       "            \"3.0×10⁴\",\n",
       "            \"4.0×10⁴\"\n",
       "        ],\n",
       "        \"zeroline\": false,\n",
       "        \"tickfont\": {\n",
       "            \"color\": \"rgba(0, 0, 0, 1.000)\",\n",
       "            \"family\": \"sans-serif\",\n",
       "            \"size\": 11\n",
       "        },\n",
       "        \"zerolinecolor\": \"rgba(0, 0, 0, 1.000)\",\n",
       "        \"anchor\": \"y\",\n",
       "        \"visible\": true,\n",
       "        \"ticks\": \"inside\",\n",
       "        \"tickmode\": \"array\",\n",
       "        \"linecolor\": \"rgba(0, 0, 0, 1.000)\",\n",
       "        \"showgrid\": true,\n",
       "        \"title\": \"Number of Pirates [Approximate]\",\n",
       "        \"gridcolor\": \"rgba(0, 0, 0, 0.100)\",\n",
       "        \"titlefont\": {\n",
       "            \"color\": \"rgba(0, 0, 0, 1.000)\",\n",
       "            \"family\": \"sans-serif\",\n",
       "            \"size\": 15\n",
       "        },\n",
       "        \"tickcolor\": \"rgb(0, 0, 0)\",\n",
       "        \"type\": \"-\"\n",
       "    },\n",
       "    \"paper_bgcolor\": \"rgba(255, 255, 255, 1.000)\",\n",
       "    \"annotations\": [\n",
       "        {\n",
       "            \"yanchor\": \"top\",\n",
       "            \"xanchor\": \"center\",\n",
       "            \"rotation\": -0.0,\n",
       "            \"y\": 1.0,\n",
       "            \"font\": {\n",
       "                \"color\": \"rgba(0, 0, 0, 1.000)\",\n",
       "                \"family\": \"sans-serif\",\n",
       "                \"size\": 20\n",
       "            },\n",
       "            \"yref\": \"paper\",\n",
       "            \"showarrow\": false,\n",
       "            \"text\": \"Influence of pirate population on global warming\",\n",
       "            \"xref\": \"paper\",\n",
       "            \"x\": 0.5497685185185185\n",
       "        }\n",
       "    ],\n",
       "    \"height\": 400,\n",
       "    \"margin\": {\n",
       "        \"l\": 0,\n",
       "        \"b\": 20,\n",
       "        \"r\": 0,\n",
       "        \"t\": 20\n",
       "    },\n",
       "    \"plot_bgcolor\": \"rgba(255, 255, 255, 1.000)\",\n",
       "    \"yaxis\": {\n",
       "        \"showticklabels\": true,\n",
       "        \"gridwidth\": 0.5,\n",
       "        \"tickvals\": [\n",
       "            14.5,\n",
       "            14.75,\n",
       "            15.0,\n",
       "            15.25,\n",
       "            15.5,\n",
       "            15.75\n",
       "        ],\n",
       "        \"range\": [\n",
       "            14.358,\n",
       "            15.842000000000002\n",
       "        ],\n",
       "        \"domain\": [\n",
       "            0.07581474190726165,\n",
       "            0.9415463692038496\n",
       "        ],\n",
       "        \"mirror\": false,\n",
       "        \"tickangle\": 0,\n",
       "        \"showline\": true,\n",
       "        \"ticktext\": [\n",
       "            \"14.50\",\n",
       "            \"14.75\",\n",
       "            \"15.00\",\n",
       "            \"15.25\",\n",
       "            \"15.50\",\n",
       "            \"15.75\"\n",
       "        ],\n",
       "        \"zeroline\": false,\n",
       "        \"tickfont\": {\n",
       "            \"color\": \"rgba(0, 0, 0, 1.000)\",\n",
       "            \"family\": \"sans-serif\",\n",
       "            \"size\": 11\n",
       "        },\n",
       "        \"zerolinecolor\": \"rgba(0, 0, 0, 1.000)\",\n",
       "        \"anchor\": \"x\",\n",
       "        \"visible\": true,\n",
       "        \"ticks\": \"inside\",\n",
       "        \"tickmode\": \"array\",\n",
       "        \"linecolor\": \"rgba(0, 0, 0, 1.000)\",\n",
       "        \"showgrid\": true,\n",
       "        \"title\": \"Global Temperature (C)\",\n",
       "        \"gridcolor\": \"rgba(0, 0, 0, 0.100)\",\n",
       "        \"titlefont\": {\n",
       "            \"color\": \"rgba(0, 0, 0, 1.000)\",\n",
       "            \"family\": \"sans-serif\",\n",
       "            \"size\": 15\n",
       "        },\n",
       "        \"tickcolor\": \"rgb(0, 0, 0)\",\n",
       "        \"type\": \"-\"\n",
       "    },\n",
       "    \"width\": 600\n",
       "}\n",
       ");\n",
       "    });\n",
       "    </script>\n"
      ]
     },
     "execution_count": 155,
     "metadata": {},
     "output_type": "execute_result"
    }
   ],
   "source": [
    "# First, plot the data\n",
    "plot(numpirates, globaltemperatures, legend=false)\n",
    "scatter!(numpirates, globaltemperatures, legend=false)\n",
    "\n",
    "# This reverses x axis we can see how the temperature chnages as\n",
    "xflip!()\n",
    "\n",
    "xlabel!(\"Number of Pirates [Approximate]\")\n",
    "ylabel!(\"Global Temperature (C)\")\n",
    "title!(\"Influence of pirate population on global warming\")"
   ]
  },
  {
   "cell_type": "code",
   "execution_count": 159,
   "id": "f2595284",
   "metadata": {},
   "outputs": [
    {
     "data": {
      "application/vnd.plotly.v1+json": {
       "data": [
        {
         "colorbar": {
          "len": 0.4525371828521435,
          "title": "",
          "x": 0.500845727617381,
          "y": 0.7638888888888888
         },
         "legendgroup": "y1",
         "line": {
          "color": "rgba(0, 154, 250, 1.000)",
          "dash": "solid",
          "shape": "linear",
          "width": 1
         },
         "mode": "lines",
         "name": "y1",
         "showlegend": true,
         "type": "scatter",
         "x": [
          -3,
          -2.9,
          -2.8,
          -2.7,
          -2.6,
          -2.5,
          -2.4,
          -2.3,
          -2.2,
          -2.1,
          -2,
          -1.9,
          -1.8,
          -1.7,
          -1.6,
          -1.5,
          -1.4,
          -1.3,
          -1.2,
          -1.1,
          -1,
          -0.9,
          -0.8,
          -0.7,
          -0.6,
          -0.5,
          -0.4,
          -0.3,
          -0.2,
          -0.1,
          0,
          0.1,
          0.2,
          0.3,
          0.4,
          0.5,
          0.6,
          0.7,
          0.8,
          0.9,
          1,
          1.1,
          1.2,
          1.3,
          1.4,
          1.5,
          1.6,
          1.7,
          1.8,
          1.9,
          2,
          2.1,
          2.2,
          2.3,
          2.4,
          2.5,
          2.6,
          2.7,
          2.8,
          2.9,
          3
         ],
         "xaxis": "x1",
         "y": [
          -3,
          -2.9,
          -2.8,
          -2.7,
          -2.6,
          -2.5,
          -2.4,
          -2.3,
          -2.2,
          -2.1,
          -2,
          -1.9,
          -1.8,
          -1.7,
          -1.6,
          -1.5,
          -1.4,
          -1.3,
          -1.2,
          -1.1,
          -1,
          -0.9,
          -0.8,
          -0.7,
          -0.6,
          -0.5,
          -0.4,
          -0.3,
          -0.2,
          -0.1,
          0,
          0.1,
          0.2,
          0.3,
          0.4,
          0.5,
          0.6,
          0.7,
          0.8,
          0.9,
          1,
          1.1,
          1.2,
          1.3,
          1.4,
          1.5,
          1.6,
          1.7,
          1.8,
          1.9,
          2,
          2.1,
          2.2,
          2.3,
          2.4,
          2.5,
          2.6,
          2.7,
          2.8,
          2.9,
          3
         ],
         "yaxis": "y1"
        },
        {
         "colorbar": {
          "len": 0.4525371828521435,
          "title": "",
          "x": 0.9934383202099737,
          "y": 0.7638888888888888
         },
         "legendgroup": "y1",
         "line": {
          "color": "rgba(0, 154, 250, 1.000)",
          "dash": "solid",
          "shape": "linear",
          "width": 1
         },
         "mode": "lines",
         "name": "y1",
         "showlegend": true,
         "type": "scatter",
         "x": [
          -3,
          -2.9,
          -2.8,
          -2.7,
          -2.6,
          -2.5,
          -2.4,
          -2.3,
          -2.2,
          -2.1,
          -2,
          -1.9,
          -1.8,
          -1.7,
          -1.6,
          -1.5,
          -1.4,
          -1.3,
          -1.2,
          -1.1,
          -1,
          -0.9,
          -0.8,
          -0.7,
          -0.6,
          -0.5,
          -0.4,
          -0.3,
          -0.2,
          -0.1,
          0,
          0.1,
          0.2,
          0.3,
          0.4,
          0.5,
          0.6,
          0.7,
          0.8,
          0.9,
          1,
          1.1,
          1.2,
          1.3,
          1.4,
          1.5,
          1.6,
          1.7,
          1.8,
          1.9,
          2,
          2.1,
          2.2,
          2.3,
          2.4,
          2.5,
          2.6,
          2.7,
          2.8,
          2.9,
          3
         ],
         "xaxis": "x2",
         "y": [
          9,
          8.41,
          7.839999999999999,
          7.290000000000001,
          6.760000000000001,
          6.25,
          5.76,
          5.289999999999999,
          4.840000000000001,
          4.41,
          4,
          3.61,
          3.24,
          2.8899999999999997,
          2.5600000000000005,
          2.25,
          1.9599999999999997,
          1.6900000000000002,
          1.44,
          1.2100000000000002,
          1,
          0.81,
          0.6400000000000001,
          0.48999999999999994,
          0.36,
          0.25,
          0.16000000000000003,
          0.09,
          0.04000000000000001,
          0.010000000000000002,
          0,
          0.010000000000000002,
          0.04000000000000001,
          0.09,
          0.16000000000000003,
          0.25,
          0.36,
          0.48999999999999994,
          0.6400000000000001,
          0.81,
          1,
          1.2100000000000002,
          1.44,
          1.6900000000000002,
          1.9599999999999997,
          2.25,
          2.5600000000000005,
          2.8899999999999997,
          3.24,
          3.61,
          4,
          4.41,
          4.840000000000001,
          5.289999999999999,
          5.76,
          6.25,
          6.760000000000001,
          7.290000000000001,
          7.839999999999999,
          8.41,
          9
         ],
         "yaxis": "y2"
        },
        {
         "colorbar": {
          "len": 0.45253718285214345,
          "title": "",
          "x": 0.500845727617381,
          "y": 0.2638888888888889
         },
         "legendgroup": "y1",
         "line": {
          "color": "rgba(0, 154, 250, 1.000)",
          "dash": "solid",
          "shape": "linear",
          "width": 1
         },
         "mode": "lines",
         "name": "y1",
         "showlegend": true,
         "type": "scatter",
         "x": [
          -3,
          -2.9,
          -2.8,
          -2.7,
          -2.6,
          -2.5,
          -2.4,
          -2.3,
          -2.2,
          -2.1,
          -2,
          -1.9,
          -1.8,
          -1.7,
          -1.6,
          -1.5,
          -1.4,
          -1.3,
          -1.2,
          -1.1,
          -1,
          -0.9,
          -0.8,
          -0.7,
          -0.6,
          -0.5,
          -0.4,
          -0.3,
          -0.2,
          -0.1,
          0,
          0.1,
          0.2,
          0.3,
          0.4,
          0.5,
          0.6,
          0.7,
          0.8,
          0.9,
          1,
          1.1,
          1.2,
          1.3,
          1.4,
          1.5,
          1.6,
          1.7,
          1.8,
          1.9,
          2,
          2.1,
          2.2,
          2.3,
          2.4,
          2.5,
          2.6,
          2.7,
          2.8,
          2.9,
          3
         ],
         "xaxis": "x3",
         "y": [
          -27,
          -24.389,
          -21.951999999999995,
          -19.683000000000003,
          -17.576000000000004,
          -15.625,
          -13.824,
          -12.166999999999996,
          -10.648000000000003,
          -9.261000000000001,
          -8,
          -6.858999999999999,
          -5.832000000000001,
          -4.912999999999999,
          -4.096000000000001,
          -3.375,
          -2.7439999999999993,
          -2.1970000000000005,
          -1.728,
          -1.3310000000000004,
          -1,
          -0.7290000000000001,
          -0.5120000000000001,
          -0.3429999999999999,
          -0.216,
          -0.125,
          -0.06400000000000002,
          -0.027,
          -0.008000000000000002,
          -0.0010000000000000002,
          0,
          0.0010000000000000002,
          0.008000000000000002,
          0.027,
          0.06400000000000002,
          0.125,
          0.216,
          0.3429999999999999,
          0.5120000000000001,
          0.7290000000000001,
          1,
          1.3310000000000004,
          1.728,
          2.1970000000000005,
          2.7439999999999993,
          3.375,
          4.096000000000001,
          4.912999999999999,
          5.832000000000001,
          6.858999999999999,
          8,
          9.261000000000001,
          10.648000000000003,
          12.166999999999996,
          13.824,
          15.625,
          17.576000000000004,
          19.683000000000003,
          21.951999999999995,
          24.389,
          27
         ],
         "yaxis": "y3"
        },
        {
         "colorbar": {
          "len": 0.45253718285214345,
          "title": "",
          "x": 0.9934383202099737,
          "y": 0.2638888888888889
         },
         "legendgroup": "y1",
         "line": {
          "color": "rgba(0, 154, 250, 1.000)",
          "dash": "solid",
          "shape": "linear",
          "width": 1
         },
         "mode": "lines",
         "name": "y1",
         "showlegend": true,
         "type": "scatter",
         "x": [
          -3,
          -2.9,
          -2.8,
          -2.7,
          -2.6,
          -2.5,
          -2.4,
          -2.3,
          -2.2,
          -2.1,
          -2,
          -1.9,
          -1.8,
          -1.7,
          -1.6,
          -1.5,
          -1.4,
          -1.3,
          -1.2,
          -1.1,
          -1,
          -0.9,
          -0.8,
          -0.7,
          -0.6,
          -0.5,
          -0.4,
          -0.3,
          -0.2,
          -0.1,
          0,
          0.1,
          0.2,
          0.3,
          0.4,
          0.5,
          0.6,
          0.7,
          0.8,
          0.9,
          1,
          1.1,
          1.2,
          1.3,
          1.4,
          1.5,
          1.6,
          1.7,
          1.8,
          1.9,
          2,
          2.1,
          2.2,
          2.3,
          2.4,
          2.5,
          2.6,
          2.7,
          2.8,
          2.9,
          3
         ],
         "xaxis": "x4",
         "y": [
          81,
          70.7281,
          61.46559999999999,
          53.144100000000016,
          45.69760000000001,
          39.0625,
          33.1776,
          27.98409999999999,
          23.425600000000006,
          19.448100000000004,
          16,
          13.032099999999998,
          10.4976,
          8.352099999999998,
          6.553600000000001,
          5.0625,
          3.8415999999999992,
          2.8561000000000005,
          2.0736,
          1.4641000000000004,
          1,
          0.6561,
          0.4096000000000001,
          0.24009999999999995,
          0.1296,
          0.0625,
          0.025600000000000005,
          0.0081,
          0.0016000000000000003,
          0.00010000000000000002,
          0,
          0.00010000000000000002,
          0.0016000000000000003,
          0.0081,
          0.025600000000000005,
          0.0625,
          0.1296,
          0.24009999999999995,
          0.4096000000000001,
          0.6561,
          1,
          1.4641000000000004,
          2.0736,
          2.8561000000000005,
          3.8415999999999992,
          5.0625,
          6.553600000000001,
          8.352099999999998,
          10.4976,
          13.032099999999998,
          16,
          19.448100000000004,
          23.425600000000006,
          27.98409999999999,
          33.1776,
          39.0625,
          45.69760000000001,
          53.144100000000016,
          61.46559999999999,
          70.7281,
          81
         ],
         "yaxis": "y4"
        }
       ],
       "layout": {
        "annotations": [],
        "height": 400,
        "margin": {
         "b": 20,
         "l": 0,
         "r": 0,
         "t": 20
        },
        "paper_bgcolor": "rgba(255, 255, 255, 1.000)",
        "plot_bgcolor": "rgba(255, 255, 255, 1.000)",
        "showlegend": false,
        "width": 600,
        "xaxis1": {
         "anchor": "y1",
         "domain": [
          0.05100612423447069,
          0.500845727617381
         ],
         "gridcolor": "rgba(0, 0, 0, 0.100)",
         "gridwidth": 0.5,
         "linecolor": "rgba(0, 0, 0, 1.000)",
         "mirror": false,
         "range": [
          -3.18,
          3.18
         ],
         "showgrid": true,
         "showline": true,
         "showticklabels": true,
         "tickangle": 0,
         "tickcolor": "rgb(0, 0, 0)",
         "tickfont": {
          "color": "rgba(0, 0, 0, 1.000)",
          "family": "sans-serif",
          "size": 11
         },
         "tickmode": "array",
         "ticks": "inside",
         "ticktext": [
          "-3",
          "-2",
          "-1",
          "0",
          "1",
          "2",
          "3"
         ],
         "tickvals": [
          -3,
          -2,
          -1,
          0,
          1,
          2,
          3
         ],
         "title": "",
         "titlefont": {
          "color": "rgba(0, 0, 0, 1.000)",
          "family": "sans-serif",
          "size": 15
         },
         "type": "-",
         "visible": true,
         "zeroline": false,
         "zerolinecolor": "rgba(0, 0, 0, 1.000)"
        },
        "xaxis2": {
         "anchor": "y2",
         "domain": [
          0.5435987168270632,
          0.9934383202099737
         ],
         "gridcolor": "rgba(0, 0, 0, 0.100)",
         "gridwidth": 0.5,
         "linecolor": "rgba(0, 0, 0, 1.000)",
         "mirror": false,
         "range": [
          -3.18,
          3.18
         ],
         "showgrid": true,
         "showline": true,
         "showticklabels": true,
         "tickangle": 0,
         "tickcolor": "rgb(0, 0, 0)",
         "tickfont": {
          "color": "rgba(0, 0, 0, 1.000)",
          "family": "sans-serif",
          "size": 11
         },
         "tickmode": "array",
         "ticks": "inside",
         "ticktext": [
          "-3",
          "-2",
          "-1",
          "0",
          "1",
          "2",
          "3"
         ],
         "tickvals": [
          -3,
          -2,
          -1,
          0,
          1,
          2,
          3
         ],
         "title": "",
         "titlefont": {
          "color": "rgba(0, 0, 0, 1.000)",
          "family": "sans-serif",
          "size": 15
         },
         "type": "-",
         "visible": true,
         "zeroline": false,
         "zerolinecolor": "rgba(0, 0, 0, 1.000)"
        },
        "xaxis3": {
         "anchor": "y3",
         "domain": [
          0.05100612423447069,
          0.500845727617381
         ],
         "gridcolor": "rgba(0, 0, 0, 0.100)",
         "gridwidth": 0.5,
         "linecolor": "rgba(0, 0, 0, 1.000)",
         "mirror": false,
         "range": [
          -3.18,
          3.18
         ],
         "showgrid": true,
         "showline": true,
         "showticklabels": true,
         "tickangle": 0,
         "tickcolor": "rgb(0, 0, 0)",
         "tickfont": {
          "color": "rgba(0, 0, 0, 1.000)",
          "family": "sans-serif",
          "size": 11
         },
         "tickmode": "array",
         "ticks": "inside",
         "ticktext": [
          "-3",
          "-2",
          "-1",
          "0",
          "1",
          "2",
          "3"
         ],
         "tickvals": [
          -3,
          -2,
          -1,
          0,
          1,
          2,
          3
         ],
         "title": "",
         "titlefont": {
          "color": "rgba(0, 0, 0, 1.000)",
          "family": "sans-serif",
          "size": 15
         },
         "type": "-",
         "visible": true,
         "zeroline": false,
         "zerolinecolor": "rgba(0, 0, 0, 1.000)"
        },
        "xaxis4": {
         "anchor": "y4",
         "domain": [
          0.5435987168270632,
          0.9934383202099737
         ],
         "gridcolor": "rgba(0, 0, 0, 0.100)",
         "gridwidth": 0.5,
         "linecolor": "rgba(0, 0, 0, 1.000)",
         "mirror": false,
         "range": [
          -3.18,
          3.18
         ],
         "showgrid": true,
         "showline": true,
         "showticklabels": true,
         "tickangle": 0,
         "tickcolor": "rgb(0, 0, 0)",
         "tickfont": {
          "color": "rgba(0, 0, 0, 1.000)",
          "family": "sans-serif",
          "size": 11
         },
         "tickmode": "array",
         "ticks": "inside",
         "ticktext": [
          "-3",
          "-2",
          "-1",
          "0",
          "1",
          "2",
          "3"
         ],
         "tickvals": [
          -3,
          -2,
          -1,
          0,
          1,
          2,
          3
         ],
         "title": "",
         "titlefont": {
          "color": "rgba(0, 0, 0, 1.000)",
          "family": "sans-serif",
          "size": 15
         },
         "type": "-",
         "visible": true,
         "zeroline": false,
         "zerolinecolor": "rgba(0, 0, 0, 1.000)"
        },
        "yaxis1": {
         "anchor": "x1",
         "domain": [
          0.5376202974628171,
          0.9901574803149606
         ],
         "gridcolor": "rgba(0, 0, 0, 0.100)",
         "gridwidth": 0.5,
         "linecolor": "rgba(0, 0, 0, 1.000)",
         "mirror": false,
         "range": [
          -3.18,
          3.18
         ],
         "showgrid": true,
         "showline": true,
         "showticklabels": true,
         "tickangle": 0,
         "tickcolor": "rgb(0, 0, 0)",
         "tickfont": {
          "color": "rgba(0, 0, 0, 1.000)",
          "family": "sans-serif",
          "size": 11
         },
         "tickmode": "array",
         "ticks": "inside",
         "ticktext": [
          "-3",
          "-2",
          "-1",
          "0",
          "1",
          "2",
          "3"
         ],
         "tickvals": [
          -3,
          -2,
          -1,
          0,
          1,
          2,
          3
         ],
         "title": "",
         "titlefont": {
          "color": "rgba(0, 0, 0, 1.000)",
          "family": "sans-serif",
          "size": 15
         },
         "type": "-",
         "visible": true,
         "zeroline": false,
         "zerolinecolor": "rgba(0, 0, 0, 1.000)"
        },
        "yaxis2": {
         "anchor": "x2",
         "domain": [
          0.5376202974628171,
          0.9901574803149606
         ],
         "gridcolor": "rgba(0, 0, 0, 0.100)",
         "gridwidth": 0.5,
         "linecolor": "rgba(0, 0, 0, 1.000)",
         "mirror": false,
         "range": [
          -0.27000000000000046,
          9.27
         ],
         "showgrid": true,
         "showline": true,
         "showticklabels": true,
         "tickangle": 0,
         "tickcolor": "rgb(0, 0, 0)",
         "tickfont": {
          "color": "rgba(0, 0, 0, 1.000)",
          "family": "sans-serif",
          "size": 11
         },
         "tickmode": "array",
         "ticks": "inside",
         "ticktext": [
          "0",
          "2",
          "4",
          "6",
          "8"
         ],
         "tickvals": [
          0,
          2,
          4,
          6,
          8
         ],
         "title": "",
         "titlefont": {
          "color": "rgba(0, 0, 0, 1.000)",
          "family": "sans-serif",
          "size": 15
         },
         "type": "-",
         "visible": true,
         "zeroline": false,
         "zerolinecolor": "rgba(0, 0, 0, 1.000)"
        },
        "yaxis3": {
         "anchor": "x3",
         "domain": [
          0.03762029746281716,
          0.4901574803149606
         ],
         "gridcolor": "rgba(0, 0, 0, 0.100)",
         "gridwidth": 0.5,
         "linecolor": "rgba(0, 0, 0, 1.000)",
         "mirror": false,
         "range": [
          -28.62,
          28.62
         ],
         "showgrid": true,
         "showline": true,
         "showticklabels": true,
         "tickangle": 0,
         "tickcolor": "rgb(0, 0, 0)",
         "tickfont": {
          "color": "rgba(0, 0, 0, 1.000)",
          "family": "sans-serif",
          "size": 11
         },
         "tickmode": "array",
         "ticks": "inside",
         "ticktext": [
          "-20",
          "-10",
          "0",
          "10",
          "20"
         ],
         "tickvals": [
          -20,
          -10,
          0,
          10,
          20
         ],
         "title": "",
         "titlefont": {
          "color": "rgba(0, 0, 0, 1.000)",
          "family": "sans-serif",
          "size": 15
         },
         "type": "-",
         "visible": true,
         "zeroline": false,
         "zerolinecolor": "rgba(0, 0, 0, 1.000)"
        },
        "yaxis4": {
         "anchor": "x4",
         "domain": [
          0.03762029746281716,
          0.4901574803149606
         ],
         "gridcolor": "rgba(0, 0, 0, 0.100)",
         "gridwidth": 0.5,
         "linecolor": "rgba(0, 0, 0, 1.000)",
         "mirror": false,
         "range": [
          -2.4299999999999997,
          83.43
         ],
         "showgrid": true,
         "showline": true,
         "showticklabels": true,
         "tickangle": 0,
         "tickcolor": "rgb(0, 0, 0)",
         "tickfont": {
          "color": "rgba(0, 0, 0, 1.000)",
          "family": "sans-serif",
          "size": 11
         },
         "tickmode": "array",
         "ticks": "inside",
         "ticktext": [
          "0",
          "20",
          "40",
          "60",
          "80"
         ],
         "tickvals": [
          0,
          20,
          40,
          60,
          80
         ],
         "title": "",
         "titlefont": {
          "color": "rgba(0, 0, 0, 1.000)",
          "family": "sans-serif",
          "size": 15
         },
         "type": "-",
         "visible": true,
         "zeroline": false,
         "zerolinecolor": "rgba(0, 0, 0, 1.000)"
        }
       }
      },
      "image/png": "[encoded data removed]",
      "image/svg+xml": [
       "<svg class=\"main-svg\" xmlns=\"http://www.w3.org/2000/svg\" xmlns:xlink=\"http://www.w3.org/1999/xlink\" width=\"700\" height=\"500\" style=\"\" viewBox=\"0 0 700 500\"><rect x=\"0\" y=\"0\" width=\"700\" height=\"500\" style=\"fill: rgb(255, 255, 255); fill-opacity: 1;\"/><defs id=\"defs-9ec0fb\"><g class=\"clips\"><clipPath id=\"clip9ec0fbxyplot\" class=\"plotclip\"><rect width=\"269.9037620297462\" height=\"176.48950131233596\"/></clipPath><clipPath id=\"clip9ec0fbx2y2plot\" class=\"plotclip\"><rect width=\"269.9037620297463\" height=\"176.48950131233596\"/></clipPath><clipPath id=\"clip9ec0fbx3y3plot\" class=\"plotclip\"><rect width=\"269.9037620297462\" height=\"176.48950131233593\"/></clipPath><clipPath id=\"clip9ec0fbx4y4plot\" class=\"plotclip\"><rect width=\"269.9037620297463\" height=\"176.48950131233593\"/></clipPath><clipPath class=\"axesclip\" id=\"clip9ec0fbx\"><rect x=\"80.60367454068242\" y=\"0\" width=\"269.9037620297462\" height=\"500\"/></clipPath><clipPath class=\"axesclip\" id=\"clip9ec0fby\"><rect x=\"0\" y=\"63.83858267716535\" width=\"700\" height=\"176.48950131233596\"/></clipPath><clipPath class=\"axesclip\" id=\"clip9ec0fbxy\"><rect x=\"80.60367454068242\" y=\"63.83858267716535\" width=\"269.9037620297462\" height=\"176.48950131233596\"/></clipPath><clipPath class=\"axesclip\" id=\"clip9ec0fby2\"><rect x=\"0\" y=\"63.83858267716535\" width=\"700\" height=\"176.48950131233596\"/></clipPath><clipPath class=\"axesclip\" id=\"clip9ec0fbxy2\"><rect x=\"80.60367454068242\" y=\"63.83858267716535\" width=\"269.9037620297462\" height=\"176.48950131233596\"/></clipPath><clipPath class=\"axesclip\" id=\"clip9ec0fby3\"><rect x=\"0\" y=\"258.83858267716533\" width=\"700\" height=\"176.48950131233593\"/></clipPath><clipPath class=\"axesclip\" id=\"clip9ec0fbxy3\"><rect x=\"80.60367454068242\" y=\"258.83858267716533\" width=\"269.9037620297462\" height=\"176.48950131233593\"/></clipPath><clipPath class=\"axesclip\" id=\"clip9ec0fby4\"><rect x=\"0\" y=\"258.83858267716533\" width=\"700\" height=\"176.48950131233593\"/></clipPath><clipPath class=\"axesclip\" id=\"clip9ec0fbxy4\"><rect x=\"80.60367454068242\" y=\"258.83858267716533\" width=\"269.9037620297462\" height=\"176.48950131233593\"/></clipPath><clipPath class=\"axesclip\" id=\"clip9ec0fbx2\"><rect x=\"376.15923009623793\" y=\"0\" width=\"269.9037620297463\" height=\"500\"/></clipPath><clipPath class=\"axesclip\" id=\"clip9ec0fbx2y\"><rect x=\"376.15923009623793\" y=\"63.83858267716535\" width=\"269.9037620297463\" height=\"176.48950131233596\"/></clipPath><clipPath class=\"axesclip\" id=\"clip9ec0fbx2y2\"><rect x=\"376.15923009623793\" y=\"63.83858267716535\" width=\"269.9037620297463\" height=\"176.48950131233596\"/></clipPath><clipPath class=\"axesclip\" id=\"clip9ec0fbx2y3\"><rect x=\"376.15923009623793\" y=\"258.83858267716533\" width=\"269.9037620297463\" height=\"176.48950131233593\"/></clipPath><clipPath class=\"axesclip\" id=\"clip9ec0fbx2y4\"><rect x=\"376.15923009623793\" y=\"258.83858267716533\" width=\"269.9037620297463\" height=\"176.48950131233593\"/></clipPath><clipPath class=\"axesclip\" id=\"clip9ec0fbx3\"><rect x=\"80.60367454068242\" y=\"0\" width=\"269.9037620297462\" height=\"500\"/></clipPath><clipPath class=\"axesclip\" id=\"clip9ec0fbx3y\"><rect x=\"80.60367454068242\" y=\"63.83858267716535\" width=\"269.9037620297462\" height=\"176.48950131233596\"/></clipPath><clipPath class=\"axesclip\" id=\"clip9ec0fbx3y2\"><rect x=\"80.60367454068242\" y=\"63.83858267716535\" width=\"269.9037620297462\" height=\"176.48950131233596\"/></clipPath><clipPath class=\"axesclip\" id=\"clip9ec0fbx3y3\"><rect x=\"80.60367454068242\" y=\"258.83858267716533\" width=\"269.9037620297462\" height=\"176.48950131233593\"/></clipPath><clipPath class=\"axesclip\" id=\"clip9ec0fbx3y4\"><rect x=\"80.60367454068242\" y=\"258.83858267716533\" width=\"269.9037620297462\" height=\"176.48950131233593\"/></clipPath><clipPath class=\"axesclip\" id=\"clip9ec0fbx4\"><rect x=\"376.15923009623793\" y=\"0\" width=\"269.9037620297463\" height=\"500\"/></clipPath><clipPath class=\"axesclip\" id=\"clip9ec0fbx4y\"><rect x=\"376.15923009623793\" y=\"63.83858267716535\" width=\"269.9037620297463\" height=\"176.48950131233596\"/></clipPath><clipPath class=\"axesclip\" id=\"clip9ec0fbx4y2\"><rect x=\"376.15923009623793\" y=\"63.83858267716535\" width=\"269.9037620297463\" height=\"176.48950131233596\"/></clipPath><clipPath class=\"axesclip\" id=\"clip9ec0fbx4y3\"><rect x=\"376.15923009623793\" y=\"258.83858267716533\" width=\"269.9037620297463\" height=\"176.48950131233593\"/></clipPath><clipPath class=\"axesclip\" id=\"clip9ec0fbx4y4\"><rect x=\"376.15923009623793\" y=\"258.83858267716533\" width=\"269.9037620297463\" height=\"176.48950131233593\"/></clipPath></g><g class=\"gradients\"/></defs><g class=\"bglayer\"/><g class=\"layer-below\"><g class=\"imagelayer\"/><g class=\"shapelayer\"/></g><g class=\"cartesianlayer\"><g class=\"subplot xy\"><g class=\"layer-subplot\"><g class=\"shapelayer\"/><g class=\"imagelayer\"/></g><g class=\"gridlayer\"><g class=\"x\"><path class=\"xgrid crisp\" transform=\"translate(88.24367454068242,0)\" d=\"M0,63.83858267716535v176.48950131233596\" style=\"stroke: rgb(0, 0, 0); stroke-opacity: 0.1; stroke-width: 0.5px;\"/><path class=\"xgrid crisp\" transform=\"translate(130.68367454068243,0)\" d=\"M0,63.83858267716535v176.48950131233596\" style=\"stroke: rgb(0, 0, 0); stroke-opacity: 0.1; stroke-width: 0.5px;\"/><path class=\"xgrid crisp\" transform=\"translate(173.11367454068244,0)\" d=\"M0,63.83858267716535v176.48950131233596\" style=\"stroke: rgb(0, 0, 0); stroke-opacity: 0.1; stroke-width: 0.5px;\"/><path class=\"xgrid crisp\" transform=\"translate(215.5536745406824,0)\" d=\"M0,63.83858267716535v176.48950131233596\" style=\"stroke: rgb(0, 0, 0); stroke-opacity: 0.1; stroke-width: 0.5px;\"/><path class=\"xgrid crisp\" transform=\"translate(257.9936745406824,0)\" d=\"M0,63.83858267716535v176.48950131233596\" style=\"stroke: rgb(0, 0, 0); stroke-opacity: 0.1; stroke-width: 0.5px;\"/><path class=\"xgrid crisp\" transform=\"translate(300.43367454068243,0)\" d=\"M0,63.83858267716535v176.48950131233596\" style=\"stroke: rgb(0, 0, 0); stroke-opacity: 0.1; stroke-width: 0.5px;\"/><path class=\"xgrid crisp\" transform=\"translate(342.8636745406824,0)\" d=\"M0,63.83858267716535v176.48950131233596\" style=\"stroke: rgb(0, 0, 0); stroke-opacity: 0.1; stroke-width: 0.5px;\"/></g><g class=\"y\"><path class=\"ygrid crisp\" transform=\"translate(0,235.32858267716534)\" d=\"M80.60367454068242,0h269.9037620297462\" style=\"stroke: rgb(0, 0, 0); stroke-opacity: 0.1; stroke-width: 0.5px;\"/><path class=\"ygrid crisp\" transform=\"translate(0,207.57858267716534)\" d=\"M80.60367454068242,0h269.9037620297462\" style=\"stroke: rgb(0, 0, 0); stroke-opacity: 0.1; stroke-width: 0.5px;\"/><path class=\"ygrid crisp\" transform=\"translate(0,179.82858267716534)\" d=\"M80.60367454068242,0h269.9037620297462\" style=\"stroke: rgb(0, 0, 0); stroke-opacity: 0.1; stroke-width: 0.5px;\"/><path class=\"ygrid crisp\" transform=\"translate(0,152.07858267716534)\" d=\"M80.60367454068242,0h269.9037620297462\" style=\"stroke: rgb(0, 0, 0); stroke-opacity: 0.1; stroke-width: 0.5px;\"/><path class=\"ygrid crisp\" transform=\"translate(0,124.32858267716534)\" d=\"M80.60367454068242,0h269.9037620297462\" style=\"stroke: rgb(0, 0, 0); stroke-opacity: 0.1; stroke-width: 0.5px;\"/><path class=\"ygrid crisp\" transform=\"translate(0,96.57858267716534)\" d=\"M80.60367454068242,0h269.9037620297462\" style=\"stroke: rgb(0, 0, 0); stroke-opacity: 0.1; stroke-width: 0.5px;\"/><path class=\"ygrid crisp\" transform=\"translate(0,68.82858267716534)\" d=\"M80.60367454068242,0h269.9037620297462\" style=\"stroke: rgb(0, 0, 0); stroke-opacity: 0.1; stroke-width: 0.5px;\"/></g></g><g class=\"zerolinelayer\"/><path class=\"xlines-below\"/><path class=\"ylines-below\"/><g class=\"overlines-below\"/><g class=\"xaxislayer-below\"/><g class=\"yaxislayer-below\"/><g class=\"overaxes-below\"/><g class=\"plot\" transform=\"translate(80.60367454068242,63.83858267716535)\" clip-path=\"url('#clip9ec0fbxyplot')\"><g class=\"scatterlayer mlayer\"><g class=\"trace scatter trace08a312\" style=\"stroke-miterlimit: 2; opacity: 1;\"><g class=\"fills\"/><g class=\"errorbars\"/><g class=\"lines\"><path class=\"js-line\" d=\"M7.64,171.49L262.26,4.99\" style=\"vector-effect: non-scaling-stroke; fill: none; stroke: rgb(0, 154, 250); stroke-opacity: 1; stroke-width: 1px; opacity: 1;\"/></g><g class=\"points\"/><g class=\"text\"/></g></g></g><g class=\"overplot\"/><path class=\"xlines-above crisp\" d=\"M79.60367454068242,240.8280839895013H350.5074365704286\" style=\"fill: none; stroke-width: 1px; stroke: rgb(0, 0, 0); stroke-opacity: 1;\"/><path class=\"ylines-above crisp\" d=\"M80.10367454068242,63.83858267716535V240.3280839895013\" style=\"fill: none; stroke-width: 1px; stroke: rgb(0, 0, 0); stroke-opacity: 1;\"/><g class=\"overlines-above\"/><g class=\"xaxislayer-above\"><path class=\"xtick ticks crisp\" d=\"M0,240.3280839895013v-5\" transform=\"translate(88.24367454068242,0)\" style=\"stroke: rgb(0, 0, 0); stroke-opacity: 1; stroke-width: 1px;\"/><path class=\"xtick ticks crisp\" d=\"M0,240.3280839895013v-5\" transform=\"translate(130.68367454068243,0)\" style=\"stroke: rgb(0, 0, 0); stroke-opacity: 1; stroke-width: 1px;\"/><path class=\"xtick ticks crisp\" d=\"M0,240.3280839895013v-5\" transform=\"translate(173.11367454068244,0)\" style=\"stroke: rgb(0, 0, 0); stroke-opacity: 1; stroke-width: 1px;\"/><path class=\"xtick ticks crisp\" d=\"M0,240.3280839895013v-5\" transform=\"translate(215.5536745406824,0)\" style=\"stroke: rgb(0, 0, 0); stroke-opacity: 1; stroke-width: 1px;\"/><path class=\"xtick ticks crisp\" d=\"M0,240.3280839895013v-5\" transform=\"translate(257.9936745406824,0)\" style=\"stroke: rgb(0, 0, 0); stroke-opacity: 1; stroke-width: 1px;\"/><path class=\"xtick ticks crisp\" d=\"M0,240.3280839895013v-5\" transform=\"translate(300.43367454068243,0)\" style=\"stroke: rgb(0, 0, 0); stroke-opacity: 1; stroke-width: 1px;\"/><path class=\"xtick ticks crisp\" d=\"M0,240.3280839895013v-5\" transform=\"translate(342.8636745406824,0)\" style=\"stroke: rgb(0, 0, 0); stroke-opacity: 1; stroke-width: 1px;\"/><g class=\"xtick\"><text text-anchor=\"middle\" x=\"0\" y=\"254.52808398950128\" transform=\"translate(88.24367454068242,0)\" style=\"font-family: sans-serif; font-size: 11px; fill: rgb(0, 0, 0); fill-opacity: 1; white-space: pre;\">-3</text></g><g class=\"xtick\"><text text-anchor=\"middle\" x=\"0\" y=\"254.52808398950128\" transform=\"translate(130.68367454068243,0)\" style=\"font-family: sans-serif; font-size: 11px; fill: rgb(0, 0, 0); fill-opacity: 1; white-space: pre;\">-2</text></g><g class=\"xtick\"><text text-anchor=\"middle\" x=\"0\" y=\"254.52808398950128\" transform=\"translate(173.11367454068244,0)\" style=\"font-family: sans-serif; font-size: 11px; fill: rgb(0, 0, 0); fill-opacity: 1; white-space: pre;\">-1</text></g><g class=\"xtick\"><text text-anchor=\"middle\" x=\"0\" y=\"254.52808398950128\" transform=\"translate(215.5536745406824,0)\" style=\"font-family: sans-serif; font-size: 11px; fill: rgb(0, 0, 0); fill-opacity: 1; white-space: pre;\">0</text></g><g class=\"xtick\"><text text-anchor=\"middle\" x=\"0\" y=\"254.52808398950128\" transform=\"translate(257.9936745406824,0)\" style=\"font-family: sans-serif; font-size: 11px; fill: rgb(0, 0, 0); fill-opacity: 1; white-space: pre;\">1</text></g><g class=\"xtick\"><text text-anchor=\"middle\" x=\"0\" y=\"254.52808398950128\" transform=\"translate(300.43367454068243,0)\" style=\"font-family: sans-serif; font-size: 11px; fill: rgb(0, 0, 0); fill-opacity: 1; white-space: pre;\">2</text></g><g class=\"xtick\"><text text-anchor=\"middle\" x=\"0\" y=\"254.52808398950128\" transform=\"translate(342.8636745406824,0)\" style=\"font-family: sans-serif; font-size: 11px; fill: rgb(0, 0, 0); fill-opacity: 1; white-space: pre;\">3</text></g></g><g class=\"yaxislayer-above\"><path class=\"ytick ticks crisp\" d=\"M80.60367454068242,0h5\" transform=\"translate(0,235.32858267716534)\" style=\"stroke: rgb(0, 0, 0); stroke-opacity: 1; stroke-width: 1px;\"/><path class=\"ytick ticks crisp\" d=\"M80.60367454068242,0h5\" transform=\"translate(0,207.57858267716534)\" style=\"stroke: rgb(0, 0, 0); stroke-opacity: 1; stroke-width: 1px;\"/><path class=\"ytick ticks crisp\" d=\"M80.60367454068242,0h5\" transform=\"translate(0,179.82858267716534)\" style=\"stroke: rgb(0, 0, 0); stroke-opacity: 1; stroke-width: 1px;\"/><path class=\"ytick ticks crisp\" d=\"M80.60367454068242,0h5\" transform=\"translate(0,152.07858267716534)\" style=\"stroke: rgb(0, 0, 0); stroke-opacity: 1; stroke-width: 1px;\"/><path class=\"ytick ticks crisp\" d=\"M80.60367454068242,0h5\" transform=\"translate(0,124.32858267716534)\" style=\"stroke: rgb(0, 0, 0); stroke-opacity: 1; stroke-width: 1px;\"/><path class=\"ytick ticks crisp\" d=\"M80.60367454068242,0h5\" transform=\"translate(0,96.57858267716534)\" style=\"stroke: rgb(0, 0, 0); stroke-opacity: 1; stroke-width: 1px;\"/><path class=\"ytick ticks crisp\" d=\"M80.60367454068242,0h5\" transform=\"translate(0,68.82858267716534)\" style=\"stroke: rgb(0, 0, 0); stroke-opacity: 1; stroke-width: 1px;\"/><g class=\"ytick\"><text text-anchor=\"end\" x=\"77.40367454068242\" y=\"3.8499999999999996\" transform=\"translate(0,235.32858267716534)\" style=\"font-family: sans-serif; font-size: 11px; fill: rgb(0, 0, 0); fill-opacity: 1; white-space: pre;\">-3</text></g><g class=\"ytick\"><text text-anchor=\"end\" x=\"77.40367454068242\" y=\"3.8499999999999996\" transform=\"translate(0,207.57858267716534)\" style=\"font-family: sans-serif; font-size: 11px; fill: rgb(0, 0, 0); fill-opacity: 1; white-space: pre;\">-2</text></g><g class=\"ytick\"><text text-anchor=\"end\" x=\"77.40367454068242\" y=\"3.8499999999999996\" transform=\"translate(0,179.82858267716534)\" style=\"font-family: sans-serif; font-size: 11px; fill: rgb(0, 0, 0); fill-opacity: 1; white-space: pre;\">-1</text></g><g class=\"ytick\"><text text-anchor=\"end\" x=\"77.40367454068242\" y=\"3.8499999999999996\" transform=\"translate(0,152.07858267716534)\" style=\"font-family: sans-serif; font-size: 11px; fill: rgb(0, 0, 0); fill-opacity: 1; white-space: pre;\">0</text></g><g class=\"ytick\"><text text-anchor=\"end\" x=\"77.40367454068242\" y=\"3.8499999999999996\" transform=\"translate(0,124.32858267716534)\" style=\"font-family: sans-serif; font-size: 11px; fill: rgb(0, 0, 0); fill-opacity: 1; white-space: pre;\">1</text></g><g class=\"ytick\"><text text-anchor=\"end\" x=\"77.40367454068242\" y=\"3.8499999999999996\" transform=\"translate(0,96.57858267716534)\" style=\"font-family: sans-serif; font-size: 11px; fill: rgb(0, 0, 0); fill-opacity: 1; white-space: pre;\">2</text></g><g class=\"ytick\"><text text-anchor=\"end\" x=\"77.40367454068242\" y=\"3.8499999999999996\" transform=\"translate(0,68.82858267716534)\" style=\"font-family: sans-serif; font-size: 11px; fill: rgb(0, 0, 0); fill-opacity: 1; white-space: pre;\">3</text></g></g><g class=\"overaxes-above\"/></g><g class=\"subplot x2y2\"><g class=\"layer-subplot\"><g class=\"shapelayer\"/><g class=\"imagelayer\"/></g><g class=\"gridlayer\"><g class=\"x2\"><path class=\"x2grid crisp\" transform=\"translate(383.7992300962379,0)\" d=\"M0,63.83858267716535v176.48950131233596\" style=\"stroke: rgb(0, 0, 0); stroke-opacity: 0.1; stroke-width: 0.5px;\"/><path class=\"x2grid crisp\" transform=\"translate(426.2392300962379,0)\" d=\"M0,63.83858267716535v176.48950131233596\" style=\"stroke: rgb(0, 0, 0); stroke-opacity: 0.1; stroke-width: 0.5px;\"/><path class=\"x2grid crisp\" transform=\"translate(468.6692300962379,0)\" d=\"M0,63.83858267716535v176.48950131233596\" style=\"stroke: rgb(0, 0, 0); stroke-opacity: 0.1; stroke-width: 0.5px;\"/><path class=\"x2grid crisp\" transform=\"translate(511.1092300962379,0)\" d=\"M0,63.83858267716535v176.48950131233596\" style=\"stroke: rgb(0, 0, 0); stroke-opacity: 0.1; stroke-width: 0.5px;\"/><path class=\"x2grid crisp\" transform=\"translate(553.5492300962379,0)\" d=\"M0,63.83858267716535v176.48950131233596\" style=\"stroke: rgb(0, 0, 0); stroke-opacity: 0.1; stroke-width: 0.5px;\"/><path class=\"x2grid crisp\" transform=\"translate(595.989230096238,0)\" d=\"M0,63.83858267716535v176.48950131233596\" style=\"stroke: rgb(0, 0, 0); stroke-opacity: 0.1; stroke-width: 0.5px;\"/><path class=\"x2grid crisp\" transform=\"translate(638.4192300962379,0)\" d=\"M0,63.83858267716535v176.48950131233596\" style=\"stroke: rgb(0, 0, 0); stroke-opacity: 0.1; stroke-width: 0.5px;\"/></g><g class=\"y2\"><path class=\"y2grid crisp\" transform=\"translate(0,235.32858267716534)\" d=\"M376.15923009623793,0h269.9037620297463\" style=\"stroke: rgb(0, 0, 0); stroke-opacity: 0.1; stroke-width: 0.5px;\"/><path class=\"y2grid crisp\" transform=\"translate(0,198.32858267716534)\" d=\"M376.15923009623793,0h269.9037620297463\" style=\"stroke: rgb(0, 0, 0); stroke-opacity: 0.1; stroke-width: 0.5px;\"/><path class=\"y2grid crisp\" transform=\"translate(0,161.32858267716534)\" d=\"M376.15923009623793,0h269.9037620297463\" style=\"stroke: rgb(0, 0, 0); stroke-opacity: 0.1; stroke-width: 0.5px;\"/><path class=\"y2grid crisp\" transform=\"translate(0,124.32858267716534)\" d=\"M376.15923009623793,0h269.9037620297463\" style=\"stroke: rgb(0, 0, 0); stroke-opacity: 0.1; stroke-width: 0.5px;\"/><path class=\"y2grid crisp\" transform=\"translate(0,87.32858267716534)\" d=\"M376.15923009623793,0h269.9037620297463\" style=\"stroke: rgb(0, 0, 0); stroke-opacity: 0.1; stroke-width: 0.5px;\"/></g></g><g class=\"zerolinelayer\"/><path class=\"xlines-below\"/><path class=\"ylines-below\"/><g class=\"overlines-below\"/><g class=\"xaxislayer-below\"/><g class=\"yaxislayer-below\"/><g class=\"overaxes-below\"/><g class=\"plot\" transform=\"translate(376.15923009623793,63.83858267716535)\" clip-path=\"url('#clip9ec0fbx2y2plot')\"><g class=\"scatterlayer mlayer\"><g class=\"trace scatter trace84ff38\" style=\"stroke-miterlimit: 2; opacity: 1;\"><g class=\"fills\"/><g class=\"errorbars\"/><g class=\"lines\"><path class=\"js-line\" d=\"M7.64,4.99L20.37,36.63L24.61,46.43L37.35,73.63L41.59,81.95L54.32,104.71L58.56,111.55L71.3,129.87L75.54,135.23L88.27,149.11L92.51,152.99L101,159.65L105.25,162.43L113.73,166.87L117.98,168.53L126.46,170.75L130.71,171.31L139.2,171.31L143.44,170.75L151.93,168.53L156.17,166.87L164.66,162.43L168.9,159.65L177.39,152.99L181.63,149.11L190.12,140.23L194.36,135.23L207.1,118.03L211.34,111.55L224.07,89.91L228.31,81.95L241.05,55.87L245.29,46.43L258.02,15.91L262.26,4.99\" style=\"vector-effect: non-scaling-stroke; fill: none; stroke: rgb(0, 154, 250); stroke-opacity: 1; stroke-width: 1px; opacity: 1;\"/></g><g class=\"points\"/><g class=\"text\"/></g></g></g><g class=\"overplot\"/><path class=\"xlines-above crisp\" d=\"M375.15923009623793,240.8280839895013H646.0629921259842\" style=\"fill: none; stroke-width: 1px; stroke: rgb(0, 0, 0); stroke-opacity: 1;\"/><path class=\"ylines-above crisp\" d=\"M375.65923009623793,63.83858267716535V240.3280839895013\" style=\"fill: none; stroke-width: 1px; stroke: rgb(0, 0, 0); stroke-opacity: 1;\"/><g class=\"overlines-above\"/><g class=\"xaxislayer-above\"><path class=\"x2tick ticks crisp\" d=\"M0,240.3280839895013v-5\" transform=\"translate(383.7992300962379,0)\" style=\"stroke: rgb(0, 0, 0); stroke-opacity: 1; stroke-width: 1px;\"/><path class=\"x2tick ticks crisp\" d=\"M0,240.3280839895013v-5\" transform=\"translate(426.2392300962379,0)\" style=\"stroke: rgb(0, 0, 0); stroke-opacity: 1; stroke-width: 1px;\"/><path class=\"x2tick ticks crisp\" d=\"M0,240.3280839895013v-5\" transform=\"translate(468.6692300962379,0)\" style=\"stroke: rgb(0, 0, 0); stroke-opacity: 1; stroke-width: 1px;\"/><path class=\"x2tick ticks crisp\" d=\"M0,240.3280839895013v-5\" transform=\"translate(511.1092300962379,0)\" style=\"stroke: rgb(0, 0, 0); stroke-opacity: 1; stroke-width: 1px;\"/><path class=\"x2tick ticks crisp\" d=\"M0,240.3280839895013v-5\" transform=\"translate(553.5492300962379,0)\" style=\"stroke: rgb(0, 0, 0); stroke-opacity: 1; stroke-width: 1px;\"/><path class=\"x2tick ticks crisp\" d=\"M0,240.3280839895013v-5\" transform=\"translate(595.989230096238,0)\" style=\"stroke: rgb(0, 0, 0); stroke-opacity: 1; stroke-width: 1px;\"/><path class=\"x2tick ticks crisp\" d=\"M0,240.3280839895013v-5\" transform=\"translate(638.4192300962379,0)\" style=\"stroke: rgb(0, 0, 0); stroke-opacity: 1; stroke-width: 1px;\"/><g class=\"x2tick\"><text text-anchor=\"middle\" x=\"0\" y=\"254.52808398950128\" transform=\"translate(383.7992300962379,0)\" style=\"font-family: sans-serif; font-size: 11px; fill: rgb(0, 0, 0); fill-opacity: 1; white-space: pre;\">-3</text></g><g class=\"x2tick\"><text text-anchor=\"middle\" x=\"0\" y=\"254.52808398950128\" transform=\"translate(426.2392300962379,0)\" style=\"font-family: sans-serif; font-size: 11px; fill: rgb(0, 0, 0); fill-opacity: 1; white-space: pre;\">-2</text></g><g class=\"x2tick\"><text text-anchor=\"middle\" x=\"0\" y=\"254.52808398950128\" transform=\"translate(468.6692300962379,0)\" style=\"font-family: sans-serif; font-size: 11px; fill: rgb(0, 0, 0); fill-opacity: 1; white-space: pre;\">-1</text></g><g class=\"x2tick\"><text text-anchor=\"middle\" x=\"0\" y=\"254.52808398950128\" transform=\"translate(511.1092300962379,0)\" style=\"font-family: sans-serif; font-size: 11px; fill: rgb(0, 0, 0); fill-opacity: 1; white-space: pre;\">0</text></g><g class=\"x2tick\"><text text-anchor=\"middle\" x=\"0\" y=\"254.52808398950128\" transform=\"translate(553.5492300962379,0)\" style=\"font-family: sans-serif; font-size: 11px; fill: rgb(0, 0, 0); fill-opacity: 1; white-space: pre;\">1</text></g><g class=\"x2tick\"><text text-anchor=\"middle\" x=\"0\" y=\"254.52808398950128\" transform=\"translate(595.989230096238,0)\" style=\"font-family: sans-serif; font-size: 11px; fill: rgb(0, 0, 0); fill-opacity: 1; white-space: pre;\">2</text></g><g class=\"x2tick\"><text text-anchor=\"middle\" x=\"0\" y=\"254.52808398950128\" transform=\"translate(638.4192300962379,0)\" style=\"font-family: sans-serif; font-size: 11px; fill: rgb(0, 0, 0); fill-opacity: 1; white-space: pre;\">3</text></g></g><g class=\"yaxislayer-above\"><path class=\"y2tick ticks crisp\" d=\"M376.15923009623793,0h5\" transform=\"translate(0,235.32858267716534)\" style=\"stroke: rgb(0, 0, 0); stroke-opacity: 1; stroke-width: 1px;\"/><path class=\"y2tick ticks crisp\" d=\"M376.15923009623793,0h5\" transform=\"translate(0,198.32858267716534)\" style=\"stroke: rgb(0, 0, 0); stroke-opacity: 1; stroke-width: 1px;\"/><path class=\"y2tick ticks crisp\" d=\"M376.15923009623793,0h5\" transform=\"translate(0,161.32858267716534)\" style=\"stroke: rgb(0, 0, 0); stroke-opacity: 1; stroke-width: 1px;\"/><path class=\"y2tick ticks crisp\" d=\"M376.15923009623793,0h5\" transform=\"translate(0,124.32858267716534)\" style=\"stroke: rgb(0, 0, 0); stroke-opacity: 1; stroke-width: 1px;\"/><path class=\"y2tick ticks crisp\" d=\"M376.15923009623793,0h5\" transform=\"translate(0,87.32858267716534)\" style=\"stroke: rgb(0, 0, 0); stroke-opacity: 1; stroke-width: 1px;\"/><g class=\"y2tick\"><text text-anchor=\"end\" x=\"372.95923009623795\" y=\"3.8499999999999996\" transform=\"translate(0,235.32858267716534)\" style=\"font-family: sans-serif; font-size: 11px; fill: rgb(0, 0, 0); fill-opacity: 1; white-space: pre;\">0</text></g><g class=\"y2tick\"><text text-anchor=\"end\" x=\"372.95923009623795\" y=\"3.8499999999999996\" transform=\"translate(0,198.32858267716534)\" style=\"font-family: sans-serif; font-size: 11px; fill: rgb(0, 0, 0); fill-opacity: 1; white-space: pre;\">2</text></g><g class=\"y2tick\"><text text-anchor=\"end\" x=\"372.95923009623795\" y=\"3.8499999999999996\" transform=\"translate(0,161.32858267716534)\" style=\"font-family: sans-serif; font-size: 11px; fill: rgb(0, 0, 0); fill-opacity: 1; white-space: pre;\">4</text></g><g class=\"y2tick\"><text text-anchor=\"end\" x=\"372.95923009623795\" y=\"3.8499999999999996\" transform=\"translate(0,124.32858267716534)\" style=\"font-family: sans-serif; font-size: 11px; fill: rgb(0, 0, 0); fill-opacity: 1; white-space: pre;\">6</text></g><g class=\"y2tick\"><text text-anchor=\"end\" x=\"372.95923009623795\" y=\"3.8499999999999996\" transform=\"translate(0,87.32858267716534)\" style=\"font-family: sans-serif; font-size: 11px; fill: rgb(0, 0, 0); fill-opacity: 1; white-space: pre;\">8</text></g></g><g class=\"overaxes-above\"/></g><g class=\"subplot x3y3\"><g class=\"layer-subplot\"><g class=\"shapelayer\"/><g class=\"imagelayer\"/></g><g class=\"gridlayer\"><g class=\"x3\"><path class=\"x3grid crisp\" transform=\"translate(88.24367454068242,0)\" d=\"M0,258.83858267716533v176.48950131233593\" style=\"stroke: rgb(0, 0, 0); stroke-opacity: 0.1; stroke-width: 0.5px;\"/><path class=\"x3grid crisp\" transform=\"translate(130.68367454068243,0)\" d=\"M0,258.83858267716533v176.48950131233593\" style=\"stroke: rgb(0, 0, 0); stroke-opacity: 0.1; stroke-width: 0.5px;\"/><path class=\"x3grid crisp\" transform=\"translate(173.11367454068244,0)\" d=\"M0,258.83858267716533v176.48950131233593\" style=\"stroke: rgb(0, 0, 0); stroke-opacity: 0.1; stroke-width: 0.5px;\"/><path class=\"x3grid crisp\" transform=\"translate(215.5536745406824,0)\" d=\"M0,258.83858267716533v176.48950131233593\" style=\"stroke: rgb(0, 0, 0); stroke-opacity: 0.1; stroke-width: 0.5px;\"/><path class=\"x3grid crisp\" transform=\"translate(257.9936745406824,0)\" d=\"M0,258.83858267716533v176.48950131233593\" style=\"stroke: rgb(0, 0, 0); stroke-opacity: 0.1; stroke-width: 0.5px;\"/><path class=\"x3grid crisp\" transform=\"translate(300.43367454068243,0)\" d=\"M0,258.83858267716533v176.48950131233593\" style=\"stroke: rgb(0, 0, 0); stroke-opacity: 0.1; stroke-width: 0.5px;\"/><path class=\"x3grid crisp\" transform=\"translate(342.8636745406824,0)\" d=\"M0,258.83858267716533v176.48950131233593\" style=\"stroke: rgb(0, 0, 0); stroke-opacity: 0.1; stroke-width: 0.5px;\"/></g><g class=\"y3\"><path class=\"y3grid crisp\" transform=\"translate(0,408.74858267716536)\" d=\"M80.60367454068242,0h269.9037620297462\" style=\"stroke: rgb(0, 0, 0); stroke-opacity: 0.1; stroke-width: 0.5px;\"/><path class=\"y3grid crisp\" transform=\"translate(0,377.9185826771653)\" d=\"M80.60367454068242,0h269.9037620297462\" style=\"stroke: rgb(0, 0, 0); stroke-opacity: 0.1; stroke-width: 0.5px;\"/><path class=\"y3grid crisp\" transform=\"translate(0,347.07858267716534)\" d=\"M80.60367454068242,0h269.9037620297462\" style=\"stroke: rgb(0, 0, 0); stroke-opacity: 0.1; stroke-width: 0.5px;\"/><path class=\"y3grid crisp\" transform=\"translate(0,316.24858267716536)\" d=\"M80.60367454068242,0h269.9037620297462\" style=\"stroke: rgb(0, 0, 0); stroke-opacity: 0.1; stroke-width: 0.5px;\"/><path class=\"y3grid crisp\" transform=\"translate(0,285.4185826771653)\" d=\"M80.60367454068242,0h269.9037620297462\" style=\"stroke: rgb(0, 0, 0); stroke-opacity: 0.1; stroke-width: 0.5px;\"/></g></g><g class=\"zerolinelayer\"/><path class=\"xlines-below\"/><path class=\"ylines-below\"/><g class=\"overlines-below\"/><g class=\"xaxislayer-below\"/><g class=\"yaxislayer-below\"/><g class=\"overaxes-below\"/><g class=\"plot\" transform=\"translate(80.60367454068242,258.83858267716533)\" clip-path=\"url('#clip9ec0fbx3y3plot')\"><g class=\"scatterlayer mlayer\"><g class=\"trace scatter trace2a3009\" style=\"stroke-miterlimit: 2; opacity: 1;\"><g class=\"fills\"/><g class=\"errorbars\"/><g class=\"lines\"><path class=\"js-line\" d=\"M7.64,171.49L20.37,148.93L24.61,142.44L33.1,130.87L37.35,125.76L45.83,116.8L50.08,112.91L58.56,106.23L62.81,103.39L71.3,98.65L75.54,96.71L88.27,92.35L92.51,91.33L105.25,89.3L109.49,88.91L130.71,88.25L134.95,88.24L160.41,87.58L164.66,87.19L177.39,85.16L181.63,84.14L194.36,79.78L198.61,77.84L207.1,73.1L211.34,70.26L219.83,63.58L224.07,59.69L232.56,50.73L236.8,45.62L245.29,34.05L249.53,27.56L258.02,13.05L262.26,4.99\" style=\"vector-effect: non-scaling-stroke; fill: none; stroke: rgb(0, 154, 250); stroke-opacity: 1; stroke-width: 1px; opacity: 1;\"/></g><g class=\"points\"/><g class=\"text\"/></g></g></g><g class=\"overplot\"/><path class=\"xlines-above crisp\" d=\"M79.60367454068242,435.82808398950124H350.5074365704286\" style=\"fill: none; stroke-width: 1px; stroke: rgb(0, 0, 0); stroke-opacity: 1;\"/><path class=\"ylines-above crisp\" d=\"M80.10367454068242,258.83858267716533V435.32808398950124\" style=\"fill: none; stroke-width: 1px; stroke: rgb(0, 0, 0); stroke-opacity: 1;\"/><g class=\"overlines-above\"/><g class=\"xaxislayer-above\"><path class=\"x3tick ticks crisp\" d=\"M0,435.32808398950124v-5\" transform=\"translate(88.24367454068242,0)\" style=\"stroke: rgb(0, 0, 0); stroke-opacity: 1; stroke-width: 1px;\"/><path class=\"x3tick ticks crisp\" d=\"M0,435.32808398950124v-5\" transform=\"translate(130.68367454068243,0)\" style=\"stroke: rgb(0, 0, 0); stroke-opacity: 1; stroke-width: 1px;\"/><path class=\"x3tick ticks crisp\" d=\"M0,435.32808398950124v-5\" transform=\"translate(173.11367454068244,0)\" style=\"stroke: rgb(0, 0, 0); stroke-opacity: 1; stroke-width: 1px;\"/><path class=\"x3tick ticks crisp\" d=\"M0,435.32808398950124v-5\" transform=\"translate(215.5536745406824,0)\" style=\"stroke: rgb(0, 0, 0); stroke-opacity: 1; stroke-width: 1px;\"/><path class=\"x3tick ticks crisp\" d=\"M0,435.32808398950124v-5\" transform=\"translate(257.9936745406824,0)\" style=\"stroke: rgb(0, 0, 0); stroke-opacity: 1; stroke-width: 1px;\"/><path class=\"x3tick ticks crisp\" d=\"M0,435.32808398950124v-5\" transform=\"translate(300.43367454068243,0)\" style=\"stroke: rgb(0, 0, 0); stroke-opacity: 1; stroke-width: 1px;\"/><path class=\"x3tick ticks crisp\" d=\"M0,435.32808398950124v-5\" transform=\"translate(342.8636745406824,0)\" style=\"stroke: rgb(0, 0, 0); stroke-opacity: 1; stroke-width: 1px;\"/><g class=\"x3tick\"><text text-anchor=\"middle\" x=\"0\" y=\"449.5280839895012\" transform=\"translate(88.24367454068242,0)\" style=\"font-family: sans-serif; font-size: 11px; fill: rgb(0, 0, 0); fill-opacity: 1; white-space: pre;\">-3</text></g><g class=\"x3tick\"><text text-anchor=\"middle\" x=\"0\" y=\"449.5280839895012\" transform=\"translate(130.68367454068243,0)\" style=\"font-family: sans-serif; font-size: 11px; fill: rgb(0, 0, 0); fill-opacity: 1; white-space: pre;\">-2</text></g><g class=\"x3tick\"><text text-anchor=\"middle\" x=\"0\" y=\"449.5280839895012\" transform=\"translate(173.11367454068244,0)\" style=\"font-family: sans-serif; font-size: 11px; fill: rgb(0, 0, 0); fill-opacity: 1; white-space: pre;\">-1</text></g><g class=\"x3tick\"><text text-anchor=\"middle\" x=\"0\" y=\"449.5280839895012\" transform=\"translate(215.5536745406824,0)\" style=\"font-family: sans-serif; font-size: 11px; fill: rgb(0, 0, 0); fill-opacity: 1; white-space: pre;\">0</text></g><g class=\"x3tick\"><text text-anchor=\"middle\" x=\"0\" y=\"449.5280839895012\" transform=\"translate(257.9936745406824,0)\" style=\"font-family: sans-serif; font-size: 11px; fill: rgb(0, 0, 0); fill-opacity: 1; white-space: pre;\">1</text></g><g class=\"x3tick\"><text text-anchor=\"middle\" x=\"0\" y=\"449.5280839895012\" transform=\"translate(300.43367454068243,0)\" style=\"font-family: sans-serif; font-size: 11px; fill: rgb(0, 0, 0); fill-opacity: 1; white-space: pre;\">2</text></g><g class=\"x3tick\"><text text-anchor=\"middle\" x=\"0\" y=\"449.5280839895012\" transform=\"translate(342.8636745406824,0)\" style=\"font-family: sans-serif; font-size: 11px; fill: rgb(0, 0, 0); fill-opacity: 1; white-space: pre;\">3</text></g></g><g class=\"yaxislayer-above\"><path class=\"y3tick ticks crisp\" d=\"M80.60367454068242,0h5\" transform=\"translate(0,408.74858267716536)\" style=\"stroke: rgb(0, 0, 0); stroke-opacity: 1; stroke-width: 1px;\"/><path class=\"y3tick ticks crisp\" d=\"M80.60367454068242,0h5\" transform=\"translate(0,377.9185826771653)\" style=\"stroke: rgb(0, 0, 0); stroke-opacity: 1; stroke-width: 1px;\"/><path class=\"y3tick ticks crisp\" d=\"M80.60367454068242,0h5\" transform=\"translate(0,347.07858267716534)\" style=\"stroke: rgb(0, 0, 0); stroke-opacity: 1; stroke-width: 1px;\"/><path class=\"y3tick ticks crisp\" d=\"M80.60367454068242,0h5\" transform=\"translate(0,316.24858267716536)\" style=\"stroke: rgb(0, 0, 0); stroke-opacity: 1; stroke-width: 1px;\"/><path class=\"y3tick ticks crisp\" d=\"M80.60367454068242,0h5\" transform=\"translate(0,285.4185826771653)\" style=\"stroke: rgb(0, 0, 0); stroke-opacity: 1; stroke-width: 1px;\"/><g class=\"y3tick\"><text text-anchor=\"end\" x=\"77.40367454068242\" y=\"3.8499999999999996\" transform=\"translate(0,408.74858267716536)\" style=\"font-family: sans-serif; font-size: 11px; fill: rgb(0, 0, 0); fill-opacity: 1; white-space: pre;\">-20</text></g><g class=\"y3tick\"><text text-anchor=\"end\" x=\"77.40367454068242\" y=\"3.8499999999999996\" transform=\"translate(0,377.9185826771653)\" style=\"font-family: sans-serif; font-size: 11px; fill: rgb(0, 0, 0); fill-opacity: 1; white-space: pre;\">-10</text></g><g class=\"y3tick\"><text text-anchor=\"end\" x=\"77.40367454068242\" y=\"3.8499999999999996\" transform=\"translate(0,347.07858267716534)\" style=\"font-family: sans-serif; font-size: 11px; fill: rgb(0, 0, 0); fill-opacity: 1; white-space: pre;\">0</text></g><g class=\"y3tick\"><text text-anchor=\"end\" x=\"77.40367454068242\" y=\"3.8499999999999996\" transform=\"translate(0,316.24858267716536)\" style=\"font-family: sans-serif; font-size: 11px; fill: rgb(0, 0, 0); fill-opacity: 1; white-space: pre;\">10</text></g><g class=\"y3tick\"><text text-anchor=\"end\" x=\"77.40367454068242\" y=\"3.8499999999999996\" transform=\"translate(0,285.4185826771653)\" style=\"font-family: sans-serif; font-size: 11px; fill: rgb(0, 0, 0); fill-opacity: 1; white-space: pre;\">20</text></g></g><g class=\"overaxes-above\"/></g><g class=\"subplot x4y4\"><g class=\"layer-subplot\"><g class=\"shapelayer\"/><g class=\"imagelayer\"/></g><g class=\"gridlayer\"><g class=\"x4\"><path class=\"x4grid crisp\" transform=\"translate(383.7992300962379,0)\" d=\"M0,258.83858267716533v176.48950131233593\" style=\"stroke: rgb(0, 0, 0); stroke-opacity: 0.1; stroke-width: 0.5px;\"/><path class=\"x4grid crisp\" transform=\"translate(426.2392300962379,0)\" d=\"M0,258.83858267716533v176.48950131233593\" style=\"stroke: rgb(0, 0, 0); stroke-opacity: 0.1; stroke-width: 0.5px;\"/><path class=\"x4grid crisp\" transform=\"translate(468.6692300962379,0)\" d=\"M0,258.83858267716533v176.48950131233593\" style=\"stroke: rgb(0, 0, 0); stroke-opacity: 0.1; stroke-width: 0.5px;\"/><path class=\"x4grid crisp\" transform=\"translate(511.1092300962379,0)\" d=\"M0,258.83858267716533v176.48950131233593\" style=\"stroke: rgb(0, 0, 0); stroke-opacity: 0.1; stroke-width: 0.5px;\"/><path class=\"x4grid crisp\" transform=\"translate(553.5492300962379,0)\" d=\"M0,258.83858267716533v176.48950131233593\" style=\"stroke: rgb(0, 0, 0); stroke-opacity: 0.1; stroke-width: 0.5px;\"/><path class=\"x4grid crisp\" transform=\"translate(595.989230096238,0)\" d=\"M0,258.83858267716533v176.48950131233593\" style=\"stroke: rgb(0, 0, 0); stroke-opacity: 0.1; stroke-width: 0.5px;\"/><path class=\"x4grid crisp\" transform=\"translate(638.4192300962379,0)\" d=\"M0,258.83858267716533v176.48950131233593\" style=\"stroke: rgb(0, 0, 0); stroke-opacity: 0.1; stroke-width: 0.5px;\"/></g><g class=\"y4\"><path class=\"y4grid crisp\" transform=\"translate(0,430.32858267716534)\" d=\"M376.15923009623793,0h269.9037620297463\" style=\"stroke: rgb(0, 0, 0); stroke-opacity: 0.1; stroke-width: 0.5px;\"/><path class=\"y4grid crisp\" transform=\"translate(0,389.21858267716533)\" d=\"M376.15923009623793,0h269.9037620297463\" style=\"stroke: rgb(0, 0, 0); stroke-opacity: 0.1; stroke-width: 0.5px;\"/><path class=\"y4grid crisp\" transform=\"translate(0,348.1085826771653)\" d=\"M376.15923009623793,0h269.9037620297463\" style=\"stroke: rgb(0, 0, 0); stroke-opacity: 0.1; stroke-width: 0.5px;\"/><path class=\"y4grid crisp\" transform=\"translate(0,306.99858267716536)\" d=\"M376.15923009623793,0h269.9037620297463\" style=\"stroke: rgb(0, 0, 0); stroke-opacity: 0.1; stroke-width: 0.5px;\"/><path class=\"y4grid crisp\" transform=\"translate(0,265.88858267716535)\" d=\"M376.15923009623793,0h269.9037620297463\" style=\"stroke: rgb(0, 0, 0); stroke-opacity: 0.1; stroke-width: 0.5px;\"/></g></g><g class=\"zerolinelayer\"/><path class=\"xlines-below\"/><path class=\"ylines-below\"/><g class=\"overlines-below\"/><g class=\"xaxislayer-below\"/><g class=\"yaxislayer-below\"/><g class=\"overaxes-below\"/><g class=\"plot\" transform=\"translate(376.15923009623793,258.83858267716533)\" clip-path=\"url('#clip9ec0fbx4y4plot')\"><g class=\"scatterlayer mlayer\"><g class=\"trace scatter trace731002\" style=\"stroke-miterlimit: 2; opacity: 1;\"><g class=\"fills\"/><g class=\"errorbars\"/><g class=\"lines\"><path class=\"js-line\" d=\"M7.64,4.99L16.13,45.15L20.37,62.25L28.86,91.2L33.1,103.3L41.59,123.34L45.83,131.52L54.32,144.71L58.56,149.92L67.05,158.02L71.3,161.09L79.78,165.62L84.03,167.23L92.51,169.44L96.76,170.15L109.49,171.23L113.73,171.37L156.17,171.37L160.41,171.23L173.15,170.15L177.39,169.44L185.88,167.23L190.12,165.62L198.61,161.09L202.85,158.02L211.34,149.92L215.58,144.71L224.07,131.52L228.31,123.34L236.8,103.3L241.05,91.2L249.53,62.25L253.78,45.15L262.26,4.99\" style=\"vector-effect: non-scaling-stroke; fill: none; stroke: rgb(0, 154, 250); stroke-opacity: 1; stroke-width: 1px; opacity: 1;\"/></g><g class=\"points\"/><g class=\"text\"/></g></g></g><g class=\"overplot\"/><path class=\"xlines-above crisp\" d=\"M375.15923009623793,435.82808398950124H646.0629921259842\" style=\"fill: none; stroke-width: 1px; stroke: rgb(0, 0, 0); stroke-opacity: 1;\"/><path class=\"ylines-above crisp\" d=\"M375.65923009623793,258.83858267716533V435.32808398950124\" style=\"fill: none; stroke-width: 1px; stroke: rgb(0, 0, 0); stroke-opacity: 1;\"/><g class=\"overlines-above\"/><g class=\"xaxislayer-above\"><path class=\"x4tick ticks crisp\" d=\"M0,435.32808398950124v-5\" transform=\"translate(383.7992300962379,0)\" style=\"stroke: rgb(0, 0, 0); stroke-opacity: 1; stroke-width: 1px;\"/><path class=\"x4tick ticks crisp\" d=\"M0,435.32808398950124v-5\" transform=\"translate(426.2392300962379,0)\" style=\"stroke: rgb(0, 0, 0); stroke-opacity: 1; stroke-width: 1px;\"/><path class=\"x4tick ticks crisp\" d=\"M0,435.32808398950124v-5\" transform=\"translate(468.6692300962379,0)\" style=\"stroke: rgb(0, 0, 0); stroke-opacity: 1; stroke-width: 1px;\"/><path class=\"x4tick ticks crisp\" d=\"M0,435.32808398950124v-5\" transform=\"translate(511.1092300962379,0)\" style=\"stroke: rgb(0, 0, 0); stroke-opacity: 1; stroke-width: 1px;\"/><path class=\"x4tick ticks crisp\" d=\"M0,435.32808398950124v-5\" transform=\"translate(553.5492300962379,0)\" style=\"stroke: rgb(0, 0, 0); stroke-opacity: 1; stroke-width: 1px;\"/><path class=\"x4tick ticks crisp\" d=\"M0,435.32808398950124v-5\" transform=\"translate(595.989230096238,0)\" style=\"stroke: rgb(0, 0, 0); stroke-opacity: 1; stroke-width: 1px;\"/><path class=\"x4tick ticks crisp\" d=\"M0,435.32808398950124v-5\" transform=\"translate(638.4192300962379,0)\" style=\"stroke: rgb(0, 0, 0); stroke-opacity: 1; stroke-width: 1px;\"/><g class=\"x4tick\"><text text-anchor=\"middle\" x=\"0\" y=\"449.5280839895012\" transform=\"translate(383.7992300962379,0)\" style=\"font-family: sans-serif; font-size: 11px; fill: rgb(0, 0, 0); fill-opacity: 1; white-space: pre;\">-3</text></g><g class=\"x4tick\"><text text-anchor=\"middle\" x=\"0\" y=\"449.5280839895012\" transform=\"translate(426.2392300962379,0)\" style=\"font-family: sans-serif; font-size: 11px; fill: rgb(0, 0, 0); fill-opacity: 1; white-space: pre;\">-2</text></g><g class=\"x4tick\"><text text-anchor=\"middle\" x=\"0\" y=\"449.5280839895012\" transform=\"translate(468.6692300962379,0)\" style=\"font-family: sans-serif; font-size: 11px; fill: rgb(0, 0, 0); fill-opacity: 1; white-space: pre;\">-1</text></g><g class=\"x4tick\"><text text-anchor=\"middle\" x=\"0\" y=\"449.5280839895012\" transform=\"translate(511.1092300962379,0)\" style=\"font-family: sans-serif; font-size: 11px; fill: rgb(0, 0, 0); fill-opacity: 1; white-space: pre;\">0</text></g><g class=\"x4tick\"><text text-anchor=\"middle\" x=\"0\" y=\"449.5280839895012\" transform=\"translate(553.5492300962379,0)\" style=\"font-family: sans-serif; font-size: 11px; fill: rgb(0, 0, 0); fill-opacity: 1; white-space: pre;\">1</text></g><g class=\"x4tick\"><text text-anchor=\"middle\" x=\"0\" y=\"449.5280839895012\" transform=\"translate(595.989230096238,0)\" style=\"font-family: sans-serif; font-size: 11px; fill: rgb(0, 0, 0); fill-opacity: 1; white-space: pre;\">2</text></g><g class=\"x4tick\"><text text-anchor=\"middle\" x=\"0\" y=\"449.5280839895012\" transform=\"translate(638.4192300962379,0)\" style=\"font-family: sans-serif; font-size: 11px; fill: rgb(0, 0, 0); fill-opacity: 1; white-space: pre;\">3</text></g></g><g class=\"yaxislayer-above\"><path class=\"y4tick ticks crisp\" d=\"M376.15923009623793,0h5\" transform=\"translate(0,430.32858267716534)\" style=\"stroke: rgb(0, 0, 0); stroke-opacity: 1; stroke-width: 1px;\"/><path class=\"y4tick ticks crisp\" d=\"M376.15923009623793,0h5\" transform=\"translate(0,389.21858267716533)\" style=\"stroke: rgb(0, 0, 0); stroke-opacity: 1; stroke-width: 1px;\"/><path class=\"y4tick ticks crisp\" d=\"M376.15923009623793,0h5\" transform=\"translate(0,348.1085826771653)\" style=\"stroke: rgb(0, 0, 0); stroke-opacity: 1; stroke-width: 1px;\"/><path class=\"y4tick ticks crisp\" d=\"M376.15923009623793,0h5\" transform=\"translate(0,306.99858267716536)\" style=\"stroke: rgb(0, 0, 0); stroke-opacity: 1; stroke-width: 1px;\"/><path class=\"y4tick ticks crisp\" d=\"M376.15923009623793,0h5\" transform=\"translate(0,265.88858267716535)\" style=\"stroke: rgb(0, 0, 0); stroke-opacity: 1; stroke-width: 1px;\"/><g class=\"y4tick\"><text text-anchor=\"end\" x=\"372.95923009623795\" y=\"3.8499999999999996\" transform=\"translate(0,430.32858267716534)\" style=\"font-family: sans-serif; font-size: 11px; fill: rgb(0, 0, 0); fill-opacity: 1; white-space: pre;\">0</text></g><g class=\"y4tick\"><text text-anchor=\"end\" x=\"372.95923009623795\" y=\"3.8499999999999996\" transform=\"translate(0,389.21858267716533)\" style=\"font-family: sans-serif; font-size: 11px; fill: rgb(0, 0, 0); fill-opacity: 1; white-space: pre;\">20</text></g><g class=\"y4tick\"><text text-anchor=\"end\" x=\"372.95923009623795\" y=\"3.8499999999999996\" transform=\"translate(0,348.1085826771653)\" style=\"font-family: sans-serif; font-size: 11px; fill: rgb(0, 0, 0); fill-opacity: 1; white-space: pre;\">40</text></g><g class=\"y4tick\"><text text-anchor=\"end\" x=\"372.95923009623795\" y=\"3.8499999999999996\" transform=\"translate(0,306.99858267716536)\" style=\"font-family: sans-serif; font-size: 11px; fill: rgb(0, 0, 0); fill-opacity: 1; white-space: pre;\">60</text></g><g class=\"y4tick\"><text text-anchor=\"end\" x=\"372.95923009623795\" y=\"3.8499999999999996\" transform=\"translate(0,265.88858267716535)\" style=\"font-family: sans-serif; font-size: 11px; fill: rgb(0, 0, 0); fill-opacity: 1; white-space: pre;\">80</text></g></g><g class=\"overaxes-above\"/></g></g><g class=\"polarlayer\"/><g class=\"ternarylayer\"/><g class=\"geolayer\"/><g class=\"funnelarealayer\"/><g class=\"pielayer\"/><g class=\"treemaplayer\"/><g class=\"sunburstlayer\"/><g class=\"glimages\"/><defs id=\"topdefs-9ec0fb\"><g class=\"clips\"/></defs><g class=\"layer-above\"><g class=\"imagelayer\"/><g class=\"shapelayer\"/></g><g class=\"infolayer\"><g class=\"g-gtitle\"/><g class=\"g-xtitle\"/><g class=\"g-x2title\"/><g class=\"g-x3title\"/><g class=\"g-x4title\"/><g class=\"g-ytitle\"/><g class=\"g-y2title\"/><g class=\"g-y3title\"/><g class=\"g-y4title\"/></g></svg>"
      ],
      "text/html": [
       "    <div id=\"9e541a2b-57ae-424b-b331-8d1010d51f00\" style=\"width:600px;height:400px;\"></div>\n",
       "    <script>\n",
       "        requirejs.config({\n",
       "        paths: {\n",
       "            plotly: 'https://cdn.plot.ly/plotly-2.6.3.min'\n",
       "        }\n",
       "    });\n",
       "    require(['plotly'], function (Plotly) {\n",
       "\n",
       "    Plotly.newPlot('9e541a2b-57ae-424b-b331-8d1010d51f00', [\n",
       "    {\n",
       "        \"showlegend\": true,\n",
       "        \"mode\": \"lines\",\n",
       "        \"xaxis\": \"x1\",\n",
       "        \"colorbar\": {\n",
       "            \"y\": 0.7638888888888888,\n",
       "            \"title\": \"\",\n",
       "            \"len\": 0.4525371828521435,\n",
       "            \"x\": 0.500845727617381\n",
       "        },\n",
       "        \"name\": \"y1\",\n",
       "        \"yaxis\": \"y1\",\n",
       "        \"legendgroup\": \"y1\",\n",
       "        \"line\": {\n",
       "            \"color\": \"rgba(0, 154, 250, 1.000)\",\n",
       "            \"shape\": \"linear\",\n",
       "            \"dash\": \"solid\",\n",
       "            \"width\": 1\n",
       "        },\n",
       "        \"y\": [\n",
       "            -3.0,\n",
       "            -2.9,\n",
       "            -2.8,\n",
       "            -2.7,\n",
       "            -2.6,\n",
       "            -2.5,\n",
       "            -2.4,\n",
       "            -2.3,\n",
       "            -2.2,\n",
       "            -2.1,\n",
       "            -2.0,\n",
       "            -1.9,\n",
       "            -1.8,\n",
       "            -1.7,\n",
       "            -1.6,\n",
       "            -1.5,\n",
       "            -1.4,\n",
       "            -1.3,\n",
       "            -1.2,\n",
       "            -1.1,\n",
       "            -1.0,\n",
       "            -0.9,\n",
       "            -0.8,\n",
       "            -0.7,\n",
       "            -0.6,\n",
       "            -0.5,\n",
       "            -0.4,\n",
       "            -0.3,\n",
       "            -0.2,\n",
       "            -0.1,\n",
       "            0.0,\n",
       "            0.1,\n",
       "            0.2,\n",
       "            0.3,\n",
       "            0.4,\n",
       "            0.5,\n",
       "            0.6,\n",
       "            0.7,\n",
       "            0.8,\n",
       "            0.9,\n",
       "            1.0,\n",
       "            1.1,\n",
       "            1.2,\n",
       "            1.3,\n",
       "            1.4,\n",
       "            1.5,\n",
       "            1.6,\n",
       "            1.7,\n",
       "            1.8,\n",
       "            1.9,\n",
       "            2.0,\n",
       "            2.1,\n",
       "            2.2,\n",
       "            2.3,\n",
       "            2.4,\n",
       "            2.5,\n",
       "            2.6,\n",
       "            2.7,\n",
       "            2.8,\n",
       "            2.9,\n",
       "            3.0\n",
       "        ],\n",
       "        \"type\": \"scatter\",\n",
       "        \"x\": [\n",
       "            -3.0,\n",
       "            -2.9,\n",
       "            -2.8,\n",
       "            -2.7,\n",
       "            -2.6,\n",
       "            -2.5,\n",
       "            -2.4,\n",
       "            -2.3,\n",
       "            -2.2,\n",
       "            -2.1,\n",
       "            -2.0,\n",
       "            -1.9,\n",
       "            -1.8,\n",
       "            -1.7,\n",
       "            -1.6,\n",
       "            -1.5,\n",
       "            -1.4,\n",
       "            -1.3,\n",
       "            -1.2,\n",
       "            -1.1,\n",
       "            -1.0,\n",
       "            -0.9,\n",
       "            -0.8,\n",
       "            -0.7,\n",
       "            -0.6,\n",
       "            -0.5,\n",
       "            -0.4,\n",
       "            -0.3,\n",
       "            -0.2,\n",
       "            -0.1,\n",
       "            0.0,\n",
       "            0.1,\n",
       "            0.2,\n",
       "            0.3,\n",
       "            0.4,\n",
       "            0.5,\n",
       "            0.6,\n",
       "            0.7,\n",
       "            0.8,\n",
       "            0.9,\n",
       "            1.0,\n",
       "            1.1,\n",
       "            1.2,\n",
       "            1.3,\n",
       "            1.4,\n",
       "            1.5,\n",
       "            1.6,\n",
       "            1.7,\n",
       "            1.8,\n",
       "            1.9,\n",
       "            2.0,\n",
       "            2.1,\n",
       "            2.2,\n",
       "            2.3,\n",
       "            2.4,\n",
       "            2.5,\n",
       "            2.6,\n",
       "            2.7,\n",
       "            2.8,\n",
       "            2.9,\n",
       "            3.0\n",
       "        ]\n",
       "    },\n",
       "    {\n",
       "        \"showlegend\": true,\n",
       "        \"mode\": \"lines\",\n",
       "        \"xaxis\": \"x2\",\n",
       "        \"colorbar\": {\n",
       "            \"y\": 0.7638888888888888,\n",
       "            \"title\": \"\",\n",
       "            \"len\": 0.4525371828521435,\n",
       "            \"x\": 0.9934383202099737\n",
       "        },\n",
       "        \"name\": \"y1\",\n",
       "        \"yaxis\": \"y2\",\n",
       "        \"legendgroup\": \"y1\",\n",
       "        \"line\": {\n",
       "            \"color\": \"rgba(0, 154, 250, 1.000)\",\n",
       "            \"shape\": \"linear\",\n",
       "            \"dash\": \"solid\",\n",
       "            \"width\": 1\n",
       "        },\n",
       "        \"y\": [\n",
       "            9.0,\n",
       "            8.41,\n",
       "            7.839999999999999,\n",
       "            7.290000000000001,\n",
       "            6.760000000000001,\n",
       "            6.25,\n",
       "            5.76,\n",
       "            5.289999999999999,\n",
       "            4.840000000000001,\n",
       "            4.41,\n",
       "            4.0,\n",
       "            3.61,\n",
       "            3.24,\n",
       "            2.8899999999999997,\n",
       "            2.5600000000000005,\n",
       "            2.25,\n",
       "            1.9599999999999997,\n",
       "            1.6900000000000002,\n",
       "            1.44,\n",
       "            1.2100000000000002,\n",
       "            1.0,\n",
       "            0.81,\n",
       "            0.6400000000000001,\n",
       "            0.48999999999999994,\n",
       "            0.36,\n",
       "            0.25,\n",
       "            0.16000000000000003,\n",
       "            0.09,\n",
       "            0.04000000000000001,\n",
       "            0.010000000000000002,\n",
       "            0.0,\n",
       "            0.010000000000000002,\n",
       "            0.04000000000000001,\n",
       "            0.09,\n",
       "            0.16000000000000003,\n",
       "            0.25,\n",
       "            0.36,\n",
       "            0.48999999999999994,\n",
       "            0.6400000000000001,\n",
       "            0.81,\n",
       "            1.0,\n",
       "            1.2100000000000002,\n",
       "            1.44,\n",
       "            1.6900000000000002,\n",
       "            1.9599999999999997,\n",
       "            2.25,\n",
       "            2.5600000000000005,\n",
       "            2.8899999999999997,\n",
       "            3.24,\n",
       "            3.61,\n",
       "            4.0,\n",
       "            4.41,\n",
       "            4.840000000000001,\n",
       "            5.289999999999999,\n",
       "            5.76,\n",
       "            6.25,\n",
       "            6.760000000000001,\n",
       "            7.290000000000001,\n",
       "            7.839999999999999,\n",
       "            8.41,\n",
       "            9.0\n",
       "        ],\n",
       "        \"type\": \"scatter\",\n",
       "        \"x\": [\n",
       "            -3.0,\n",
       "            -2.9,\n",
       "            -2.8,\n",
       "            -2.7,\n",
       "            -2.6,\n",
       "            -2.5,\n",
       "            -2.4,\n",
       "            -2.3,\n",
       "            -2.2,\n",
       "            -2.1,\n",
       "            -2.0,\n",
       "            -1.9,\n",
       "            -1.8,\n",
       "            -1.7,\n",
       "            -1.6,\n",
       "            -1.5,\n",
       "            -1.4,\n",
       "            -1.3,\n",
       "            -1.2,\n",
       "            -1.1,\n",
       "            -1.0,\n",
       "            -0.9,\n",
       "            -0.8,\n",
       "            -0.7,\n",
       "            -0.6,\n",
       "            -0.5,\n",
       "            -0.4,\n",
       "            -0.3,\n",
       "            -0.2,\n",
       "            -0.1,\n",
       "            0.0,\n",
       "            0.1,\n",
       "            0.2,\n",
       "            0.3,\n",
       "            0.4,\n",
       "            0.5,\n",
       "            0.6,\n",
       "            0.7,\n",
       "            0.8,\n",
       "            0.9,\n",
       "            1.0,\n",
       "            1.1,\n",
       "            1.2,\n",
       "            1.3,\n",
       "            1.4,\n",
       "            1.5,\n",
       "            1.6,\n",
       "            1.7,\n",
       "            1.8,\n",
       "            1.9,\n",
       "            2.0,\n",
       "            2.1,\n",
       "            2.2,\n",
       "            2.3,\n",
       "            2.4,\n",
       "            2.5,\n",
       "            2.6,\n",
       "            2.7,\n",
       "            2.8,\n",
       "            2.9,\n",
       "            3.0\n",
       "        ]\n",
       "    },\n",
       "    {\n",
       "        \"showlegend\": true,\n",
       "        \"mode\": \"lines\",\n",
       "        \"xaxis\": \"x3\",\n",
       "        \"colorbar\": {\n",
       "            \"y\": 0.2638888888888889,\n",
       "            \"title\": \"\",\n",
       "            \"len\": 0.45253718285214345,\n",
       "            \"x\": 0.500845727617381\n",
       "        },\n",
       "        \"name\": \"y1\",\n",
       "        \"yaxis\": \"y3\",\n",
       "        \"legendgroup\": \"y1\",\n",
       "        \"line\": {\n",
       "            \"color\": \"rgba(0, 154, 250, 1.000)\",\n",
       "            \"shape\": \"linear\",\n",
       "            \"dash\": \"solid\",\n",
       "            \"width\": 1\n",
       "        },\n",
       "        \"y\": [\n",
       "            -27.0,\n",
       "            -24.389,\n",
       "            -21.951999999999995,\n",
       "            -19.683000000000003,\n",
       "            -17.576000000000004,\n",
       "            -15.625,\n",
       "            -13.824,\n",
       "            -12.166999999999996,\n",
       "            -10.648000000000003,\n",
       "            -9.261000000000001,\n",
       "            -8.0,\n",
       "            -6.858999999999999,\n",
       "            -5.832000000000001,\n",
       "            -4.912999999999999,\n",
       "            -4.096000000000001,\n",
       "            -3.375,\n",
       "            -2.7439999999999993,\n",
       "            -2.1970000000000005,\n",
       "            -1.728,\n",
       "            -1.3310000000000004,\n",
       "            -1.0,\n",
       "            -0.7290000000000001,\n",
       "            -0.5120000000000001,\n",
       "            -0.3429999999999999,\n",
       "            -0.216,\n",
       "            -0.125,\n",
       "            -0.06400000000000002,\n",
       "            -0.027,\n",
       "            -0.008000000000000002,\n",
       "            -0.0010000000000000002,\n",
       "            0.0,\n",
       "            0.0010000000000000002,\n",
       "            0.008000000000000002,\n",
       "            0.027,\n",
       "            0.06400000000000002,\n",
       "            0.125,\n",
       "            0.216,\n",
       "            0.3429999999999999,\n",
       "            0.5120000000000001,\n",
       "            0.7290000000000001,\n",
       "            1.0,\n",
       "            1.3310000000000004,\n",
       "            1.728,\n",
       "            2.1970000000000005,\n",
       "            2.7439999999999993,\n",
       "            3.375,\n",
       "            4.096000000000001,\n",
       "            4.912999999999999,\n",
       "            5.832000000000001,\n",
       "            6.858999999999999,\n",
       "            8.0,\n",
       "            9.261000000000001,\n",
       "            10.648000000000003,\n",
       "            12.166999999999996,\n",
       "            13.824,\n",
       "            15.625,\n",
       "            17.576000000000004,\n",
       "            19.683000000000003,\n",
       "            21.951999999999995,\n",
       "            24.389,\n",
       "            27.0\n",
       "        ],\n",
       "        \"type\": \"scatter\",\n",
       "        \"x\": [\n",
       "            -3.0,\n",
       "            -2.9,\n",
       "            -2.8,\n",
       "            -2.7,\n",
       "            -2.6,\n",
       "            -2.5,\n",
       "            -2.4,\n",
       "            -2.3,\n",
       "            -2.2,\n",
       "            -2.1,\n",
       "            -2.0,\n",
       "            -1.9,\n",
       "            -1.8,\n",
       "            -1.7,\n",
       "            -1.6,\n",
       "            -1.5,\n",
       "            -1.4,\n",
       "            -1.3,\n",
       "            -1.2,\n",
       "            -1.1,\n",
       "            -1.0,\n",
       "            -0.9,\n",
       "            -0.8,\n",
       "            -0.7,\n",
       "            -0.6,\n",
       "            -0.5,\n",
       "            -0.4,\n",
       "            -0.3,\n",
       "            -0.2,\n",
       "            -0.1,\n",
       "            0.0,\n",
       "            0.1,\n",
       "            0.2,\n",
       "            0.3,\n",
       "            0.4,\n",
       "            0.5,\n",
       "            0.6,\n",
       "            0.7,\n",
       "            0.8,\n",
       "            0.9,\n",
       "            1.0,\n",
       "            1.1,\n",
       "            1.2,\n",
       "            1.3,\n",
       "            1.4,\n",
       "            1.5,\n",
       "            1.6,\n",
       "            1.7,\n",
       "            1.8,\n",
       "            1.9,\n",
       "            2.0,\n",
       "            2.1,\n",
       "            2.2,\n",
       "            2.3,\n",
       "            2.4,\n",
       "            2.5,\n",
       "            2.6,\n",
       "            2.7,\n",
       "            2.8,\n",
       "            2.9,\n",
       "            3.0\n",
       "        ]\n",
       "    },\n",
       "    {\n",
       "        \"showlegend\": true,\n",
       "        \"mode\": \"lines\",\n",
       "        \"xaxis\": \"x4\",\n",
       "        \"colorbar\": {\n",
       "            \"y\": 0.2638888888888889,\n",
       "            \"title\": \"\",\n",
       "            \"len\": 0.45253718285214345,\n",
       "            \"x\": 0.9934383202099737\n",
       "        },\n",
       "        \"name\": \"y1\",\n",
       "        \"yaxis\": \"y4\",\n",
       "        \"legendgroup\": \"y1\",\n",
       "        \"line\": {\n",
       "            \"color\": \"rgba(0, 154, 250, 1.000)\",\n",
       "            \"shape\": \"linear\",\n",
       "            \"dash\": \"solid\",\n",
       "            \"width\": 1\n",
       "        },\n",
       "        \"y\": [\n",
       "            81.0,\n",
       "            70.7281,\n",
       "            61.46559999999999,\n",
       "            53.144100000000016,\n",
       "            45.69760000000001,\n",
       "            39.0625,\n",
       "            33.1776,\n",
       "            27.98409999999999,\n",
       "            23.425600000000006,\n",
       "            19.448100000000004,\n",
       "            16.0,\n",
       "            13.032099999999998,\n",
       "            10.4976,\n",
       "            8.352099999999998,\n",
       "            6.553600000000001,\n",
       "            5.0625,\n",
       "            3.8415999999999992,\n",
       "            2.8561000000000005,\n",
       "            2.0736,\n",
       "            1.4641000000000004,\n",
       "            1.0,\n",
       "            0.6561,\n",
       "            0.4096000000000001,\n",
       "            0.24009999999999995,\n",
       "            0.1296,\n",
       "            0.0625,\n",
       "            0.025600000000000005,\n",
       "            0.0081,\n",
       "            0.0016000000000000003,\n",
       "            0.00010000000000000002,\n",
       "            0.0,\n",
       "            0.00010000000000000002,\n",
       "            0.0016000000000000003,\n",
       "            0.0081,\n",
       "            0.025600000000000005,\n",
       "            0.0625,\n",
       "            0.1296,\n",
       "            0.24009999999999995,\n",
       "            0.4096000000000001,\n",
       "            0.6561,\n",
       "            1.0,\n",
       "            1.4641000000000004,\n",
       "            2.0736,\n",
       "            2.8561000000000005,\n",
       "            3.8415999999999992,\n",
       "            5.0625,\n",
       "            6.553600000000001,\n",
       "            8.352099999999998,\n",
       "            10.4976,\n",
       "            13.032099999999998,\n",
       "            16.0,\n",
       "            19.448100000000004,\n",
       "            23.425600000000006,\n",
       "            27.98409999999999,\n",
       "            33.1776,\n",
       "            39.0625,\n",
       "            45.69760000000001,\n",
       "            53.144100000000016,\n",
       "            61.46559999999999,\n",
       "            70.7281,\n",
       "            81.0\n",
       "        ],\n",
       "        \"type\": \"scatter\",\n",
       "        \"x\": [\n",
       "            -3.0,\n",
       "            -2.9,\n",
       "            -2.8,\n",
       "            -2.7,\n",
       "            -2.6,\n",
       "            -2.5,\n",
       "            -2.4,\n",
       "            -2.3,\n",
       "            -2.2,\n",
       "            -2.1,\n",
       "            -2.0,\n",
       "            -1.9,\n",
       "            -1.8,\n",
       "            -1.7,\n",
       "            -1.6,\n",
       "            -1.5,\n",
       "            -1.4,\n",
       "            -1.3,\n",
       "            -1.2,\n",
       "            -1.1,\n",
       "            -1.0,\n",
       "            -0.9,\n",
       "            -0.8,\n",
       "            -0.7,\n",
       "            -0.6,\n",
       "            -0.5,\n",
       "            -0.4,\n",
       "            -0.3,\n",
       "            -0.2,\n",
       "            -0.1,\n",
       "            0.0,\n",
       "            0.1,\n",
       "            0.2,\n",
       "            0.3,\n",
       "            0.4,\n",
       "            0.5,\n",
       "            0.6,\n",
       "            0.7,\n",
       "            0.8,\n",
       "            0.9,\n",
       "            1.0,\n",
       "            1.1,\n",
       "            1.2,\n",
       "            1.3,\n",
       "            1.4,\n",
       "            1.5,\n",
       "            1.6,\n",
       "            1.7,\n",
       "            1.8,\n",
       "            1.9,\n",
       "            2.0,\n",
       "            2.1,\n",
       "            2.2,\n",
       "            2.3,\n",
       "            2.4,\n",
       "            2.5,\n",
       "            2.6,\n",
       "            2.7,\n",
       "            2.8,\n",
       "            2.9,\n",
       "            3.0\n",
       "        ]\n",
       "    }\n",
       "]\n",
       ", {\n",
       "    \"showlegend\": false,\n",
       "    \"paper_bgcolor\": \"rgba(255, 255, 255, 1.000)\",\n",
       "    \"xaxis1\": {\n",
       "        \"showticklabels\": true,\n",
       "        \"gridwidth\": 0.5,\n",
       "        \"tickvals\": [\n",
       "            -3.0,\n",
       "            -2.0,\n",
       "            -1.0,\n",
       "            0.0,\n",
       "            1.0,\n",
       "            2.0,\n",
       "            3.0\n",
       "        ],\n",
       "        \"range\": [\n",
       "            -3.18,\n",
       "            3.18\n",
       "        ],\n",
       "        \"domain\": [\n",
       "            0.05100612423447069,\n",
       "            0.500845727617381\n",
       "        ],\n",
       "        \"mirror\": false,\n",
       "        \"tickangle\": 0,\n",
       "        \"showline\": true,\n",
       "        \"ticktext\": [\n",
       "            \"-3\",\n",
       "            \"-2\",\n",
       "            \"-1\",\n",
       "            \"0\",\n",
       "            \"1\",\n",
       "            \"2\",\n",
       "            \"3\"\n",
       "        ],\n",
       "        \"zeroline\": false,\n",
       "        \"tickfont\": {\n",
       "            \"color\": \"rgba(0, 0, 0, 1.000)\",\n",
       "            \"family\": \"sans-serif\",\n",
       "            \"size\": 11\n",
       "        },\n",
       "        \"zerolinecolor\": \"rgba(0, 0, 0, 1.000)\",\n",
       "        \"anchor\": \"y1\",\n",
       "        \"visible\": true,\n",
       "        \"ticks\": \"inside\",\n",
       "        \"tickmode\": \"array\",\n",
       "        \"linecolor\": \"rgba(0, 0, 0, 1.000)\",\n",
       "        \"showgrid\": true,\n",
       "        \"title\": \"\",\n",
       "        \"gridcolor\": \"rgba(0, 0, 0, 0.100)\",\n",
       "        \"titlefont\": {\n",
       "            \"color\": \"rgba(0, 0, 0, 1.000)\",\n",
       "            \"family\": \"sans-serif\",\n",
       "            \"size\": 15\n",
       "        },\n",
       "        \"tickcolor\": \"rgb(0, 0, 0)\",\n",
       "        \"type\": \"-\"\n",
       "    },\n",
       "    \"yaxis3\": {\n",
       "        \"showticklabels\": true,\n",
       "        \"gridwidth\": 0.5,\n",
       "        \"tickvals\": [\n",
       "            -20.0,\n",
       "            -10.0,\n",
       "            0.0,\n",
       "            10.0,\n",
       "            20.0\n",
       "        ],\n",
       "        \"range\": [\n",
       "            -28.62,\n",
       "            28.62\n",
       "        ],\n",
       "        \"domain\": [\n",
       "            0.03762029746281716,\n",
       "            0.4901574803149606\n",
       "        ],\n",
       "        \"mirror\": false,\n",
       "        \"tickangle\": 0,\n",
       "        \"showline\": true,\n",
       "        \"ticktext\": [\n",
       "            \"-20\",\n",
       "            \"-10\",\n",
       "            \"0\",\n",
       "            \"10\",\n",
       "            \"20\"\n",
       "        ],\n",
       "        \"zeroline\": false,\n",
       "        \"tickfont\": {\n",
       "            \"color\": \"rgba(0, 0, 0, 1.000)\",\n",
       "            \"family\": \"sans-serif\",\n",
       "            \"size\": 11\n",
       "        },\n",
       "        \"zerolinecolor\": \"rgba(0, 0, 0, 1.000)\",\n",
       "        \"anchor\": \"x3\",\n",
       "        \"visible\": true,\n",
       "        \"ticks\": \"inside\",\n",
       "        \"tickmode\": \"array\",\n",
       "        \"linecolor\": \"rgba(0, 0, 0, 1.000)\",\n",
       "        \"showgrid\": true,\n",
       "        \"title\": \"\",\n",
       "        \"gridcolor\": \"rgba(0, 0, 0, 0.100)\",\n",
       "        \"titlefont\": {\n",
       "            \"color\": \"rgba(0, 0, 0, 1.000)\",\n",
       "            \"family\": \"sans-serif\",\n",
       "            \"size\": 15\n",
       "        },\n",
       "        \"tickcolor\": \"rgb(0, 0, 0)\",\n",
       "        \"type\": \"-\"\n",
       "    },\n",
       "    \"height\": 400,\n",
       "    \"yaxis4\": {\n",
       "        \"showticklabels\": true,\n",
       "        \"gridwidth\": 0.5,\n",
       "        \"tickvals\": [\n",
       "            0.0,\n",
       "            20.0,\n",
       "            40.0,\n",
       "            60.0,\n",
       "            80.0\n",
       "        ],\n",
       "        \"range\": [\n",
       "            -2.4299999999999997,\n",
       "            83.43\n",
       "        ],\n",
       "        \"domain\": [\n",
       "            0.03762029746281716,\n",
       "            0.4901574803149606\n",
       "        ],\n",
       "        \"mirror\": false,\n",
       "        \"tickangle\": 0,\n",
       "        \"showline\": true,\n",
       "        \"ticktext\": [\n",
       "            \"0\",\n",
       "            \"20\",\n",
       "            \"40\",\n",
       "            \"60\",\n",
       "            \"80\"\n",
       "        ],\n",
       "        \"zeroline\": false,\n",
       "        \"tickfont\": {\n",
       "            \"color\": \"rgba(0, 0, 0, 1.000)\",\n",
       "            \"family\": \"sans-serif\",\n",
       "            \"size\": 11\n",
       "        },\n",
       "        \"zerolinecolor\": \"rgba(0, 0, 0, 1.000)\",\n",
       "        \"anchor\": \"x4\",\n",
       "        \"visible\": true,\n",
       "        \"ticks\": \"inside\",\n",
       "        \"tickmode\": \"array\",\n",
       "        \"linecolor\": \"rgba(0, 0, 0, 1.000)\",\n",
       "        \"showgrid\": true,\n",
       "        \"title\": \"\",\n",
       "        \"gridcolor\": \"rgba(0, 0, 0, 0.100)\",\n",
       "        \"titlefont\": {\n",
       "            \"color\": \"rgba(0, 0, 0, 1.000)\",\n",
       "            \"family\": \"sans-serif\",\n",
       "            \"size\": 15\n",
       "        },\n",
       "        \"tickcolor\": \"rgb(0, 0, 0)\",\n",
       "        \"type\": \"-\"\n",
       "    },\n",
       "    \"yaxis2\": {\n",
       "        \"showticklabels\": true,\n",
       "        \"gridwidth\": 0.5,\n",
       "        \"tickvals\": [\n",
       "            0.0,\n",
       "            2.0,\n",
       "            4.0,\n",
       "            6.0,\n",
       "            8.0\n",
       "        ],\n",
       "        \"range\": [\n",
       "            -0.27000000000000046,\n",
       "            9.27\n",
       "        ],\n",
       "        \"domain\": [\n",
       "            0.5376202974628171,\n",
       "            0.9901574803149606\n",
       "        ],\n",
       "        \"mirror\": false,\n",
       "        \"tickangle\": 0,\n",
       "        \"showline\": true,\n",
       "        \"ticktext\": [\n",
       "            \"0\",\n",
       "            \"2\",\n",
       "            \"4\",\n",
       "            \"6\",\n",
       "            \"8\"\n",
       "        ],\n",
       "        \"zeroline\": false,\n",
       "        \"tickfont\": {\n",
       "            \"color\": \"rgba(0, 0, 0, 1.000)\",\n",
       "            \"family\": \"sans-serif\",\n",
       "            \"size\": 11\n",
       "        },\n",
       "        \"zerolinecolor\": \"rgba(0, 0, 0, 1.000)\",\n",
       "        \"anchor\": \"x2\",\n",
       "        \"visible\": true,\n",
       "        \"ticks\": \"inside\",\n",
       "        \"tickmode\": \"array\",\n",
       "        \"linecolor\": \"rgba(0, 0, 0, 1.000)\",\n",
       "        \"showgrid\": true,\n",
       "        \"title\": \"\",\n",
       "        \"gridcolor\": \"rgba(0, 0, 0, 0.100)\",\n",
       "        \"titlefont\": {\n",
       "            \"color\": \"rgba(0, 0, 0, 1.000)\",\n",
       "            \"family\": \"sans-serif\",\n",
       "            \"size\": 15\n",
       "        },\n",
       "        \"tickcolor\": \"rgb(0, 0, 0)\",\n",
       "        \"type\": \"-\"\n",
       "    },\n",
       "    \"xaxis3\": {\n",
       "        \"showticklabels\": true,\n",
       "        \"gridwidth\": 0.5,\n",
       "        \"tickvals\": [\n",
       "            -3.0,\n",
       "            -2.0,\n",
       "            -1.0,\n",
       "            0.0,\n",
       "            1.0,\n",
       "            2.0,\n",
       "            3.0\n",
       "        ],\n",
       "        \"range\": [\n",
       "            -3.18,\n",
       "            3.18\n",
       "        ],\n",
       "        \"domain\": [\n",
       "            0.05100612423447069,\n",
       "            0.500845727617381\n",
       "        ],\n",
       "        \"mirror\": false,\n",
       "        \"tickangle\": 0,\n",
       "        \"showline\": true,\n",
       "        \"ticktext\": [\n",
       "            \"-3\",\n",
       "            \"-2\",\n",
       "            \"-1\",\n",
       "            \"0\",\n",
       "            \"1\",\n",
       "            \"2\",\n",
       "            \"3\"\n",
       "        ],\n",
       "        \"zeroline\": false,\n",
       "        \"tickfont\": {\n",
       "            \"color\": \"rgba(0, 0, 0, 1.000)\",\n",
       "            \"family\": \"sans-serif\",\n",
       "            \"size\": 11\n",
       "        },\n",
       "        \"zerolinecolor\": \"rgba(0, 0, 0, 1.000)\",\n",
       "        \"anchor\": \"y3\",\n",
       "        \"visible\": true,\n",
       "        \"ticks\": \"inside\",\n",
       "        \"tickmode\": \"array\",\n",
       "        \"linecolor\": \"rgba(0, 0, 0, 1.000)\",\n",
       "        \"showgrid\": true,\n",
       "        \"title\": \"\",\n",
       "        \"gridcolor\": \"rgba(0, 0, 0, 0.100)\",\n",
       "        \"titlefont\": {\n",
       "            \"color\": \"rgba(0, 0, 0, 1.000)\",\n",
       "            \"family\": \"sans-serif\",\n",
       "            \"size\": 15\n",
       "        },\n",
       "        \"tickcolor\": \"rgb(0, 0, 0)\",\n",
       "        \"type\": \"-\"\n",
       "    },\n",
       "    \"xaxis4\": {\n",
       "        \"showticklabels\": true,\n",
       "        \"gridwidth\": 0.5,\n",
       "        \"tickvals\": [\n",
       "            -3.0,\n",
       "            -2.0,\n",
       "            -1.0,\n",
       "            0.0,\n",
       "            1.0,\n",
       "            2.0,\n",
       "            3.0\n",
       "        ],\n",
       "        \"range\": [\n",
       "            -3.18,\n",
       "            3.18\n",
       "        ],\n",
       "        \"domain\": [\n",
       "            0.5435987168270632,\n",
       "            0.9934383202099737\n",
       "        ],\n",
       "        \"mirror\": false,\n",
       "        \"tickangle\": 0,\n",
       "        \"showline\": true,\n",
       "        \"ticktext\": [\n",
       "            \"-3\",\n",
       "            \"-2\",\n",
       "            \"-1\",\n",
       "            \"0\",\n",
       "            \"1\",\n",
       "            \"2\",\n",
       "            \"3\"\n",
       "        ],\n",
       "        \"zeroline\": false,\n",
       "        \"tickfont\": {\n",
       "            \"color\": \"rgba(0, 0, 0, 1.000)\",\n",
       "            \"family\": \"sans-serif\",\n",
       "            \"size\": 11\n",
       "        },\n",
       "        \"zerolinecolor\": \"rgba(0, 0, 0, 1.000)\",\n",
       "        \"anchor\": \"y4\",\n",
       "        \"visible\": true,\n",
       "        \"ticks\": \"inside\",\n",
       "        \"tickmode\": \"array\",\n",
       "        \"linecolor\": \"rgba(0, 0, 0, 1.000)\",\n",
       "        \"showgrid\": true,\n",
       "        \"title\": \"\",\n",
       "        \"gridcolor\": \"rgba(0, 0, 0, 0.100)\",\n",
       "        \"titlefont\": {\n",
       "            \"color\": \"rgba(0, 0, 0, 1.000)\",\n",
       "            \"family\": \"sans-serif\",\n",
       "            \"size\": 15\n",
       "        },\n",
       "        \"tickcolor\": \"rgb(0, 0, 0)\",\n",
       "        \"type\": \"-\"\n",
       "    },\n",
       "    \"yaxis1\": {\n",
       "        \"showticklabels\": true,\n",
       "        \"gridwidth\": 0.5,\n",
       "        \"tickvals\": [\n",
       "            -3.0,\n",
       "            -2.0,\n",
       "            -1.0,\n",
       "            0.0,\n",
       "            1.0,\n",
       "            2.0,\n",
       "            3.0\n",
       "        ],\n",
       "        \"range\": [\n",
       "            -3.18,\n",
       "            3.18\n",
       "        ],\n",
       "        \"domain\": [\n",
       "            0.5376202974628171,\n",
       "            0.9901574803149606\n",
       "        ],\n",
       "        \"mirror\": false,\n",
       "        \"tickangle\": 0,\n",
       "        \"showline\": true,\n",
       "        \"ticktext\": [\n",
       "            \"-3\",\n",
       "            \"-2\",\n",
       "            \"-1\",\n",
       "            \"0\",\n",
       "            \"1\",\n",
       "            \"2\",\n",
       "            \"3\"\n",
       "        ],\n",
       "        \"zeroline\": false,\n",
       "        \"tickfont\": {\n",
       "            \"color\": \"rgba(0, 0, 0, 1.000)\",\n",
       "            \"family\": \"sans-serif\",\n",
       "            \"size\": 11\n",
       "        },\n",
       "        \"zerolinecolor\": \"rgba(0, 0, 0, 1.000)\",\n",
       "        \"anchor\": \"x1\",\n",
       "        \"visible\": true,\n",
       "        \"ticks\": \"inside\",\n",
       "        \"tickmode\": \"array\",\n",
       "        \"linecolor\": \"rgba(0, 0, 0, 1.000)\",\n",
       "        \"showgrid\": true,\n",
       "        \"title\": \"\",\n",
       "        \"gridcolor\": \"rgba(0, 0, 0, 0.100)\",\n",
       "        \"titlefont\": {\n",
       "            \"color\": \"rgba(0, 0, 0, 1.000)\",\n",
       "            \"family\": \"sans-serif\",\n",
       "            \"size\": 15\n",
       "        },\n",
       "        \"tickcolor\": \"rgb(0, 0, 0)\",\n",
       "        \"type\": \"-\"\n",
       "    },\n",
       "    \"annotations\": [],\n",
       "    \"xaxis2\": {\n",
       "        \"showticklabels\": true,\n",
       "        \"gridwidth\": 0.5,\n",
       "        \"tickvals\": [\n",
       "            -3.0,\n",
       "            -2.0,\n",
       "            -1.0,\n",
       "            0.0,\n",
       "            1.0,\n",
       "            2.0,\n",
       "            3.0\n",
       "        ],\n",
       "        \"range\": [\n",
       "            -3.18,\n",
       "            3.18\n",
       "        ],\n",
       "        \"domain\": [\n",
       "            0.5435987168270632,\n",
       "            0.9934383202099737\n",
       "        ],\n",
       "        \"mirror\": false,\n",
       "        \"tickangle\": 0,\n",
       "        \"showline\": true,\n",
       "        \"ticktext\": [\n",
       "            \"-3\",\n",
       "            \"-2\",\n",
       "            \"-1\",\n",
       "            \"0\",\n",
       "            \"1\",\n",
       "            \"2\",\n",
       "            \"3\"\n",
       "        ],\n",
       "        \"zeroline\": false,\n",
       "        \"tickfont\": {\n",
       "            \"color\": \"rgba(0, 0, 0, 1.000)\",\n",
       "            \"family\": \"sans-serif\",\n",
       "            \"size\": 11\n",
       "        },\n",
       "        \"zerolinecolor\": \"rgba(0, 0, 0, 1.000)\",\n",
       "        \"anchor\": \"y2\",\n",
       "        \"visible\": true,\n",
       "        \"ticks\": \"inside\",\n",
       "        \"tickmode\": \"array\",\n",
       "        \"linecolor\": \"rgba(0, 0, 0, 1.000)\",\n",
       "        \"showgrid\": true,\n",
       "        \"title\": \"\",\n",
       "        \"gridcolor\": \"rgba(0, 0, 0, 0.100)\",\n",
       "        \"titlefont\": {\n",
       "            \"color\": \"rgba(0, 0, 0, 1.000)\",\n",
       "            \"family\": \"sans-serif\",\n",
       "            \"size\": 15\n",
       "        },\n",
       "        \"tickcolor\": \"rgb(0, 0, 0)\",\n",
       "        \"type\": \"-\"\n",
       "    },\n",
       "    \"plot_bgcolor\": \"rgba(255, 255, 255, 1.000)\",\n",
       "    \"margin\": {\n",
       "        \"l\": 0,\n",
       "        \"b\": 20,\n",
       "        \"r\": 0,\n",
       "        \"t\": 20\n",
       "    },\n",
       "    \"width\": 600\n",
       "}\n",
       ");\n",
       "    });\n",
       "    </script>\n"
      ]
     },
     "execution_count": 159,
     "metadata": {},
     "output_type": "execute_result"
    }
   ],
   "source": [
    "p1 = plot(x, x)\n",
    "p2 = plot(x, x.^2)\n",
    "p3 = plot(x, x.^3)\n",
    "p4 = plot(x, x.^4)\n",
    "plot(p1,p2,p3,p4, layout=(2,2), legend=false)"
   ]
  },
  {
   "cell_type": "code",
   "execution_count": 160,
   "id": "1b1e1522",
   "metadata": {
    "scrolled": true
   },
   "outputs": [
    {
     "data": {
      "text/html": [
       "# 230 methods for generic function <b>+</b> from \u001b[90mBase\u001b[39m:<ul><li> +(z::<b>Complex{Bool}</b>, x::<b>Bool</b>) in Base at <a href=\"https://github.com/JuliaLang/julia/tree/48d4fd48430af58502699fdf3504b90589df3852/base/complex.jl#L306\" target=\"_blank\">complex.jl:306</a></li> <li> +(z::<b>Complex{Bool}</b>, x::<b>Real</b>) in Base at <a href=\"https://github.com/JuliaLang/julia/tree/48d4fd48430af58502699fdf3504b90589df3852/base/complex.jl#L320\" target=\"_blank\">complex.jl:320</a></li> <li> +(z::<b>Complex</b>, x::<b>Bool</b>) in Base at <a href=\"https://github.com/JuliaLang/julia/tree/48d4fd48430af58502699fdf3504b90589df3852/base/complex.jl#L313\" target=\"_blank\">complex.jl:313</a></li> <li> +(x::<b>Bool</b>, z::<b>Complex{Bool}</b>) in Base at <a href=\"https://github.com/JuliaLang/julia/tree/48d4fd48430af58502699fdf3504b90589df3852/base/complex.jl#L305\" target=\"_blank\">complex.jl:305</a></li> <li> +(x::<b>Bool</b>, y::<b>Bool</b>) in Base at <a href=\"https://github.com/JuliaLang/julia/tree/48d4fd48430af58502699fdf3504b90589df3852/base/bool.jl#L166\" target=\"_blank\">bool.jl:166</a></li> <li> +(x::<b>Bool</b>) in Base at <a href=\"https://github.com/JuliaLang/julia/tree/48d4fd48430af58502699fdf3504b90589df3852/base/bool.jl#L163\" target=\"_blank\">bool.jl:163</a></li> <li> +(x::<b>Bool</b>, z::<b>Complex</b>) in Base at <a href=\"https://github.com/JuliaLang/julia/tree/48d4fd48430af58502699fdf3504b90589df3852/base/complex.jl#L312\" target=\"_blank\">complex.jl:312</a></li> <li> +(x::<b>Real</b>, z::<b>Complex{Bool}</b>) in Base at <a href=\"https://github.com/JuliaLang/julia/tree/48d4fd48430af58502699fdf3504b90589df3852/base/complex.jl#L319\" target=\"_blank\">complex.jl:319</a></li> <li> +(x::<b>Bool</b>, y::<b>T</b>)<i> where T<:AbstractFloat</i> in Base at <a href=\"https://github.com/JuliaLang/julia/tree/48d4fd48430af58502699fdf3504b90589df3852/base/bool.jl#L173\" target=\"_blank\">bool.jl:173</a></li> <li> +(x::<b>BigInt</b>, y::<b>BigInt</b>) in Base.GMP at <a href=\"https://github.com/JuliaLang/julia/tree/48d4fd48430af58502699fdf3504b90589df3852/base/gmp.jl#L501\" target=\"_blank\">gmp.jl:501</a></li> <li> +(a::<b>BigInt</b>, b::<b>BigInt</b>, c::<b>BigInt</b>) in Base.GMP at <a href=\"https://github.com/JuliaLang/julia/tree/48d4fd48430af58502699fdf3504b90589df3852/base/gmp.jl#L541\" target=\"_blank\">gmp.jl:541</a></li> <li> +(a::<b>BigInt</b>, b::<b>BigInt</b>, c::<b>BigInt</b>, d::<b>BigInt</b>) in Base.GMP at <a href=\"https://github.com/JuliaLang/julia/tree/48d4fd48430af58502699fdf3504b90589df3852/base/gmp.jl#L542\" target=\"_blank\">gmp.jl:542</a></li> <li> +(a::<b>BigInt</b>, b::<b>BigInt</b>, c::<b>BigInt</b>, d::<b>BigInt</b>, e::<b>BigInt</b>) in Base.GMP at <a href=\"https://github.com/JuliaLang/julia/tree/48d4fd48430af58502699fdf3504b90589df3852/base/gmp.jl#L543\" target=\"_blank\">gmp.jl:543</a></li> <li> +(x::<b>BigInt</b>, y::<b>BigInt</b>, rest::<b>BigInt...</b>) in Base.GMP at <a href=\"https://github.com/JuliaLang/julia/tree/48d4fd48430af58502699fdf3504b90589df3852/base/gmp.jl#L683\" target=\"_blank\">gmp.jl:683</a></li> <li> +(c::<b>BigInt</b>, x::<b>BigFloat</b>) in Base.MPFR at <a href=\"https://github.com/JuliaLang/julia/tree/48d4fd48430af58502699fdf3504b90589df3852/base/mpfr.jl#L468\" target=\"_blank\">mpfr.jl:468</a></li> <li> +(x::<b>BigInt</b>, c::<b>Union{UInt16, UInt32, UInt64, UInt8}</b>) in Base.GMP at <a href=\"https://github.com/JuliaLang/julia/tree/48d4fd48430af58502699fdf3504b90589df3852/base/gmp.jl#L549\" target=\"_blank\">gmp.jl:549</a></li> <li> +(x::<b>BigInt</b>, c::<b>Union{Int16, Int32, Int64, Int8}</b>) in Base.GMP at <a href=\"https://github.com/JuliaLang/julia/tree/48d4fd48430af58502699fdf3504b90589df3852/base/gmp.jl#L555\" target=\"_blank\">gmp.jl:555</a></li> <li> +(::<b>Missing</b>, ::<b>Missing</b>) in Base at <a href=\"https://github.com/JuliaLang/julia/tree/48d4fd48430af58502699fdf3504b90589df3852/base/missing.jl#L122\" target=\"_blank\">missing.jl:122</a></li> <li> +(::<b>Missing</b>) in Base at <a href=\"https://github.com/JuliaLang/julia/tree/48d4fd48430af58502699fdf3504b90589df3852/base/missing.jl#L101\" target=\"_blank\">missing.jl:101</a></li> <li> +(x::<b>Missing</b>, y::<b>Dates.AbstractTime</b>) in Dates at <a href=\"file:///Users/julia/.julia/scratchspaces/a66863c6-20e8-4ff4-8a62-49f30b1f605e/agent-cache/default-grannysmith-C07ZM05NJYVY.0/build/default-grannysmith-C07ZM05NJYVY-0/julialang/julia-release-1-dot-10/usr/share/julia/stdlib/v1.10/Dates/src/arithmetic.jl\" target=\"_blank\">/Applications/Julia-1.10.app/Contents/Resources/julia/share/julia/stdlib/v1.10/Dates/src/arithmetic.jl:91</a></li> <li> +(::<b>Missing</b>, ::<b>Number</b>) in Base at <a href=\"https://github.com/JuliaLang/julia/tree/48d4fd48430af58502699fdf3504b90589df3852/base/missing.jl#L123\" target=\"_blank\">missing.jl:123</a></li> <li> +(level::<b>Base.CoreLogging.LogLevel</b>, inc::<b>Integer</b>) in Base.CoreLogging at <a href=\"https://github.com/JuliaLang/julia/tree/48d4fd48430af58502699fdf3504b90589df3852/base/logging.jl#L131\" target=\"_blank\">logging.jl:131</a></li> <li> +(x::<b>BigFloat</b>, c::<b>BigInt</b>) in Base.MPFR at <a href=\"https://github.com/JuliaLang/julia/tree/48d4fd48430af58502699fdf3504b90589df3852/base/mpfr.jl#L463\" target=\"_blank\">mpfr.jl:463</a></li> <li> +(a::<b>BigFloat</b>, b::<b>BigFloat</b>, c::<b>BigFloat</b>, d::<b>BigFloat</b>, e::<b>BigFloat</b>) in Base.MPFR at <a href=\"https://github.com/JuliaLang/julia/tree/48d4fd48430af58502699fdf3504b90589df3852/base/mpfr.jl#L619\" target=\"_blank\">mpfr.jl:619</a></li> <li> +(x::<b>BigFloat</b>, y::<b>BigFloat</b>) in Base.MPFR at <a href=\"https://github.com/JuliaLang/julia/tree/48d4fd48430af58502699fdf3504b90589df3852/base/mpfr.jl#L432\" target=\"_blank\">mpfr.jl:432</a></li> <li> +(a::<b>BigFloat</b>, b::<b>BigFloat</b>, c::<b>BigFloat</b>) in Base.MPFR at <a href=\"https://github.com/JuliaLang/julia/tree/48d4fd48430af58502699fdf3504b90589df3852/base/mpfr.jl#L606\" target=\"_blank\">mpfr.jl:606</a></li> <li> +(a::<b>BigFloat</b>, b::<b>BigFloat</b>, c::<b>BigFloat</b>, d::<b>BigFloat</b>) in Base.MPFR at <a href=\"https://github.com/JuliaLang/julia/tree/48d4fd48430af58502699fdf3504b90589df3852/base/mpfr.jl#L612\" target=\"_blank\">mpfr.jl:612</a></li> <li> +(x::<b>BigFloat</b>, c::<b>Union{UInt16, UInt32, UInt64, UInt8}</b>) in Base.MPFR at <a href=\"https://github.com/JuliaLang/julia/tree/48d4fd48430af58502699fdf3504b90589df3852/base/mpfr.jl#L439\" target=\"_blank\">mpfr.jl:439</a></li> <li> +(x::<b>BigFloat</b>, c::<b>Union{Int16, Int32, Int64, Int8}</b>) in Base.MPFR at <a href=\"https://github.com/JuliaLang/julia/tree/48d4fd48430af58502699fdf3504b90589df3852/base/mpfr.jl#L447\" target=\"_blank\">mpfr.jl:447</a></li> <li> +(x::<b>BigFloat</b>, c::<b>Union{Float16, Float32, Float64}</b>) in Base.MPFR at <a href=\"https://github.com/JuliaLang/julia/tree/48d4fd48430af58502699fdf3504b90589df3852/base/mpfr.jl#L455\" target=\"_blank\">mpfr.jl:455</a></li> <li> +(B::<b>BitMatrix</b>, J::<b>LinearAlgebra.UniformScaling</b>) in LinearAlgebra at <a href=\"file:///Users/julia/.julia/scratchspaces/a66863c6-20e8-4ff4-8a62-49f30b1f605e/agent-cache/default-grannysmith-C07ZM05NJYVY.0/build/default-grannysmith-C07ZM05NJYVY-0/julialang/julia-release-1-dot-10/usr/share/julia/stdlib/v1.10/LinearAlgebra/src/uniformscaling.jl\" target=\"_blank\">/Applications/Julia-1.10.app/Contents/Resources/julia/share/julia/stdlib/v1.10/LinearAlgebra/src/uniformscaling.jl:151</a></li> <li> +(x::<b>Dates.CompoundPeriod</b>, y::<b>Dates.CompoundPeriod</b>) in Dates at <a href=\"file:///Users/julia/.julia/scratchspaces/a66863c6-20e8-4ff4-8a62-49f30b1f605e/agent-cache/default-grannysmith-C07ZM05NJYVY.0/build/default-grannysmith-C07ZM05NJYVY-0/julialang/julia-release-1-dot-10/usr/share/julia/stdlib/v1.10/Dates/src/periods.jl\" target=\"_blank\">/Applications/Julia-1.10.app/Contents/Resources/julia/share/julia/stdlib/v1.10/Dates/src/periods.jl:334</a></li> <li> +(x::<b>Dates.CompoundPeriod</b>, y::<b>Dates.TimeType</b>) in Dates at <a href=\"file:///Users/julia/.julia/scratchspaces/a66863c6-20e8-4ff4-8a62-49f30b1f605e/agent-cache/default-grannysmith-C07ZM05NJYVY.0/build/default-grannysmith-C07ZM05NJYVY-0/julialang/julia-release-1-dot-10/usr/share/julia/stdlib/v1.10/Dates/src/periods.jl\" target=\"_blank\">/Applications/Julia-1.10.app/Contents/Resources/julia/share/julia/stdlib/v1.10/Dates/src/periods.jl:362</a></li> <li> +(x::<b>Dates.CompoundPeriod</b>, y::<b>Dates.Period</b>) in Dates at <a href=\"file:///Users/julia/.julia/scratchspaces/a66863c6-20e8-4ff4-8a62-49f30b1f605e/agent-cache/default-grannysmith-C07ZM05NJYVY.0/build/default-grannysmith-C07ZM05NJYVY-0/julialang/julia-release-1-dot-10/usr/share/julia/stdlib/v1.10/Dates/src/periods.jl\" target=\"_blank\">/Applications/Julia-1.10.app/Contents/Resources/julia/share/julia/stdlib/v1.10/Dates/src/periods.jl:332</a></li> <li> +(t::<b>Dates.Time</b>, dt::<b>Dates.Date</b>) in Dates at <a href=\"file:///Users/julia/.julia/scratchspaces/a66863c6-20e8-4ff4-8a62-49f30b1f605e/agent-cache/default-grannysmith-C07ZM05NJYVY.0/build/default-grannysmith-C07ZM05NJYVY-0/julialang/julia-release-1-dot-10/usr/share/julia/stdlib/v1.10/Dates/src/arithmetic.jl\" target=\"_blank\">/Applications/Julia-1.10.app/Contents/Resources/julia/share/julia/stdlib/v1.10/Dates/src/arithmetic.jl:22</a></li> <li> +(x::<b>Dates.Time</b>, y::<b>Dates.TimePeriod</b>) in Dates at <a href=\"file:///Users/julia/.julia/scratchspaces/a66863c6-20e8-4ff4-8a62-49f30b1f605e/agent-cache/default-grannysmith-C07ZM05NJYVY.0/build/default-grannysmith-C07ZM05NJYVY-0/julialang/julia-release-1-dot-10/usr/share/julia/stdlib/v1.10/Dates/src/arithmetic.jl\" target=\"_blank\">/Applications/Julia-1.10.app/Contents/Resources/julia/share/julia/stdlib/v1.10/Dates/src/arithmetic.jl:85</a></li> <li> +(x::<b>Dates.DateTime</b>, y::<b>Dates.Quarter</b>) in Dates at <a href=\"file:///Users/julia/.julia/scratchspaces/a66863c6-20e8-4ff4-8a62-49f30b1f605e/agent-cache/default-grannysmith-C07ZM05NJYVY.0/build/default-grannysmith-C07ZM05NJYVY-0/julialang/julia-release-1-dot-10/usr/share/julia/stdlib/v1.10/Dates/src/arithmetic.jl\" target=\"_blank\">/Applications/Julia-1.10.app/Contents/Resources/julia/share/julia/stdlib/v1.10/Dates/src/arithmetic.jl:77</a></li> <li> +(dt::<b>Dates.DateTime</b>, z::<b>Dates.Month</b>) in Dates at <a href=\"file:///Users/julia/.julia/scratchspaces/a66863c6-20e8-4ff4-8a62-49f30b1f605e/agent-cache/default-grannysmith-C07ZM05NJYVY.0/build/default-grannysmith-C07ZM05NJYVY-0/julialang/julia-release-1-dot-10/usr/share/julia/stdlib/v1.10/Dates/src/arithmetic.jl\" target=\"_blank\">/Applications/Julia-1.10.app/Contents/Resources/julia/share/julia/stdlib/v1.10/Dates/src/arithmetic.jl:49</a></li> <li> +(dt::<b>Dates.DateTime</b>, y::<b>Dates.Year</b>) in Dates at <a href=\"file:///Users/julia/.julia/scratchspaces/a66863c6-20e8-4ff4-8a62-49f30b1f605e/agent-cache/default-grannysmith-C07ZM05NJYVY.0/build/default-grannysmith-C07ZM05NJYVY-0/julialang/julia-release-1-dot-10/usr/share/julia/stdlib/v1.10/Dates/src/arithmetic.jl\" target=\"_blank\">/Applications/Julia-1.10.app/Contents/Resources/julia/share/julia/stdlib/v1.10/Dates/src/arithmetic.jl:25</a></li> <li> +(x::<b>Dates.DateTime</b>, y::<b>Dates.Period</b>) in Dates at <a href=\"file:///Users/julia/.julia/scratchspaces/a66863c6-20e8-4ff4-8a62-49f30b1f605e/agent-cache/default-grannysmith-C07ZM05NJYVY.0/build/default-grannysmith-C07ZM05NJYVY-0/julialang/julia-release-1-dot-10/usr/share/julia/stdlib/v1.10/Dates/src/arithmetic.jl\" target=\"_blank\">/Applications/Julia-1.10.app/Contents/Resources/julia/share/julia/stdlib/v1.10/Dates/src/arithmetic.jl:83</a></li> <li> +(a::<b>Pkg.Resolve.VersionWeight</b>, b::<b>Pkg.Resolve.VersionWeight</b>) in Pkg.Resolve at <a href=\"file:///Users/julia/.julia/scratchspaces/a66863c6-20e8-4ff4-8a62-49f30b1f605e/agent-cache/default-grannysmith-C07ZM05NJYVY.0/build/default-grannysmith-C07ZM05NJYVY-0/julialang/julia-release-1-dot-10/usr/share/julia/stdlib/v1.10/Pkg/src/Resolve/versionweights.jl\" target=\"_blank\">/Applications/Julia-1.10.app/Contents/Resources/julia/share/julia/stdlib/v1.10/Pkg/src/Resolve/versionweights.jl:22</a></li> <li> +(a::<b>Pkg.Resolve.FieldValue</b>, b::<b>Pkg.Resolve.FieldValue</b>) in Pkg.Resolve at <a href=\"file:///Users/julia/.julia/scratchspaces/a66863c6-20e8-4ff4-8a62-49f30b1f605e/agent-cache/default-grannysmith-C07ZM05NJYVY.0/build/default-grannysmith-C07ZM05NJYVY-0/julialang/julia-release-1-dot-10/usr/share/julia/stdlib/v1.10/Pkg/src/Resolve/fieldvalues.jl\" target=\"_blank\">/Applications/Julia-1.10.app/Contents/Resources/julia/share/julia/stdlib/v1.10/Pkg/src/Resolve/fieldvalues.jl:43</a></li> <li> +(x::<b>Rational{BigInt}</b>, y::<b>Rational{BigInt}</b>) in Base.GMP.MPQ at <a href=\"https://github.com/JuliaLang/julia/tree/48d4fd48430af58502699fdf3504b90589df3852/base/gmp.jl#L1061\" target=\"_blank\">gmp.jl:1061</a></li> <li> +(a::<b>OpenSSL.BigNum</b>, b::<b>OpenSSL.BigNum</b>) in OpenSSL at <a href=\"file:///Users/koichiro/.julia/packages/OpenSSL/hXs2T/src/OpenSSL.jl\" target=\"_blank\">/Users/koichiro/.julia/packages/OpenSSL/hXs2T/src/OpenSSL.jl:747</a></li> <li> +(x::<b>Dates.Date</b>, y::<b>Dates.Day</b>) in Dates at <a href=\"file:///Users/julia/.julia/scratchspaces/a66863c6-20e8-4ff4-8a62-49f30b1f605e/agent-cache/default-grannysmith-C07ZM05NJYVY.0/build/default-grannysmith-C07ZM05NJYVY-0/julialang/julia-release-1-dot-10/usr/share/julia/stdlib/v1.10/Dates/src/arithmetic.jl\" target=\"_blank\">/Applications/Julia-1.10.app/Contents/Resources/julia/share/julia/stdlib/v1.10/Dates/src/arithmetic.jl:81</a></li> <li> +(x::<b>Dates.Date</b>, y::<b>Dates.Week</b>) in Dates at <a href=\"file:///Users/julia/.julia/scratchspaces/a66863c6-20e8-4ff4-8a62-49f30b1f605e/agent-cache/default-grannysmith-C07ZM05NJYVY.0/build/default-grannysmith-C07ZM05NJYVY-0/julialang/julia-release-1-dot-10/usr/share/julia/stdlib/v1.10/Dates/src/arithmetic.jl\" target=\"_blank\">/Applications/Julia-1.10.app/Contents/Resources/julia/share/julia/stdlib/v1.10/Dates/src/arithmetic.jl:79</a></li> <li> +(x::<b>Dates.Date</b>, y::<b>Dates.Quarter</b>) in Dates at <a href=\"file:///Users/julia/.julia/scratchspaces/a66863c6-20e8-4ff4-8a62-49f30b1f605e/agent-cache/default-grannysmith-C07ZM05NJYVY.0/build/default-grannysmith-C07ZM05NJYVY-0/julialang/julia-release-1-dot-10/usr/share/julia/stdlib/v1.10/Dates/src/arithmetic.jl\" target=\"_blank\">/Applications/Julia-1.10.app/Contents/Resources/julia/share/julia/stdlib/v1.10/Dates/src/arithmetic.jl:75</a></li> <li> +(dt::<b>Dates.Date</b>, z::<b>Dates.Month</b>) in Dates at <a href=\"file:///Users/julia/.julia/scratchspaces/a66863c6-20e8-4ff4-8a62-49f30b1f605e/agent-cache/default-grannysmith-C07ZM05NJYVY.0/build/default-grannysmith-C07ZM05NJYVY-0/julialang/julia-release-1-dot-10/usr/share/julia/stdlib/v1.10/Dates/src/arithmetic.jl\" target=\"_blank\">/Applications/Julia-1.10.app/Contents/Resources/julia/share/julia/stdlib/v1.10/Dates/src/arithmetic.jl:56</a></li> <li> +(dt::<b>Dates.Date</b>, y::<b>Dates.Year</b>) in Dates at <a href=\"file:///Users/julia/.julia/scratchspaces/a66863c6-20e8-4ff4-8a62-49f30b1f605e/agent-cache/default-grannysmith-C07ZM05NJYVY.0/build/default-grannysmith-C07ZM05NJYVY-0/julialang/julia-release-1-dot-10/usr/share/julia/stdlib/v1.10/Dates/src/arithmetic.jl\" target=\"_blank\">/Applications/Julia-1.10.app/Contents/Resources/julia/share/julia/stdlib/v1.10/Dates/src/arithmetic.jl:29</a></li> <li> +(dt::<b>Dates.Date</b>, t::<b>Dates.Time</b>) in Dates at <a href=\"file:///Users/julia/.julia/scratchspaces/a66863c6-20e8-4ff4-8a62-49f30b1f605e/agent-cache/default-grannysmith-C07ZM05NJYVY.0/build/default-grannysmith-C07ZM05NJYVY-0/julialang/julia-release-1-dot-10/usr/share/julia/stdlib/v1.10/Dates/src/arithmetic.jl\" target=\"_blank\">/Applications/Julia-1.10.app/Contents/Resources/julia/share/julia/stdlib/v1.10/Dates/src/arithmetic.jl:21</a></li> <li> +(A::<b>LinearAlgebra.Hermitian</b>, B::<b>LinearAlgebra.Hermitian</b>) in LinearAlgebra at <a href=\"file:///Users/julia/.julia/scratchspaces/a66863c6-20e8-4ff4-8a62-49f30b1f605e/agent-cache/default-grannysmith-C07ZM05NJYVY.0/build/default-grannysmith-C07ZM05NJYVY-0/julialang/julia-release-1-dot-10/usr/share/julia/stdlib/v1.10/LinearAlgebra/src/symmetric.jl\" target=\"_blank\">/Applications/Julia-1.10.app/Contents/Resources/julia/share/julia/stdlib/v1.10/LinearAlgebra/src/symmetric.jl:504</a></li> <li> +(A::<b>LinearAlgebra.Hermitian</b>, B::<b>LinearAlgebra.SymTridiagonal{var\"#s126\", V} where {var\"#s126\"<:Real, V<:AbstractVector{var\"#s126\"}}</b>) in LinearAlgebra at <a href=\"file:///Users/julia/.julia/scratchspaces/a66863c6-20e8-4ff4-8a62-49f30b1f605e/agent-cache/default-grannysmith-C07ZM05NJYVY.0/build/default-grannysmith-C07ZM05NJYVY-0/julialang/julia-release-1-dot-10/usr/share/julia/stdlib/v1.10/LinearAlgebra/src/symmetric.jl\" target=\"_blank\">/Applications/Julia-1.10.app/Contents/Resources/julia/share/julia/stdlib/v1.10/LinearAlgebra/src/symmetric.jl:523</a></li> <li> +(A::<b>LinearAlgebra.Hermitian{<:Any, <:SparseArrays.AbstractSparseMatrix}</b>, B::<b>SparseArrays.AbstractSparseMatrix</b>) in SparseArrays at <a href=\"file:///Users/julia/.julia/scratchspaces/a66863c6-20e8-4ff4-8a62-49f30b1f605e/agent-cache/default-grannysmith-C07ZM05NJYVY.0/build/default-grannysmith-C07ZM05NJYVY-0/julialang/julia-release-1-dot-10/usr/share/julia/stdlib/v1.10/SparseArrays/src/linalg.jl\" target=\"_blank\">/Applications/Julia-1.10.app/Contents/Resources/julia/share/julia/stdlib/v1.10/SparseArrays/src/linalg.jl:16</a></li> <li> +(A::<b>LinearAlgebra.Hermitian</b>, B::<b>SparseArrays.AbstractSparseMatrix</b>) in SparseArrays at <a href=\"file:///Users/julia/.julia/scratchspaces/a66863c6-20e8-4ff4-8a62-49f30b1f605e/agent-cache/default-grannysmith-C07ZM05NJYVY.0/build/default-grannysmith-C07ZM05NJYVY-0/julialang/julia-release-1-dot-10/usr/share/julia/stdlib/v1.10/SparseArrays/src/linalg.jl\" target=\"_blank\">/Applications/Julia-1.10.app/Contents/Resources/julia/share/julia/stdlib/v1.10/SparseArrays/src/linalg.jl:19</a></li> <li> +(H::<b>LinearAlgebra.Hermitian</b>, D::<b>LinearAlgebra.Diagonal{var\"#s994\", V} where {var\"#s994\"<:Real, V<:AbstractVector{var\"#s994\"}}</b>) in LinearAlgebra at <a href=\"file:///Users/julia/.julia/scratchspaces/a66863c6-20e8-4ff4-8a62-49f30b1f605e/agent-cache/default-grannysmith-C07ZM05NJYVY.0/build/default-grannysmith-C07ZM05NJYVY-0/julialang/julia-release-1-dot-10/usr/share/julia/stdlib/v1.10/LinearAlgebra/src/diagonal.jl\" target=\"_blank\">/Applications/Julia-1.10.app/Contents/Resources/julia/share/julia/stdlib/v1.10/LinearAlgebra/src/diagonal.jl:238</a></li> <li> +(A::<b>LinearAlgebra.Hermitian{<:Any, <:SparseArrays.AbstractSparseMatrix}</b>, B::<b>LinearAlgebra.Symmetric{<:Real, <:SparseArrays.AbstractSparseMatrix}</b>) in SparseArrays at <a href=\"file:///Users/julia/.julia/scratchspaces/a66863c6-20e8-4ff4-8a62-49f30b1f605e/agent-cache/default-grannysmith-C07ZM05NJYVY.0/build/default-grannysmith-C07ZM05NJYVY-0/julialang/julia-release-1-dot-10/usr/share/julia/stdlib/v1.10/SparseArrays/src/linalg.jl\" target=\"_blank\">/Applications/Julia-1.10.app/Contents/Resources/julia/share/julia/stdlib/v1.10/SparseArrays/src/linalg.jl:27</a></li> <li> +(A::<b>LinearAlgebra.Hermitian{<:Any, <:SparseArrays.AbstractSparseMatrix}</b>, B::<b>LinearAlgebra.Symmetric{<:Any, <:SparseArrays.AbstractSparseMatrix}</b>) in SparseArrays at <a href=\"file:///Users/julia/.julia/scratchspaces/a66863c6-20e8-4ff4-8a62-49f30b1f605e/agent-cache/default-grannysmith-C07ZM05NJYVY.0/build/default-grannysmith-C07ZM05NJYVY-0/julialang/julia-release-1-dot-10/usr/share/julia/stdlib/v1.10/SparseArrays/src/linalg.jl\" target=\"_blank\">/Applications/Julia-1.10.app/Contents/Resources/julia/share/julia/stdlib/v1.10/SparseArrays/src/linalg.jl:25</a></li> <li> +(A::<b>LinearAlgebra.Hermitian</b>, B::<b>LinearAlgebra.Symmetric{var\"#s994\", S} where {var\"#s994\"<:Real, S<:(AbstractMatrix{<:var\"#s994\"})}</b>) in LinearAlgebra at <a href=\"file:///Users/julia/.julia/scratchspaces/a66863c6-20e8-4ff4-8a62-49f30b1f605e/agent-cache/default-grannysmith-C07ZM05NJYVY.0/build/default-grannysmith-C07ZM05NJYVY-0/julialang/julia-release-1-dot-10/usr/share/julia/stdlib/v1.10/LinearAlgebra/src/symmetric.jl\" target=\"_blank\">/Applications/Julia-1.10.app/Contents/Resources/julia/share/julia/stdlib/v1.10/LinearAlgebra/src/symmetric.jl:518</a></li> <li> +(A::<b>LinearAlgebra.Hermitian</b>, J::<b>LinearAlgebra.UniformScaling{<:Complex}</b>) in LinearAlgebra at <a href=\"file:///Users/julia/.julia/scratchspaces/a66863c6-20e8-4ff4-8a62-49f30b1f605e/agent-cache/default-grannysmith-C07ZM05NJYVY.0/build/default-grannysmith-C07ZM05NJYVY-0/julialang/julia-release-1-dot-10/usr/share/julia/stdlib/v1.10/LinearAlgebra/src/uniformscaling.jl\" target=\"_blank\">/Applications/Julia-1.10.app/Contents/Resources/julia/share/julia/stdlib/v1.10/LinearAlgebra/src/uniformscaling.jl:195</a></li> <li> +(A::<b>Array</b>, B::<b>SparseArrays.AbstractSparseMatrixCSC</b>) in SparseArrays at <a href=\"file:///Users/julia/.julia/scratchspaces/a66863c6-20e8-4ff4-8a62-49f30b1f605e/agent-cache/default-grannysmith-C07ZM05NJYVY.0/build/default-grannysmith-C07ZM05NJYVY-0/julialang/julia-release-1-dot-10/usr/share/julia/stdlib/v1.10/SparseArrays/src/sparsematrix.jl\" target=\"_blank\">/Applications/Julia-1.10.app/Contents/Resources/julia/share/julia/stdlib/v1.10/SparseArrays/src/sparsematrix.jl:2246</a></li> <li> +(A::<b>Array</b>, Bs::<b>Array...</b>) in Base at <a href=\"https://github.com/JuliaLang/julia/tree/48d4fd48430af58502699fdf3504b90589df3852/base/arraymath.jl#L12\" target=\"_blank\">arraymath.jl:12</a></li> <li> +(x::<b>SparseArrays.AbstractSparseVector</b>, y::<b>SparseArrays.AbstractSparseVector</b>) in SparseArrays at <a href=\"file:///Users/julia/.julia/scratchspaces/a66863c6-20e8-4ff4-8a62-49f30b1f605e/agent-cache/default-grannysmith-C07ZM05NJYVY.0/build/default-grannysmith-C07ZM05NJYVY-0/julialang/julia-release-1-dot-10/usr/share/julia/stdlib/v1.10/SparseArrays/src/sparsevector.jl\" target=\"_blank\">/Applications/Julia-1.10.app/Contents/Resources/julia/share/julia/stdlib/v1.10/SparseArrays/src/sparsevector.jl:1562</a></li> <li> +(A::<b>SparseArrays.AbstractSparseMatrix</b>, B::<b>LinearAlgebra.Hermitian{<:Any, <:SparseArrays.AbstractSparseMatrix}</b>) in SparseArrays at <a href=\"file:///Users/julia/.julia/scratchspaces/a66863c6-20e8-4ff4-8a62-49f30b1f605e/agent-cache/default-grannysmith-C07ZM05NJYVY.0/build/default-grannysmith-C07ZM05NJYVY-0/julialang/julia-release-1-dot-10/usr/share/julia/stdlib/v1.10/SparseArrays/src/linalg.jl\" target=\"_blank\">/Applications/Julia-1.10.app/Contents/Resources/julia/share/julia/stdlib/v1.10/SparseArrays/src/linalg.jl:15</a></li> <li> +(A::<b>SparseArrays.AbstractSparseMatrix</b>, B::<b>LinearAlgebra.Hermitian</b>) in SparseArrays at <a href=\"file:///Users/julia/.julia/scratchspaces/a66863c6-20e8-4ff4-8a62-49f30b1f605e/agent-cache/default-grannysmith-C07ZM05NJYVY.0/build/default-grannysmith-C07ZM05NJYVY-0/julialang/julia-release-1-dot-10/usr/share/julia/stdlib/v1.10/SparseArrays/src/linalg.jl\" target=\"_blank\">/Applications/Julia-1.10.app/Contents/Resources/julia/share/julia/stdlib/v1.10/SparseArrays/src/linalg.jl:18</a></li> <li> +(A::<b>SparseArrays.AbstractSparseMatrix</b>, B::<b>LinearAlgebra.Symmetric{<:Any, <:SparseArrays.AbstractSparseMatrix}</b>) in SparseArrays at <a href=\"file:///Users/julia/.julia/scratchspaces/a66863c6-20e8-4ff4-8a62-49f30b1f605e/agent-cache/default-grannysmith-C07ZM05NJYVY.0/build/default-grannysmith-C07ZM05NJYVY-0/julialang/julia-release-1-dot-10/usr/share/julia/stdlib/v1.10/SparseArrays/src/linalg.jl\" target=\"_blank\">/Applications/Julia-1.10.app/Contents/Resources/julia/share/julia/stdlib/v1.10/SparseArrays/src/linalg.jl:15</a></li> <li> +(A::<b>SparseArrays.AbstractSparseMatrix</b>, B::<b>LinearAlgebra.Symmetric</b>) in SparseArrays at <a href=\"file:///Users/julia/.julia/scratchspaces/a66863c6-20e8-4ff4-8a62-49f30b1f605e/agent-cache/default-grannysmith-C07ZM05NJYVY.0/build/default-grannysmith-C07ZM05NJYVY-0/julialang/julia-release-1-dot-10/usr/share/julia/stdlib/v1.10/SparseArrays/src/linalg.jl\" target=\"_blank\">/Applications/Julia-1.10.app/Contents/Resources/julia/share/julia/stdlib/v1.10/SparseArrays/src/linalg.jl:18</a></li> <li> +(x::<b>Base.TwicePrecision{T}</b>, y::<b>Base.TwicePrecision{T}</b>)<i> where T</i> in Base at <a href=\"https://github.com/JuliaLang/julia/tree/48d4fd48430af58502699fdf3504b90589df3852/base/twiceprecision.jl#L294\" target=\"_blank\">twiceprecision.jl:294</a></li> <li> +(x::<b>Base.TwicePrecision</b>, y::<b>Base.TwicePrecision</b>) in Base at <a href=\"https://github.com/JuliaLang/julia/tree/48d4fd48430af58502699fdf3504b90589df3852/base/twiceprecision.jl#L299\" target=\"_blank\">twiceprecision.jl:299</a></li> <li> +(x::<b>Base.TwicePrecision</b>, y::<b>Number</b>) in Base at <a href=\"https://github.com/JuliaLang/julia/tree/48d4fd48430af58502699fdf3504b90589df3852/base/twiceprecision.jl#L288\" target=\"_blank\">twiceprecision.jl:288</a></li> <li> +(r1::<b>StepRangeLen{T, R}</b>, r2::<b>StepRangeLen{T, R}</b>)<i> where {R<:Base.TwicePrecision, T}</i> in Base at <a href=\"https://github.com/JuliaLang/julia/tree/48d4fd48430af58502699fdf3504b90589df3852/base/twiceprecision.jl#L626\" target=\"_blank\">twiceprecision.jl:626</a></li> <li> +(r1::<b>StepRangeLen{T, S}</b>, r2::<b>StepRangeLen{T, S}</b>)<i> where {T, S}</i> in Base at <a href=\"https://github.com/JuliaLang/julia/tree/48d4fd48430af58502699fdf3504b90589df3852/base/range.jl#L1477\" target=\"_blank\">range.jl:1477</a></li> <li> +(A::<b>BitArray</b>, B::<b>BitArray</b>) in Base at <a href=\"https://github.com/JuliaLang/julia/tree/48d4fd48430af58502699fdf3504b90589df3852/base/bitarray.jl#L1184\" target=\"_blank\">bitarray.jl:1184</a></li> <li> +(a::<b>TransparentColor{C, T, 4} where {C<:AbstractRGB, T}</b>, b::<b>TransparentColor{C, T, 4} where {C<:AbstractRGB, T}</b>) in ColorVectorSpace at <a href=\"file:///Users/koichiro/.julia/packages/ColorVectorSpace/tLy1N/src/ColorVectorSpace.jl\" target=\"_blank\">/Users/koichiro/.julia/packages/ColorVectorSpace/tLy1N/src/ColorVectorSpace.jl:274</a></li> <li> +(a::<b>TransparentGray</b>, b::<b>TransparentGray</b>) in ColorVectorSpace at <a href=\"file:///Users/koichiro/.julia/packages/ColorVectorSpace/tLy1N/src/ColorVectorSpace.jl\" target=\"_blank\">/Users/koichiro/.julia/packages/ColorVectorSpace/tLy1N/src/ColorVectorSpace.jl:312</a></li> <li> +(a::<b>AbstractRGB</b>, b::<b>AbstractRGB</b>) in ColorVectorSpace at <a href=\"file:///Users/koichiro/.julia/packages/ColorVectorSpace/tLy1N/src/ColorVectorSpace.jl\" target=\"_blank\">/Users/koichiro/.julia/packages/ColorVectorSpace/tLy1N/src/ColorVectorSpace.jl:272</a></li> <li> +(index1::<b>CartesianIndex{N}</b>, index2::<b>CartesianIndex{N}</b>)<i> where N</i> in Base.IteratorsMD at <a href=\"https://github.com/JuliaLang/julia/tree/48d4fd48430af58502699fdf3504b90589df3852/base/multidimensional.jl#L119\" target=\"_blank\">multidimensional.jl:119</a></li> <li> +(B::<b>LinearAlgebra.Diagonal</b>, A::<b>LinearAlgebra.Bidiagonal</b>) in LinearAlgebra</li> <li> +(A::<b>LinearAlgebra.Diagonal</b>, B::<b>LinearAlgebra.SymTridiagonal</b>) in LinearAlgebra at <a href=\"file:///Users/julia/.julia/scratchspaces/a66863c6-20e8-4ff4-8a62-49f30b1f605e/agent-cache/default-grannysmith-C07ZM05NJYVY.0/build/default-grannysmith-C07ZM05NJYVY-0/julialang/julia-release-1-dot-10/usr/share/julia/stdlib/v1.10/LinearAlgebra/src/special.jl\" target=\"_blank\">/Applications/Julia-1.10.app/Contents/Resources/julia/share/julia/stdlib/v1.10/LinearAlgebra/src/special.jl:166</a></li> <li> +(D::<b>LinearAlgebra.Diagonal{var\"#s994\", V} where {var\"#s994\"<:Real, V<:AbstractVector{var\"#s994\"}}</b>, H::<b>LinearAlgebra.Hermitian</b>) in LinearAlgebra at <a href=\"file:///Users/julia/.julia/scratchspaces/a66863c6-20e8-4ff4-8a62-49f30b1f605e/agent-cache/default-grannysmith-C07ZM05NJYVY.0/build/default-grannysmith-C07ZM05NJYVY-0/julialang/julia-release-1-dot-10/usr/share/julia/stdlib/v1.10/LinearAlgebra/src/diagonal.jl\" target=\"_blank\">/Applications/Julia-1.10.app/Contents/Resources/julia/share/julia/stdlib/v1.10/LinearAlgebra/src/diagonal.jl:235</a></li> <li> +(x::<b>LinearAlgebra.Diagonal</b>, H::<b>LinearAlgebra.UpperHessenberg</b>) in LinearAlgebra at <a href=\"file:///Users/julia/.julia/scratchspaces/a66863c6-20e8-4ff4-8a62-49f30b1f605e/agent-cache/default-grannysmith-C07ZM05NJYVY.0/build/default-grannysmith-C07ZM05NJYVY-0/julialang/julia-release-1-dot-10/usr/share/julia/stdlib/v1.10/LinearAlgebra/src/hessenberg.jl\" target=\"_blank\">/Applications/Julia-1.10.app/Contents/Resources/julia/share/julia/stdlib/v1.10/LinearAlgebra/src/hessenberg.jl:120</a></li> <li> +(D::<b>LinearAlgebra.Diagonal</b>, S::<b>LinearAlgebra.Symmetric</b>) in LinearAlgebra at <a href=\"file:///Users/julia/.julia/scratchspaces/a66863c6-20e8-4ff4-8a62-49f30b1f605e/agent-cache/default-grannysmith-C07ZM05NJYVY.0/build/default-grannysmith-C07ZM05NJYVY-0/julialang/julia-release-1-dot-10/usr/share/julia/stdlib/v1.10/LinearAlgebra/src/diagonal.jl\" target=\"_blank\">/Applications/Julia-1.10.app/Contents/Resources/julia/share/julia/stdlib/v1.10/LinearAlgebra/src/diagonal.jl:229</a></li> <li> +(Da::<b>LinearAlgebra.Diagonal</b>, Db::<b>LinearAlgebra.Diagonal</b>) in LinearAlgebra at <a href=\"file:///Users/julia/.julia/scratchspaces/a66863c6-20e8-4ff4-8a62-49f30b1f605e/agent-cache/default-grannysmith-C07ZM05NJYVY.0/build/default-grannysmith-C07ZM05NJYVY-0/julialang/julia-release-1-dot-10/usr/share/julia/stdlib/v1.10/LinearAlgebra/src/diagonal.jl\" target=\"_blank\">/Applications/Julia-1.10.app/Contents/Resources/julia/share/julia/stdlib/v1.10/LinearAlgebra/src/diagonal.jl:225</a></li> <li> +(A::<b>LinearAlgebra.Diagonal</b>, B::<b>LinearAlgebra.UniformScaling</b>) in LinearAlgebra at <a href=\"file:///Users/julia/.julia/scratchspaces/a66863c6-20e8-4ff4-8a62-49f30b1f605e/agent-cache/default-grannysmith-C07ZM05NJYVY.0/build/default-grannysmith-C07ZM05NJYVY-0/julialang/julia-release-1-dot-10/usr/share/julia/stdlib/v1.10/LinearAlgebra/src/special.jl\" target=\"_blank\">/Applications/Julia-1.10.app/Contents/Resources/julia/share/julia/stdlib/v1.10/LinearAlgebra/src/special.jl:247</a></li> <li> +(A::<b>LinearAlgebra.Diagonal</b>, B::<b>LinearAlgebra.Tridiagonal</b>) in LinearAlgebra at <a href=\"file:///Users/julia/.julia/scratchspaces/a66863c6-20e8-4ff4-8a62-49f30b1f605e/agent-cache/default-grannysmith-C07ZM05NJYVY.0/build/default-grannysmith-C07ZM05NJYVY-0/julialang/julia-release-1-dot-10/usr/share/julia/stdlib/v1.10/LinearAlgebra/src/special.jl\" target=\"_blank\">/Applications/Julia-1.10.app/Contents/Resources/julia/share/julia/stdlib/v1.10/LinearAlgebra/src/special.jl:187</a></li> <li> +(x::<b>Dates.AbstractTime</b>, y::<b>Missing</b>) in Dates at <a href=\"file:///Users/julia/.julia/scratchspaces/a66863c6-20e8-4ff4-8a62-49f30b1f605e/agent-cache/default-grannysmith-C07ZM05NJYVY.0/build/default-grannysmith-C07ZM05NJYVY-0/julialang/julia-release-1-dot-10/usr/share/julia/stdlib/v1.10/Dates/src/arithmetic.jl\" target=\"_blank\">/Applications/Julia-1.10.app/Contents/Resources/julia/share/julia/stdlib/v1.10/Dates/src/arithmetic.jl:90</a></li> <li> +(x::<b>Dates.Instant</b>) in Dates at <a href=\"file:///Users/julia/.julia/scratchspaces/a66863c6-20e8-4ff4-8a62-49f30b1f605e/agent-cache/default-grannysmith-C07ZM05NJYVY.0/build/default-grannysmith-C07ZM05NJYVY-0/julialang/julia-release-1-dot-10/usr/share/julia/stdlib/v1.10/Dates/src/arithmetic.jl\" target=\"_blank\">/Applications/Julia-1.10.app/Contents/Resources/julia/share/julia/stdlib/v1.10/Dates/src/arithmetic.jl:4</a></li> <li> +(l1::<b>Lazy.List</b>, ls::<b>Lazy.List...</b>) in Lazy at <a href=\"file:///Users/koichiro/.julia/packages/Lazy/9Xnd3/src/Lazy.jl\" target=\"_blank\">/Users/koichiro/.julia/packages/Lazy/9Xnd3/src/Lazy.jl:20</a></li> <li> +(x::<b>Ptr</b>, y::<b>Integer</b>) in Base at <a href=\"https://github.com/JuliaLang/julia/tree/48d4fd48430af58502699fdf3504b90589df3852/base/pointer.jl#L282\" target=\"_blank\">pointer.jl:282</a></li> <li> +(r::<b>AbstractRange{<:Dates.TimeType}</b>, x::<b>Dates.Period</b>) in Dates at <a href=\"file:///Users/julia/.julia/scratchspaces/a66863c6-20e8-4ff4-8a62-49f30b1f605e/agent-cache/default-grannysmith-C07ZM05NJYVY.0/build/default-grannysmith-C07ZM05NJYVY-0/julialang/julia-release-1-dot-10/usr/share/julia/stdlib/v1.10/Dates/src/ranges.jl\" target=\"_blank\">/Applications/Julia-1.10.app/Contents/Resources/julia/share/julia/stdlib/v1.10/Dates/src/ranges.jl:65</a></li> <li> +(y::<b>Dates.TimeType</b>, x::<b>StridedArray{<:Union{Dates.CompoundPeriod, Dates.Period}}</b>) in Dates at <a href=\"file:///Users/julia/.julia/scratchspaces/a66863c6-20e8-4ff4-8a62-49f30b1f605e/agent-cache/default-grannysmith-C07ZM05NJYVY.0/build/default-grannysmith-C07ZM05NJYVY-0/julialang/julia-release-1-dot-10/usr/share/julia/stdlib/v1.10/Dates/src/deprecated.jl\" target=\"_blank\">/Applications/Julia-1.10.app/Contents/Resources/julia/share/julia/stdlib/v1.10/Dates/src/deprecated.jl:18</a></li> <li> +(x::<b>Dates.TimeType</b>) in Dates at <a href=\"file:///Users/julia/.julia/scratchspaces/a66863c6-20e8-4ff4-8a62-49f30b1f605e/agent-cache/default-grannysmith-C07ZM05NJYVY.0/build/default-grannysmith-C07ZM05NJYVY-0/julialang/julia-release-1-dot-10/usr/share/julia/stdlib/v1.10/Dates/src/arithmetic.jl\" target=\"_blank\">/Applications/Julia-1.10.app/Contents/Resources/julia/share/julia/stdlib/v1.10/Dates/src/arithmetic.jl:8</a></li> <li> +(x::<b>Dates.TimeType</b>, y::<b>Dates.CompoundPeriod</b>) in Dates at <a href=\"file:///Users/julia/.julia/scratchspaces/a66863c6-20e8-4ff4-8a62-49f30b1f605e/agent-cache/default-grannysmith-C07ZM05NJYVY.0/build/default-grannysmith-C07ZM05NJYVY-0/julialang/julia-release-1-dot-10/usr/share/julia/stdlib/v1.10/Dates/src/periods.jl\" target=\"_blank\">/Applications/Julia-1.10.app/Contents/Resources/julia/share/julia/stdlib/v1.10/Dates/src/periods.jl:356</a></li> <li> +(a::<b>Dates.TimeType</b>, b::<b>Dates.Period</b>, c::<b>Dates.Period</b>) in Dates at <a href=\"file:///Users/julia/.julia/scratchspaces/a66863c6-20e8-4ff4-8a62-49f30b1f605e/agent-cache/default-grannysmith-C07ZM05NJYVY.0/build/default-grannysmith-C07ZM05NJYVY-0/julialang/julia-release-1-dot-10/usr/share/julia/stdlib/v1.10/Dates/src/periods.jl\" target=\"_blank\">/Applications/Julia-1.10.app/Contents/Resources/julia/share/julia/stdlib/v1.10/Dates/src/periods.jl:353</a></li> <li> +(a::<b>Dates.TimeType</b>, b::<b>Dates.Period</b>, c::<b>Dates.Period</b>, d::<b>Dates.Period...</b>) in Dates at <a href=\"file:///Users/julia/.julia/scratchspaces/a66863c6-20e8-4ff4-8a62-49f30b1f605e/agent-cache/default-grannysmith-C07ZM05NJYVY.0/build/default-grannysmith-C07ZM05NJYVY-0/julialang/julia-release-1-dot-10/usr/share/julia/stdlib/v1.10/Dates/src/periods.jl\" target=\"_blank\">/Applications/Julia-1.10.app/Contents/Resources/julia/share/julia/stdlib/v1.10/Dates/src/periods.jl:354</a></li> <li> +(a::<b>Number</b>, b::<b>AbstractGray</b>) in ColorVectorSpace at <a href=\"file:///Users/koichiro/.julia/packages/ColorVectorSpace/tLy1N/src/ColorVectorSpace.jl\" target=\"_blank\">/Users/koichiro/.julia/packages/ColorVectorSpace/tLy1N/src/ColorVectorSpace.jl:323</a></li> <li> +(x::<b>Number</b>, J::<b>LinearAlgebra.UniformScaling</b>) in LinearAlgebra at <a href=\"file:///Users/julia/.julia/scratchspaces/a66863c6-20e8-4ff4-8a62-49f30b1f605e/agent-cache/default-grannysmith-C07ZM05NJYVY.0/build/default-grannysmith-C07ZM05NJYVY-0/julialang/julia-release-1-dot-10/usr/share/julia/stdlib/v1.10/LinearAlgebra/src/uniformscaling.jl\" target=\"_blank\">/Applications/Julia-1.10.app/Contents/Resources/julia/share/julia/stdlib/v1.10/LinearAlgebra/src/uniformscaling.jl:145</a></li> <li> +(::<b>Number</b>, ::<b>Missing</b>) in Base at <a href=\"https://github.com/JuliaLang/julia/tree/48d4fd48430af58502699fdf3504b90589df3852/base/missing.jl#L124\" target=\"_blank\">missing.jl:124</a></li> <li> +(x::<b>Number</b>, y::<b>Base.TwicePrecision</b>) in Base at <a href=\"https://github.com/JuliaLang/julia/tree/48d4fd48430af58502699fdf3504b90589df3852/base/twiceprecision.jl#L292\" target=\"_blank\">twiceprecision.jl:292</a></li> <li> +(x::<b>Rational</b>) in Base at <a href=\"https://github.com/JuliaLang/julia/tree/48d4fd48430af58502699fdf3504b90589df3852/base/rational.jl#L300\" target=\"_blank\">rational.jl:300</a></li> <li> +(z::<b>Complex</b>) in Base at <a href=\"https://github.com/JuliaLang/julia/tree/48d4fd48430af58502699fdf3504b90589df3852/base/complex.jl#L292\" target=\"_blank\">complex.jl:292</a></li> <li> +(x::<b>Number</b>) in Base at <a href=\"https://github.com/JuliaLang/julia/tree/48d4fd48430af58502699fdf3504b90589df3852/base/operators.jl#L524\" target=\"_blank\">operators.jl:524</a></li> <li> +(x::<b>Rational</b>, y::<b>Rational</b>) in Base at <a href=\"https://github.com/JuliaLang/julia/tree/48d4fd48430af58502699fdf3504b90589df3852/base/rational.jl#L314\" target=\"_blank\">rational.jl:314</a></li> <li> +(c::<b>Union{Int16, Int32, Int64, Int8}</b>, x::<b>BigInt</b>) in Base.GMP at <a href=\"https://github.com/JuliaLang/julia/tree/48d4fd48430af58502699fdf3504b90589df3852/base/gmp.jl#L556\" target=\"_blank\">gmp.jl:556</a></li> <li> +(c::<b>Union{UInt16, UInt32, UInt64, UInt8}</b>, x::<b>BigInt</b>) in Base.GMP at <a href=\"https://github.com/JuliaLang/julia/tree/48d4fd48430af58502699fdf3504b90589df3852/base/gmp.jl#L550\" target=\"_blank\">gmp.jl:550</a></li> <li> +(x::<b>T</b>, y::<b>T</b>)<i> where T<:Union{Int128, Int16, Int32, Int64, Int8, UInt128, UInt16, UInt32, UInt64, UInt8}</i> in Base at <a href=\"https://github.com/JuliaLang/julia/tree/48d4fd48430af58502699fdf3504b90589df3852/base/int.jl#L87\" target=\"_blank\">int.jl:87</a></li> <li> +(a::<b>Integer</b>, b::<b>Integer</b>) in Base at <a href=\"https://github.com/JuliaLang/julia/tree/48d4fd48430af58502699fdf3504b90589df3852/base/int.jl#L1064\" target=\"_blank\">int.jl:1064</a></li> <li> +(x::<b>AbstractIrrational</b>, y::<b>AbstractIrrational</b>) in Base at <a href=\"https://github.com/JuliaLang/julia/tree/48d4fd48430af58502699fdf3504b90589df3852/base/irrationals.jl#L161\" target=\"_blank\">irrationals.jl:161</a></li> <li> +(z::<b>Complex</b>, w::<b>Complex</b>) in Base at <a href=\"https://github.com/JuliaLang/julia/tree/48d4fd48430af58502699fdf3504b90589df3852/base/complex.jl#L294\" target=\"_blank\">complex.jl:294</a></li> <li> +(x::<b>X</b>, y::<b>X</b>)<i> where X<:FixedPointNumbers.FixedPoint</i> in FixedPointNumbers at <a href=\"file:///Users/koichiro/.julia/packages/FixedPointNumbers/Dn4hv/src/FixedPointNumbers.jl\" target=\"_blank\">/Users/koichiro/.julia/packages/FixedPointNumbers/Dn4hv/src/FixedPointNumbers.jl:237</a></li> <li> +(x::<b>T</b>, y::<b>T</b>)<i> where T<:Union{Float16, Float32, Float64}</i> in Base at <a href=\"https://github.com/JuliaLang/julia/tree/48d4fd48430af58502699fdf3504b90589df3852/base/float.jl#L409\" target=\"_blank\">float.jl:409</a></li> <li> +(x::<b>T</b>, y::<b>T</b>)<i> where T<:Number</i> in Base at <a href=\"https://github.com/JuliaLang/julia/tree/48d4fd48430af58502699fdf3504b90589df3852/base/promotion.jl#L507\" target=\"_blank\">promotion.jl:507</a></li> <li> +(x::<b>Rational</b>, y::<b>Integer</b>) in Base at <a href=\"https://github.com/JuliaLang/julia/tree/48d4fd48430af58502699fdf3504b90589df3852/base/rational.jl#L343\" target=\"_blank\">rational.jl:343</a></li> <li> +(y::<b>Integer</b>, x::<b>Rational</b>) in Base at <a href=\"https://github.com/JuliaLang/julia/tree/48d4fd48430af58502699fdf3504b90589df3852/base/rational.jl#L350\" target=\"_blank\">rational.jl:350</a></li> <li> +(y::<b>AbstractFloat</b>, x::<b>Bool</b>) in Base at <a href=\"https://github.com/JuliaLang/julia/tree/48d4fd48430af58502699fdf3504b90589df3852/base/bool.jl#L176\" target=\"_blank\">bool.jl:176</a></li> <li> +(x::<b>Real</b>, z::<b>Complex</b>) in Base at <a href=\"https://github.com/JuliaLang/julia/tree/48d4fd48430af58502699fdf3504b90589df3852/base/complex.jl#L331\" target=\"_blank\">complex.jl:331</a></li> <li> +(z::<b>Complex</b>, x::<b>Real</b>) in Base at <a href=\"https://github.com/JuliaLang/julia/tree/48d4fd48430af58502699fdf3504b90589df3852/base/complex.jl#L332\" target=\"_blank\">complex.jl:332</a></li> <li> +(c::<b>Union{Float16, Float32, Float64}</b>, x::<b>BigFloat</b>) in Base.MPFR at <a href=\"https://github.com/JuliaLang/julia/tree/48d4fd48430af58502699fdf3504b90589df3852/base/mpfr.jl#L460\" target=\"_blank\">mpfr.jl:460</a></li> <li> +(c::<b>Union{Int16, Int32, Int64, Int8}</b>, x::<b>BigFloat</b>) in Base.MPFR at <a href=\"https://github.com/JuliaLang/julia/tree/48d4fd48430af58502699fdf3504b90589df3852/base/mpfr.jl#L452\" target=\"_blank\">mpfr.jl:452</a></li> <li> +(c::<b>Union{UInt16, UInt32, UInt64, UInt8}</b>, x::<b>BigFloat</b>) in Base.MPFR at <a href=\"https://github.com/JuliaLang/julia/tree/48d4fd48430af58502699fdf3504b90589df3852/base/mpfr.jl#L444\" target=\"_blank\">mpfr.jl:444</a></li> <li> +(x::<b>Number</b>, y::<b>Number</b>) in Base at <a href=\"https://github.com/JuliaLang/julia/tree/48d4fd48430af58502699fdf3504b90589df3852/base/promotion.jl#L422\" target=\"_blank\">promotion.jl:422</a></li> <li> +(a::<b>Measures.Length{U}</b>, b::<b>Measures.Length{U}</b>)<i> where U</i> in Measures at <a href=\"file:///Users/koichiro/.julia/packages/Measures/PKOxJ/src/length.jl\" target=\"_blank\">/Users/koichiro/.julia/packages/Measures/PKOxJ/src/length.jl:31</a></li> <li> +(A::<b>LinearAlgebra.UpperTriangular</b>, B::<b>LinearAlgebra.Bidiagonal</b>) in LinearAlgebra at <a href=\"file:///Users/julia/.julia/scratchspaces/a66863c6-20e8-4ff4-8a62-49f30b1f605e/agent-cache/default-grannysmith-C07ZM05NJYVY.0/build/default-grannysmith-C07ZM05NJYVY-0/julialang/julia-release-1-dot-10/usr/share/julia/stdlib/v1.10/LinearAlgebra/src/special.jl\" target=\"_blank\">/Applications/Julia-1.10.app/Contents/Resources/julia/share/julia/stdlib/v1.10/LinearAlgebra/src/special.jl:91</a></li> <li> +(x::<b>LinearAlgebra.UpperTriangular</b>, H::<b>LinearAlgebra.UpperHessenberg</b>) in LinearAlgebra at <a href=\"file:///Users/julia/.julia/scratchspaces/a66863c6-20e8-4ff4-8a62-49f30b1f605e/agent-cache/default-grannysmith-C07ZM05NJYVY.0/build/default-grannysmith-C07ZM05NJYVY-0/julialang/julia-release-1-dot-10/usr/share/julia/stdlib/v1.10/LinearAlgebra/src/hessenberg.jl\" target=\"_blank\">/Applications/Julia-1.10.app/Contents/Resources/julia/share/julia/stdlib/v1.10/LinearAlgebra/src/hessenberg.jl:120</a></li> <li> +(A::<b>LinearAlgebra.UpperTriangular</b>, B::<b>LinearAlgebra.UnitUpperTriangular</b>) in LinearAlgebra at <a href=\"file:///Users/julia/.julia/scratchspaces/a66863c6-20e8-4ff4-8a62-49f30b1f605e/agent-cache/default-grannysmith-C07ZM05NJYVY.0/build/default-grannysmith-C07ZM05NJYVY-0/julialang/julia-release-1-dot-10/usr/share/julia/stdlib/v1.10/LinearAlgebra/src/triangular.jl\" target=\"_blank\">/Applications/Julia-1.10.app/Contents/Resources/julia/share/julia/stdlib/v1.10/LinearAlgebra/src/triangular.jl:652</a></li> <li> +(A::<b>LinearAlgebra.UpperTriangular</b>, B::<b>LinearAlgebra.UpperTriangular</b>) in LinearAlgebra at <a href=\"file:///Users/julia/.julia/scratchspaces/a66863c6-20e8-4ff4-8a62-49f30b1f605e/agent-cache/default-grannysmith-C07ZM05NJYVY.0/build/default-grannysmith-C07ZM05NJYVY-0/julialang/julia-release-1-dot-10/usr/share/julia/stdlib/v1.10/LinearAlgebra/src/triangular.jl\" target=\"_blank\">/Applications/Julia-1.10.app/Contents/Resources/julia/share/julia/stdlib/v1.10/LinearAlgebra/src/triangular.jl:650</a></li> <li> +(A::<b>SparseArrays.AbstractSparseMatrixCSC</b>, B::<b>SparseArrays.AbstractSparseMatrixCSC</b>) in SparseArrays at <a href=\"file:///Users/julia/.julia/scratchspaces/a66863c6-20e8-4ff4-8a62-49f30b1f605e/agent-cache/default-grannysmith-C07ZM05NJYVY.0/build/default-grannysmith-C07ZM05NJYVY-0/julialang/julia-release-1-dot-10/usr/share/julia/stdlib/v1.10/SparseArrays/src/sparsematrix.jl\" target=\"_blank\">/Applications/Julia-1.10.app/Contents/Resources/julia/share/julia/stdlib/v1.10/SparseArrays/src/sparsematrix.jl:2242</a></li> <li> +(A::<b>SparseArrays.AbstractSparseMatrixCSC</b>, B::<b>Array</b>) in SparseArrays at <a href=\"file:///Users/julia/.julia/scratchspaces/a66863c6-20e8-4ff4-8a62-49f30b1f605e/agent-cache/default-grannysmith-C07ZM05NJYVY.0/build/default-grannysmith-C07ZM05NJYVY-0/julialang/julia-release-1-dot-10/usr/share/julia/stdlib/v1.10/SparseArrays/src/sparsematrix.jl\" target=\"_blank\">/Applications/Julia-1.10.app/Contents/Resources/julia/share/julia/stdlib/v1.10/SparseArrays/src/sparsematrix.jl:2245</a></li> <li> +(A::<b>SparseArrays.AbstractSparseMatrixCSC{Tv, Ti}</b>, J::<b>LinearAlgebra.UniformScaling{T}</b>)<i> where {T<:Number, Tv, Ti}</i> in SparseArrays at <a href=\"file:///Users/julia/.julia/scratchspaces/a66863c6-20e8-4ff4-8a62-49f30b1f605e/agent-cache/default-grannysmith-C07ZM05NJYVY.0/build/default-grannysmith-C07ZM05NJYVY-0/julialang/julia-release-1-dot-10/usr/share/julia/stdlib/v1.10/SparseArrays/src/sparsematrix.jl\" target=\"_blank\">/Applications/Julia-1.10.app/Contents/Resources/julia/share/julia/stdlib/v1.10/SparseArrays/src/sparsematrix.jl:4275</a></li> <li> +(a::<b>Tuple{Vararg{Measures.Measure, N}}</b>, b::<b>Tuple{Vararg{Measures.Measure, N}}</b>)<i> where N</i> in Measures at <a href=\"file:///Users/koichiro/.julia/packages/Measures/PKOxJ/src/point.jl\" target=\"_blank\">/Users/koichiro/.julia/packages/Measures/PKOxJ/src/point.jl:21</a></li> <li> +(a::<b>Tuple{Vararg{Measures.Measure, N}} where N</b>, b::<b>Tuple{Vararg{Measures.Measure, N}} where N</b>) in Measures at <a href=\"file:///Users/koichiro/.julia/packages/Measures/PKOxJ/src/point.jl\" target=\"_blank\">/Users/koichiro/.julia/packages/Measures/PKOxJ/src/point.jl:15</a></li> <li> +(x::<b>Integer</b>, y::<b>AbstractChar</b>) in Base at <a href=\"https://github.com/JuliaLang/julia/tree/48d4fd48430af58502699fdf3504b90589df3852/base/char.jl#L247\" target=\"_blank\">char.jl:247</a></li> <li> +(x::<b>Integer</b>, y::<b>Ptr</b>) in Base at <a href=\"https://github.com/JuliaLang/julia/tree/48d4fd48430af58502699fdf3504b90589df3852/base/pointer.jl#L284\" target=\"_blank\">pointer.jl:284</a></li> <li> +(A::<b>LinearAlgebra.UnitUpperTriangular</b>, B::<b>LinearAlgebra.Bidiagonal</b>) in LinearAlgebra at <a href=\"file:///Users/julia/.julia/scratchspaces/a66863c6-20e8-4ff4-8a62-49f30b1f605e/agent-cache/default-grannysmith-C07ZM05NJYVY.0/build/default-grannysmith-C07ZM05NJYVY-0/julialang/julia-release-1-dot-10/usr/share/julia/stdlib/v1.10/LinearAlgebra/src/special.jl\" target=\"_blank\">/Applications/Julia-1.10.app/Contents/Resources/julia/share/julia/stdlib/v1.10/LinearAlgebra/src/special.jl:91</a></li> <li> +(x::<b>LinearAlgebra.UnitUpperTriangular</b>, H::<b>LinearAlgebra.UpperHessenberg</b>) in LinearAlgebra at <a href=\"file:///Users/julia/.julia/scratchspaces/a66863c6-20e8-4ff4-8a62-49f30b1f605e/agent-cache/default-grannysmith-C07ZM05NJYVY.0/build/default-grannysmith-C07ZM05NJYVY-0/julialang/julia-release-1-dot-10/usr/share/julia/stdlib/v1.10/LinearAlgebra/src/hessenberg.jl\" target=\"_blank\">/Applications/Julia-1.10.app/Contents/Resources/julia/share/julia/stdlib/v1.10/LinearAlgebra/src/hessenberg.jl:120</a></li> <li> +(UL::<b>LinearAlgebra.UnitUpperTriangular</b>, J::<b>LinearAlgebra.UniformScaling</b>) in LinearAlgebra at <a href=\"file:///Users/julia/.julia/scratchspaces/a66863c6-20e8-4ff4-8a62-49f30b1f605e/agent-cache/default-grannysmith-C07ZM05NJYVY.0/build/default-grannysmith-C07ZM05NJYVY-0/julialang/julia-release-1-dot-10/usr/share/julia/stdlib/v1.10/LinearAlgebra/src/uniformscaling.jl\" target=\"_blank\">/Applications/Julia-1.10.app/Contents/Resources/julia/share/julia/stdlib/v1.10/LinearAlgebra/src/uniformscaling.jl:181</a></li> <li> +(A::<b>LinearAlgebra.UnitUpperTriangular</b>, B::<b>LinearAlgebra.UnitUpperTriangular</b>) in LinearAlgebra at <a href=\"file:///Users/julia/.julia/scratchspaces/a66863c6-20e8-4ff4-8a62-49f30b1f605e/agent-cache/default-grannysmith-C07ZM05NJYVY.0/build/default-grannysmith-C07ZM05NJYVY-0/julialang/julia-release-1-dot-10/usr/share/julia/stdlib/v1.10/LinearAlgebra/src/triangular.jl\" target=\"_blank\">/Applications/Julia-1.10.app/Contents/Resources/julia/share/julia/stdlib/v1.10/LinearAlgebra/src/triangular.jl:656</a></li> <li> +(A::<b>LinearAlgebra.UnitUpperTriangular</b>, B::<b>LinearAlgebra.UpperTriangular</b>) in LinearAlgebra at <a href=\"file:///Users/julia/.julia/scratchspaces/a66863c6-20e8-4ff4-8a62-49f30b1f605e/agent-cache/default-grannysmith-C07ZM05NJYVY.0/build/default-grannysmith-C07ZM05NJYVY-0/julialang/julia-release-1-dot-10/usr/share/julia/stdlib/v1.10/LinearAlgebra/src/triangular.jl\" target=\"_blank\">/Applications/Julia-1.10.app/Contents/Resources/julia/share/julia/stdlib/v1.10/LinearAlgebra/src/triangular.jl:654</a></li> <li> +(A::<b>LinearAlgebra.UnitLowerTriangular</b>, B::<b>LinearAlgebra.UnitLowerTriangular</b>) in LinearAlgebra at <a href=\"file:///Users/julia/.julia/scratchspaces/a66863c6-20e8-4ff4-8a62-49f30b1f605e/agent-cache/default-grannysmith-C07ZM05NJYVY.0/build/default-grannysmith-C07ZM05NJYVY-0/julialang/julia-release-1-dot-10/usr/share/julia/stdlib/v1.10/LinearAlgebra/src/triangular.jl\" target=\"_blank\">/Applications/Julia-1.10.app/Contents/Resources/julia/share/julia/stdlib/v1.10/LinearAlgebra/src/triangular.jl:657</a></li> <li> +(A::<b>LinearAlgebra.UnitLowerTriangular</b>, B::<b>LinearAlgebra.LowerTriangular</b>) in LinearAlgebra at <a href=\"file:///Users/julia/.julia/scratchspaces/a66863c6-20e8-4ff4-8a62-49f30b1f605e/agent-cache/default-grannysmith-C07ZM05NJYVY.0/build/default-grannysmith-C07ZM05NJYVY-0/julialang/julia-release-1-dot-10/usr/share/julia/stdlib/v1.10/LinearAlgebra/src/triangular.jl\" target=\"_blank\">/Applications/Julia-1.10.app/Contents/Resources/julia/share/julia/stdlib/v1.10/LinearAlgebra/src/triangular.jl:655</a></li> <li> +(A::<b>LinearAlgebra.LowerTriangular</b>, B::<b>LinearAlgebra.UnitLowerTriangular</b>) in LinearAlgebra at <a href=\"file:///Users/julia/.julia/scratchspaces/a66863c6-20e8-4ff4-8a62-49f30b1f605e/agent-cache/default-grannysmith-C07ZM05NJYVY.0/build/default-grannysmith-C07ZM05NJYVY-0/julialang/julia-release-1-dot-10/usr/share/julia/stdlib/v1.10/LinearAlgebra/src/triangular.jl\" target=\"_blank\">/Applications/Julia-1.10.app/Contents/Resources/julia/share/julia/stdlib/v1.10/LinearAlgebra/src/triangular.jl:653</a></li> <li> +(A::<b>LinearAlgebra.LowerTriangular</b>, B::<b>LinearAlgebra.LowerTriangular</b>) in LinearAlgebra at <a href=\"file:///Users/julia/.julia/scratchspaces/a66863c6-20e8-4ff4-8a62-49f30b1f605e/agent-cache/default-grannysmith-C07ZM05NJYVY.0/build/default-grannysmith-C07ZM05NJYVY-0/julialang/julia-release-1-dot-10/usr/share/julia/stdlib/v1.10/LinearAlgebra/src/triangular.jl\" target=\"_blank\">/Applications/Julia-1.10.app/Contents/Resources/julia/share/julia/stdlib/v1.10/LinearAlgebra/src/triangular.jl:651</a></li> <li> +(A::<b>LinearAlgebra.AbstractTriangular</b>, B::<b>LinearAlgebra.AbstractTriangular</b>) in LinearAlgebra at <a href=\"file:///Users/julia/.julia/scratchspaces/a66863c6-20e8-4ff4-8a62-49f30b1f605e/agent-cache/default-grannysmith-C07ZM05NJYVY.0/build/default-grannysmith-C07ZM05NJYVY-0/julialang/julia-release-1-dot-10/usr/share/julia/stdlib/v1.10/LinearAlgebra/src/triangular.jl\" target=\"_blank\">/Applications/Julia-1.10.app/Contents/Resources/julia/share/julia/stdlib/v1.10/LinearAlgebra/src/triangular.jl:658</a></li> <li> +(H::<b>LinearAlgebra.UpperHessenberg</b>, x::<b>LinearAlgebra.Bidiagonal</b>) in LinearAlgebra at <a href=\"file:///Users/julia/.julia/scratchspaces/a66863c6-20e8-4ff4-8a62-49f30b1f605e/agent-cache/default-grannysmith-C07ZM05NJYVY.0/build/default-grannysmith-C07ZM05NJYVY-0/julialang/julia-release-1-dot-10/usr/share/julia/stdlib/v1.10/LinearAlgebra/src/hessenberg.jl\" target=\"_blank\">/Applications/Julia-1.10.app/Contents/Resources/julia/share/julia/stdlib/v1.10/LinearAlgebra/src/hessenberg.jl:119</a></li> <li> +(H::<b>LinearAlgebra.UpperHessenberg</b>, x::<b>LinearAlgebra.SymTridiagonal</b>) in LinearAlgebra at <a href=\"file:///Users/julia/.julia/scratchspaces/a66863c6-20e8-4ff4-8a62-49f30b1f605e/agent-cache/default-grannysmith-C07ZM05NJYVY.0/build/default-grannysmith-C07ZM05NJYVY-0/julialang/julia-release-1-dot-10/usr/share/julia/stdlib/v1.10/LinearAlgebra/src/hessenberg.jl\" target=\"_blank\">/Applications/Julia-1.10.app/Contents/Resources/julia/share/julia/stdlib/v1.10/LinearAlgebra/src/hessenberg.jl:119</a></li> <li> +(H::<b>LinearAlgebra.UpperHessenberg</b>, x::<b>LinearAlgebra.Diagonal</b>) in LinearAlgebra at <a href=\"file:///Users/julia/.julia/scratchspaces/a66863c6-20e8-4ff4-8a62-49f30b1f605e/agent-cache/default-grannysmith-C07ZM05NJYVY.0/build/default-grannysmith-C07ZM05NJYVY-0/julialang/julia-release-1-dot-10/usr/share/julia/stdlib/v1.10/LinearAlgebra/src/hessenberg.jl\" target=\"_blank\">/Applications/Julia-1.10.app/Contents/Resources/julia/share/julia/stdlib/v1.10/LinearAlgebra/src/hessenberg.jl:119</a></li> <li> +(A::<b>LinearAlgebra.UpperHessenberg</b>, B::<b>LinearAlgebra.UpperHessenberg</b>) in LinearAlgebra at <a href=\"file:///Users/julia/.julia/scratchspaces/a66863c6-20e8-4ff4-8a62-49f30b1f605e/agent-cache/default-grannysmith-C07ZM05NJYVY.0/build/default-grannysmith-C07ZM05NJYVY-0/julialang/julia-release-1-dot-10/usr/share/julia/stdlib/v1.10/LinearAlgebra/src/hessenberg.jl\" target=\"_blank\">/Applications/Julia-1.10.app/Contents/Resources/julia/share/julia/stdlib/v1.10/LinearAlgebra/src/hessenberg.jl:112</a></li> <li> +(H::<b>LinearAlgebra.UpperHessenberg</b>, x::<b>LinearAlgebra.UnitUpperTriangular</b>) in LinearAlgebra at <a href=\"file:///Users/julia/.julia/scratchspaces/a66863c6-20e8-4ff4-8a62-49f30b1f605e/agent-cache/default-grannysmith-C07ZM05NJYVY.0/build/default-grannysmith-C07ZM05NJYVY-0/julialang/julia-release-1-dot-10/usr/share/julia/stdlib/v1.10/LinearAlgebra/src/hessenberg.jl\" target=\"_blank\">/Applications/Julia-1.10.app/Contents/Resources/julia/share/julia/stdlib/v1.10/LinearAlgebra/src/hessenberg.jl:119</a></li> <li> +(H::<b>LinearAlgebra.UpperHessenberg</b>, x::<b>LinearAlgebra.UpperTriangular</b>) in LinearAlgebra at <a href=\"file:///Users/julia/.julia/scratchspaces/a66863c6-20e8-4ff4-8a62-49f30b1f605e/agent-cache/default-grannysmith-C07ZM05NJYVY.0/build/default-grannysmith-C07ZM05NJYVY-0/julialang/julia-release-1-dot-10/usr/share/julia/stdlib/v1.10/LinearAlgebra/src/hessenberg.jl\" target=\"_blank\">/Applications/Julia-1.10.app/Contents/Resources/julia/share/julia/stdlib/v1.10/LinearAlgebra/src/hessenberg.jl:119</a></li> <li> +(H::<b>LinearAlgebra.UpperHessenberg</b>, x::<b>LinearAlgebra.UniformScaling</b>) in LinearAlgebra at <a href=\"file:///Users/julia/.julia/scratchspaces/a66863c6-20e8-4ff4-8a62-49f30b1f605e/agent-cache/default-grannysmith-C07ZM05NJYVY.0/build/default-grannysmith-C07ZM05NJYVY-0/julialang/julia-release-1-dot-10/usr/share/julia/stdlib/v1.10/LinearAlgebra/src/hessenberg.jl\" target=\"_blank\">/Applications/Julia-1.10.app/Contents/Resources/julia/share/julia/stdlib/v1.10/LinearAlgebra/src/hessenberg.jl:119</a></li> <li> +(H::<b>LinearAlgebra.UpperHessenberg</b>, x::<b>LinearAlgebra.Tridiagonal</b>) in LinearAlgebra at <a href=\"file:///Users/julia/.julia/scratchspaces/a66863c6-20e8-4ff4-8a62-49f30b1f605e/agent-cache/default-grannysmith-C07ZM05NJYVY.0/build/default-grannysmith-C07ZM05NJYVY-0/julialang/julia-release-1-dot-10/usr/share/julia/stdlib/v1.10/LinearAlgebra/src/hessenberg.jl\" target=\"_blank\">/Applications/Julia-1.10.app/Contents/Resources/julia/share/julia/stdlib/v1.10/LinearAlgebra/src/hessenberg.jl:119</a></li> <li> +(x::<b>T</b>, y::<b>Integer</b>)<i> where T<:AbstractChar</i> in Base at <a href=\"https://github.com/JuliaLang/julia/tree/48d4fd48430af58502699fdf3504b90589df3852/base/char.jl#L237\" target=\"_blank\">char.jl:237</a></li> <li> +(bb1::<b>Measures.BoundingBox</b>, bb2::<b>Measures.BoundingBox</b>) in Plots at <a href=\"file:///Users/koichiro/.julia/packages/Plots/du2dt/src/layouts.jl\" target=\"_blank\">/Users/koichiro/.julia/packages/Plots/du2dt/src/layouts.jl:21</a></li> <li> +(B::<b>LinearAlgebra.SymTridiagonal</b>, A::<b>LinearAlgebra.Bidiagonal</b>) in LinearAlgebra</li> <li> +(A::<b>LinearAlgebra.SymTridiagonal{var\"#s127\", V} where {var\"#s127\"<:Real, V<:AbstractVector{var\"#s127\"}}</b>, B::<b>LinearAlgebra.Hermitian</b>) in LinearAlgebra at <a href=\"file:///Users/julia/.julia/scratchspaces/a66863c6-20e8-4ff4-8a62-49f30b1f605e/agent-cache/default-grannysmith-C07ZM05NJYVY.0/build/default-grannysmith-C07ZM05NJYVY-0/julialang/julia-release-1-dot-10/usr/share/julia/stdlib/v1.10/LinearAlgebra/src/symmetric.jl\" target=\"_blank\">/Applications/Julia-1.10.app/Contents/Resources/julia/share/julia/stdlib/v1.10/LinearAlgebra/src/symmetric.jl:522</a></li> <li> +(B::<b>LinearAlgebra.SymTridiagonal</b>, A::<b>LinearAlgebra.Diagonal</b>) in LinearAlgebra</li> <li> +(x::<b>LinearAlgebra.SymTridiagonal</b>, H::<b>LinearAlgebra.UpperHessenberg</b>) in LinearAlgebra at <a href=\"file:///Users/julia/.julia/scratchspaces/a66863c6-20e8-4ff4-8a62-49f30b1f605e/agent-cache/default-grannysmith-C07ZM05NJYVY.0/build/default-grannysmith-C07ZM05NJYVY-0/julialang/julia-release-1-dot-10/usr/share/julia/stdlib/v1.10/LinearAlgebra/src/hessenberg.jl\" target=\"_blank\">/Applications/Julia-1.10.app/Contents/Resources/julia/share/julia/stdlib/v1.10/LinearAlgebra/src/hessenberg.jl:120</a></li> <li> +(A::<b>LinearAlgebra.SymTridiagonal</b>, B::<b>LinearAlgebra.Symmetric</b>) in LinearAlgebra at <a href=\"file:///Users/julia/.julia/scratchspaces/a66863c6-20e8-4ff4-8a62-49f30b1f605e/agent-cache/default-grannysmith-C07ZM05NJYVY.0/build/default-grannysmith-C07ZM05NJYVY-0/julialang/julia-release-1-dot-10/usr/share/julia/stdlib/v1.10/LinearAlgebra/src/symmetric.jl\" target=\"_blank\">/Applications/Julia-1.10.app/Contents/Resources/julia/share/julia/stdlib/v1.10/LinearAlgebra/src/symmetric.jl:520</a></li> <li> +(A::<b>LinearAlgebra.SymTridiagonal</b>, B::<b>LinearAlgebra.SymTridiagonal</b>) in LinearAlgebra at <a href=\"file:///Users/julia/.julia/scratchspaces/a66863c6-20e8-4ff4-8a62-49f30b1f605e/agent-cache/default-grannysmith-C07ZM05NJYVY.0/build/default-grannysmith-C07ZM05NJYVY-0/julialang/julia-release-1-dot-10/usr/share/julia/stdlib/v1.10/LinearAlgebra/src/tridiag.jl\" target=\"_blank\">/Applications/Julia-1.10.app/Contents/Resources/julia/share/julia/stdlib/v1.10/LinearAlgebra/src/tridiag.jl:210</a></li> <li> +(A::<b>LinearAlgebra.SymTridiagonal</b>, B::<b>LinearAlgebra.UniformScaling</b>) in LinearAlgebra at <a href=\"file:///Users/julia/.julia/scratchspaces/a66863c6-20e8-4ff4-8a62-49f30b1f605e/agent-cache/default-grannysmith-C07ZM05NJYVY.0/build/default-grannysmith-C07ZM05NJYVY-0/julialang/julia-release-1-dot-10/usr/share/julia/stdlib/v1.10/LinearAlgebra/src/special.jl\" target=\"_blank\">/Applications/Julia-1.10.app/Contents/Resources/julia/share/julia/stdlib/v1.10/LinearAlgebra/src/special.jl:237</a></li> <li> +(B::<b>LinearAlgebra.SymTridiagonal</b>, A::<b>LinearAlgebra.Tridiagonal</b>) in LinearAlgebra</li> <li> +(r1::<b>OrdinalRange</b>, r2::<b>OrdinalRange</b>) in Base at <a href=\"https://github.com/JuliaLang/julia/tree/48d4fd48430af58502699fdf3504b90589df3852/base/range.jl#L1454\" target=\"_blank\">range.jl:1454</a></li> <li> +(J::<b>LinearAlgebra.UniformScaling</b>, B::<b>BitMatrix</b>) in LinearAlgebra at <a href=\"file:///Users/julia/.julia/scratchspaces/a66863c6-20e8-4ff4-8a62-49f30b1f605e/agent-cache/default-grannysmith-C07ZM05NJYVY.0/build/default-grannysmith-C07ZM05NJYVY-0/julialang/julia-release-1-dot-10/usr/share/julia/stdlib/v1.10/LinearAlgebra/src/uniformscaling.jl\" target=\"_blank\">/Applications/Julia-1.10.app/Contents/Resources/julia/share/julia/stdlib/v1.10/LinearAlgebra/src/uniformscaling.jl:152</a></li> <li> +(J::<b>LinearAlgebra.UniformScaling{T}</b>, A::<b>SparseArrays.AbstractSparseMatrixCSC{Tv, Ti}</b>)<i> where {T<:Number, Tv, Ti}</i> in SparseArrays at <a href=\"file:///Users/julia/.julia/scratchspaces/a66863c6-20e8-4ff4-8a62-49f30b1f605e/agent-cache/default-grannysmith-C07ZM05NJYVY.0/build/default-grannysmith-C07ZM05NJYVY-0/julialang/julia-release-1-dot-10/usr/share/julia/stdlib/v1.10/SparseArrays/src/sparsematrix.jl\" target=\"_blank\">/Applications/Julia-1.10.app/Contents/Resources/julia/share/julia/stdlib/v1.10/SparseArrays/src/sparsematrix.jl:4277</a></li> <li> +(x::<b>LinearAlgebra.UniformScaling</b>, H::<b>LinearAlgebra.UpperHessenberg</b>) in LinearAlgebra at <a href=\"file:///Users/julia/.julia/scratchspaces/a66863c6-20e8-4ff4-8a62-49f30b1f605e/agent-cache/default-grannysmith-C07ZM05NJYVY.0/build/default-grannysmith-C07ZM05NJYVY-0/julialang/julia-release-1-dot-10/usr/share/julia/stdlib/v1.10/LinearAlgebra/src/hessenberg.jl\" target=\"_blank\">/Applications/Julia-1.10.app/Contents/Resources/julia/share/julia/stdlib/v1.10/LinearAlgebra/src/hessenberg.jl:120</a></li> <li> +(J::<b>LinearAlgebra.UniformScaling</b>, x::<b>Number</b>) in LinearAlgebra at <a href=\"file:///Users/julia/.julia/scratchspaces/a66863c6-20e8-4ff4-8a62-49f30b1f605e/agent-cache/default-grannysmith-C07ZM05NJYVY.0/build/default-grannysmith-C07ZM05NJYVY-0/julialang/julia-release-1-dot-10/usr/share/julia/stdlib/v1.10/LinearAlgebra/src/uniformscaling.jl\" target=\"_blank\">/Applications/Julia-1.10.app/Contents/Resources/julia/share/julia/stdlib/v1.10/LinearAlgebra/src/uniformscaling.jl:144</a></li> <li> +(B::<b>LinearAlgebra.UniformScaling</b>, A::<b>LinearAlgebra.Bidiagonal</b>) in LinearAlgebra</li> <li> +(B::<b>LinearAlgebra.UniformScaling</b>, A::<b>LinearAlgebra.SymTridiagonal</b>) in LinearAlgebra</li> <li> +(B::<b>LinearAlgebra.UniformScaling</b>, A::<b>LinearAlgebra.Diagonal</b>) in LinearAlgebra</li> <li> +(B::<b>LinearAlgebra.UniformScaling</b>, A::<b>LinearAlgebra.Tridiagonal</b>) in LinearAlgebra</li> <li> +(J::<b>LinearAlgebra.UniformScaling</b>, A::<b>AbstractMatrix</b>) in LinearAlgebra at <a href=\"file:///Users/julia/.julia/scratchspaces/a66863c6-20e8-4ff4-8a62-49f30b1f605e/agent-cache/default-grannysmith-C07ZM05NJYVY.0/build/default-grannysmith-C07ZM05NJYVY-0/julialang/julia-release-1-dot-10/usr/share/julia/stdlib/v1.10/LinearAlgebra/src/uniformscaling.jl\" target=\"_blank\">/Applications/Julia-1.10.app/Contents/Resources/julia/share/julia/stdlib/v1.10/LinearAlgebra/src/uniformscaling.jl:153</a></li> <li> +(J1::<b>LinearAlgebra.UniformScaling</b>, J2::<b>LinearAlgebra.UniformScaling</b>) in LinearAlgebra at <a href=\"file:///Users/julia/.julia/scratchspaces/a66863c6-20e8-4ff4-8a62-49f30b1f605e/agent-cache/default-grannysmith-C07ZM05NJYVY.0/build/default-grannysmith-C07ZM05NJYVY-0/julialang/julia-release-1-dot-10/usr/share/julia/stdlib/v1.10/LinearAlgebra/src/uniformscaling.jl\" target=\"_blank\">/Applications/Julia-1.10.app/Contents/Resources/julia/share/julia/stdlib/v1.10/LinearAlgebra/src/uniformscaling.jl:150</a></li> <li> +(J::<b>LinearAlgebra.UniformScaling</b>, F::<b>LinearAlgebra.Hessenberg</b>) in LinearAlgebra at <a href=\"file:///Users/julia/.julia/scratchspaces/a66863c6-20e8-4ff4-8a62-49f30b1f605e/agent-cache/default-grannysmith-C07ZM05NJYVY.0/build/default-grannysmith-C07ZM05NJYVY-0/julialang/julia-release-1-dot-10/usr/share/julia/stdlib/v1.10/LinearAlgebra/src/hessenberg.jl\" target=\"_blank\">/Applications/Julia-1.10.app/Contents/Resources/julia/share/julia/stdlib/v1.10/LinearAlgebra/src/hessenberg.jl:561</a></li> <li> +(J::<b>LinearAlgebra.UniformScaling</b>) in LinearAlgebra at <a href=\"file:///Users/julia/.julia/scratchspaces/a66863c6-20e8-4ff4-8a62-49f30b1f605e/agent-cache/default-grannysmith-C07ZM05NJYVY.0/build/default-grannysmith-C07ZM05NJYVY-0/julialang/julia-release-1-dot-10/usr/share/julia/stdlib/v1.10/LinearAlgebra/src/uniformscaling.jl\" target=\"_blank\">/Applications/Julia-1.10.app/Contents/Resources/julia/share/julia/stdlib/v1.10/LinearAlgebra/src/uniformscaling.jl:149</a></li> <li> +(F::<b>LinearAlgebra.Hessenberg</b>, J::<b>LinearAlgebra.UniformScaling</b>) in LinearAlgebra at <a href=\"file:///Users/julia/.julia/scratchspaces/a66863c6-20e8-4ff4-8a62-49f30b1f605e/agent-cache/default-grannysmith-C07ZM05NJYVY.0/build/default-grannysmith-C07ZM05NJYVY-0/julialang/julia-release-1-dot-10/usr/share/julia/stdlib/v1.10/LinearAlgebra/src/hessenberg.jl\" target=\"_blank\">/Applications/Julia-1.10.app/Contents/Resources/julia/share/julia/stdlib/v1.10/LinearAlgebra/src/hessenberg.jl:560</a></li> <li> +(A::<b>LinearAlgebra.UnitLowerTriangular</b>, B::<b>LinearAlgebra.Bidiagonal</b>) in LinearAlgebra at <a href=\"file:///Users/julia/.julia/scratchspaces/a66863c6-20e8-4ff4-8a62-49f30b1f605e/agent-cache/default-grannysmith-C07ZM05NJYVY.0/build/default-grannysmith-C07ZM05NJYVY-0/julialang/julia-release-1-dot-10/usr/share/julia/stdlib/v1.10/LinearAlgebra/src/special.jl\" target=\"_blank\">/Applications/Julia-1.10.app/Contents/Resources/julia/share/julia/stdlib/v1.10/LinearAlgebra/src/special.jl:91</a></li> <li> +(UL::<b>LinearAlgebra.UnitLowerTriangular</b>, J::<b>LinearAlgebra.UniformScaling</b>) in LinearAlgebra at <a href=\"file:///Users/julia/.julia/scratchspaces/a66863c6-20e8-4ff4-8a62-49f30b1f605e/agent-cache/default-grannysmith-C07ZM05NJYVY.0/build/default-grannysmith-C07ZM05NJYVY-0/julialang/julia-release-1-dot-10/usr/share/julia/stdlib/v1.10/LinearAlgebra/src/uniformscaling.jl\" target=\"_blank\">/Applications/Julia-1.10.app/Contents/Resources/julia/share/julia/stdlib/v1.10/LinearAlgebra/src/uniformscaling.jl:181</a></li> <li> +(x::<b>Dates.Period</b>, r::<b>AbstractRange{<:Dates.TimeType}</b>) in Dates at <a href=\"file:///Users/julia/.julia/scratchspaces/a66863c6-20e8-4ff4-8a62-49f30b1f605e/agent-cache/default-grannysmith-C07ZM05NJYVY.0/build/default-grannysmith-C07ZM05NJYVY-0/julialang/julia-release-1-dot-10/usr/share/julia/stdlib/v1.10/Dates/src/ranges.jl\" target=\"_blank\">/Applications/Julia-1.10.app/Contents/Resources/julia/share/julia/stdlib/v1.10/Dates/src/ranges.jl:64</a></li> <li> +(y::<b>Dates.Period</b>, x::<b>Dates.TimeType</b>) in Dates at <a href=\"file:///Users/julia/.julia/scratchspaces/a66863c6-20e8-4ff4-8a62-49f30b1f605e/agent-cache/default-grannysmith-C07ZM05NJYVY.0/build/default-grannysmith-C07ZM05NJYVY-0/julialang/julia-release-1-dot-10/usr/share/julia/stdlib/v1.10/Dates/src/arithmetic.jl\" target=\"_blank\">/Applications/Julia-1.10.app/Contents/Resources/julia/share/julia/stdlib/v1.10/Dates/src/arithmetic.jl:87</a></li> <li> +(y::<b>Dates.Period</b>, x::<b>Dates.CompoundPeriod</b>) in Dates at <a href=\"file:///Users/julia/.julia/scratchspaces/a66863c6-20e8-4ff4-8a62-49f30b1f605e/agent-cache/default-grannysmith-C07ZM05NJYVY.0/build/default-grannysmith-C07ZM05NJYVY-0/julialang/julia-release-1-dot-10/usr/share/julia/stdlib/v1.10/Dates/src/periods.jl\" target=\"_blank\">/Applications/Julia-1.10.app/Contents/Resources/julia/share/julia/stdlib/v1.10/Dates/src/periods.jl:333</a></li> <li> +(x::<b>P</b>, y::<b>P</b>)<i> where P<:Dates.Period</i> in Dates at <a href=\"file:///Users/julia/.julia/scratchspaces/a66863c6-20e8-4ff4-8a62-49f30b1f605e/agent-cache/default-grannysmith-C07ZM05NJYVY.0/build/default-grannysmith-C07ZM05NJYVY-0/julialang/julia-release-1-dot-10/usr/share/julia/stdlib/v1.10/Dates/src/periods.jl\" target=\"_blank\">/Applications/Julia-1.10.app/Contents/Resources/julia/share/julia/stdlib/v1.10/Dates/src/periods.jl:75</a></li> <li> +(x::<b>Dates.Period</b>, y::<b>Dates.Period</b>) in Dates at <a href=\"file:///Users/julia/.julia/scratchspaces/a66863c6-20e8-4ff4-8a62-49f30b1f605e/agent-cache/default-grannysmith-C07ZM05NJYVY.0/build/default-grannysmith-C07ZM05NJYVY-0/julialang/julia-release-1-dot-10/usr/share/julia/stdlib/v1.10/Dates/src/periods.jl\" target=\"_blank\">/Applications/Julia-1.10.app/Contents/Resources/julia/share/julia/stdlib/v1.10/Dates/src/periods.jl:331</a></li> <li> +(a::<b>ColorVectorSpace.RGBRGB</b>) in ColorVectorSpace at <a href=\"file:///Users/koichiro/.julia/packages/ColorVectorSpace/tLy1N/src/ColorVectorSpace.jl\" target=\"_blank\">/Users/koichiro/.julia/packages/ColorVectorSpace/tLy1N/src/ColorVectorSpace.jl:411</a></li> <li> +(a::<b>ColorVectorSpace.RGBRGB</b>, b::<b>ColorVectorSpace.RGBRGB</b>) in ColorVectorSpace at <a href=\"file:///Users/koichiro/.julia/packages/ColorVectorSpace/tLy1N/src/ColorVectorSpace.jl\" target=\"_blank\">/Users/koichiro/.julia/packages/ColorVectorSpace/tLy1N/src/ColorVectorSpace.jl:413</a></li> <li> +(r1::<b>LinRange{T}</b>, r2::<b>LinRange{T}</b>)<i> where T</i> in Base at <a href=\"https://github.com/JuliaLang/julia/tree/48d4fd48430af58502699fdf3504b90589df3852/base/range.jl#L1461\" target=\"_blank\">range.jl:1461</a></li> <li> +(A::<b>LinearAlgebra.LowerTriangular</b>, B::<b>LinearAlgebra.Bidiagonal</b>) in LinearAlgebra at <a href=\"file:///Users/julia/.julia/scratchspaces/a66863c6-20e8-4ff4-8a62-49f30b1f605e/agent-cache/default-grannysmith-C07ZM05NJYVY.0/build/default-grannysmith-C07ZM05NJYVY-0/julialang/julia-release-1-dot-10/usr/share/julia/stdlib/v1.10/LinearAlgebra/src/special.jl\" target=\"_blank\">/Applications/Julia-1.10.app/Contents/Resources/julia/share/julia/stdlib/v1.10/LinearAlgebra/src/special.jl:91</a></li> <li> +(A::<b>LinearAlgebra.Bidiagonal</b>, B::<b>LinearAlgebra.UnitLowerTriangular</b>) in LinearAlgebra at <a href=\"file:///Users/julia/.julia/scratchspaces/a66863c6-20e8-4ff4-8a62-49f30b1f605e/agent-cache/default-grannysmith-C07ZM05NJYVY.0/build/default-grannysmith-C07ZM05NJYVY-0/julialang/julia-release-1-dot-10/usr/share/julia/stdlib/v1.10/LinearAlgebra/src/special.jl\" target=\"_blank\">/Applications/Julia-1.10.app/Contents/Resources/julia/share/julia/stdlib/v1.10/LinearAlgebra/src/special.jl:99</a></li> <li> +(A::<b>LinearAlgebra.Bidiagonal</b>, B::<b>LinearAlgebra.UnitUpperTriangular</b>) in LinearAlgebra at <a href=\"file:///Users/julia/.julia/scratchspaces/a66863c6-20e8-4ff4-8a62-49f30b1f605e/agent-cache/default-grannysmith-C07ZM05NJYVY.0/build/default-grannysmith-C07ZM05NJYVY-0/julialang/julia-release-1-dot-10/usr/share/julia/stdlib/v1.10/LinearAlgebra/src/special.jl\" target=\"_blank\">/Applications/Julia-1.10.app/Contents/Resources/julia/share/julia/stdlib/v1.10/LinearAlgebra/src/special.jl:99</a></li> <li> +(x::<b>LinearAlgebra.Bidiagonal</b>, H::<b>LinearAlgebra.UpperHessenberg</b>) in LinearAlgebra at <a href=\"file:///Users/julia/.julia/scratchspaces/a66863c6-20e8-4ff4-8a62-49f30b1f605e/agent-cache/default-grannysmith-C07ZM05NJYVY.0/build/default-grannysmith-C07ZM05NJYVY-0/julialang/julia-release-1-dot-10/usr/share/julia/stdlib/v1.10/LinearAlgebra/src/hessenberg.jl\" target=\"_blank\">/Applications/Julia-1.10.app/Contents/Resources/julia/share/julia/stdlib/v1.10/LinearAlgebra/src/hessenberg.jl:120</a></li> <li> +(A::<b>LinearAlgebra.Bidiagonal</b>, B::<b>LinearAlgebra.LowerTriangular</b>) in LinearAlgebra at <a href=\"file:///Users/julia/.julia/scratchspaces/a66863c6-20e8-4ff4-8a62-49f30b1f605e/agent-cache/default-grannysmith-C07ZM05NJYVY.0/build/default-grannysmith-C07ZM05NJYVY-0/julialang/julia-release-1-dot-10/usr/share/julia/stdlib/v1.10/LinearAlgebra/src/special.jl\" target=\"_blank\">/Applications/Julia-1.10.app/Contents/Resources/julia/share/julia/stdlib/v1.10/LinearAlgebra/src/special.jl:99</a></li> <li> +(A::<b>LinearAlgebra.Bidiagonal</b>, B::<b>LinearAlgebra.Bidiagonal</b>) in LinearAlgebra at <a href=\"file:///Users/julia/.julia/scratchspaces/a66863c6-20e8-4ff4-8a62-49f30b1f605e/agent-cache/default-grannysmith-C07ZM05NJYVY.0/build/default-grannysmith-C07ZM05NJYVY-0/julialang/julia-release-1-dot-10/usr/share/julia/stdlib/v1.10/LinearAlgebra/src/bidiag.jl\" target=\"_blank\">/Applications/Julia-1.10.app/Contents/Resources/julia/share/julia/stdlib/v1.10/LinearAlgebra/src/bidiag.jl:390</a></li> <li> +(A::<b>LinearAlgebra.Bidiagonal</b>, B::<b>LinearAlgebra.SymTridiagonal</b>) in LinearAlgebra at <a href=\"file:///Users/julia/.julia/scratchspaces/a66863c6-20e8-4ff4-8a62-49f30b1f605e/agent-cache/default-grannysmith-C07ZM05NJYVY.0/build/default-grannysmith-C07ZM05NJYVY-0/julialang/julia-release-1-dot-10/usr/share/julia/stdlib/v1.10/LinearAlgebra/src/special.jl\" target=\"_blank\">/Applications/Julia-1.10.app/Contents/Resources/julia/share/julia/stdlib/v1.10/LinearAlgebra/src/special.jl:217</a></li> <li> +(A::<b>LinearAlgebra.Bidiagonal</b>, B::<b>LinearAlgebra.Diagonal</b>) in LinearAlgebra at <a href=\"file:///Users/julia/.julia/scratchspaces/a66863c6-20e8-4ff4-8a62-49f30b1f605e/agent-cache/default-grannysmith-C07ZM05NJYVY.0/build/default-grannysmith-C07ZM05NJYVY-0/julialang/julia-release-1-dot-10/usr/share/julia/stdlib/v1.10/LinearAlgebra/src/special.jl\" target=\"_blank\">/Applications/Julia-1.10.app/Contents/Resources/julia/share/julia/stdlib/v1.10/LinearAlgebra/src/special.jl:151</a></li> <li> +(A::<b>LinearAlgebra.Bidiagonal</b>, B::<b>LinearAlgebra.UpperTriangular</b>) in LinearAlgebra at <a href=\"file:///Users/julia/.julia/scratchspaces/a66863c6-20e8-4ff4-8a62-49f30b1f605e/agent-cache/default-grannysmith-C07ZM05NJYVY.0/build/default-grannysmith-C07ZM05NJYVY-0/julialang/julia-release-1-dot-10/usr/share/julia/stdlib/v1.10/LinearAlgebra/src/special.jl\" target=\"_blank\">/Applications/Julia-1.10.app/Contents/Resources/julia/share/julia/stdlib/v1.10/LinearAlgebra/src/special.jl:99</a></li> <li> +(A::<b>LinearAlgebra.Bidiagonal</b>, B::<b>LinearAlgebra.UniformScaling</b>) in LinearAlgebra at <a href=\"file:///Users/julia/.julia/scratchspaces/a66863c6-20e8-4ff4-8a62-49f30b1f605e/agent-cache/default-grannysmith-C07ZM05NJYVY.0/build/default-grannysmith-C07ZM05NJYVY-0/julialang/julia-release-1-dot-10/usr/share/julia/stdlib/v1.10/LinearAlgebra/src/special.jl\" target=\"_blank\">/Applications/Julia-1.10.app/Contents/Resources/julia/share/julia/stdlib/v1.10/LinearAlgebra/src/special.jl:242</a></li> <li> +(A::<b>LinearAlgebra.Bidiagonal</b>, B::<b>LinearAlgebra.Tridiagonal</b>) in LinearAlgebra at <a href=\"file:///Users/julia/.julia/scratchspaces/a66863c6-20e8-4ff4-8a62-49f30b1f605e/agent-cache/default-grannysmith-C07ZM05NJYVY.0/build/default-grannysmith-C07ZM05NJYVY-0/julialang/julia-release-1-dot-10/usr/share/julia/stdlib/v1.10/LinearAlgebra/src/special.jl\" target=\"_blank\">/Applications/Julia-1.10.app/Contents/Resources/julia/share/julia/stdlib/v1.10/LinearAlgebra/src/special.jl:202</a></li> <li> +(a::<b>Measures.Measure</b>, b::<b>Measures.Measure</b>) in Measures at <a href=\"file:///Users/koichiro/.julia/packages/Measures/PKOxJ/src/operations.jl\" target=\"_blank\">/Users/koichiro/.julia/packages/Measures/PKOxJ/src/operations.jl:41</a></li> <li> +(A::<b>LinearAlgebra.Symmetric{<:Real, <:SparseArrays.AbstractSparseMatrix}</b>, B::<b>LinearAlgebra.Hermitian{<:Any, <:SparseArrays.AbstractSparseMatrix}</b>) in SparseArrays at <a href=\"file:///Users/julia/.julia/scratchspaces/a66863c6-20e8-4ff4-8a62-49f30b1f605e/agent-cache/default-grannysmith-C07ZM05NJYVY.0/build/default-grannysmith-C07ZM05NJYVY-0/julialang/julia-release-1-dot-10/usr/share/julia/stdlib/v1.10/SparseArrays/src/linalg.jl\" target=\"_blank\">/Applications/Julia-1.10.app/Contents/Resources/julia/share/julia/stdlib/v1.10/SparseArrays/src/linalg.jl:26</a></li> <li> +(A::<b>LinearAlgebra.Symmetric{var\"#s128\", S} where {var\"#s128\"<:Real, S<:(AbstractMatrix{<:var\"#s128\"})}</b>, B::<b>LinearAlgebra.Hermitian</b>) in LinearAlgebra at <a href=\"file:///Users/julia/.julia/scratchspaces/a66863c6-20e8-4ff4-8a62-49f30b1f605e/agent-cache/default-grannysmith-C07ZM05NJYVY.0/build/default-grannysmith-C07ZM05NJYVY-0/julialang/julia-release-1-dot-10/usr/share/julia/stdlib/v1.10/LinearAlgebra/src/symmetric.jl\" target=\"_blank\">/Applications/Julia-1.10.app/Contents/Resources/julia/share/julia/stdlib/v1.10/LinearAlgebra/src/symmetric.jl:519</a></li> <li> +(A::<b>LinearAlgebra.Symmetric{<:Any, <:SparseArrays.AbstractSparseMatrix}</b>, B::<b>LinearAlgebra.Hermitian{<:Any, <:SparseArrays.AbstractSparseMatrix}</b>) in SparseArrays at <a href=\"file:///Users/julia/.julia/scratchspaces/a66863c6-20e8-4ff4-8a62-49f30b1f605e/agent-cache/default-grannysmith-C07ZM05NJYVY.0/build/default-grannysmith-C07ZM05NJYVY-0/julialang/julia-release-1-dot-10/usr/share/julia/stdlib/v1.10/SparseArrays/src/linalg.jl\" target=\"_blank\">/Applications/Julia-1.10.app/Contents/Resources/julia/share/julia/stdlib/v1.10/SparseArrays/src/linalg.jl:24</a></li> <li> +(A::<b>LinearAlgebra.Symmetric</b>, B::<b>LinearAlgebra.SymTridiagonal</b>) in LinearAlgebra at <a href=\"file:///Users/julia/.julia/scratchspaces/a66863c6-20e8-4ff4-8a62-49f30b1f605e/agent-cache/default-grannysmith-C07ZM05NJYVY.0/build/default-grannysmith-C07ZM05NJYVY-0/julialang/julia-release-1-dot-10/usr/share/julia/stdlib/v1.10/LinearAlgebra/src/symmetric.jl\" target=\"_blank\">/Applications/Julia-1.10.app/Contents/Resources/julia/share/julia/stdlib/v1.10/LinearAlgebra/src/symmetric.jl:521</a></li> <li> +(A::<b>LinearAlgebra.Symmetric{<:Any, <:SparseArrays.AbstractSparseMatrix}</b>, B::<b>SparseArrays.AbstractSparseMatrix</b>) in SparseArrays at <a href=\"file:///Users/julia/.julia/scratchspaces/a66863c6-20e8-4ff4-8a62-49f30b1f605e/agent-cache/default-grannysmith-C07ZM05NJYVY.0/build/default-grannysmith-C07ZM05NJYVY-0/julialang/julia-release-1-dot-10/usr/share/julia/stdlib/v1.10/SparseArrays/src/linalg.jl\" target=\"_blank\">/Applications/Julia-1.10.app/Contents/Resources/julia/share/julia/stdlib/v1.10/SparseArrays/src/linalg.jl:16</a></li> <li> +(A::<b>LinearAlgebra.Symmetric</b>, B::<b>SparseArrays.AbstractSparseMatrix</b>) in SparseArrays at <a href=\"file:///Users/julia/.julia/scratchspaces/a66863c6-20e8-4ff4-8a62-49f30b1f605e/agent-cache/default-grannysmith-C07ZM05NJYVY.0/build/default-grannysmith-C07ZM05NJYVY-0/julialang/julia-release-1-dot-10/usr/share/julia/stdlib/v1.10/SparseArrays/src/linalg.jl\" target=\"_blank\">/Applications/Julia-1.10.app/Contents/Resources/julia/share/julia/stdlib/v1.10/SparseArrays/src/linalg.jl:19</a></li> <li> +(S::<b>LinearAlgebra.Symmetric</b>, D::<b>LinearAlgebra.Diagonal</b>) in LinearAlgebra at <a href=\"file:///Users/julia/.julia/scratchspaces/a66863c6-20e8-4ff4-8a62-49f30b1f605e/agent-cache/default-grannysmith-C07ZM05NJYVY.0/build/default-grannysmith-C07ZM05NJYVY-0/julialang/julia-release-1-dot-10/usr/share/julia/stdlib/v1.10/LinearAlgebra/src/diagonal.jl\" target=\"_blank\">/Applications/Julia-1.10.app/Contents/Resources/julia/share/julia/stdlib/v1.10/LinearAlgebra/src/diagonal.jl:232</a></li> <li> +(A::<b>LinearAlgebra.Symmetric</b>, B::<b>LinearAlgebra.Symmetric</b>) in LinearAlgebra at <a href=\"file:///Users/julia/.julia/scratchspaces/a66863c6-20e8-4ff4-8a62-49f30b1f605e/agent-cache/default-grannysmith-C07ZM05NJYVY.0/build/default-grannysmith-C07ZM05NJYVY-0/julialang/julia-release-1-dot-10/usr/share/julia/stdlib/v1.10/LinearAlgebra/src/symmetric.jl\" target=\"_blank\">/Applications/Julia-1.10.app/Contents/Resources/julia/share/julia/stdlib/v1.10/LinearAlgebra/src/symmetric.jl:504</a></li> <li> +(a::<b>AbstractGray{Bool}</b>, b::<b>AbstractGray{Bool}</b>) in ColorVectorSpace at <a href=\"file:///Users/koichiro/.julia/packages/ColorVectorSpace/tLy1N/src/ColorVectorSpace.jl\" target=\"_blank\">/Users/koichiro/.julia/packages/ColorVectorSpace/tLy1N/src/ColorVectorSpace.jl:311</a></li> <li> +(a::<b>AbstractGray</b>, b::<b>AbstractGray</b>) in ColorVectorSpace at <a href=\"file:///Users/koichiro/.julia/packages/ColorVectorSpace/tLy1N/src/ColorVectorSpace.jl\" target=\"_blank\">/Users/koichiro/.julia/packages/ColorVectorSpace/tLy1N/src/ColorVectorSpace.jl:310</a></li> <li> +(a::<b>AbstractGray{Bool}</b>, b::<b>Bool</b>) in ColorVectorSpace at <a href=\"file:///Users/koichiro/.julia/packages/ColorVectorSpace/tLy1N/src/ColorVectorSpace.jl\" target=\"_blank\">/Users/koichiro/.julia/packages/ColorVectorSpace/tLy1N/src/ColorVectorSpace.jl:322</a></li> <li> +(a::<b>AbstractGray{Bool}</b>, b::<b>Number</b>) in ColorVectorSpace at <a href=\"file:///Users/koichiro/.julia/packages/ColorVectorSpace/tLy1N/src/ColorVectorSpace.jl\" target=\"_blank\">/Users/koichiro/.julia/packages/ColorVectorSpace/tLy1N/src/ColorVectorSpace.jl:321</a></li> <li> +(a::<b>AbstractGray</b>, b::<b>Number</b>) in ColorVectorSpace at <a href=\"file:///Users/koichiro/.julia/packages/ColorVectorSpace/tLy1N/src/ColorVectorSpace.jl\" target=\"_blank\">/Users/koichiro/.julia/packages/ColorVectorSpace/tLy1N/src/ColorVectorSpace.jl:320</a></li> <li> +(x::<b>AbstractArray{<:Dates.TimeType}</b>, y::<b>Union{Dates.CompoundPeriod, Dates.Period}</b>) in Dates at <a href=\"file:///Users/julia/.julia/scratchspaces/a66863c6-20e8-4ff4-8a62-49f30b1f605e/agent-cache/default-grannysmith-C07ZM05NJYVY.0/build/default-grannysmith-C07ZM05NJYVY-0/julialang/julia-release-1-dot-10/usr/share/julia/stdlib/v1.10/Dates/src/deprecated.jl\" target=\"_blank\">/Applications/Julia-1.10.app/Contents/Resources/julia/share/julia/stdlib/v1.10/Dates/src/deprecated.jl:6</a></li> <li> +(A::<b>LinearAlgebra.Tridiagonal</b>, B::<b>LinearAlgebra.UniformScaling</b>) in LinearAlgebra at <a href=\"file:///Users/julia/.julia/scratchspaces/a66863c6-20e8-4ff4-8a62-49f30b1f605e/agent-cache/default-grannysmith-C07ZM05NJYVY.0/build/default-grannysmith-C07ZM05NJYVY-0/julialang/julia-release-1-dot-10/usr/share/julia/stdlib/v1.10/LinearAlgebra/src/special.jl\" target=\"_blank\">/Applications/Julia-1.10.app/Contents/Resources/julia/share/julia/stdlib/v1.10/LinearAlgebra/src/special.jl:232</a></li> <li> +(A::<b>AbstractMatrix</b>, J::<b>LinearAlgebra.UniformScaling</b>) in LinearAlgebra at <a href=\"file:///Users/julia/.julia/scratchspaces/a66863c6-20e8-4ff4-8a62-49f30b1f605e/agent-cache/default-grannysmith-C07ZM05NJYVY.0/build/default-grannysmith-C07ZM05NJYVY-0/julialang/julia-release-1-dot-10/usr/share/julia/stdlib/v1.10/LinearAlgebra/src/uniformscaling.jl\" target=\"_blank\">/Applications/Julia-1.10.app/Contents/Resources/julia/share/julia/stdlib/v1.10/LinearAlgebra/src/uniformscaling.jl:214</a></li> <li> +(B::<b>LinearAlgebra.Tridiagonal</b>, A::<b>LinearAlgebra.Bidiagonal</b>) in LinearAlgebra</li> <li> +(B::<b>LinearAlgebra.Tridiagonal</b>, A::<b>LinearAlgebra.Diagonal</b>) in LinearAlgebra</li> <li> +(A::<b>LinearAlgebra.Tridiagonal</b>, B::<b>LinearAlgebra.SymTridiagonal</b>) in LinearAlgebra at <a href=\"file:///Users/julia/.julia/scratchspaces/a66863c6-20e8-4ff4-8a62-49f30b1f605e/agent-cache/default-grannysmith-C07ZM05NJYVY.0/build/default-grannysmith-C07ZM05NJYVY-0/julialang/julia-release-1-dot-10/usr/share/julia/stdlib/v1.10/LinearAlgebra/src/special.jl\" target=\"_blank\">/Applications/Julia-1.10.app/Contents/Resources/julia/share/julia/stdlib/v1.10/LinearAlgebra/src/special.jl:183</a></li> <li> +(x::<b>LinearAlgebra.Tridiagonal</b>, H::<b>LinearAlgebra.UpperHessenberg</b>) in LinearAlgebra at <a href=\"file:///Users/julia/.julia/scratchspaces/a66863c6-20e8-4ff4-8a62-49f30b1f605e/agent-cache/default-grannysmith-C07ZM05NJYVY.0/build/default-grannysmith-C07ZM05NJYVY-0/julialang/julia-release-1-dot-10/usr/share/julia/stdlib/v1.10/LinearAlgebra/src/hessenberg.jl\" target=\"_blank\">/Applications/Julia-1.10.app/Contents/Resources/julia/share/julia/stdlib/v1.10/LinearAlgebra/src/hessenberg.jl:120</a></li> <li> +(A::<b>LinearAlgebra.Tridiagonal</b>, B::<b>LinearAlgebra.Tridiagonal</b>) in LinearAlgebra at <a href=\"file:///Users/julia/.julia/scratchspaces/a66863c6-20e8-4ff4-8a62-49f30b1f605e/agent-cache/default-grannysmith-C07ZM05NJYVY.0/build/default-grannysmith-C07ZM05NJYVY-0/julialang/julia-release-1-dot-10/usr/share/julia/stdlib/v1.10/LinearAlgebra/src/tridiag.jl\" target=\"_blank\">/Applications/Julia-1.10.app/Contents/Resources/julia/share/julia/stdlib/v1.10/LinearAlgebra/src/tridiag.jl:739</a></li> <li> +(X::<b>StridedArray{<:Union{Dates.CompoundPeriod, Dates.Period}}</b>, Y::<b>StridedArray{<:Union{Dates.CompoundPeriod, Dates.Period}}</b>) in Dates at <a href=\"file:///Users/julia/.julia/scratchspaces/a66863c6-20e8-4ff4-8a62-49f30b1f605e/agent-cache/default-grannysmith-C07ZM05NJYVY.0/build/default-grannysmith-C07ZM05NJYVY-0/julialang/julia-release-1-dot-10/usr/share/julia/stdlib/v1.10/Dates/src/deprecated.jl\" target=\"_blank\">/Applications/Julia-1.10.app/Contents/Resources/julia/share/julia/stdlib/v1.10/Dates/src/deprecated.jl:62</a></li> <li> +(r1::<b>Union{LinRange, OrdinalRange, StepRangeLen}</b>, r2::<b>Union{LinRange, OrdinalRange, StepRangeLen}</b>) in Base at <a href=\"https://github.com/JuliaLang/julia/tree/48d4fd48430af58502699fdf3504b90589df3852/base/range.jl#L1470\" target=\"_blank\">range.jl:1470</a></li> <li> +(A::<b>AbstractArray</b>, B::<b>AbstractArray</b>) in Base at <a href=\"https://github.com/JuliaLang/julia/tree/48d4fd48430af58502699fdf3504b90589df3852/base/arraymath.jl#L6\" target=\"_blank\">arraymath.jl:6</a></li> <li> +(x::<b>StridedArray{<:Union{Dates.CompoundPeriod, Dates.Period}}</b>) in Dates at <a href=\"file:///Users/julia/.julia/scratchspaces/a66863c6-20e8-4ff4-8a62-49f30b1f605e/agent-cache/default-grannysmith-C07ZM05NJYVY.0/build/default-grannysmith-C07ZM05NJYVY-0/julialang/julia-release-1-dot-10/usr/share/julia/stdlib/v1.10/Dates/src/deprecated.jl\" target=\"_blank\">/Applications/Julia-1.10.app/Contents/Resources/julia/share/julia/stdlib/v1.10/Dates/src/deprecated.jl:55</a></li> <li> +(x::<b>AbstractArray{<:Number}</b>) in Base at <a href=\"https://github.com/JuliaLang/julia/tree/48d4fd48430af58502699fdf3504b90589df3852/base/abstractarraymath.jl#L220\" target=\"_blank\">abstractarraymath.jl:220</a></li> <li> +(c::<b>Union{TransparentColor{C, Bool}, C} where C<:Union{AbstractRGB{Bool}, AbstractGray{Bool}}</b>) in ColorVectorSpace at <a href=\"file:///Users/koichiro/.julia/packages/ColorVectorSpace/tLy1N/src/ColorVectorSpace.jl\" target=\"_blank\">/Users/koichiro/.julia/packages/ColorVectorSpace/tLy1N/src/ColorVectorSpace.jl:250</a></li> <li> +(c::<b>Union{TransparentColor{C, T}, C} where {T, C<:Union{AbstractRGB{T}, AbstractGray{T}}}</b>) in ColorVectorSpace at <a href=\"file:///Users/koichiro/.julia/packages/ColorVectorSpace/tLy1N/src/ColorVectorSpace.jl\" target=\"_blank\">/Users/koichiro/.julia/packages/ColorVectorSpace/tLy1N/src/ColorVectorSpace.jl:249</a></li> <li> +(a::<b>Union{TransparentColor{C, T}, C} where {T, C<:Union{AbstractRGB{T}, AbstractGray{T}}}</b>, b::<b>Union{TransparentColor{C, T}, C} where {T, C<:Union{AbstractRGB{T}, AbstractGray{T}}}</b>) in ColorVectorSpace at <a href=\"file:///Users/koichiro/.julia/packages/ColorVectorSpace/tLy1N/src/ColorVectorSpace.jl\" target=\"_blank\">/Users/koichiro/.julia/packages/ColorVectorSpace/tLy1N/src/ColorVectorSpace.jl:260</a></li> <li> +(a::<b>Union{LMS, XYZ}</b>, b::<b>Union{LMS, XYZ}</b>) in Colors at <a href=\"file:///Users/koichiro/.julia/packages/Colors/E2qak/src/algorithms.jl\" target=\"_blank\">/Users/koichiro/.julia/packages/Colors/E2qak/src/algorithms.jl:4</a></li> <li> +(y::<b>Union{Dates.CompoundPeriod, Dates.Period}</b>, x::<b>AbstractArray{<:Dates.TimeType}</b>) in Dates at <a href=\"file:///Users/julia/.julia/scratchspaces/a66863c6-20e8-4ff4-8a62-49f30b1f605e/agent-cache/default-grannysmith-C07ZM05NJYVY.0/build/default-grannysmith-C07ZM05NJYVY-0/julialang/julia-release-1-dot-10/usr/share/julia/stdlib/v1.10/Dates/src/deprecated.jl\" target=\"_blank\">/Applications/Julia-1.10.app/Contents/Resources/julia/share/julia/stdlib/v1.10/Dates/src/deprecated.jl:14</a></li> <li> +(x::<b>StridedArray{<:Union{Dates.CompoundPeriod, Dates.Period}}</b>, y::<b>Dates.TimeType</b>) in Dates at <a href=\"file:///Users/julia/.julia/scratchspaces/a66863c6-20e8-4ff4-8a62-49f30b1f605e/agent-cache/default-grannysmith-C07ZM05NJYVY.0/build/default-grannysmith-C07ZM05NJYVY-0/julialang/julia-release-1-dot-10/usr/share/julia/stdlib/v1.10/Dates/src/deprecated.jl\" target=\"_blank\">/Applications/Julia-1.10.app/Contents/Resources/julia/share/julia/stdlib/v1.10/Dates/src/deprecated.jl:10</a></li> <li> +(x::<b>Union{Dates.CompoundPeriod, Dates.Period}</b>) in Dates at <a href=\"file:///Users/julia/.julia/scratchspaces/a66863c6-20e8-4ff4-8a62-49f30b1f605e/agent-cache/default-grannysmith-C07ZM05NJYVY.0/build/default-grannysmith-C07ZM05NJYVY-0/julialang/julia-release-1-dot-10/usr/share/julia/stdlib/v1.10/Dates/src/periods.jl\" target=\"_blank\">/Applications/Julia-1.10.app/Contents/Resources/julia/share/julia/stdlib/v1.10/Dates/src/periods.jl:342</a></li> <li> +(a, b, c, xs...) in Base at <a href=\"https://github.com/JuliaLang/julia/tree/48d4fd48430af58502699fdf3504b90589df3852/base/operators.jl#L587\" target=\"_blank\">operators.jl:587</a></li> </ul>"
      ],
      "text/plain": [
       "# 230 methods for generic function \"+\" from \u001b[90mBase\u001b[39m:\n",
       "   [1] +(\u001b[90mz\u001b[39m::\u001b[1mComplex\u001b[22m\u001b[0m{Bool}, \u001b[90mx\u001b[39m::\u001b[1mBool\u001b[22m)\n",
       "\u001b[90m     @\u001b[39m \u001b[90m\u001b[4mcomplex.jl:306\u001b[24m\u001b[39m\n",
       "   [2] +(\u001b[90mz\u001b[39m::\u001b[1mComplex\u001b[22m\u001b[0m{Bool}, \u001b[90mx\u001b[39m::\u001b[1mReal\u001b[22m)\n",
       "\u001b[90m     @\u001b[39m \u001b[90m\u001b[4mcomplex.jl:320\u001b[24m\u001b[39m\n",
       "   [3] +(\u001b[90mz\u001b[39m::\u001b[1mComplex\u001b[22m, \u001b[90mx\u001b[39m::\u001b[1mBool\u001b[22m)\n",
       "\u001b[90m     @\u001b[39m \u001b[90m\u001b[4mcomplex.jl:313\u001b[24m\u001b[39m\n",
       "   [4] +(\u001b[90mx\u001b[39m::\u001b[1mBool\u001b[22m, \u001b[90mz\u001b[39m::\u001b[1mComplex\u001b[22m\u001b[0m{Bool})\n",
       "\u001b[90m     @\u001b[39m \u001b[90m\u001b[4mcomplex.jl:305\u001b[24m\u001b[39m\n",
       "   [5] +(\u001b[90mx\u001b[39m::\u001b[1mBool\u001b[22m, \u001b[90my\u001b[39m::\u001b[1mBool\u001b[22m)\n",
       "\u001b[90m     @\u001b[39m \u001b[90m\u001b[4mbool.jl:166\u001b[24m\u001b[39m\n",
       "   [6] +(\u001b[90mx\u001b[39m::\u001b[1mBool\u001b[22m)\n",
       "\u001b[90m     @\u001b[39m \u001b[90m\u001b[4mbool.jl:163\u001b[24m\u001b[39m\n",
       "   [7] +(\u001b[90mx\u001b[39m::\u001b[1mBool\u001b[22m, \u001b[90mz\u001b[39m::\u001b[1mComplex\u001b[22m)\n",
       "\u001b[90m     @\u001b[39m \u001b[90m\u001b[4mcomplex.jl:312\u001b[24m\u001b[39m\n",
       "   [8] +(\u001b[90mx\u001b[39m::\u001b[1mReal\u001b[22m, \u001b[90mz\u001b[39m::\u001b[1mComplex\u001b[22m\u001b[0m{Bool})\n",
       "\u001b[90m     @\u001b[39m \u001b[90m\u001b[4mcomplex.jl:319\u001b[24m\u001b[39m\n",
       "   [9] +(\u001b[90mx\u001b[39m::\u001b[1mBool\u001b[22m, \u001b[90my\u001b[39m::\u001b[1mT\u001b[22m) where T<:AbstractFloat\n",
       "\u001b[90m     @\u001b[39m \u001b[90m\u001b[4mbool.jl:173\u001b[24m\u001b[39m\n",
       "  [10] +(\u001b[90mx\u001b[39m::\u001b[1mBigInt\u001b[22m, \u001b[90my\u001b[39m::\u001b[1mBigInt\u001b[22m)\n",
       "\u001b[90m     @\u001b[39m \u001b[90mBase.GMP\u001b[39m \u001b[90m\u001b[4mgmp.jl:501\u001b[24m\u001b[39m\n",
       "  [11] +(\u001b[90ma\u001b[39m::\u001b[1mBigInt\u001b[22m, \u001b[90mb\u001b[39m::\u001b[1mBigInt\u001b[22m, \u001b[90mc\u001b[39m::\u001b[1mBigInt\u001b[22m)\n",
       "\u001b[90m     @\u001b[39m \u001b[90mBase.GMP\u001b[39m \u001b[90m\u001b[4mgmp.jl:541\u001b[24m\u001b[39m\n",
       "  [12] +(\u001b[90ma\u001b[39m::\u001b[1mBigInt\u001b[22m, \u001b[90mb\u001b[39m::\u001b[1mBigInt\u001b[22m, \u001b[90mc\u001b[39m::\u001b[1mBigInt\u001b[22m, \u001b[90md\u001b[39m::\u001b[1mBigInt\u001b[22m)\n",
       "\u001b[90m     @\u001b[39m \u001b[90mBase.GMP\u001b[39m \u001b[90m\u001b[4mgmp.jl:542\u001b[24m\u001b[39m\n",
       "  [13] +(\u001b[90ma\u001b[39m::\u001b[1mBigInt\u001b[22m, \u001b[90mb\u001b[39m::\u001b[1mBigInt\u001b[22m, \u001b[90mc\u001b[39m::\u001b[1mBigInt\u001b[22m, \u001b[90md\u001b[39m::\u001b[1mBigInt\u001b[22m, \u001b[90me\u001b[39m::\u001b[1mBigInt\u001b[22m)\n",
       "\u001b[90m     @\u001b[39m \u001b[90mBase.GMP\u001b[39m \u001b[90m\u001b[4mgmp.jl:543\u001b[24m\u001b[39m\n",
       "  [14] +(\u001b[90mx\u001b[39m::\u001b[1mBigInt\u001b[22m, \u001b[90my\u001b[39m::\u001b[1mBigInt\u001b[22m, \u001b[90mrest\u001b[39m::\u001b[1mBigInt...\u001b[22m)\n",
       "\u001b[90m     @\u001b[39m \u001b[90mBase.GMP\u001b[39m \u001b[90m\u001b[4mgmp.jl:683\u001b[24m\u001b[39m\n",
       "  [15] +(\u001b[90mc\u001b[39m::\u001b[1mBigInt\u001b[22m, \u001b[90mx\u001b[39m::\u001b[1mBigFloat\u001b[22m)\n",
       "\u001b[90m     @\u001b[39m \u001b[90mBase.MPFR\u001b[39m \u001b[90m\u001b[4mmpfr.jl:468\u001b[24m\u001b[39m\n",
       "  [16] +(\u001b[90mx\u001b[39m::\u001b[1mBigInt\u001b[22m, \u001b[90mc\u001b[39m::\u001b[1mUnion\u001b[22m\u001b[0m{UInt16, UInt32, UInt64, UInt8})\n",
       "\u001b[90m     @\u001b[39m \u001b[90mBase.GMP\u001b[39m \u001b[90m\u001b[4mgmp.jl:549\u001b[24m\u001b[39m\n",
       "  [17] +(\u001b[90mx\u001b[39m::\u001b[1mBigInt\u001b[22m, \u001b[90mc\u001b[39m::\u001b[1mUnion\u001b[22m\u001b[0m{Int16, Int32, Int64, Int8})\n",
       "\u001b[90m     @\u001b[39m \u001b[90mBase.GMP\u001b[39m \u001b[90m\u001b[4mgmp.jl:555\u001b[24m\u001b[39m\n",
       "  [18] +(::\u001b[1mMissing\u001b[22m, ::\u001b[1mMissing\u001b[22m)\n",
       "\u001b[90m     @\u001b[39m \u001b[90m\u001b[4mmissing.jl:122\u001b[24m\u001b[39m\n",
       "  [19] +(::\u001b[1mMissing\u001b[22m)\n",
       "\u001b[90m     @\u001b[39m \u001b[90m\u001b[4mmissing.jl:101\u001b[24m\u001b[39m\n",
       "  [20] +(\u001b[90mx\u001b[39m::\u001b[1mMissing\u001b[22m, \u001b[90my\u001b[39m::\u001b[1mDates.AbstractTime\u001b[22m)\n",
       "\u001b[90m     @\u001b[39m \u001b[35mDates\u001b[39m \u001b[90m/Applications/Julia-1.10.app/Contents/Resources/julia/share/julia/stdlib/v1.10/Dates/src/\u001b[39m\u001b[90m\u001b[4marithmetic.jl:91\u001b[24m\u001b[39m\n",
       "  [21] +(::\u001b[1mMissing\u001b[22m, ::\u001b[1mNumber\u001b[22m)\n",
       "\u001b[90m     @\u001b[39m \u001b[90m\u001b[4mmissing.jl:123\u001b[24m\u001b[39m\n",
       "  [22] +(\u001b[90mlevel\u001b[39m::\u001b[1mBase.CoreLogging.LogLevel\u001b[22m, \u001b[90minc\u001b[39m::\u001b[1mInteger\u001b[22m)\n",
       "\u001b[90m     @\u001b[39m \u001b[90mBase.CoreLogging\u001b[39m \u001b[90m\u001b[4mlogging.jl:131\u001b[24m\u001b[39m\n",
       "  [23] +(\u001b[90mx\u001b[39m::\u001b[1mBigFloat\u001b[22m, \u001b[90mc\u001b[39m::\u001b[1mBigInt\u001b[22m)\n",
       "\u001b[90m     @\u001b[39m \u001b[90mBase.MPFR\u001b[39m \u001b[90m\u001b[4mmpfr.jl:463\u001b[24m\u001b[39m\n",
       "  [24] +(\u001b[90ma\u001b[39m::\u001b[1mBigFloat\u001b[22m, \u001b[90mb\u001b[39m::\u001b[1mBigFloat\u001b[22m, \u001b[90mc\u001b[39m::\u001b[1mBigFloat\u001b[22m, \u001b[90md\u001b[39m::\u001b[1mBigFloat\u001b[22m, \u001b[90me\u001b[39m::\u001b[1mBigFloat\u001b[22m)\n",
       "\u001b[90m     @\u001b[39m \u001b[90mBase.MPFR\u001b[39m \u001b[90m\u001b[4mmpfr.jl:619\u001b[24m\u001b[39m\n",
       "  [25] +(\u001b[90mx\u001b[39m::\u001b[1mBigFloat\u001b[22m, \u001b[90my\u001b[39m::\u001b[1mBigFloat\u001b[22m)\n",
       "\u001b[90m     @\u001b[39m \u001b[90mBase.MPFR\u001b[39m \u001b[90m\u001b[4mmpfr.jl:432\u001b[24m\u001b[39m\n",
       "  [26] +(\u001b[90ma\u001b[39m::\u001b[1mBigFloat\u001b[22m, \u001b[90mb\u001b[39m::\u001b[1mBigFloat\u001b[22m, \u001b[90mc\u001b[39m::\u001b[1mBigFloat\u001b[22m)\n",
       "\u001b[90m     @\u001b[39m \u001b[90mBase.MPFR\u001b[39m \u001b[90m\u001b[4mmpfr.jl:606\u001b[24m\u001b[39m\n",
       "  [27] +(\u001b[90ma\u001b[39m::\u001b[1mBigFloat\u001b[22m, \u001b[90mb\u001b[39m::\u001b[1mBigFloat\u001b[22m, \u001b[90mc\u001b[39m::\u001b[1mBigFloat\u001b[22m, \u001b[90md\u001b[39m::\u001b[1mBigFloat\u001b[22m)\n",
       "\u001b[90m     @\u001b[39m \u001b[90mBase.MPFR\u001b[39m \u001b[90m\u001b[4mmpfr.jl:612\u001b[24m\u001b[39m\n",
       "  [28] +(\u001b[90mx\u001b[39m::\u001b[1mBigFloat\u001b[22m, \u001b[90mc\u001b[39m::\u001b[1mUnion\u001b[22m\u001b[0m{UInt16, UInt32, UInt64, UInt8})\n",
       "\u001b[90m     @\u001b[39m \u001b[90mBase.MPFR\u001b[39m \u001b[90m\u001b[4mmpfr.jl:439\u001b[24m\u001b[39m\n",
       "  [29] +(\u001b[90mx\u001b[39m::\u001b[1mBigFloat\u001b[22m, \u001b[90mc\u001b[39m::\u001b[1mUnion\u001b[22m\u001b[0m{Int16, Int32, Int64, Int8})\n",
       "\u001b[90m     @\u001b[39m \u001b[90mBase.MPFR\u001b[39m \u001b[90m\u001b[4mmpfr.jl:447\u001b[24m\u001b[39m\n",
       "  [30] +(\u001b[90mx\u001b[39m::\u001b[1mBigFloat\u001b[22m, \u001b[90mc\u001b[39m::\u001b[1mUnion\u001b[22m\u001b[0m{Float16, Float32, Float64})\n",
       "\u001b[90m     @\u001b[39m \u001b[90mBase.MPFR\u001b[39m \u001b[90m\u001b[4mmpfr.jl:455\u001b[24m\u001b[39m\n",
       "  [31] +(\u001b[90mB\u001b[39m::\u001b[1mBitMatrix\u001b[22m, \u001b[90mJ\u001b[39m::\u001b[1mLinearAlgebra.UniformScaling\u001b[22m)\n",
       "\u001b[90m     @\u001b[39m \u001b[36mLinearAlgebra\u001b[39m \u001b[90m/Applications/Julia-1.10.app/Contents/Resources/julia/share/julia/stdlib/v1.10/LinearAlgebra/src/\u001b[39m\u001b[90m\u001b[4muniformscaling.jl:151\u001b[24m\u001b[39m\n",
       "  [32] +(\u001b[90mx\u001b[39m::\u001b[1mDates.CompoundPeriod\u001b[22m, \u001b[90my\u001b[39m::\u001b[1mDates.CompoundPeriod\u001b[22m)\n",
       "\u001b[90m     @\u001b[39m \u001b[35mDates\u001b[39m \u001b[90m/Applications/Julia-1.10.app/Contents/Resources/julia/share/julia/stdlib/v1.10/Dates/src/\u001b[39m\u001b[90m\u001b[4mperiods.jl:334\u001b[24m\u001b[39m\n",
       "  [33] +(\u001b[90mx\u001b[39m::\u001b[1mDates.CompoundPeriod\u001b[22m, \u001b[90my\u001b[39m::\u001b[1mDates.TimeType\u001b[22m)\n",
       "\u001b[90m     @\u001b[39m \u001b[35mDates\u001b[39m \u001b[90m/Applications/Julia-1.10.app/Contents/Resources/julia/share/julia/stdlib/v1.10/Dates/src/\u001b[39m\u001b[90m\u001b[4mperiods.jl:362\u001b[24m\u001b[39m\n",
       "  [34] +(\u001b[90mx\u001b[39m::\u001b[1mDates.CompoundPeriod\u001b[22m, \u001b[90my\u001b[39m::\u001b[1mDates.Period\u001b[22m)\n",
       "\u001b[90m     @\u001b[39m \u001b[35mDates\u001b[39m \u001b[90m/Applications/Julia-1.10.app/Contents/Resources/julia/share/julia/stdlib/v1.10/Dates/src/\u001b[39m\u001b[90m\u001b[4mperiods.jl:332\u001b[24m\u001b[39m\n",
       "  [35] +(\u001b[90mt\u001b[39m::\u001b[1mDates.Time\u001b[22m, \u001b[90mdt\u001b[39m::\u001b[1mDates.Date\u001b[22m)\n",
       "\u001b[90m     @\u001b[39m \u001b[35mDates\u001b[39m \u001b[90m/Applications/Julia-1.10.app/Contents/Resources/julia/share/julia/stdlib/v1.10/Dates/src/\u001b[39m\u001b[90m\u001b[4marithmetic.jl:22\u001b[24m\u001b[39m\n",
       "  [36] +(\u001b[90mx\u001b[39m::\u001b[1mDates.Time\u001b[22m, \u001b[90my\u001b[39m::\u001b[1mDates.TimePeriod\u001b[22m)\n",
       "\u001b[90m     @\u001b[39m \u001b[35mDates\u001b[39m \u001b[90m/Applications/Julia-1.10.app/Contents/Resources/julia/share/julia/stdlib/v1.10/Dates/src/\u001b[39m\u001b[90m\u001b[4marithmetic.jl:85\u001b[24m\u001b[39m\n",
       "  [37] +(\u001b[90mx\u001b[39m::\u001b[1mDates.DateTime\u001b[22m, \u001b[90my\u001b[39m::\u001b[1mDates.Quarter\u001b[22m)\n",
       "\u001b[90m     @\u001b[39m \u001b[35mDates\u001b[39m \u001b[90m/Applications/Julia-1.10.app/Contents/Resources/julia/share/julia/stdlib/v1.10/Dates/src/\u001b[39m\u001b[90m\u001b[4marithmetic.jl:77\u001b[24m\u001b[39m\n",
       "  [38] +(\u001b[90mdt\u001b[39m::\u001b[1mDates.DateTime\u001b[22m, \u001b[90mz\u001b[39m::\u001b[1mDates.Month\u001b[22m)\n",
       "\u001b[90m     @\u001b[39m \u001b[35mDates\u001b[39m \u001b[90m/Applications/Julia-1.10.app/Contents/Resources/julia/share/julia/stdlib/v1.10/Dates/src/\u001b[39m\u001b[90m\u001b[4marithmetic.jl:49\u001b[24m\u001b[39m\n",
       "  [39] +(\u001b[90mdt\u001b[39m::\u001b[1mDates.DateTime\u001b[22m, \u001b[90my\u001b[39m::\u001b[1mDates.Year\u001b[22m)\n",
       "\u001b[90m     @\u001b[39m \u001b[35mDates\u001b[39m \u001b[90m/Applications/Julia-1.10.app/Contents/Resources/julia/share/julia/stdlib/v1.10/Dates/src/\u001b[39m\u001b[90m\u001b[4marithmetic.jl:25\u001b[24m\u001b[39m\n",
       "  [40] +(\u001b[90mx\u001b[39m::\u001b[1mDates.DateTime\u001b[22m, \u001b[90my\u001b[39m::\u001b[1mDates.Period\u001b[22m)\n",
       "\u001b[90m     @\u001b[39m \u001b[35mDates\u001b[39m \u001b[90m/Applications/Julia-1.10.app/Contents/Resources/julia/share/julia/stdlib/v1.10/Dates/src/\u001b[39m\u001b[90m\u001b[4marithmetic.jl:83\u001b[24m\u001b[39m\n",
       "  [41] +(\u001b[90ma\u001b[39m::\u001b[1mPkg.Resolve.VersionWeight\u001b[22m, \u001b[90mb\u001b[39m::\u001b[1mPkg.Resolve.VersionWeight\u001b[22m)\n",
       "\u001b[90m     @\u001b[39m \u001b[32mPkg.Resolve\u001b[39m \u001b[90m/Applications/Julia-1.10.app/Contents/Resources/julia/share/julia/stdlib/v1.10/Pkg/src/Resolve/\u001b[39m\u001b[90m\u001b[4mversionweights.jl:22\u001b[24m\u001b[39m\n",
       "  [42] +(\u001b[90ma\u001b[39m::\u001b[1mPkg.Resolve.FieldValue\u001b[22m, \u001b[90mb\u001b[39m::\u001b[1mPkg.Resolve.FieldValue\u001b[22m)\n",
       "\u001b[90m     @\u001b[39m \u001b[32mPkg.Resolve\u001b[39m \u001b[90m/Applications/Julia-1.10.app/Contents/Resources/julia/share/julia/stdlib/v1.10/Pkg/src/Resolve/\u001b[39m\u001b[90m\u001b[4mfieldvalues.jl:43\u001b[24m\u001b[39m\n",
       "  [43] +(\u001b[90mx\u001b[39m::\u001b[1mRational\u001b[22m\u001b[0m{BigInt}, \u001b[90my\u001b[39m::\u001b[1mRational\u001b[22m\u001b[0m{BigInt})\n",
       "\u001b[90m     @\u001b[39m \u001b[90mBase.GMP.MPQ\u001b[39m \u001b[90m\u001b[4mgmp.jl:1061\u001b[24m\u001b[39m\n",
       "  [44] +(\u001b[90ma\u001b[39m::\u001b[1mOpenSSL.BigNum\u001b[22m, \u001b[90mb\u001b[39m::\u001b[1mOpenSSL.BigNum\u001b[22m)\n",
       "\u001b[90m     @\u001b[39m \u001b[36mOpenSSL\u001b[39m \u001b[90m~/.julia/packages/OpenSSL/hXs2T/src/\u001b[39m\u001b[90m\u001b[4mOpenSSL.jl:747\u001b[24m\u001b[39m\n",
       "  [45] +(\u001b[90mx\u001b[39m::\u001b[1mDates.Date\u001b[22m, \u001b[90my\u001b[39m::\u001b[1mDates.Day\u001b[22m)\n",
       "\u001b[90m     @\u001b[39m \u001b[35mDates\u001b[39m \u001b[90m/Applications/Julia-1.10.app/Contents/Resources/julia/share/julia/stdlib/v1.10/Dates/src/\u001b[39m\u001b[90m\u001b[4marithmetic.jl:81\u001b[24m\u001b[39m\n",
       "  [46] +(\u001b[90mx\u001b[39m::\u001b[1mDates.Date\u001b[22m, \u001b[90my\u001b[39m::\u001b[1mDates.Week\u001b[22m)\n",
       "\u001b[90m     @\u001b[39m \u001b[35mDates\u001b[39m \u001b[90m/Applications/Julia-1.10.app/Contents/Resources/julia/share/julia/stdlib/v1.10/Dates/src/\u001b[39m\u001b[90m\u001b[4marithmetic.jl:79\u001b[24m\u001b[39m\n",
       "  [47] +(\u001b[90mx\u001b[39m::\u001b[1mDates.Date\u001b[22m, \u001b[90my\u001b[39m::\u001b[1mDates.Quarter\u001b[22m)\n",
       "\u001b[90m     @\u001b[39m \u001b[35mDates\u001b[39m \u001b[90m/Applications/Julia-1.10.app/Contents/Resources/julia/share/julia/stdlib/v1.10/Dates/src/\u001b[39m\u001b[90m\u001b[4marithmetic.jl:75\u001b[24m\u001b[39m\n",
       "  [48] +(\u001b[90mdt\u001b[39m::\u001b[1mDates.Date\u001b[22m, \u001b[90mz\u001b[39m::\u001b[1mDates.Month\u001b[22m)\n",
       "\u001b[90m     @\u001b[39m \u001b[35mDates\u001b[39m \u001b[90m/Applications/Julia-1.10.app/Contents/Resources/julia/share/julia/stdlib/v1.10/Dates/src/\u001b[39m\u001b[90m\u001b[4marithmetic.jl:56\u001b[24m\u001b[39m\n",
       "  [49] +(\u001b[90mdt\u001b[39m::\u001b[1mDates.Date\u001b[22m, \u001b[90my\u001b[39m::\u001b[1mDates.Year\u001b[22m)\n",
       "\u001b[90m     @\u001b[39m \u001b[35mDates\u001b[39m \u001b[90m/Applications/Julia-1.10.app/Contents/Resources/julia/share/julia/stdlib/v1.10/Dates/src/\u001b[39m\u001b[90m\u001b[4marithmetic.jl:29\u001b[24m\u001b[39m\n",
       "  [50] +(\u001b[90mdt\u001b[39m::\u001b[1mDates.Date\u001b[22m, \u001b[90mt\u001b[39m::\u001b[1mDates.Time\u001b[22m)\n",
       "\u001b[90m     @\u001b[39m \u001b[35mDates\u001b[39m \u001b[90m/Applications/Julia-1.10.app/Contents/Resources/julia/share/julia/stdlib/v1.10/Dates/src/\u001b[39m\u001b[90m\u001b[4marithmetic.jl:21\u001b[24m\u001b[39m\n",
       "  [51] +(\u001b[90mA\u001b[39m::\u001b[1mLinearAlgebra.Hermitian\u001b[22m, \u001b[90mB\u001b[39m::\u001b[1mLinearAlgebra.Hermitian\u001b[22m)\n",
       "\u001b[90m     @\u001b[39m \u001b[36mLinearAlgebra\u001b[39m \u001b[90m/Applications/Julia-1.10.app/Contents/Resources/julia/share/julia/stdlib/v1.10/LinearAlgebra/src/\u001b[39m\u001b[90m\u001b[4msymmetric.jl:504\u001b[24m\u001b[39m\n",
       "  [52] +(\u001b[90mA\u001b[39m::\u001b[1mLinearAlgebra.Hermitian\u001b[22m, \u001b[90mB\u001b[39m::\u001b[1mLinearAlgebra.SymTridiagonal\u001b[22m\u001b[0m{var\"#s126\", V} where {var\"#s126\"<:Real, V<:AbstractVector{var\"#s126\"}})\n",
       "\u001b[90m     @\u001b[39m \u001b[36mLinearAlgebra\u001b[39m \u001b[90m/Applications/Julia-1.10.app/Contents/Resources/julia/share/julia/stdlib/v1.10/LinearAlgebra/src/\u001b[39m\u001b[90m\u001b[4msymmetric.jl:523\u001b[24m\u001b[39m\n",
       "  [53] +(\u001b[90mA\u001b[39m::\u001b[1mLinearAlgebra.Hermitian\u001b[22m\u001b[0m{<:Any, <:SparseArrays.AbstractSparseMatrix}, \u001b[90mB\u001b[39m::\u001b[1mSparseArrays.AbstractSparseMatrix\u001b[22m)\n",
       "\u001b[90m     @\u001b[39m \u001b[32mSparseArrays\u001b[39m \u001b[90m/Applications/Julia-1.10.app/Contents/Resources/julia/share/julia/stdlib/v1.10/SparseArrays/src/\u001b[39m\u001b[90m\u001b[4mlinalg.jl:16\u001b[24m\u001b[39m\n",
       "  [54] +(\u001b[90mA\u001b[39m::\u001b[1mLinearAlgebra.Hermitian\u001b[22m, \u001b[90mB\u001b[39m::\u001b[1mSparseArrays.AbstractSparseMatrix\u001b[22m)\n",
       "\u001b[90m     @\u001b[39m \u001b[32mSparseArrays\u001b[39m \u001b[90m/Applications/Julia-1.10.app/Contents/Resources/julia/share/julia/stdlib/v1.10/SparseArrays/src/\u001b[39m\u001b[90m\u001b[4mlinalg.jl:19\u001b[24m\u001b[39m\n",
       "  [55] +(\u001b[90mH\u001b[39m::\u001b[1mLinearAlgebra.Hermitian\u001b[22m, \u001b[90mD\u001b[39m::\u001b[1mLinearAlgebra.Diagonal\u001b[22m\u001b[0m{var\"#s994\", V} where {var\"#s994\"<:Real, V<:AbstractVector{var\"#s994\"}})\n",
       "\u001b[90m     @\u001b[39m \u001b[36mLinearAlgebra\u001b[39m \u001b[90m/Applications/Julia-1.10.app/Contents/Resources/julia/share/julia/stdlib/v1.10/LinearAlgebra/src/\u001b[39m\u001b[90m\u001b[4mdiagonal.jl:238\u001b[24m\u001b[39m\n",
       "  [56] +(\u001b[90mA\u001b[39m::\u001b[1mLinearAlgebra.Hermitian\u001b[22m\u001b[0m{<:Any, <:SparseArrays.AbstractSparseMatrix}, \u001b[90mB\u001b[39m::\u001b[1mLinearAlgebra.Symmetric\u001b[22m\u001b[0m{<:Real, <:SparseArrays.AbstractSparseMatrix})\n",
       "\u001b[90m     @\u001b[39m \u001b[32mSparseArrays\u001b[39m \u001b[90m/Applications/Julia-1.10.app/Contents/Resources/julia/share/julia/stdlib/v1.10/SparseArrays/src/\u001b[39m\u001b[90m\u001b[4mlinalg.jl:27\u001b[24m\u001b[39m\n",
       "  [57] +(\u001b[90mA\u001b[39m::\u001b[1mLinearAlgebra.Hermitian\u001b[22m\u001b[0m{<:Any, <:SparseArrays.AbstractSparseMatrix}, \u001b[90mB\u001b[39m::\u001b[1mLinearAlgebra.Symmetric\u001b[22m\u001b[0m{<:Any, <:SparseArrays.AbstractSparseMatrix})\n",
       "\u001b[90m     @\u001b[39m \u001b[32mSparseArrays\u001b[39m \u001b[90m/Applications/Julia-1.10.app/Contents/Resources/julia/share/julia/stdlib/v1.10/SparseArrays/src/\u001b[39m\u001b[90m\u001b[4mlinalg.jl:25\u001b[24m\u001b[39m\n",
       "  [58] +(\u001b[90mA\u001b[39m::\u001b[1mLinearAlgebra.Hermitian\u001b[22m, \u001b[90mB\u001b[39m::\u001b[1mLinearAlgebra.Symmetric\u001b[22m\u001b[0m{var\"#s994\", S} where {var\"#s994\"<:Real, S<:(AbstractMatrix{<:var\"#s994\"})})\n",
       "\u001b[90m     @\u001b[39m \u001b[36mLinearAlgebra\u001b[39m \u001b[90m/Applications/Julia-1.10.app/Contents/Resources/julia/share/julia/stdlib/v1.10/LinearAlgebra/src/\u001b[39m\u001b[90m\u001b[4msymmetric.jl:518\u001b[24m\u001b[39m\n",
       "  [59] +(\u001b[90mA\u001b[39m::\u001b[1mLinearAlgebra.Hermitian\u001b[22m, \u001b[90mJ\u001b[39m::\u001b[1mLinearAlgebra.UniformScaling\u001b[22m\u001b[0m{<:Complex})\n",
       "\u001b[90m     @\u001b[39m \u001b[36mLinearAlgebra\u001b[39m \u001b[90m/Applications/Julia-1.10.app/Contents/Resources/julia/share/julia/stdlib/v1.10/LinearAlgebra/src/\u001b[39m\u001b[90m\u001b[4muniformscaling.jl:195\u001b[24m\u001b[39m\n",
       "  [60] +(\u001b[90mA\u001b[39m::\u001b[1mArray\u001b[22m, \u001b[90mB\u001b[39m::\u001b[1mSparseArrays.AbstractSparseMatrixCSC\u001b[22m)\n",
       "\u001b[90m     @\u001b[39m \u001b[32mSparseArrays\u001b[39m \u001b[90m/Applications/Julia-1.10.app/Contents/Resources/julia/share/julia/stdlib/v1.10/SparseArrays/src/\u001b[39m\u001b[90m\u001b[4msparsematrix.jl:2246\u001b[24m\u001b[39m\n",
       "  [61] +(\u001b[90mA\u001b[39m::\u001b[1mArray\u001b[22m, \u001b[90mBs\u001b[39m::\u001b[1mArray...\u001b[22m)\n",
       "\u001b[90m     @\u001b[39m \u001b[90m\u001b[4marraymath.jl:12\u001b[24m\u001b[39m\n",
       "  [62] +(\u001b[90mx\u001b[39m::\u001b[1mSparseArrays.AbstractSparseVector\u001b[22m, \u001b[90my\u001b[39m::\u001b[1mSparseArrays.AbstractSparseVector\u001b[22m)\n",
       "\u001b[90m     @\u001b[39m \u001b[32mSparseArrays\u001b[39m \u001b[90m/Applications/Julia-1.10.app/Contents/Resources/julia/share/julia/stdlib/v1.10/SparseArrays/src/\u001b[39m\u001b[90m\u001b[4msparsevector.jl:1562\u001b[24m\u001b[39m\n",
       "  [63] +(\u001b[90mA\u001b[39m::\u001b[1mSparseArrays.AbstractSparseMatrix\u001b[22m, \u001b[90mB\u001b[39m::\u001b[1mLinearAlgebra.Hermitian\u001b[22m\u001b[0m{<:Any, <:SparseArrays.AbstractSparseMatrix})\n",
       "\u001b[90m     @\u001b[39m \u001b[32mSparseArrays\u001b[39m \u001b[90m/Applications/Julia-1.10.app/Contents/Resources/julia/share/julia/stdlib/v1.10/SparseArrays/src/\u001b[39m\u001b[90m\u001b[4mlinalg.jl:15\u001b[24m\u001b[39m\n",
       "  [64] +(\u001b[90mA\u001b[39m::\u001b[1mSparseArrays.AbstractSparseMatrix\u001b[22m, \u001b[90mB\u001b[39m::\u001b[1mLinearAlgebra.Hermitian\u001b[22m)\n",
       "\u001b[90m     @\u001b[39m \u001b[32mSparseArrays\u001b[39m \u001b[90m/Applications/Julia-1.10.app/Contents/Resources/julia/share/julia/stdlib/v1.10/SparseArrays/src/\u001b[39m\u001b[90m\u001b[4mlinalg.jl:18\u001b[24m\u001b[39m\n",
       "  [65] +(\u001b[90mA\u001b[39m::\u001b[1mSparseArrays.AbstractSparseMatrix\u001b[22m, \u001b[90mB\u001b[39m::\u001b[1mLinearAlgebra.Symmetric\u001b[22m\u001b[0m{<:Any, <:SparseArrays.AbstractSparseMatrix})\n",
       "\u001b[90m     @\u001b[39m \u001b[32mSparseArrays\u001b[39m \u001b[90m/Applications/Julia-1.10.app/Contents/Resources/julia/share/julia/stdlib/v1.10/SparseArrays/src/\u001b[39m\u001b[90m\u001b[4mlinalg.jl:15\u001b[24m\u001b[39m\n",
       "  [66] +(\u001b[90mA\u001b[39m::\u001b[1mSparseArrays.AbstractSparseMatrix\u001b[22m, \u001b[90mB\u001b[39m::\u001b[1mLinearAlgebra.Symmetric\u001b[22m)\n",
       "\u001b[90m     @\u001b[39m \u001b[32mSparseArrays\u001b[39m \u001b[90m/Applications/Julia-1.10.app/Contents/Resources/julia/share/julia/stdlib/v1.10/SparseArrays/src/\u001b[39m\u001b[90m\u001b[4mlinalg.jl:18\u001b[24m\u001b[39m\n",
       "  [67] +(\u001b[90mx\u001b[39m::\u001b[1mBase.TwicePrecision\u001b[22m\u001b[0m{T}, \u001b[90my\u001b[39m::\u001b[1mBase.TwicePrecision\u001b[22m\u001b[0m{T}) where T\n",
       "\u001b[90m     @\u001b[39m \u001b[90m\u001b[4mtwiceprecision.jl:294\u001b[24m\u001b[39m\n",
       "  [68] +(\u001b[90mx\u001b[39m::\u001b[1mBase.TwicePrecision\u001b[22m, \u001b[90my\u001b[39m::\u001b[1mBase.TwicePrecision\u001b[22m)\n",
       "\u001b[90m     @\u001b[39m \u001b[90m\u001b[4mtwiceprecision.jl:299\u001b[24m\u001b[39m\n",
       "  [69] +(\u001b[90mx\u001b[39m::\u001b[1mBase.TwicePrecision\u001b[22m, \u001b[90my\u001b[39m::\u001b[1mNumber\u001b[22m)\n",
       "\u001b[90m     @\u001b[39m \u001b[90m\u001b[4mtwiceprecision.jl:288\u001b[24m\u001b[39m\n",
       "  [70] +(\u001b[90mr1\u001b[39m::\u001b[1mStepRangeLen\u001b[22m\u001b[0m{T, R}, \u001b[90mr2\u001b[39m::\u001b[1mStepRangeLen\u001b[22m\u001b[0m{T, R}) where {R<:Base.TwicePrecision, T}\n",
       "\u001b[90m     @\u001b[39m \u001b[90m\u001b[4mtwiceprecision.jl:626\u001b[24m\u001b[39m\n",
       "  [71] +(\u001b[90mr1\u001b[39m::\u001b[1mStepRangeLen\u001b[22m\u001b[0m{T, S}, \u001b[90mr2\u001b[39m::\u001b[1mStepRangeLen\u001b[22m\u001b[0m{T, S}) where {T, S}\n",
       "\u001b[90m     @\u001b[39m \u001b[90m\u001b[4mrange.jl:1477\u001b[24m\u001b[39m\n",
       "  [72] +(\u001b[90mA\u001b[39m::\u001b[1mBitArray\u001b[22m, \u001b[90mB\u001b[39m::\u001b[1mBitArray\u001b[22m)\n",
       "\u001b[90m     @\u001b[39m \u001b[90m\u001b[4mbitarray.jl:1184\u001b[24m\u001b[39m\n",
       "  [73] +(\u001b[90ma\u001b[39m::\u001b[1mTransparentColor\u001b[22m\u001b[0m{C, T, 4} where {C<:AbstractRGB, T}, \u001b[90mb\u001b[39m::\u001b[1mTransparentColor\u001b[22m\u001b[0m{C, T, 4} where {C<:AbstractRGB, T})\n",
       "\u001b[90m     @\u001b[39m \u001b[33mColorVectorSpace\u001b[39m \u001b[90m~/.julia/packages/ColorVectorSpace/tLy1N/src/\u001b[39m\u001b[90m\u001b[4mColorVectorSpace.jl:274\u001b[24m\u001b[39m\n",
       "  [74] +(\u001b[90ma\u001b[39m::\u001b[1mTransparentGray\u001b[22m, \u001b[90mb\u001b[39m::\u001b[1mTransparentGray\u001b[22m)\n",
       "\u001b[90m     @\u001b[39m \u001b[33mColorVectorSpace\u001b[39m \u001b[90m~/.julia/packages/ColorVectorSpace/tLy1N/src/\u001b[39m\u001b[90m\u001b[4mColorVectorSpace.jl:312\u001b[24m\u001b[39m\n",
       "  [75] +(\u001b[90ma\u001b[39m::\u001b[1mAbstractRGB\u001b[22m, \u001b[90mb\u001b[39m::\u001b[1mAbstractRGB\u001b[22m)\n",
       "\u001b[90m     @\u001b[39m \u001b[33mColorVectorSpace\u001b[39m \u001b[90m~/.julia/packages/ColorVectorSpace/tLy1N/src/\u001b[39m\u001b[90m\u001b[4mColorVectorSpace.jl:272\u001b[24m\u001b[39m\n",
       "  [76] +(\u001b[90mindex1\u001b[39m::\u001b[1mCartesianIndex\u001b[22m\u001b[0m{N}, \u001b[90mindex2\u001b[39m::\u001b[1mCartesianIndex\u001b[22m\u001b[0m{N}) where N\n",
       "\u001b[90m     @\u001b[39m \u001b[90mBase.IteratorsMD\u001b[39m \u001b[90m\u001b[4mmultidimensional.jl:119\u001b[24m\u001b[39m\n",
       "  [77] +(\u001b[90mB\u001b[39m::\u001b[1mLinearAlgebra.Diagonal\u001b[22m, \u001b[90mA\u001b[39m::\u001b[1mLinearAlgebra.Bidiagonal\u001b[22m)\n",
       "\u001b[90m     @\u001b[39m \u001b[36mLinearAlgebra\u001b[39m \u001b[90m\u001b[4mnone:0\u001b[24m\u001b[39m\n",
       "  [78] +(\u001b[90mA\u001b[39m::\u001b[1mLinearAlgebra.Diagonal\u001b[22m, \u001b[90mB\u001b[39m::\u001b[1mLinearAlgebra.SymTridiagonal\u001b[22m)\n",
       "\u001b[90m     @\u001b[39m \u001b[36mLinearAlgebra\u001b[39m \u001b[90m/Applications/Julia-1.10.app/Contents/Resources/julia/share/julia/stdlib/v1.10/LinearAlgebra/src/\u001b[39m\u001b[90m\u001b[4mspecial.jl:166\u001b[24m\u001b[39m\n",
       "  [79] +(\u001b[90mD\u001b[39m::\u001b[1mLinearAlgebra.Diagonal\u001b[22m\u001b[0m{var\"#s994\", V} where {var\"#s994\"<:Real, V<:AbstractVector{var\"#s994\"}}, \u001b[90mH\u001b[39m::\u001b[1mLinearAlgebra.Hermitian\u001b[22m)\n",
       "\u001b[90m     @\u001b[39m \u001b[36mLinearAlgebra\u001b[39m \u001b[90m/Applications/Julia-1.10.app/Contents/Resources/julia/share/julia/stdlib/v1.10/LinearAlgebra/src/\u001b[39m\u001b[90m\u001b[4mdiagonal.jl:235\u001b[24m\u001b[39m\n",
       "  [80] +(\u001b[90mx\u001b[39m::\u001b[1mLinearAlgebra.Diagonal\u001b[22m, \u001b[90mH\u001b[39m::\u001b[1mLinearAlgebra.UpperHessenberg\u001b[22m)\n",
       "\u001b[90m     @\u001b[39m \u001b[36mLinearAlgebra\u001b[39m \u001b[90m/Applications/Julia-1.10.app/Contents/Resources/julia/share/julia/stdlib/v1.10/LinearAlgebra/src/\u001b[39m\u001b[90m\u001b[4mhessenberg.jl:120\u001b[24m\u001b[39m\n",
       "  [81] +(\u001b[90mD\u001b[39m::\u001b[1mLinearAlgebra.Diagonal\u001b[22m, \u001b[90mS\u001b[39m::\u001b[1mLinearAlgebra.Symmetric\u001b[22m)\n",
       "\u001b[90m     @\u001b[39m \u001b[36mLinearAlgebra\u001b[39m \u001b[90m/Applications/Julia-1.10.app/Contents/Resources/julia/share/julia/stdlib/v1.10/LinearAlgebra/src/\u001b[39m\u001b[90m\u001b[4mdiagonal.jl:229\u001b[24m\u001b[39m\n",
       "  [82] +(\u001b[90mDa\u001b[39m::\u001b[1mLinearAlgebra.Diagonal\u001b[22m, \u001b[90mDb\u001b[39m::\u001b[1mLinearAlgebra.Diagonal\u001b[22m)\n",
       "\u001b[90m     @\u001b[39m \u001b[36mLinearAlgebra\u001b[39m \u001b[90m/Applications/Julia-1.10.app/Contents/Resources/julia/share/julia/stdlib/v1.10/LinearAlgebra/src/\u001b[39m\u001b[90m\u001b[4mdiagonal.jl:225\u001b[24m\u001b[39m\n",
       "  [83] +(\u001b[90mA\u001b[39m::\u001b[1mLinearAlgebra.Diagonal\u001b[22m, \u001b[90mB\u001b[39m::\u001b[1mLinearAlgebra.UniformScaling\u001b[22m)\n",
       "\u001b[90m     @\u001b[39m \u001b[36mLinearAlgebra\u001b[39m \u001b[90m/Applications/Julia-1.10.app/Contents/Resources/julia/share/julia/stdlib/v1.10/LinearAlgebra/src/\u001b[39m\u001b[90m\u001b[4mspecial.jl:247\u001b[24m\u001b[39m\n",
       "  [84] +(\u001b[90mA\u001b[39m::\u001b[1mLinearAlgebra.Diagonal\u001b[22m, \u001b[90mB\u001b[39m::\u001b[1mLinearAlgebra.Tridiagonal\u001b[22m)\n",
       "\u001b[90m     @\u001b[39m \u001b[36mLinearAlgebra\u001b[39m \u001b[90m/Applications/Julia-1.10.app/Contents/Resources/julia/share/julia/stdlib/v1.10/LinearAlgebra/src/\u001b[39m\u001b[90m\u001b[4mspecial.jl:187\u001b[24m\u001b[39m\n",
       "  [85] +(\u001b[90mx\u001b[39m::\u001b[1mDates.AbstractTime\u001b[22m, \u001b[90my\u001b[39m::\u001b[1mMissing\u001b[22m)\n",
       "\u001b[90m     @\u001b[39m \u001b[35mDates\u001b[39m \u001b[90m/Applications/Julia-1.10.app/Contents/Resources/julia/share/julia/stdlib/v1.10/Dates/src/\u001b[39m\u001b[90m\u001b[4marithmetic.jl:90\u001b[24m\u001b[39m\n",
       "  [86] +(\u001b[90mx\u001b[39m::\u001b[1mDates.Instant\u001b[22m)\n",
       "\u001b[90m     @\u001b[39m \u001b[35mDates\u001b[39m \u001b[90m/Applications/Julia-1.10.app/Contents/Resources/julia/share/julia/stdlib/v1.10/Dates/src/\u001b[39m\u001b[90m\u001b[4marithmetic.jl:4\u001b[24m\u001b[39m\n",
       "  [87] +(\u001b[90ml1\u001b[39m::\u001b[1mLazy.List\u001b[22m, \u001b[90mls\u001b[39m::\u001b[1mLazy.List...\u001b[22m)\n",
       "\u001b[90m     @\u001b[39m \u001b[35mLazy\u001b[39m \u001b[90m~/.julia/packages/Lazy/9Xnd3/src/\u001b[39m\u001b[90m\u001b[4mLazy.jl:20\u001b[24m\u001b[39m\n",
       "  [88] +(\u001b[90mx\u001b[39m::\u001b[1mPtr\u001b[22m, \u001b[90my\u001b[39m::\u001b[1mInteger\u001b[22m)\n",
       "\u001b[90m     @\u001b[39m \u001b[90m\u001b[4mpointer.jl:282\u001b[24m\u001b[39m\n",
       "  [89] +(\u001b[90mr\u001b[39m::\u001b[1mAbstractRange\u001b[22m\u001b[0m{<:Dates.TimeType}, \u001b[90mx\u001b[39m::\u001b[1mDates.Period\u001b[22m)\n",
       "\u001b[90m     @\u001b[39m \u001b[35mDates\u001b[39m \u001b[90m/Applications/Julia-1.10.app/Contents/Resources/julia/share/julia/stdlib/v1.10/Dates/src/\u001b[39m\u001b[90m\u001b[4mranges.jl:65\u001b[24m\u001b[39m\n",
       "  [90] +(\u001b[90my\u001b[39m::\u001b[1mDates.TimeType\u001b[22m, \u001b[90mx\u001b[39m::\u001b[1mStridedArray\u001b[22m\u001b[0m{<:Union{Dates.CompoundPeriod, Dates.Period}})\n",
       "\u001b[90m     @\u001b[39m \u001b[35mDates\u001b[39m \u001b[90m/Applications/Julia-1.10.app/Contents/Resources/julia/share/julia/stdlib/v1.10/Dates/src/\u001b[39m\u001b[90m\u001b[4mdeprecated.jl:18\u001b[24m\u001b[39m\n",
       "  [91] +(\u001b[90mx\u001b[39m::\u001b[1mDates.TimeType\u001b[22m)\n",
       "\u001b[90m     @\u001b[39m \u001b[35mDates\u001b[39m \u001b[90m/Applications/Julia-1.10.app/Contents/Resources/julia/share/julia/stdlib/v1.10/Dates/src/\u001b[39m\u001b[90m\u001b[4marithmetic.jl:8\u001b[24m\u001b[39m\n",
       "  [92] +(\u001b[90mx\u001b[39m::\u001b[1mDates.TimeType\u001b[22m, \u001b[90my\u001b[39m::\u001b[1mDates.CompoundPeriod\u001b[22m)\n",
       "\u001b[90m     @\u001b[39m \u001b[35mDates\u001b[39m \u001b[90m/Applications/Julia-1.10.app/Contents/Resources/julia/share/julia/stdlib/v1.10/Dates/src/\u001b[39m\u001b[90m\u001b[4mperiods.jl:356\u001b[24m\u001b[39m\n",
       "  [93] +(\u001b[90ma\u001b[39m::\u001b[1mDates.TimeType\u001b[22m, \u001b[90mb\u001b[39m::\u001b[1mDates.Period\u001b[22m, \u001b[90mc\u001b[39m::\u001b[1mDates.Period\u001b[22m)\n",
       "\u001b[90m     @\u001b[39m \u001b[35mDates\u001b[39m \u001b[90m/Applications/Julia-1.10.app/Contents/Resources/julia/share/julia/stdlib/v1.10/Dates/src/\u001b[39m\u001b[90m\u001b[4mperiods.jl:353\u001b[24m\u001b[39m\n",
       "  [94] +(\u001b[90ma\u001b[39m::\u001b[1mDates.TimeType\u001b[22m, \u001b[90mb\u001b[39m::\u001b[1mDates.Period\u001b[22m, \u001b[90mc\u001b[39m::\u001b[1mDates.Period\u001b[22m, \u001b[90md\u001b[39m::\u001b[1mDates.Period...\u001b[22m)\n",
       "\u001b[90m     @\u001b[39m \u001b[35mDates\u001b[39m \u001b[90m/Applications/Julia-1.10.app/Contents/Resources/julia/share/julia/stdlib/v1.10/Dates/src/\u001b[39m\u001b[90m\u001b[4mperiods.jl:354\u001b[24m\u001b[39m\n",
       "  [95] +(\u001b[90ma\u001b[39m::\u001b[1mNumber\u001b[22m, \u001b[90mb\u001b[39m::\u001b[1mAbstractGray\u001b[22m)\n",
       "\u001b[90m     @\u001b[39m \u001b[33mColorVectorSpace\u001b[39m \u001b[90m~/.julia/packages/ColorVectorSpace/tLy1N/src/\u001b[39m\u001b[90m\u001b[4mColorVectorSpace.jl:323\u001b[24m\u001b[39m\n",
       "  [96] +(\u001b[90mx\u001b[39m::\u001b[1mNumber\u001b[22m, \u001b[90mJ\u001b[39m::\u001b[1mLinearAlgebra.UniformScaling\u001b[22m)\n",
       "\u001b[90m     @\u001b[39m \u001b[36mLinearAlgebra\u001b[39m \u001b[90m/Applications/Julia-1.10.app/Contents/Resources/julia/share/julia/stdlib/v1.10/LinearAlgebra/src/\u001b[39m\u001b[90m\u001b[4muniformscaling.jl:145\u001b[24m\u001b[39m\n",
       "  [97] +(::\u001b[1mNumber\u001b[22m, ::\u001b[1mMissing\u001b[22m)\n",
       "\u001b[90m     @\u001b[39m \u001b[90m\u001b[4mmissing.jl:124\u001b[24m\u001b[39m\n",
       "  [98] +(\u001b[90mx\u001b[39m::\u001b[1mNumber\u001b[22m, \u001b[90my\u001b[39m::\u001b[1mBase.TwicePrecision\u001b[22m)\n",
       "\u001b[90m     @\u001b[39m \u001b[90m\u001b[4mtwiceprecision.jl:292\u001b[24m\u001b[39m\n",
       "  [99] +(\u001b[90mx\u001b[39m::\u001b[1mRational\u001b[22m)\n",
       "\u001b[90m     @\u001b[39m \u001b[90m\u001b[4mrational.jl:300\u001b[24m\u001b[39m\n",
       " [100] +(\u001b[90mz\u001b[39m::\u001b[1mComplex\u001b[22m)\n",
       "\u001b[90m     @\u001b[39m \u001b[90m\u001b[4mcomplex.jl:292\u001b[24m\u001b[39m\n",
       " [101] +(\u001b[90mx\u001b[39m::\u001b[1mNumber\u001b[22m)\n",
       "\u001b[90m     @\u001b[39m \u001b[90m\u001b[4moperators.jl:524\u001b[24m\u001b[39m\n",
       " [102] +(\u001b[90mx\u001b[39m::\u001b[1mRational\u001b[22m, \u001b[90my\u001b[39m::\u001b[1mRational\u001b[22m)\n",
       "\u001b[90m     @\u001b[39m \u001b[90m\u001b[4mrational.jl:314\u001b[24m\u001b[39m\n",
       " [103] +(\u001b[90mc\u001b[39m::\u001b[1mUnion\u001b[22m\u001b[0m{Int16, Int32, Int64, Int8}, \u001b[90mx\u001b[39m::\u001b[1mBigInt\u001b[22m)\n",
       "\u001b[90m     @\u001b[39m \u001b[90mBase.GMP\u001b[39m \u001b[90m\u001b[4mgmp.jl:556\u001b[24m\u001b[39m\n",
       " [104] +(\u001b[90mc\u001b[39m::\u001b[1mUnion\u001b[22m\u001b[0m{UInt16, UInt32, UInt64, UInt8}, \u001b[90mx\u001b[39m::\u001b[1mBigInt\u001b[22m)\n",
       "\u001b[90m     @\u001b[39m \u001b[90mBase.GMP\u001b[39m \u001b[90m\u001b[4mgmp.jl:550\u001b[24m\u001b[39m\n",
       " [105] +(\u001b[90mx\u001b[39m::\u001b[1mT\u001b[22m, \u001b[90my\u001b[39m::\u001b[1mT\u001b[22m) where T<:Union{Int128, Int16, Int32, Int64, Int8, UInt128, UInt16, UInt32, UInt64, UInt8}\n",
       "\u001b[90m     @\u001b[39m \u001b[90m\u001b[4mint.jl:87\u001b[24m\u001b[39m\n",
       " [106] +(\u001b[90ma\u001b[39m::\u001b[1mInteger\u001b[22m, \u001b[90mb\u001b[39m::\u001b[1mInteger\u001b[22m)\n",
       "\u001b[90m     @\u001b[39m \u001b[90m\u001b[4mint.jl:1064\u001b[24m\u001b[39m\n",
       " [107] +(\u001b[90mx\u001b[39m::\u001b[1mAbstractIrrational\u001b[22m, \u001b[90my\u001b[39m::\u001b[1mAbstractIrrational\u001b[22m)\n",
       "\u001b[90m     @\u001b[39m \u001b[90m\u001b[4mirrationals.jl:161\u001b[24m\u001b[39m\n",
       " [108] +(\u001b[90mz\u001b[39m::\u001b[1mComplex\u001b[22m, \u001b[90mw\u001b[39m::\u001b[1mComplex\u001b[22m)\n",
       "\u001b[90m     @\u001b[39m \u001b[90m\u001b[4mcomplex.jl:294\u001b[24m\u001b[39m\n",
       " [109] +(\u001b[90mx\u001b[39m::\u001b[1mX\u001b[22m, \u001b[90my\u001b[39m::\u001b[1mX\u001b[22m) where X<:FixedPointNumbers.FixedPoint\n",
       "\u001b[90m     @\u001b[39m \u001b[36mFixedPointNumbers\u001b[39m \u001b[90m~/.julia/packages/FixedPointNumbers/Dn4hv/src/\u001b[39m\u001b[90m\u001b[4mFixedPointNumbers.jl:237\u001b[24m\u001b[39m\n",
       " [110] +(\u001b[90mx\u001b[39m::\u001b[1mT\u001b[22m, \u001b[90my\u001b[39m::\u001b[1mT\u001b[22m) where T<:Union{Float16, Float32, Float64}\n",
       "\u001b[90m     @\u001b[39m \u001b[90m\u001b[4mfloat.jl:409\u001b[24m\u001b[39m\n",
       " [111] +(\u001b[90mx\u001b[39m::\u001b[1mT\u001b[22m, \u001b[90my\u001b[39m::\u001b[1mT\u001b[22m) where T<:Number\n",
       "\u001b[90m     @\u001b[39m \u001b[90m\u001b[4mpromotion.jl:507\u001b[24m\u001b[39m\n",
       " [112] +(\u001b[90mx\u001b[39m::\u001b[1mRational\u001b[22m, \u001b[90my\u001b[39m::\u001b[1mInteger\u001b[22m)\n",
       "\u001b[90m     @\u001b[39m \u001b[90m\u001b[4mrational.jl:343\u001b[24m\u001b[39m\n",
       " [113] +(\u001b[90my\u001b[39m::\u001b[1mInteger\u001b[22m, \u001b[90mx\u001b[39m::\u001b[1mRational\u001b[22m)\n",
       "\u001b[90m     @\u001b[39m \u001b[90m\u001b[4mrational.jl:350\u001b[24m\u001b[39m\n",
       " [114] +(\u001b[90my\u001b[39m::\u001b[1mAbstractFloat\u001b[22m, \u001b[90mx\u001b[39m::\u001b[1mBool\u001b[22m)\n",
       "\u001b[90m     @\u001b[39m \u001b[90m\u001b[4mbool.jl:176\u001b[24m\u001b[39m\n",
       " [115] +(\u001b[90mx\u001b[39m::\u001b[1mReal\u001b[22m, \u001b[90mz\u001b[39m::\u001b[1mComplex\u001b[22m)\n",
       "\u001b[90m     @\u001b[39m \u001b[90m\u001b[4mcomplex.jl:331\u001b[24m\u001b[39m\n",
       " [116] +(\u001b[90mz\u001b[39m::\u001b[1mComplex\u001b[22m, \u001b[90mx\u001b[39m::\u001b[1mReal\u001b[22m)\n",
       "\u001b[90m     @\u001b[39m \u001b[90m\u001b[4mcomplex.jl:332\u001b[24m\u001b[39m\n",
       " [117] +(\u001b[90mc\u001b[39m::\u001b[1mUnion\u001b[22m\u001b[0m{Float16, Float32, Float64}, \u001b[90mx\u001b[39m::\u001b[1mBigFloat\u001b[22m)\n",
       "\u001b[90m     @\u001b[39m \u001b[90mBase.MPFR\u001b[39m \u001b[90m\u001b[4mmpfr.jl:460\u001b[24m\u001b[39m\n",
       " [118] +(\u001b[90mc\u001b[39m::\u001b[1mUnion\u001b[22m\u001b[0m{Int16, Int32, Int64, Int8}, \u001b[90mx\u001b[39m::\u001b[1mBigFloat\u001b[22m)\n",
       "\u001b[90m     @\u001b[39m \u001b[90mBase.MPFR\u001b[39m \u001b[90m\u001b[4mmpfr.jl:452\u001b[24m\u001b[39m\n",
       " [119] +(\u001b[90mc\u001b[39m::\u001b[1mUnion\u001b[22m\u001b[0m{UInt16, UInt32, UInt64, UInt8}, \u001b[90mx\u001b[39m::\u001b[1mBigFloat\u001b[22m)\n",
       "\u001b[90m     @\u001b[39m \u001b[90mBase.MPFR\u001b[39m \u001b[90m\u001b[4mmpfr.jl:444\u001b[24m\u001b[39m\n",
       " [120] +(\u001b[90mx\u001b[39m::\u001b[1mNumber\u001b[22m, \u001b[90my\u001b[39m::\u001b[1mNumber\u001b[22m)\n",
       "\u001b[90m     @\u001b[39m \u001b[90m\u001b[4mpromotion.jl:422\u001b[24m\u001b[39m\n",
       " [121] +(\u001b[90ma\u001b[39m::\u001b[1mMeasures.Length\u001b[22m\u001b[0m{U}, \u001b[90mb\u001b[39m::\u001b[1mMeasures.Length\u001b[22m\u001b[0m{U}) where U\n",
       "\u001b[90m     @\u001b[39m \u001b[32mMeasures\u001b[39m \u001b[90m~/.julia/packages/Measures/PKOxJ/src/\u001b[39m\u001b[90m\u001b[4mlength.jl:31\u001b[24m\u001b[39m\n",
       " [122] +(\u001b[90mA\u001b[39m::\u001b[1mLinearAlgebra.UpperTriangular\u001b[22m, \u001b[90mB\u001b[39m::\u001b[1mLinearAlgebra.Bidiagonal\u001b[22m)\n",
       "\u001b[90m     @\u001b[39m \u001b[36mLinearAlgebra\u001b[39m \u001b[90m/Applications/Julia-1.10.app/Contents/Resources/julia/share/julia/stdlib/v1.10/LinearAlgebra/src/\u001b[39m\u001b[90m\u001b[4mspecial.jl:91\u001b[24m\u001b[39m\n",
       " [123] +(\u001b[90mx\u001b[39m::\u001b[1mLinearAlgebra.UpperTriangular\u001b[22m, \u001b[90mH\u001b[39m::\u001b[1mLinearAlgebra.UpperHessenberg\u001b[22m)\n",
       "\u001b[90m     @\u001b[39m \u001b[36mLinearAlgebra\u001b[39m \u001b[90m/Applications/Julia-1.10.app/Contents/Resources/julia/share/julia/stdlib/v1.10/LinearAlgebra/src/\u001b[39m\u001b[90m\u001b[4mhessenberg.jl:120\u001b[24m\u001b[39m\n",
       " [124] +(\u001b[90mA\u001b[39m::\u001b[1mLinearAlgebra.UpperTriangular\u001b[22m, \u001b[90mB\u001b[39m::\u001b[1mLinearAlgebra.UnitUpperTriangular\u001b[22m)\n",
       "\u001b[90m     @\u001b[39m \u001b[36mLinearAlgebra\u001b[39m \u001b[90m/Applications/Julia-1.10.app/Contents/Resources/julia/share/julia/stdlib/v1.10/LinearAlgebra/src/\u001b[39m\u001b[90m\u001b[4mtriangular.jl:652\u001b[24m\u001b[39m\n",
       " [125] +(\u001b[90mA\u001b[39m::\u001b[1mLinearAlgebra.UpperTriangular\u001b[22m, \u001b[90mB\u001b[39m::\u001b[1mLinearAlgebra.UpperTriangular\u001b[22m)\n",
       "\u001b[90m     @\u001b[39m \u001b[36mLinearAlgebra\u001b[39m \u001b[90m/Applications/Julia-1.10.app/Contents/Resources/julia/share/julia/stdlib/v1.10/LinearAlgebra/src/\u001b[39m\u001b[90m\u001b[4mtriangular.jl:650\u001b[24m\u001b[39m\n",
       " [126] +(\u001b[90mA\u001b[39m::\u001b[1mSparseArrays.AbstractSparseMatrixCSC\u001b[22m, \u001b[90mB\u001b[39m::\u001b[1mSparseArrays.AbstractSparseMatrixCSC\u001b[22m)\n",
       "\u001b[90m     @\u001b[39m \u001b[32mSparseArrays\u001b[39m \u001b[90m/Applications/Julia-1.10.app/Contents/Resources/julia/share/julia/stdlib/v1.10/SparseArrays/src/\u001b[39m\u001b[90m\u001b[4msparsematrix.jl:2242\u001b[24m\u001b[39m\n",
       " [127] +(\u001b[90mA\u001b[39m::\u001b[1mSparseArrays.AbstractSparseMatrixCSC\u001b[22m, \u001b[90mB\u001b[39m::\u001b[1mArray\u001b[22m)\n",
       "\u001b[90m     @\u001b[39m \u001b[32mSparseArrays\u001b[39m \u001b[90m/Applications/Julia-1.10.app/Contents/Resources/julia/share/julia/stdlib/v1.10/SparseArrays/src/\u001b[39m\u001b[90m\u001b[4msparsematrix.jl:2245\u001b[24m\u001b[39m\n",
       " [128] +(\u001b[90mA\u001b[39m::\u001b[1mSparseArrays.AbstractSparseMatrixCSC\u001b[22m\u001b[0m{Tv, Ti}, \u001b[90mJ\u001b[39m::\u001b[1mLinearAlgebra.UniformScaling\u001b[22m\u001b[0m{T}) where {T<:Number, Tv, Ti}\n",
       "\u001b[90m     @\u001b[39m \u001b[32mSparseArrays\u001b[39m \u001b[90m/Applications/Julia-1.10.app/Contents/Resources/julia/share/julia/stdlib/v1.10/SparseArrays/src/\u001b[39m\u001b[90m\u001b[4msparsematrix.jl:4275\u001b[24m\u001b[39m\n",
       " [129] +(\u001b[90ma\u001b[39m::\u001b[1mTuple\u001b[22m\u001b[0m{Vararg{Measures.Measure, N}}, \u001b[90mb\u001b[39m::\u001b[1mTuple\u001b[22m\u001b[0m{Vararg{Measures.Measure, N}}) where N\n",
       "\u001b[90m     @\u001b[39m \u001b[32mMeasures\u001b[39m \u001b[90m~/.julia/packages/Measures/PKOxJ/src/\u001b[39m\u001b[90m\u001b[4mpoint.jl:21\u001b[24m\u001b[39m\n",
       " [130] +(\u001b[90ma\u001b[39m::\u001b[1mTuple\u001b[22m\u001b[0m{Vararg{Measures.Measure, N}} where N, \u001b[90mb\u001b[39m::\u001b[1mTuple\u001b[22m\u001b[0m{Vararg{Measures.Measure, N}} where N)\n",
       "\u001b[90m     @\u001b[39m \u001b[32mMeasures\u001b[39m \u001b[90m~/.julia/packages/Measures/PKOxJ/src/\u001b[39m\u001b[90m\u001b[4mpoint.jl:15\u001b[24m\u001b[39m\n",
       " [131] +(\u001b[90mx\u001b[39m::\u001b[1mInteger\u001b[22m, \u001b[90my\u001b[39m::\u001b[1mAbstractChar\u001b[22m)\n",
       "\u001b[90m     @\u001b[39m \u001b[90m\u001b[4mchar.jl:247\u001b[24m\u001b[39m\n",
       " [132] +(\u001b[90mx\u001b[39m::\u001b[1mInteger\u001b[22m, \u001b[90my\u001b[39m::\u001b[1mPtr\u001b[22m)\n",
       "\u001b[90m     @\u001b[39m \u001b[90m\u001b[4mpointer.jl:284\u001b[24m\u001b[39m\n",
       " [133] +(\u001b[90mA\u001b[39m::\u001b[1mLinearAlgebra.UnitUpperTriangular\u001b[22m, \u001b[90mB\u001b[39m::\u001b[1mLinearAlgebra.Bidiagonal\u001b[22m)\n",
       "\u001b[90m     @\u001b[39m \u001b[36mLinearAlgebra\u001b[39m \u001b[90m/Applications/Julia-1.10.app/Contents/Resources/julia/share/julia/stdlib/v1.10/LinearAlgebra/src/\u001b[39m\u001b[90m\u001b[4mspecial.jl:91\u001b[24m\u001b[39m\n",
       " [134] +(\u001b[90mx\u001b[39m::\u001b[1mLinearAlgebra.UnitUpperTriangular\u001b[22m, \u001b[90mH\u001b[39m::\u001b[1mLinearAlgebra.UpperHessenberg\u001b[22m)\n",
       "\u001b[90m     @\u001b[39m \u001b[36mLinearAlgebra\u001b[39m \u001b[90m/Applications/Julia-1.10.app/Contents/Resources/julia/share/julia/stdlib/v1.10/LinearAlgebra/src/\u001b[39m\u001b[90m\u001b[4mhessenberg.jl:120\u001b[24m\u001b[39m\n",
       " [135] +(\u001b[90mUL\u001b[39m::\u001b[1mLinearAlgebra.UnitUpperTriangular\u001b[22m, \u001b[90mJ\u001b[39m::\u001b[1mLinearAlgebra.UniformScaling\u001b[22m)\n",
       "\u001b[90m     @\u001b[39m \u001b[36mLinearAlgebra\u001b[39m \u001b[90m/Applications/Julia-1.10.app/Contents/Resources/julia/share/julia/stdlib/v1.10/LinearAlgebra/src/\u001b[39m\u001b[90m\u001b[4muniformscaling.jl:181\u001b[24m\u001b[39m\n",
       " [136] +(\u001b[90mA\u001b[39m::\u001b[1mLinearAlgebra.UnitUpperTriangular\u001b[22m, \u001b[90mB\u001b[39m::\u001b[1mLinearAlgebra.UnitUpperTriangular\u001b[22m)\n",
       "\u001b[90m     @\u001b[39m \u001b[36mLinearAlgebra\u001b[39m \u001b[90m/Applications/Julia-1.10.app/Contents/Resources/julia/share/julia/stdlib/v1.10/LinearAlgebra/src/\u001b[39m\u001b[90m\u001b[4mtriangular.jl:656\u001b[24m\u001b[39m\n",
       " [137] +(\u001b[90mA\u001b[39m::\u001b[1mLinearAlgebra.UnitUpperTriangular\u001b[22m, \u001b[90mB\u001b[39m::\u001b[1mLinearAlgebra.UpperTriangular\u001b[22m)\n",
       "\u001b[90m     @\u001b[39m \u001b[36mLinearAlgebra\u001b[39m \u001b[90m/Applications/Julia-1.10.app/Contents/Resources/julia/share/julia/stdlib/v1.10/LinearAlgebra/src/\u001b[39m\u001b[90m\u001b[4mtriangular.jl:654\u001b[24m\u001b[39m\n",
       " [138] +(\u001b[90mA\u001b[39m::\u001b[1mLinearAlgebra.UnitLowerTriangular\u001b[22m, \u001b[90mB\u001b[39m::\u001b[1mLinearAlgebra.UnitLowerTriangular\u001b[22m)\n",
       "\u001b[90m     @\u001b[39m \u001b[36mLinearAlgebra\u001b[39m \u001b[90m/Applications/Julia-1.10.app/Contents/Resources/julia/share/julia/stdlib/v1.10/LinearAlgebra/src/\u001b[39m\u001b[90m\u001b[4mtriangular.jl:657\u001b[24m\u001b[39m\n",
       " [139] +(\u001b[90mA\u001b[39m::\u001b[1mLinearAlgebra.UnitLowerTriangular\u001b[22m, \u001b[90mB\u001b[39m::\u001b[1mLinearAlgebra.LowerTriangular\u001b[22m)\n",
       "\u001b[90m     @\u001b[39m \u001b[36mLinearAlgebra\u001b[39m \u001b[90m/Applications/Julia-1.10.app/Contents/Resources/julia/share/julia/stdlib/v1.10/LinearAlgebra/src/\u001b[39m\u001b[90m\u001b[4mtriangular.jl:655\u001b[24m\u001b[39m\n",
       " [140] +(\u001b[90mA\u001b[39m::\u001b[1mLinearAlgebra.LowerTriangular\u001b[22m, \u001b[90mB\u001b[39m::\u001b[1mLinearAlgebra.UnitLowerTriangular\u001b[22m)\n",
       "\u001b[90m     @\u001b[39m \u001b[36mLinearAlgebra\u001b[39m \u001b[90m/Applications/Julia-1.10.app/Contents/Resources/julia/share/julia/stdlib/v1.10/LinearAlgebra/src/\u001b[39m\u001b[90m\u001b[4mtriangular.jl:653\u001b[24m\u001b[39m\n",
       " [141] +(\u001b[90mA\u001b[39m::\u001b[1mLinearAlgebra.LowerTriangular\u001b[22m, \u001b[90mB\u001b[39m::\u001b[1mLinearAlgebra.LowerTriangular\u001b[22m)\n",
       "\u001b[90m     @\u001b[39m \u001b[36mLinearAlgebra\u001b[39m \u001b[90m/Applications/Julia-1.10.app/Contents/Resources/julia/share/julia/stdlib/v1.10/LinearAlgebra/src/\u001b[39m\u001b[90m\u001b[4mtriangular.jl:651\u001b[24m\u001b[39m\n",
       " [142] +(\u001b[90mA\u001b[39m::\u001b[1mLinearAlgebra.AbstractTriangular\u001b[22m, \u001b[90mB\u001b[39m::\u001b[1mLinearAlgebra.AbstractTriangular\u001b[22m)\n",
       "\u001b[90m     @\u001b[39m \u001b[36mLinearAlgebra\u001b[39m \u001b[90m/Applications/Julia-1.10.app/Contents/Resources/julia/share/julia/stdlib/v1.10/LinearAlgebra/src/\u001b[39m\u001b[90m\u001b[4mtriangular.jl:658\u001b[24m\u001b[39m\n",
       " [143] +(\u001b[90mH\u001b[39m::\u001b[1mLinearAlgebra.UpperHessenberg\u001b[22m, \u001b[90mx\u001b[39m::\u001b[1mLinearAlgebra.Bidiagonal\u001b[22m)\n",
       "\u001b[90m     @\u001b[39m \u001b[36mLinearAlgebra\u001b[39m \u001b[90m/Applications/Julia-1.10.app/Contents/Resources/julia/share/julia/stdlib/v1.10/LinearAlgebra/src/\u001b[39m\u001b[90m\u001b[4mhessenberg.jl:119\u001b[24m\u001b[39m\n",
       " [144] +(\u001b[90mH\u001b[39m::\u001b[1mLinearAlgebra.UpperHessenberg\u001b[22m, \u001b[90mx\u001b[39m::\u001b[1mLinearAlgebra.SymTridiagonal\u001b[22m)\n",
       "\u001b[90m     @\u001b[39m \u001b[36mLinearAlgebra\u001b[39m \u001b[90m/Applications/Julia-1.10.app/Contents/Resources/julia/share/julia/stdlib/v1.10/LinearAlgebra/src/\u001b[39m\u001b[90m\u001b[4mhessenberg.jl:119\u001b[24m\u001b[39m\n",
       " [145] +(\u001b[90mH\u001b[39m::\u001b[1mLinearAlgebra.UpperHessenberg\u001b[22m, \u001b[90mx\u001b[39m::\u001b[1mLinearAlgebra.Diagonal\u001b[22m)\n",
       "\u001b[90m     @\u001b[39m \u001b[36mLinearAlgebra\u001b[39m \u001b[90m/Applications/Julia-1.10.app/Contents/Resources/julia/share/julia/stdlib/v1.10/LinearAlgebra/src/\u001b[39m\u001b[90m\u001b[4mhessenberg.jl:119\u001b[24m\u001b[39m\n",
       " [146] +(\u001b[90mA\u001b[39m::\u001b[1mLinearAlgebra.UpperHessenberg\u001b[22m, \u001b[90mB\u001b[39m::\u001b[1mLinearAlgebra.UpperHessenberg\u001b[22m)\n",
       "\u001b[90m     @\u001b[39m \u001b[36mLinearAlgebra\u001b[39m \u001b[90m/Applications/Julia-1.10.app/Contents/Resources/julia/share/julia/stdlib/v1.10/LinearAlgebra/src/\u001b[39m\u001b[90m\u001b[4mhessenberg.jl:112\u001b[24m\u001b[39m\n",
       " [147] +(\u001b[90mH\u001b[39m::\u001b[1mLinearAlgebra.UpperHessenberg\u001b[22m, \u001b[90mx\u001b[39m::\u001b[1mLinearAlgebra.UnitUpperTriangular\u001b[22m)\n",
       "\u001b[90m     @\u001b[39m \u001b[36mLinearAlgebra\u001b[39m \u001b[90m/Applications/Julia-1.10.app/Contents/Resources/julia/share/julia/stdlib/v1.10/LinearAlgebra/src/\u001b[39m\u001b[90m\u001b[4mhessenberg.jl:119\u001b[24m\u001b[39m\n",
       " [148] +(\u001b[90mH\u001b[39m::\u001b[1mLinearAlgebra.UpperHessenberg\u001b[22m, \u001b[90mx\u001b[39m::\u001b[1mLinearAlgebra.UpperTriangular\u001b[22m)\n",
       "\u001b[90m     @\u001b[39m \u001b[36mLinearAlgebra\u001b[39m \u001b[90m/Applications/Julia-1.10.app/Contents/Resources/julia/share/julia/stdlib/v1.10/LinearAlgebra/src/\u001b[39m\u001b[90m\u001b[4mhessenberg.jl:119\u001b[24m\u001b[39m\n",
       " [149] +(\u001b[90mH\u001b[39m::\u001b[1mLinearAlgebra.UpperHessenberg\u001b[22m, \u001b[90mx\u001b[39m::\u001b[1mLinearAlgebra.UniformScaling\u001b[22m)\n",
       "\u001b[90m     @\u001b[39m \u001b[36mLinearAlgebra\u001b[39m \u001b[90m/Applications/Julia-1.10.app/Contents/Resources/julia/share/julia/stdlib/v1.10/LinearAlgebra/src/\u001b[39m\u001b[90m\u001b[4mhessenberg.jl:119\u001b[24m\u001b[39m\n",
       " [150] +(\u001b[90mH\u001b[39m::\u001b[1mLinearAlgebra.UpperHessenberg\u001b[22m, \u001b[90mx\u001b[39m::\u001b[1mLinearAlgebra.Tridiagonal\u001b[22m)\n",
       "\u001b[90m     @\u001b[39m \u001b[36mLinearAlgebra\u001b[39m \u001b[90m/Applications/Julia-1.10.app/Contents/Resources/julia/share/julia/stdlib/v1.10/LinearAlgebra/src/\u001b[39m\u001b[90m\u001b[4mhessenberg.jl:119\u001b[24m\u001b[39m\n",
       " [151] +(\u001b[90mx\u001b[39m::\u001b[1mT\u001b[22m, \u001b[90my\u001b[39m::\u001b[1mInteger\u001b[22m) where T<:AbstractChar\n",
       "\u001b[90m     @\u001b[39m \u001b[90m\u001b[4mchar.jl:237\u001b[24m\u001b[39m\n",
       " [152] +(\u001b[90mbb1\u001b[39m::\u001b[1mMeasures.BoundingBox\u001b[22m, \u001b[90mbb2\u001b[39m::\u001b[1mMeasures.BoundingBox\u001b[22m)\n",
       "\u001b[90m     @\u001b[39m \u001b[33mPlots\u001b[39m \u001b[90m~/.julia/packages/Plots/du2dt/src/\u001b[39m\u001b[90m\u001b[4mlayouts.jl:21\u001b[24m\u001b[39m\n",
       " [153] +(\u001b[90mB\u001b[39m::\u001b[1mLinearAlgebra.SymTridiagonal\u001b[22m, \u001b[90mA\u001b[39m::\u001b[1mLinearAlgebra.Bidiagonal\u001b[22m)\n",
       "\u001b[90m     @\u001b[39m \u001b[36mLinearAlgebra\u001b[39m \u001b[90m\u001b[4mnone:0\u001b[24m\u001b[39m\n",
       " [154] +(\u001b[90mA\u001b[39m::\u001b[1mLinearAlgebra.SymTridiagonal\u001b[22m\u001b[0m{var\"#s127\", V} where {var\"#s127\"<:Real, V<:AbstractVector{var\"#s127\"}}, \u001b[90mB\u001b[39m::\u001b[1mLinearAlgebra.Hermitian\u001b[22m)\n",
       "\u001b[90m     @\u001b[39m \u001b[36mLinearAlgebra\u001b[39m \u001b[90m/Applications/Julia-1.10.app/Contents/Resources/julia/share/julia/stdlib/v1.10/LinearAlgebra/src/\u001b[39m\u001b[90m\u001b[4msymmetric.jl:522\u001b[24m\u001b[39m\n",
       " [155] +(\u001b[90mB\u001b[39m::\u001b[1mLinearAlgebra.SymTridiagonal\u001b[22m, \u001b[90mA\u001b[39m::\u001b[1mLinearAlgebra.Diagonal\u001b[22m)\n",
       "\u001b[90m     @\u001b[39m \u001b[36mLinearAlgebra\u001b[39m \u001b[90m\u001b[4mnone:0\u001b[24m\u001b[39m\n",
       " [156] +(\u001b[90mx\u001b[39m::\u001b[1mLinearAlgebra.SymTridiagonal\u001b[22m, \u001b[90mH\u001b[39m::\u001b[1mLinearAlgebra.UpperHessenberg\u001b[22m)\n",
       "\u001b[90m     @\u001b[39m \u001b[36mLinearAlgebra\u001b[39m \u001b[90m/Applications/Julia-1.10.app/Contents/Resources/julia/share/julia/stdlib/v1.10/LinearAlgebra/src/\u001b[39m\u001b[90m\u001b[4mhessenberg.jl:120\u001b[24m\u001b[39m\n",
       " [157] +(\u001b[90mA\u001b[39m::\u001b[1mLinearAlgebra.SymTridiagonal\u001b[22m, \u001b[90mB\u001b[39m::\u001b[1mLinearAlgebra.Symmetric\u001b[22m)\n",
       "\u001b[90m     @\u001b[39m \u001b[36mLinearAlgebra\u001b[39m \u001b[90m/Applications/Julia-1.10.app/Contents/Resources/julia/share/julia/stdlib/v1.10/LinearAlgebra/src/\u001b[39m\u001b[90m\u001b[4msymmetric.jl:520\u001b[24m\u001b[39m\n",
       " [158] +(\u001b[90mA\u001b[39m::\u001b[1mLinearAlgebra.SymTridiagonal\u001b[22m, \u001b[90mB\u001b[39m::\u001b[1mLinearAlgebra.SymTridiagonal\u001b[22m)\n",
       "\u001b[90m     @\u001b[39m \u001b[36mLinearAlgebra\u001b[39m \u001b[90m/Applications/Julia-1.10.app/Contents/Resources/julia/share/julia/stdlib/v1.10/LinearAlgebra/src/\u001b[39m\u001b[90m\u001b[4mtridiag.jl:210\u001b[24m\u001b[39m\n",
       " [159] +(\u001b[90mA\u001b[39m::\u001b[1mLinearAlgebra.SymTridiagonal\u001b[22m, \u001b[90mB\u001b[39m::\u001b[1mLinearAlgebra.UniformScaling\u001b[22m)\n",
       "\u001b[90m     @\u001b[39m \u001b[36mLinearAlgebra\u001b[39m \u001b[90m/Applications/Julia-1.10.app/Contents/Resources/julia/share/julia/stdlib/v1.10/LinearAlgebra/src/\u001b[39m\u001b[90m\u001b[4mspecial.jl:237\u001b[24m\u001b[39m\n",
       " [160] +(\u001b[90mB\u001b[39m::\u001b[1mLinearAlgebra.SymTridiagonal\u001b[22m, \u001b[90mA\u001b[39m::\u001b[1mLinearAlgebra.Tridiagonal\u001b[22m)\n",
       "\u001b[90m     @\u001b[39m \u001b[36mLinearAlgebra\u001b[39m \u001b[90m\u001b[4mnone:0\u001b[24m\u001b[39m\n",
       " [161] +(\u001b[90mr1\u001b[39m::\u001b[1mOrdinalRange\u001b[22m, \u001b[90mr2\u001b[39m::\u001b[1mOrdinalRange\u001b[22m)\n",
       "\u001b[90m     @\u001b[39m \u001b[90m\u001b[4mrange.jl:1454\u001b[24m\u001b[39m\n",
       " [162] +(\u001b[90mJ\u001b[39m::\u001b[1mLinearAlgebra.UniformScaling\u001b[22m, \u001b[90mB\u001b[39m::\u001b[1mBitMatrix\u001b[22m)\n",
       "\u001b[90m     @\u001b[39m \u001b[36mLinearAlgebra\u001b[39m \u001b[90m/Applications/Julia-1.10.app/Contents/Resources/julia/share/julia/stdlib/v1.10/LinearAlgebra/src/\u001b[39m\u001b[90m\u001b[4muniformscaling.jl:152\u001b[24m\u001b[39m\n",
       " [163] +(\u001b[90mJ\u001b[39m::\u001b[1mLinearAlgebra.UniformScaling\u001b[22m\u001b[0m{T}, \u001b[90mA\u001b[39m::\u001b[1mSparseArrays.AbstractSparseMatrixCSC\u001b[22m\u001b[0m{Tv, Ti}) where {T<:Number, Tv, Ti}\n",
       "\u001b[90m     @\u001b[39m \u001b[32mSparseArrays\u001b[39m \u001b[90m/Applications/Julia-1.10.app/Contents/Resources/julia/share/julia/stdlib/v1.10/SparseArrays/src/\u001b[39m\u001b[90m\u001b[4msparsematrix.jl:4277\u001b[24m\u001b[39m\n",
       " [164] +(\u001b[90mx\u001b[39m::\u001b[1mLinearAlgebra.UniformScaling\u001b[22m, \u001b[90mH\u001b[39m::\u001b[1mLinearAlgebra.UpperHessenberg\u001b[22m)\n",
       "\u001b[90m     @\u001b[39m \u001b[36mLinearAlgebra\u001b[39m \u001b[90m/Applications/Julia-1.10.app/Contents/Resources/julia/share/julia/stdlib/v1.10/LinearAlgebra/src/\u001b[39m\u001b[90m\u001b[4mhessenberg.jl:120\u001b[24m\u001b[39m\n",
       " [165] +(\u001b[90mJ\u001b[39m::\u001b[1mLinearAlgebra.UniformScaling\u001b[22m, \u001b[90mx\u001b[39m::\u001b[1mNumber\u001b[22m)\n",
       "\u001b[90m     @\u001b[39m \u001b[36mLinearAlgebra\u001b[39m \u001b[90m/Applications/Julia-1.10.app/Contents/Resources/julia/share/julia/stdlib/v1.10/LinearAlgebra/src/\u001b[39m\u001b[90m\u001b[4muniformscaling.jl:144\u001b[24m\u001b[39m\n",
       " [166] +(\u001b[90mB\u001b[39m::\u001b[1mLinearAlgebra.UniformScaling\u001b[22m, \u001b[90mA\u001b[39m::\u001b[1mLinearAlgebra.Bidiagonal\u001b[22m)\n",
       "\u001b[90m     @\u001b[39m \u001b[36mLinearAlgebra\u001b[39m \u001b[90m\u001b[4mnone:0\u001b[24m\u001b[39m\n",
       " [167] +(\u001b[90mB\u001b[39m::\u001b[1mLinearAlgebra.UniformScaling\u001b[22m, \u001b[90mA\u001b[39m::\u001b[1mLinearAlgebra.SymTridiagonal\u001b[22m)\n",
       "\u001b[90m     @\u001b[39m \u001b[36mLinearAlgebra\u001b[39m \u001b[90m\u001b[4mnone:0\u001b[24m\u001b[39m\n",
       " [168] +(\u001b[90mB\u001b[39m::\u001b[1mLinearAlgebra.UniformScaling\u001b[22m, \u001b[90mA\u001b[39m::\u001b[1mLinearAlgebra.Diagonal\u001b[22m)\n",
       "\u001b[90m     @\u001b[39m \u001b[36mLinearAlgebra\u001b[39m \u001b[90m\u001b[4mnone:0\u001b[24m\u001b[39m\n",
       " [169] +(\u001b[90mB\u001b[39m::\u001b[1mLinearAlgebra.UniformScaling\u001b[22m, \u001b[90mA\u001b[39m::\u001b[1mLinearAlgebra.Tridiagonal\u001b[22m)\n",
       "\u001b[90m     @\u001b[39m \u001b[36mLinearAlgebra\u001b[39m \u001b[90m\u001b[4mnone:0\u001b[24m\u001b[39m\n",
       " [170] +(\u001b[90mJ\u001b[39m::\u001b[1mLinearAlgebra.UniformScaling\u001b[22m, \u001b[90mA\u001b[39m::\u001b[1mAbstractMatrix\u001b[22m)\n",
       "\u001b[90m     @\u001b[39m \u001b[36mLinearAlgebra\u001b[39m \u001b[90m/Applications/Julia-1.10.app/Contents/Resources/julia/share/julia/stdlib/v1.10/LinearAlgebra/src/\u001b[39m\u001b[90m\u001b[4muniformscaling.jl:153\u001b[24m\u001b[39m\n",
       " [171] +(\u001b[90mJ1\u001b[39m::\u001b[1mLinearAlgebra.UniformScaling\u001b[22m, \u001b[90mJ2\u001b[39m::\u001b[1mLinearAlgebra.UniformScaling\u001b[22m)\n",
       "\u001b[90m     @\u001b[39m \u001b[36mLinearAlgebra\u001b[39m \u001b[90m/Applications/Julia-1.10.app/Contents/Resources/julia/share/julia/stdlib/v1.10/LinearAlgebra/src/\u001b[39m\u001b[90m\u001b[4muniformscaling.jl:150\u001b[24m\u001b[39m\n",
       " [172] +(\u001b[90mJ\u001b[39m::\u001b[1mLinearAlgebra.UniformScaling\u001b[22m, \u001b[90mF\u001b[39m::\u001b[1mLinearAlgebra.Hessenberg\u001b[22m)\n",
       "\u001b[90m     @\u001b[39m \u001b[36mLinearAlgebra\u001b[39m \u001b[90m/Applications/Julia-1.10.app/Contents/Resources/julia/share/julia/stdlib/v1.10/LinearAlgebra/src/\u001b[39m\u001b[90m\u001b[4mhessenberg.jl:561\u001b[24m\u001b[39m\n",
       " [173] +(\u001b[90mJ\u001b[39m::\u001b[1mLinearAlgebra.UniformScaling\u001b[22m)\n",
       "\u001b[90m     @\u001b[39m \u001b[36mLinearAlgebra\u001b[39m \u001b[90m/Applications/Julia-1.10.app/Contents/Resources/julia/share/julia/stdlib/v1.10/LinearAlgebra/src/\u001b[39m\u001b[90m\u001b[4muniformscaling.jl:149\u001b[24m\u001b[39m\n",
       " [174] +(\u001b[90mF\u001b[39m::\u001b[1mLinearAlgebra.Hessenberg\u001b[22m, \u001b[90mJ\u001b[39m::\u001b[1mLinearAlgebra.UniformScaling\u001b[22m)\n",
       "\u001b[90m     @\u001b[39m \u001b[36mLinearAlgebra\u001b[39m \u001b[90m/Applications/Julia-1.10.app/Contents/Resources/julia/share/julia/stdlib/v1.10/LinearAlgebra/src/\u001b[39m\u001b[90m\u001b[4mhessenberg.jl:560\u001b[24m\u001b[39m\n",
       " [175] +(\u001b[90mA\u001b[39m::\u001b[1mLinearAlgebra.UnitLowerTriangular\u001b[22m, \u001b[90mB\u001b[39m::\u001b[1mLinearAlgebra.Bidiagonal\u001b[22m)\n",
       "\u001b[90m     @\u001b[39m \u001b[36mLinearAlgebra\u001b[39m \u001b[90m/Applications/Julia-1.10.app/Contents/Resources/julia/share/julia/stdlib/v1.10/LinearAlgebra/src/\u001b[39m\u001b[90m\u001b[4mspecial.jl:91\u001b[24m\u001b[39m\n",
       " [176] +(\u001b[90mUL\u001b[39m::\u001b[1mLinearAlgebra.UnitLowerTriangular\u001b[22m, \u001b[90mJ\u001b[39m::\u001b[1mLinearAlgebra.UniformScaling\u001b[22m)\n",
       "\u001b[90m     @\u001b[39m \u001b[36mLinearAlgebra\u001b[39m \u001b[90m/Applications/Julia-1.10.app/Contents/Resources/julia/share/julia/stdlib/v1.10/LinearAlgebra/src/\u001b[39m\u001b[90m\u001b[4muniformscaling.jl:181\u001b[24m\u001b[39m\n",
       " [177] +(\u001b[90mx\u001b[39m::\u001b[1mDates.Period\u001b[22m, \u001b[90mr\u001b[39m::\u001b[1mAbstractRange\u001b[22m\u001b[0m{<:Dates.TimeType})\n",
       "\u001b[90m     @\u001b[39m \u001b[35mDates\u001b[39m \u001b[90m/Applications/Julia-1.10.app/Contents/Resources/julia/share/julia/stdlib/v1.10/Dates/src/\u001b[39m\u001b[90m\u001b[4mranges.jl:64\u001b[24m\u001b[39m\n",
       " [178] +(\u001b[90my\u001b[39m::\u001b[1mDates.Period\u001b[22m, \u001b[90mx\u001b[39m::\u001b[1mDates.TimeType\u001b[22m)\n",
       "\u001b[90m     @\u001b[39m \u001b[35mDates\u001b[39m \u001b[90m/Applications/Julia-1.10.app/Contents/Resources/julia/share/julia/stdlib/v1.10/Dates/src/\u001b[39m\u001b[90m\u001b[4marithmetic.jl:87\u001b[24m\u001b[39m\n",
       " [179] +(\u001b[90my\u001b[39m::\u001b[1mDates.Period\u001b[22m, \u001b[90mx\u001b[39m::\u001b[1mDates.CompoundPeriod\u001b[22m)\n",
       "\u001b[90m     @\u001b[39m \u001b[35mDates\u001b[39m \u001b[90m/Applications/Julia-1.10.app/Contents/Resources/julia/share/julia/stdlib/v1.10/Dates/src/\u001b[39m\u001b[90m\u001b[4mperiods.jl:333\u001b[24m\u001b[39m\n",
       " [180] +(\u001b[90mx\u001b[39m::\u001b[1mP\u001b[22m, \u001b[90my\u001b[39m::\u001b[1mP\u001b[22m) where P<:Dates.Period\n",
       "\u001b[90m     @\u001b[39m \u001b[35mDates\u001b[39m \u001b[90m/Applications/Julia-1.10.app/Contents/Resources/julia/share/julia/stdlib/v1.10/Dates/src/\u001b[39m\u001b[90m\u001b[4mperiods.jl:75\u001b[24m\u001b[39m\n",
       " [181] +(\u001b[90mx\u001b[39m::\u001b[1mDates.Period\u001b[22m, \u001b[90my\u001b[39m::\u001b[1mDates.Period\u001b[22m)\n",
       "\u001b[90m     @\u001b[39m \u001b[35mDates\u001b[39m \u001b[90m/Applications/Julia-1.10.app/Contents/Resources/julia/share/julia/stdlib/v1.10/Dates/src/\u001b[39m\u001b[90m\u001b[4mperiods.jl:331\u001b[24m\u001b[39m\n",
       " [182] +(\u001b[90ma\u001b[39m::\u001b[1mColorVectorSpace.RGBRGB\u001b[22m)\n",
       "\u001b[90m     @\u001b[39m \u001b[33mColorVectorSpace\u001b[39m \u001b[90m~/.julia/packages/ColorVectorSpace/tLy1N/src/\u001b[39m\u001b[90m\u001b[4mColorVectorSpace.jl:411\u001b[24m\u001b[39m\n",
       " [183] +(\u001b[90ma\u001b[39m::\u001b[1mColorVectorSpace.RGBRGB\u001b[22m, \u001b[90mb\u001b[39m::\u001b[1mColorVectorSpace.RGBRGB\u001b[22m)\n",
       "\u001b[90m     @\u001b[39m \u001b[33mColorVectorSpace\u001b[39m \u001b[90m~/.julia/packages/ColorVectorSpace/tLy1N/src/\u001b[39m\u001b[90m\u001b[4mColorVectorSpace.jl:413\u001b[24m\u001b[39m\n",
       " [184] +(\u001b[90mr1\u001b[39m::\u001b[1mLinRange\u001b[22m\u001b[0m{T}, \u001b[90mr2\u001b[39m::\u001b[1mLinRange\u001b[22m\u001b[0m{T}) where T\n",
       "\u001b[90m     @\u001b[39m \u001b[90m\u001b[4mrange.jl:1461\u001b[24m\u001b[39m\n",
       " [185] +(\u001b[90mA\u001b[39m::\u001b[1mLinearAlgebra.LowerTriangular\u001b[22m, \u001b[90mB\u001b[39m::\u001b[1mLinearAlgebra.Bidiagonal\u001b[22m)\n",
       "\u001b[90m     @\u001b[39m \u001b[36mLinearAlgebra\u001b[39m \u001b[90m/Applications/Julia-1.10.app/Contents/Resources/julia/share/julia/stdlib/v1.10/LinearAlgebra/src/\u001b[39m\u001b[90m\u001b[4mspecial.jl:91\u001b[24m\u001b[39m\n",
       " [186] +(\u001b[90mA\u001b[39m::\u001b[1mLinearAlgebra.Bidiagonal\u001b[22m, \u001b[90mB\u001b[39m::\u001b[1mLinearAlgebra.UnitLowerTriangular\u001b[22m)\n",
       "\u001b[90m     @\u001b[39m \u001b[36mLinearAlgebra\u001b[39m \u001b[90m/Applications/Julia-1.10.app/Contents/Resources/julia/share/julia/stdlib/v1.10/LinearAlgebra/src/\u001b[39m\u001b[90m\u001b[4mspecial.jl:99\u001b[24m\u001b[39m\n",
       " [187] +(\u001b[90mA\u001b[39m::\u001b[1mLinearAlgebra.Bidiagonal\u001b[22m, \u001b[90mB\u001b[39m::\u001b[1mLinearAlgebra.UnitUpperTriangular\u001b[22m)\n",
       "\u001b[90m     @\u001b[39m \u001b[36mLinearAlgebra\u001b[39m \u001b[90m/Applications/Julia-1.10.app/Contents/Resources/julia/share/julia/stdlib/v1.10/LinearAlgebra/src/\u001b[39m\u001b[90m\u001b[4mspecial.jl:99\u001b[24m\u001b[39m\n",
       " [188] +(\u001b[90mx\u001b[39m::\u001b[1mLinearAlgebra.Bidiagonal\u001b[22m, \u001b[90mH\u001b[39m::\u001b[1mLinearAlgebra.UpperHessenberg\u001b[22m)\n",
       "\u001b[90m     @\u001b[39m \u001b[36mLinearAlgebra\u001b[39m \u001b[90m/Applications/Julia-1.10.app/Contents/Resources/julia/share/julia/stdlib/v1.10/LinearAlgebra/src/\u001b[39m\u001b[90m\u001b[4mhessenberg.jl:120\u001b[24m\u001b[39m\n",
       " [189] +(\u001b[90mA\u001b[39m::\u001b[1mLinearAlgebra.Bidiagonal\u001b[22m, \u001b[90mB\u001b[39m::\u001b[1mLinearAlgebra.LowerTriangular\u001b[22m)\n",
       "\u001b[90m     @\u001b[39m \u001b[36mLinearAlgebra\u001b[39m \u001b[90m/Applications/Julia-1.10.app/Contents/Resources/julia/share/julia/stdlib/v1.10/LinearAlgebra/src/\u001b[39m\u001b[90m\u001b[4mspecial.jl:99\u001b[24m\u001b[39m\n",
       " [190] +(\u001b[90mA\u001b[39m::\u001b[1mLinearAlgebra.Bidiagonal\u001b[22m, \u001b[90mB\u001b[39m::\u001b[1mLinearAlgebra.Bidiagonal\u001b[22m)\n",
       "\u001b[90m     @\u001b[39m \u001b[36mLinearAlgebra\u001b[39m \u001b[90m/Applications/Julia-1.10.app/Contents/Resources/julia/share/julia/stdlib/v1.10/LinearAlgebra/src/\u001b[39m\u001b[90m\u001b[4mbidiag.jl:390\u001b[24m\u001b[39m\n",
       " [191] +(\u001b[90mA\u001b[39m::\u001b[1mLinearAlgebra.Bidiagonal\u001b[22m, \u001b[90mB\u001b[39m::\u001b[1mLinearAlgebra.SymTridiagonal\u001b[22m)\n",
       "\u001b[90m     @\u001b[39m \u001b[36mLinearAlgebra\u001b[39m \u001b[90m/Applications/Julia-1.10.app/Contents/Resources/julia/share/julia/stdlib/v1.10/LinearAlgebra/src/\u001b[39m\u001b[90m\u001b[4mspecial.jl:217\u001b[24m\u001b[39m\n",
       " [192] +(\u001b[90mA\u001b[39m::\u001b[1mLinearAlgebra.Bidiagonal\u001b[22m, \u001b[90mB\u001b[39m::\u001b[1mLinearAlgebra.Diagonal\u001b[22m)\n",
       "\u001b[90m     @\u001b[39m \u001b[36mLinearAlgebra\u001b[39m \u001b[90m/Applications/Julia-1.10.app/Contents/Resources/julia/share/julia/stdlib/v1.10/LinearAlgebra/src/\u001b[39m\u001b[90m\u001b[4mspecial.jl:151\u001b[24m\u001b[39m\n",
       " [193] +(\u001b[90mA\u001b[39m::\u001b[1mLinearAlgebra.Bidiagonal\u001b[22m, \u001b[90mB\u001b[39m::\u001b[1mLinearAlgebra.UpperTriangular\u001b[22m)\n",
       "\u001b[90m     @\u001b[39m \u001b[36mLinearAlgebra\u001b[39m \u001b[90m/Applications/Julia-1.10.app/Contents/Resources/julia/share/julia/stdlib/v1.10/LinearAlgebra/src/\u001b[39m\u001b[90m\u001b[4mspecial.jl:99\u001b[24m\u001b[39m\n",
       " [194] +(\u001b[90mA\u001b[39m::\u001b[1mLinearAlgebra.Bidiagonal\u001b[22m, \u001b[90mB\u001b[39m::\u001b[1mLinearAlgebra.UniformScaling\u001b[22m)\n",
       "\u001b[90m     @\u001b[39m \u001b[36mLinearAlgebra\u001b[39m \u001b[90m/Applications/Julia-1.10.app/Contents/Resources/julia/share/julia/stdlib/v1.10/LinearAlgebra/src/\u001b[39m\u001b[90m\u001b[4mspecial.jl:242\u001b[24m\u001b[39m\n",
       " [195] +(\u001b[90mA\u001b[39m::\u001b[1mLinearAlgebra.Bidiagonal\u001b[22m, \u001b[90mB\u001b[39m::\u001b[1mLinearAlgebra.Tridiagonal\u001b[22m)\n",
       "\u001b[90m     @\u001b[39m \u001b[36mLinearAlgebra\u001b[39m \u001b[90m/Applications/Julia-1.10.app/Contents/Resources/julia/share/julia/stdlib/v1.10/LinearAlgebra/src/\u001b[39m\u001b[90m\u001b[4mspecial.jl:202\u001b[24m\u001b[39m\n",
       " [196] +(\u001b[90ma\u001b[39m::\u001b[1mMeasures.Measure\u001b[22m, \u001b[90mb\u001b[39m::\u001b[1mMeasures.Measure\u001b[22m)\n",
       "\u001b[90m     @\u001b[39m \u001b[32mMeasures\u001b[39m \u001b[90m~/.julia/packages/Measures/PKOxJ/src/\u001b[39m\u001b[90m\u001b[4moperations.jl:41\u001b[24m\u001b[39m\n",
       " [197] +(\u001b[90mA\u001b[39m::\u001b[1mLinearAlgebra.Symmetric\u001b[22m\u001b[0m{<:Real, <:SparseArrays.AbstractSparseMatrix}, \u001b[90mB\u001b[39m::\u001b[1mLinearAlgebra.Hermitian\u001b[22m\u001b[0m{<:Any, <:SparseArrays.AbstractSparseMatrix})\n",
       "\u001b[90m     @\u001b[39m \u001b[32mSparseArrays\u001b[39m \u001b[90m/Applications/Julia-1.10.app/Contents/Resources/julia/share/julia/stdlib/v1.10/SparseArrays/src/\u001b[39m\u001b[90m\u001b[4mlinalg.jl:26\u001b[24m\u001b[39m\n",
       " [198] +(\u001b[90mA\u001b[39m::\u001b[1mLinearAlgebra.Symmetric\u001b[22m\u001b[0m{var\"#s128\", S} where {var\"#s128\"<:Real, S<:(AbstractMatrix{<:var\"#s128\"})}, \u001b[90mB\u001b[39m::\u001b[1mLinearAlgebra.Hermitian\u001b[22m)\n",
       "\u001b[90m     @\u001b[39m \u001b[36mLinearAlgebra\u001b[39m \u001b[90m/Applications/Julia-1.10.app/Contents/Resources/julia/share/julia/stdlib/v1.10/LinearAlgebra/src/\u001b[39m\u001b[90m\u001b[4msymmetric.jl:519\u001b[24m\u001b[39m\n",
       " [199] +(\u001b[90mA\u001b[39m::\u001b[1mLinearAlgebra.Symmetric\u001b[22m\u001b[0m{<:Any, <:SparseArrays.AbstractSparseMatrix}, \u001b[90mB\u001b[39m::\u001b[1mLinearAlgebra.Hermitian\u001b[22m\u001b[0m{<:Any, <:SparseArrays.AbstractSparseMatrix})\n",
       "\u001b[90m     @\u001b[39m \u001b[32mSparseArrays\u001b[39m \u001b[90m/Applications/Julia-1.10.app/Contents/Resources/julia/share/julia/stdlib/v1.10/SparseArrays/src/\u001b[39m\u001b[90m\u001b[4mlinalg.jl:24\u001b[24m\u001b[39m\n",
       " [200] +(\u001b[90mA\u001b[39m::\u001b[1mLinearAlgebra.Symmetric\u001b[22m, \u001b[90mB\u001b[39m::\u001b[1mLinearAlgebra.SymTridiagonal\u001b[22m)\n",
       "\u001b[90m     @\u001b[39m \u001b[36mLinearAlgebra\u001b[39m \u001b[90m/Applications/Julia-1.10.app/Contents/Resources/julia/share/julia/stdlib/v1.10/LinearAlgebra/src/\u001b[39m\u001b[90m\u001b[4msymmetric.jl:521\u001b[24m\u001b[39m\n",
       " [201] +(\u001b[90mA\u001b[39m::\u001b[1mLinearAlgebra.Symmetric\u001b[22m\u001b[0m{<:Any, <:SparseArrays.AbstractSparseMatrix}, \u001b[90mB\u001b[39m::\u001b[1mSparseArrays.AbstractSparseMatrix\u001b[22m)\n",
       "\u001b[90m     @\u001b[39m \u001b[32mSparseArrays\u001b[39m \u001b[90m/Applications/Julia-1.10.app/Contents/Resources/julia/share/julia/stdlib/v1.10/SparseArrays/src/\u001b[39m\u001b[90m\u001b[4mlinalg.jl:16\u001b[24m\u001b[39m\n",
       " [202] +(\u001b[90mA\u001b[39m::\u001b[1mLinearAlgebra.Symmetric\u001b[22m, \u001b[90mB\u001b[39m::\u001b[1mSparseArrays.AbstractSparseMatrix\u001b[22m)\n",
       "\u001b[90m     @\u001b[39m \u001b[32mSparseArrays\u001b[39m \u001b[90m/Applications/Julia-1.10.app/Contents/Resources/julia/share/julia/stdlib/v1.10/SparseArrays/src/\u001b[39m\u001b[90m\u001b[4mlinalg.jl:19\u001b[24m\u001b[39m\n",
       " [203] +(\u001b[90mS\u001b[39m::\u001b[1mLinearAlgebra.Symmetric\u001b[22m, \u001b[90mD\u001b[39m::\u001b[1mLinearAlgebra.Diagonal\u001b[22m)\n",
       "\u001b[90m     @\u001b[39m \u001b[36mLinearAlgebra\u001b[39m \u001b[90m/Applications/Julia-1.10.app/Contents/Resources/julia/share/julia/stdlib/v1.10/LinearAlgebra/src/\u001b[39m\u001b[90m\u001b[4mdiagonal.jl:232\u001b[24m\u001b[39m\n",
       " [204] +(\u001b[90mA\u001b[39m::\u001b[1mLinearAlgebra.Symmetric\u001b[22m, \u001b[90mB\u001b[39m::\u001b[1mLinearAlgebra.Symmetric\u001b[22m)\n",
       "\u001b[90m     @\u001b[39m \u001b[36mLinearAlgebra\u001b[39m \u001b[90m/Applications/Julia-1.10.app/Contents/Resources/julia/share/julia/stdlib/v1.10/LinearAlgebra/src/\u001b[39m\u001b[90m\u001b[4msymmetric.jl:504\u001b[24m\u001b[39m\n",
       " [205] +(\u001b[90ma\u001b[39m::\u001b[1mAbstractGray\u001b[22m\u001b[0m{Bool}, \u001b[90mb\u001b[39m::\u001b[1mAbstractGray\u001b[22m\u001b[0m{Bool})\n",
       "\u001b[90m     @\u001b[39m \u001b[33mColorVectorSpace\u001b[39m \u001b[90m~/.julia/packages/ColorVectorSpace/tLy1N/src/\u001b[39m\u001b[90m\u001b[4mColorVectorSpace.jl:311\u001b[24m\u001b[39m\n",
       " [206] +(\u001b[90ma\u001b[39m::\u001b[1mAbstractGray\u001b[22m, \u001b[90mb\u001b[39m::\u001b[1mAbstractGray\u001b[22m)\n",
       "\u001b[90m     @\u001b[39m \u001b[33mColorVectorSpace\u001b[39m \u001b[90m~/.julia/packages/ColorVectorSpace/tLy1N/src/\u001b[39m\u001b[90m\u001b[4mColorVectorSpace.jl:310\u001b[24m\u001b[39m\n",
       " [207] +(\u001b[90ma\u001b[39m::\u001b[1mAbstractGray\u001b[22m\u001b[0m{Bool}, \u001b[90mb\u001b[39m::\u001b[1mBool\u001b[22m)\n",
       "\u001b[90m     @\u001b[39m \u001b[33mColorVectorSpace\u001b[39m \u001b[90m~/.julia/packages/ColorVectorSpace/tLy1N/src/\u001b[39m\u001b[90m\u001b[4mColorVectorSpace.jl:322\u001b[24m\u001b[39m\n",
       " [208] +(\u001b[90ma\u001b[39m::\u001b[1mAbstractGray\u001b[22m\u001b[0m{Bool}, \u001b[90mb\u001b[39m::\u001b[1mNumber\u001b[22m)\n",
       "\u001b[90m     @\u001b[39m \u001b[33mColorVectorSpace\u001b[39m \u001b[90m~/.julia/packages/ColorVectorSpace/tLy1N/src/\u001b[39m\u001b[90m\u001b[4mColorVectorSpace.jl:321\u001b[24m\u001b[39m\n",
       " [209] +(\u001b[90ma\u001b[39m::\u001b[1mAbstractGray\u001b[22m, \u001b[90mb\u001b[39m::\u001b[1mNumber\u001b[22m)\n",
       "\u001b[90m     @\u001b[39m \u001b[33mColorVectorSpace\u001b[39m \u001b[90m~/.julia/packages/ColorVectorSpace/tLy1N/src/\u001b[39m\u001b[90m\u001b[4mColorVectorSpace.jl:320\u001b[24m\u001b[39m\n",
       " [210] +(\u001b[90mx\u001b[39m::\u001b[1mAbstractArray\u001b[22m\u001b[0m{<:Dates.TimeType}, \u001b[90my\u001b[39m::\u001b[1mUnion\u001b[22m\u001b[0m{Dates.CompoundPeriod, Dates.Period})\n",
       "\u001b[90m     @\u001b[39m \u001b[35mDates\u001b[39m \u001b[90m/Applications/Julia-1.10.app/Contents/Resources/julia/share/julia/stdlib/v1.10/Dates/src/\u001b[39m\u001b[90m\u001b[4mdeprecated.jl:6\u001b[24m\u001b[39m\n",
       " [211] +(\u001b[90mA\u001b[39m::\u001b[1mLinearAlgebra.Tridiagonal\u001b[22m, \u001b[90mB\u001b[39m::\u001b[1mLinearAlgebra.UniformScaling\u001b[22m)\n",
       "\u001b[90m     @\u001b[39m \u001b[36mLinearAlgebra\u001b[39m \u001b[90m/Applications/Julia-1.10.app/Contents/Resources/julia/share/julia/stdlib/v1.10/LinearAlgebra/src/\u001b[39m\u001b[90m\u001b[4mspecial.jl:232\u001b[24m\u001b[39m\n",
       " [212] +(\u001b[90mA\u001b[39m::\u001b[1mAbstractMatrix\u001b[22m, \u001b[90mJ\u001b[39m::\u001b[1mLinearAlgebra.UniformScaling\u001b[22m)\n",
       "\u001b[90m     @\u001b[39m \u001b[36mLinearAlgebra\u001b[39m \u001b[90m/Applications/Julia-1.10.app/Contents/Resources/julia/share/julia/stdlib/v1.10/LinearAlgebra/src/\u001b[39m\u001b[90m\u001b[4muniformscaling.jl:214\u001b[24m\u001b[39m\n",
       " [213] +(\u001b[90mB\u001b[39m::\u001b[1mLinearAlgebra.Tridiagonal\u001b[22m, \u001b[90mA\u001b[39m::\u001b[1mLinearAlgebra.Bidiagonal\u001b[22m)\n",
       "\u001b[90m     @\u001b[39m \u001b[36mLinearAlgebra\u001b[39m \u001b[90m\u001b[4mnone:0\u001b[24m\u001b[39m\n",
       " [214] +(\u001b[90mB\u001b[39m::\u001b[1mLinearAlgebra.Tridiagonal\u001b[22m, \u001b[90mA\u001b[39m::\u001b[1mLinearAlgebra.Diagonal\u001b[22m)\n",
       "\u001b[90m     @\u001b[39m \u001b[36mLinearAlgebra\u001b[39m \u001b[90m\u001b[4mnone:0\u001b[24m\u001b[39m\n",
       " [215] +(\u001b[90mA\u001b[39m::\u001b[1mLinearAlgebra.Tridiagonal\u001b[22m, \u001b[90mB\u001b[39m::\u001b[1mLinearAlgebra.SymTridiagonal\u001b[22m)\n",
       "\u001b[90m     @\u001b[39m \u001b[36mLinearAlgebra\u001b[39m \u001b[90m/Applications/Julia-1.10.app/Contents/Resources/julia/share/julia/stdlib/v1.10/LinearAlgebra/src/\u001b[39m\u001b[90m\u001b[4mspecial.jl:183\u001b[24m\u001b[39m\n",
       " [216] +(\u001b[90mx\u001b[39m::\u001b[1mLinearAlgebra.Tridiagonal\u001b[22m, \u001b[90mH\u001b[39m::\u001b[1mLinearAlgebra.UpperHessenberg\u001b[22m)\n",
       "\u001b[90m     @\u001b[39m \u001b[36mLinearAlgebra\u001b[39m \u001b[90m/Applications/Julia-1.10.app/Contents/Resources/julia/share/julia/stdlib/v1.10/LinearAlgebra/src/\u001b[39m\u001b[90m\u001b[4mhessenberg.jl:120\u001b[24m\u001b[39m\n",
       " [217] +(\u001b[90mA\u001b[39m::\u001b[1mLinearAlgebra.Tridiagonal\u001b[22m, \u001b[90mB\u001b[39m::\u001b[1mLinearAlgebra.Tridiagonal\u001b[22m)\n",
       "\u001b[90m     @\u001b[39m \u001b[36mLinearAlgebra\u001b[39m \u001b[90m/Applications/Julia-1.10.app/Contents/Resources/julia/share/julia/stdlib/v1.10/LinearAlgebra/src/\u001b[39m\u001b[90m\u001b[4mtridiag.jl:739\u001b[24m\u001b[39m\n",
       " [218] +(\u001b[90mX\u001b[39m::\u001b[1mStridedArray\u001b[22m\u001b[0m{<:Union{Dates.CompoundPeriod, Dates.Period}}, \u001b[90mY\u001b[39m::\u001b[1mStridedArray\u001b[22m\u001b[0m{<:Union{Dates.CompoundPeriod, Dates.Period}})\n",
       "\u001b[90m     @\u001b[39m \u001b[35mDates\u001b[39m \u001b[90m/Applications/Julia-1.10.app/Contents/Resources/julia/share/julia/stdlib/v1.10/Dates/src/\u001b[39m\u001b[90m\u001b[4mdeprecated.jl:62\u001b[24m\u001b[39m\n",
       " [219] +(\u001b[90mr1\u001b[39m::\u001b[1mUnion\u001b[22m\u001b[0m{LinRange, OrdinalRange, StepRangeLen}, \u001b[90mr2\u001b[39m::\u001b[1mUnion\u001b[22m\u001b[0m{LinRange, OrdinalRange, StepRangeLen})\n",
       "\u001b[90m     @\u001b[39m \u001b[90m\u001b[4mrange.jl:1470\u001b[24m\u001b[39m\n",
       " [220] +(\u001b[90mA\u001b[39m::\u001b[1mAbstractArray\u001b[22m, \u001b[90mB\u001b[39m::\u001b[1mAbstractArray\u001b[22m)\n",
       "\u001b[90m     @\u001b[39m \u001b[90m\u001b[4marraymath.jl:6\u001b[24m\u001b[39m\n",
       " [221] +(\u001b[90mx\u001b[39m::\u001b[1mStridedArray\u001b[22m\u001b[0m{<:Union{Dates.CompoundPeriod, Dates.Period}})\n",
       "\u001b[90m     @\u001b[39m \u001b[35mDates\u001b[39m \u001b[90m/Applications/Julia-1.10.app/Contents/Resources/julia/share/julia/stdlib/v1.10/Dates/src/\u001b[39m\u001b[90m\u001b[4mdeprecated.jl:55\u001b[24m\u001b[39m\n",
       " [222] +(\u001b[90mx\u001b[39m::\u001b[1mAbstractArray\u001b[22m\u001b[0m{<:Number})\n",
       "\u001b[90m     @\u001b[39m \u001b[90m\u001b[4mabstractarraymath.jl:220\u001b[24m\u001b[39m\n",
       " [223] +(\u001b[90mc\u001b[39m::\u001b[1mUnion\u001b[22m\u001b[0m{TransparentColor{C, Bool}, C} where C<:Union{AbstractRGB{Bool}, AbstractGray{Bool}})\n",
       "\u001b[90m     @\u001b[39m \u001b[33mColorVectorSpace\u001b[39m \u001b[90m~/.julia/packages/ColorVectorSpace/tLy1N/src/\u001b[39m\u001b[90m\u001b[4mColorVectorSpace.jl:250\u001b[24m\u001b[39m\n",
       " [224] +(\u001b[90mc\u001b[39m::\u001b[1mUnion\u001b[22m\u001b[0m{TransparentColor{C, T}, C} where {T, C<:Union{AbstractRGB{T}, AbstractGray{T}}})\n",
       "\u001b[90m     @\u001b[39m \u001b[33mColorVectorSpace\u001b[39m \u001b[90m~/.julia/packages/ColorVectorSpace/tLy1N/src/\u001b[39m\u001b[90m\u001b[4mColorVectorSpace.jl:249\u001b[24m\u001b[39m\n",
       " [225] +(\u001b[90ma\u001b[39m::\u001b[1mUnion\u001b[22m\u001b[0m{TransparentColor{C, T}, C} where {T, C<:Union{AbstractRGB{T}, AbstractGray{T}}}, \u001b[90mb\u001b[39m::\u001b[1mUnion\u001b[22m\u001b[0m{TransparentColor{C, T}, C} where {T, C<:Union{AbstractRGB{T}, AbstractGray{T}}})\n",
       "\u001b[90m     @\u001b[39m \u001b[33mColorVectorSpace\u001b[39m \u001b[90m~/.julia/packages/ColorVectorSpace/tLy1N/src/\u001b[39m\u001b[90m\u001b[4mColorVectorSpace.jl:260\u001b[24m\u001b[39m\n",
       " [226] +(\u001b[90ma\u001b[39m::\u001b[1mUnion\u001b[22m\u001b[0m{LMS, XYZ}, \u001b[90mb\u001b[39m::\u001b[1mUnion\u001b[22m\u001b[0m{LMS, XYZ})\n",
       "\u001b[90m     @\u001b[39m \u001b[33mColors\u001b[39m \u001b[90m~/.julia/packages/Colors/E2qak/src/\u001b[39m\u001b[90m\u001b[4malgorithms.jl:4\u001b[24m\u001b[39m\n",
       " [227] +(\u001b[90my\u001b[39m::\u001b[1mUnion\u001b[22m\u001b[0m{Dates.CompoundPeriod, Dates.Period}, \u001b[90mx\u001b[39m::\u001b[1mAbstractArray\u001b[22m\u001b[0m{<:Dates.TimeType})\n",
       "\u001b[90m     @\u001b[39m \u001b[35mDates\u001b[39m \u001b[90m/Applications/Julia-1.10.app/Contents/Resources/julia/share/julia/stdlib/v1.10/Dates/src/\u001b[39m\u001b[90m\u001b[4mdeprecated.jl:14\u001b[24m\u001b[39m\n",
       " [228] +(\u001b[90mx\u001b[39m::\u001b[1mStridedArray\u001b[22m\u001b[0m{<:Union{Dates.CompoundPeriod, Dates.Period}}, \u001b[90my\u001b[39m::\u001b[1mDates.TimeType\u001b[22m)\n",
       "\u001b[90m     @\u001b[39m \u001b[35mDates\u001b[39m \u001b[90m/Applications/Julia-1.10.app/Contents/Resources/julia/share/julia/stdlib/v1.10/Dates/src/\u001b[39m\u001b[90m\u001b[4mdeprecated.jl:10\u001b[24m\u001b[39m\n",
       " [229] +(\u001b[90mx\u001b[39m::\u001b[1mUnion\u001b[22m\u001b[0m{Dates.CompoundPeriod, Dates.Period})\n",
       "\u001b[90m     @\u001b[39m \u001b[35mDates\u001b[39m \u001b[90m/Applications/Julia-1.10.app/Contents/Resources/julia/share/julia/stdlib/v1.10/Dates/src/\u001b[39m\u001b[90m\u001b[4mperiods.jl:342\u001b[24m\u001b[39m\n",
       " [230] +(\u001b[90ma\u001b[39m, \u001b[90mb\u001b[39m, \u001b[90mc\u001b[39m, \u001b[90mxs...\u001b[39m)\n",
       "\u001b[90m     @\u001b[39m \u001b[90m\u001b[4moperators.jl:587\u001b[24m\u001b[39m"
      ]
     },
     "execution_count": 160,
     "metadata": {},
     "output_type": "execute_result"
    }
   ],
   "source": [
    "methods(+) #mutiple dispatch!"
   ]
  },
  {
   "cell_type": "code",
   "execution_count": 161,
   "id": "379262ec",
   "metadata": {},
   "outputs": [
    {
     "data": {
      "text/html": [
       "+(x::<b>T</b>, y::<b>T</b>)<i> where T<:Union{Int128, Int16, Int32, Int64, Int8, UInt128, UInt16, UInt32, UInt64, UInt8}</i> in Base at <a href=\"https://github.com/JuliaLang/julia/tree/48d4fd48430af58502699fdf3504b90589df3852/base/int.jl#L87\" target=\"_blank\">int.jl:87</a>"
      ],
      "text/plain": [
       "+(\u001b[90mx\u001b[39m::\u001b[1mT\u001b[22m, \u001b[90my\u001b[39m::\u001b[1mT\u001b[22m) where T<:Union{Int128, Int16, Int32, Int64, Int8, UInt128, UInt16, UInt32, UInt64, UInt8}\n",
       "\u001b[90m     @\u001b[39m \u001b[90mBase\u001b[39m \u001b[90m\u001b[4mint.jl:87\u001b[24m\u001b[39m"
      ]
     },
     "execution_count": 161,
     "metadata": {},
     "output_type": "execute_result"
    }
   ],
   "source": [
    "@which 3 + 3"
   ]
  },
  {
   "cell_type": "code",
   "execution_count": 162,
   "id": "6835e1ea",
   "metadata": {},
   "outputs": [
    {
     "data": {
      "text/html": [
       "+(x::<b>T</b>, y::<b>T</b>)<i> where T<:Union{Float16, Float32, Float64}</i> in Base at <a href=\"https://github.com/JuliaLang/julia/tree/48d4fd48430af58502699fdf3504b90589df3852/base/float.jl#L409\" target=\"_blank\">float.jl:409</a>"
      ],
      "text/plain": [
       "+(\u001b[90mx\u001b[39m::\u001b[1mT\u001b[22m, \u001b[90my\u001b[39m::\u001b[1mT\u001b[22m) where T<:Union{Float16, Float32, Float64}\n",
       "\u001b[90m     @\u001b[39m \u001b[90mBase\u001b[39m \u001b[90m\u001b[4mfloat.jl:409\u001b[24m\u001b[39m"
      ]
     },
     "execution_count": 162,
     "metadata": {},
     "output_type": "execute_result"
    }
   ],
   "source": [
    "@which 3.0 + 3.0"
   ]
  },
  {
   "cell_type": "code",
   "execution_count": 163,
   "id": "589d068b",
   "metadata": {},
   "outputs": [
    {
     "data": {
      "text/html": [
       "+(x::<b>Number</b>, y::<b>Number</b>) in Base at <a href=\"https://github.com/JuliaLang/julia/tree/48d4fd48430af58502699fdf3504b90589df3852/base/promotion.jl#L422\" target=\"_blank\">promotion.jl:422</a>"
      ],
      "text/plain": [
       "+(\u001b[90mx\u001b[39m::\u001b[1mNumber\u001b[22m, \u001b[90my\u001b[39m::\u001b[1mNumber\u001b[22m)\n",
       "\u001b[90m     @\u001b[39m \u001b[90mBase\u001b[39m \u001b[90m\u001b[4mpromotion.jl:422\u001b[24m\u001b[39m"
      ]
     },
     "execution_count": 163,
     "metadata": {},
     "output_type": "execute_result"
    }
   ],
   "source": [
    "@which 3 + 3.0"
   ]
  },
  {
   "cell_type": "code",
   "execution_count": 165,
   "id": "a03f6540",
   "metadata": {},
   "outputs": [],
   "source": [
    "import Base: + #import the operator!"
   ]
  },
  {
   "cell_type": "code",
   "execution_count": 166,
   "id": "26f28be3",
   "metadata": {},
   "outputs": [
    {
     "ename": "LoadError",
     "evalue": "MethodError: no method matching +(::String, ::String)\nString concatenation is performed with \u001b[36m*\u001b[39m (See also: https://docs.julialang.org/en/v1/manual/strings/#man-concatenation).\n\n\u001b[0mClosest candidates are:\n\u001b[0m  +(::Any, ::Any, \u001b[91m::Any\u001b[39m, \u001b[91m::Any...\u001b[39m)\n\u001b[0m\u001b[90m   @\u001b[39m \u001b[90mBase\u001b[39m \u001b[90m\u001b[4moperators.jl:587\u001b[24m\u001b[39m\n",
     "output_type": "error",
     "traceback": [
      "MethodError: no method matching +(::String, ::String)\nString concatenation is performed with \u001b[36m*\u001b[39m (See also: https://docs.julialang.org/en/v1/manual/strings/#man-concatenation).\n\n\u001b[0mClosest candidates are:\n\u001b[0m  +(::Any, ::Any, \u001b[91m::Any\u001b[39m, \u001b[91m::Any...\u001b[39m)\n\u001b[0m\u001b[90m   @\u001b[39m \u001b[90mBase\u001b[39m \u001b[90m\u001b[4moperators.jl:587\u001b[24m\u001b[39m\n",
      "",
      "Stacktrace:",
      " [1] top-level scope",
      "   @ In[166]:1"
     ]
    }
   ],
   "source": [
    "\"hellow \" + \"World\""
   ]
  },
  {
   "cell_type": "code",
   "execution_count": 167,
   "id": "1752f564",
   "metadata": {},
   "outputs": [
    {
     "data": {
      "text/plain": [
       "+ (generic function with 231 methods)"
      ]
     },
     "execution_count": 167,
     "metadata": {},
     "output_type": "execute_result"
    }
   ],
   "source": [
    "+(x::String, y::String) = string(x, y)"
   ]
  },
  {
   "cell_type": "code",
   "execution_count": 168,
   "id": "c0a7896b",
   "metadata": {},
   "outputs": [
    {
     "data": {
      "text/plain": [
       "\"hellow World\""
      ]
     },
     "execution_count": 168,
     "metadata": {},
     "output_type": "execute_result"
    }
   ],
   "source": [
    "\"hellow \" + \"World\""
   ]
  },
  {
   "cell_type": "code",
   "execution_count": 169,
   "id": "ece5dd72",
   "metadata": {},
   "outputs": [
    {
     "data": {
      "text/html": [
       "+(x::<b>String</b>, y::<b>String</b>) in Main at In[167]:1"
      ],
      "text/plain": [
       "+(\u001b[90mx\u001b[39m::\u001b[1mString\u001b[22m, \u001b[90my\u001b[39m::\u001b[1mString\u001b[22m)\n",
       "\u001b[90m     @\u001b[39m \u001b[90mMain\u001b[39m \u001b[90m\u001b[4mIn[167]:1\u001b[24m\u001b[39m"
      ]
     },
     "execution_count": 169,
     "metadata": {},
     "output_type": "execute_result"
    }
   ],
   "source": [
    "@which \"hellow \" + \"World\""
   ]
  },
  {
   "cell_type": "code",
   "execution_count": 173,
   "id": "d1bce47a",
   "metadata": {},
   "outputs": [
    {
     "data": {
      "text/plain": [
       "foo (generic function with 4 methods)"
      ]
     },
     "execution_count": 173,
     "metadata": {},
     "output_type": "execute_result"
    }
   ],
   "source": [
    "foo(x, y) = println(\"duck-typed foo!\")\n",
    "foo(x::Int, y::Float64) = println(\"foo with an integer and a float!\")\n",
    "foo(x::Float64, y::Float64) = println(\"foo with two floats!\")\n",
    "foo(x::Int,  y::Int) = println(\"foo with two integers!\")"
   ]
  },
  {
   "cell_type": "code",
   "execution_count": 174,
   "id": "427339f6",
   "metadata": {},
   "outputs": [
    {
     "name": "stdout",
     "output_type": "stream",
     "text": [
      "foo with two integers!\n"
     ]
    }
   ],
   "source": [
    "foo(1, 1)"
   ]
  },
  {
   "cell_type": "code",
   "execution_count": 175,
   "id": "4fd50b6c",
   "metadata": {},
   "outputs": [
    {
     "name": "stdout",
     "output_type": "stream",
     "text": [
      "foo with two floats!\n"
     ]
    }
   ],
   "source": [
    "foo(1., 1.)"
   ]
  },
  {
   "cell_type": "code",
   "execution_count": 176,
   "id": "0d28d816",
   "metadata": {},
   "outputs": [
    {
     "name": "stdout",
     "output_type": "stream",
     "text": [
      "foo with an integer and a float!\n"
     ]
    }
   ],
   "source": [
    "foo(1, 1.0)"
   ]
  },
  {
   "cell_type": "code",
   "execution_count": 177,
   "id": "03bd010b",
   "metadata": {},
   "outputs": [
    {
     "name": "stdout",
     "output_type": "stream",
     "text": [
      "duck-typed foo!\n"
     ]
    }
   ],
   "source": [
    "foo(1.0, 1)"
   ]
  },
  {
   "cell_type": "markdown",
   "id": "48d6a843",
   "metadata": {},
   "source": [
    "# Basic Linear Algebra"
   ]
  },
  {
   "cell_type": "code",
   "execution_count": 178,
   "id": "d5c47e64",
   "metadata": {},
   "outputs": [
    {
     "data": {
      "text/plain": [
       "3×3 Matrix{Int64}:\n",
       " 1  1  1\n",
       " 2  3  2\n",
       " 3  1  2"
      ]
     },
     "execution_count": 178,
     "metadata": {},
     "output_type": "execute_result"
    }
   ],
   "source": [
    "A = rand(1:4, 3, 3)"
   ]
  },
  {
   "cell_type": "code",
   "execution_count": 180,
   "id": "a2d9ffb5",
   "metadata": {},
   "outputs": [
    {
     "data": {
      "text/plain": [
       "3×6 Matrix{Int64}:\n",
       " 1  1  1  1  1  1\n",
       " 2  3  2  2  3  2\n",
       " 3  1  2  3  1  2"
      ]
     },
     "execution_count": 180,
     "metadata": {},
     "output_type": "execute_result"
    }
   ],
   "source": [
    "B = A\n",
    "C = copy(A)\n",
    "[B C]"
   ]
  },
  {
   "cell_type": "code",
   "execution_count": 182,
   "id": "8dd0bea6",
   "metadata": {},
   "outputs": [
    {
     "data": {
      "text/plain": [
       "3×6 Matrix{Int64}:\n",
       " 17  1  1  1  1  1\n",
       "  2  3  2  2  3  2\n",
       "  3  1  2  3  1  2"
      ]
     },
     "execution_count": 182,
     "metadata": {},
     "output_type": "execute_result"
    }
   ],
   "source": [
    "A[1] = 17 \n",
    "[B C] # B is updated, but C is not!!"
   ]
  },
  {
   "cell_type": "code",
   "execution_count": 183,
   "id": "573c1312",
   "metadata": {},
   "outputs": [
    {
     "data": {
      "text/plain": [
       "3-element Vector{Float64}:\n",
       " 1.0\n",
       " 1.0\n",
       " 1.0"
      ]
     },
     "execution_count": 183,
     "metadata": {},
     "output_type": "execute_result"
    }
   ],
   "source": [
    "x = ones(3)"
   ]
  },
  {
   "cell_type": "code",
   "execution_count": 184,
   "id": "93c67df0",
   "metadata": {},
   "outputs": [
    {
     "data": {
      "text/plain": [
       "3-element Vector{Float64}:\n",
       " 19.0\n",
       "  7.0\n",
       "  6.0"
      ]
     },
     "execution_count": 184,
     "metadata": {},
     "output_type": "execute_result"
    }
   ],
   "source": [
    "b = A*x"
   ]
  },
  {
   "cell_type": "code",
   "execution_count": 185,
   "id": "a9a4be77",
   "metadata": {},
   "outputs": [
    {
     "data": {
      "text/plain": [
       "3×3 Matrix{Int64}:\n",
       " 34  3  4\n",
       "  3  6  3\n",
       "  4  3  4"
      ]
     },
     "execution_count": 185,
     "metadata": {},
     "output_type": "execute_result"
    }
   ],
   "source": [
    "Asym = A + A' #' is transpose!!"
   ]
  },
  {
   "cell_type": "code",
   "execution_count": 193,
   "id": "668f99df",
   "metadata": {},
   "outputs": [
    {
     "data": {
      "text/plain": [
       "3×3 Matrix{Int64}:\n",
       " 302  26  27\n",
       "  26  11   9\n",
       "  27   9   9"
      ]
     },
     "execution_count": 193,
     "metadata": {},
     "output_type": "execute_result"
    }
   ],
   "source": [
    "Apd = A'A # you don't need symbols to mutiply matrices! but no space"
   ]
  },
  {
   "cell_type": "code",
   "execution_count": 194,
   "id": "9e1b1f8a",
   "metadata": {},
   "outputs": [
    {
     "data": {
      "text/plain": [
       "3-element Vector{Float64}:\n",
       " 1.0\n",
       " 0.9999999999999997\n",
       " 1.0000000000000004"
      ]
     },
     "execution_count": 194,
     "metadata": {},
     "output_type": "execute_result"
    }
   ],
   "source": [
    "A\\b # solves A*x = b!"
   ]
  },
  {
   "cell_type": "code",
   "execution_count": 195,
   "id": "1d725514",
   "metadata": {},
   "outputs": [
    {
     "data": {
      "text/plain": [
       "3×3 Matrix{Int64}:\n",
       " 17  1  1\n",
       "  2  3  2\n",
       "  3  1  2"
      ]
     },
     "metadata": {},
     "output_type": "display_data"
    },
    {
     "data": {
      "text/plain": [
       "2-element Vector{Float64}:\n",
       " 1.0238095238095237\n",
       " 1.7619047619047612"
      ]
     },
     "execution_count": 195,
     "metadata": {},
     "output_type": "execute_result"
    }
   ],
   "source": [
    "Atall = A[:, 1:2] # tall, not square\n",
    "display(A)\n",
    "\n",
    "Atall\\b"
   ]
  },
  {
   "cell_type": "code",
   "execution_count": 197,
   "id": "911e6ea2",
   "metadata": {},
   "outputs": [
    {
     "data": {
      "text/plain": [
       "3×3 Matrix{Float64}:\n",
       " 1.98649    0.207272   1.0119\n",
       " 1.72991   -0.203092   0.260191\n",
       " 0.411514  -1.73057   -1.81987"
      ]
     },
     "execution_count": 197,
     "metadata": {},
     "output_type": "execute_result"
    }
   ],
   "source": [
    "A = randn(3, 3)"
   ]
  },
  {
   "cell_type": "code",
   "execution_count": 198,
   "id": "d50a1c29",
   "metadata": {},
   "outputs": [
    {
     "data": {
      "text/plain": [
       "2-element Vector{Float64}:\n",
       " 3.680440328962689\n",
       " 3.6804403289626895"
      ]
     },
     "execution_count": 198,
     "metadata": {},
     "output_type": "execute_result"
    }
   ],
   "source": [
    "[A[:,1] A[:,1]] \\ b"
   ]
  },
  {
   "cell_type": "code",
   "execution_count": 200,
   "id": "4a955508",
   "metadata": {},
   "outputs": [
    {
     "data": {
      "text/plain": [
       "2×3 Matrix{Float64}:\n",
       " 1.98649   0.207272  1.0119\n",
       " 1.72991  -0.203092  0.260191"
      ]
     },
     "metadata": {},
     "output_type": "display_data"
    },
    {
     "data": {
      "text/plain": [
       "3-element Vector{Float64}:\n",
       "  3.0811650399781327\n",
       "  6.403634845538284\n",
       " 11.416128829550816"
      ]
     },
     "execution_count": 200,
     "metadata": {},
     "output_type": "execute_result"
    }
   ],
   "source": [
    "Ashort = A[1:2, :]\n",
    "display(Ashort)\n",
    "Ashort\\b[1:2]"
   ]
  },
  {
   "cell_type": "code",
   "execution_count": 201,
   "id": "0b93ebf3",
   "metadata": {},
   "outputs": [
    {
     "data": {
      "text/plain": [
       "10000000-element Vector{Float64}:\n",
       " 0.9070663752452822\n",
       " 0.6163651644285694\n",
       " 0.7108038302494197\n",
       " 0.3116811324851846\n",
       " 0.3974941328160898\n",
       " 0.046722599827093925\n",
       " 0.9502791374814249\n",
       " 0.31993996205563857\n",
       " 0.9480369908224873\n",
       " 0.9615348966700502\n",
       " 0.8698490280920919\n",
       " 0.6216126648698429\n",
       " 0.5913232159309272\n",
       " ⋮\n",
       " 0.9466636859541435\n",
       " 0.5482403054925126\n",
       " 0.913450104021284\n",
       " 0.34814685572762205\n",
       " 0.5892763883779418\n",
       " 0.9970851978969317\n",
       " 0.20789273077207227\n",
       " 0.9881422070169031\n",
       " 0.939657386034523\n",
       " 0.7752994134462373\n",
       " 0.4945279978776581\n",
       " 0.5649157167528513"
      ]
     },
     "execution_count": 201,
     "metadata": {},
     "output_type": "execute_result"
    }
   ],
   "source": [
    "a = rand(10^7)"
   ]
  },
  {
   "cell_type": "code",
   "execution_count": 202,
   "id": "84ad7e3c",
   "metadata": {},
   "outputs": [
    {
     "data": {
      "text/plain": [
       "4.998487561994042e6"
      ]
     },
     "execution_count": 202,
     "metadata": {},
     "output_type": "execute_result"
    }
   ],
   "source": [
    "sum(a)"
   ]
  },
  {
   "cell_type": "code",
   "execution_count": 205,
   "id": "8534786e",
   "metadata": {},
   "outputs": [],
   "source": [
    "#import Pkg; Pkg.add(\"BenchmarkTools\")"
   ]
  },
  {
   "cell_type": "code",
   "execution_count": 206,
   "id": "e6f23913",
   "metadata": {},
   "outputs": [],
   "source": [
    "using BenchmarkTools"
   ]
  },
  {
   "cell_type": "code",
   "execution_count": 212,
   "id": "90eb0f8e",
   "metadata": {},
   "outputs": [
    {
     "data": {
      "text/plain": [
       "c_sum (generic function with 1 method)"
      ]
     },
     "execution_count": 212,
     "metadata": {},
     "output_type": "execute_result"
    }
   ],
   "source": [
    "c_cod = \"\"\"\n",
    "#include <stdded.h>\n",
    "    double s = 0.0;\n",
    "    for (size_t i = 0; i < n; ++i) {\n",
    "        s += X[i];\n",
    "    }\n",
    "    return s;\n",
    "}\n",
    "\"\"\"\n",
    "\n",
    "#const Clib = tempname() # make a temporary file\n",
    "\n",
    "# compile to a shared library by piping C_code to gcc\n",
    "# (works only if you have gcc installed):\n",
    "\n",
    "#open(`gcc -fPIC -o3 -msse3 -xc -shared -o $(Clib * \".\" * Libdl.dlext) -`, \"w\") do f\n",
    "    #print(f, C_coda)\n",
    "#end\n",
    "\n",
    "# define a Julia function that calls the C function:\n",
    "c_sum(X::Array{Float64}) = ccall((\"c_sum\", Clib), Float64, (Csize_t, Ptr{Float64}), length(X), X)\n"
   ]
  },
  {
   "cell_type": "code",
   "execution_count": 210,
   "id": "b16eb994",
   "metadata": {},
   "outputs": [],
   "source": [
    "#?isapprox"
   ]
  },
  {
   "cell_type": "code",
   "execution_count": 214,
   "id": "69e115fc",
   "metadata": {},
   "outputs": [],
   "source": [
    "#c_sum(a) ≈ sum(a) "
   ]
  },
  {
   "cell_type": "code",
   "execution_count": 216,
   "id": "2a1a62a1",
   "metadata": {},
   "outputs": [],
   "source": [
    "#import Pkg; Pkg.add(\"PyCall\")"
   ]
  },
  {
   "cell_type": "code",
   "execution_count": 218,
   "id": "e63fc1d8",
   "metadata": {},
   "outputs": [],
   "source": [
    "using PyCall"
   ]
  },
  {
   "cell_type": "code",
   "execution_count": 219,
   "id": "b9beff97",
   "metadata": {},
   "outputs": [
    {
     "ename": "LoadError",
     "evalue": "MethodError: no method matching array2py(::Vector{Float64}, ::Int64, ::Int64)\n\n\u001b[0mClosest candidates are:\n\u001b[0m  array2py(::AbstractArray{<:Any, N}, ::Integer, \u001b[91m::CartesianIndex{N}\u001b[39m) where N\n\u001b[0m\u001b[90m   @\u001b[39m \u001b[35mPyCall\u001b[39m \u001b[90m~/.julia/packages/PyCall/1gn3u/src/\u001b[39m\u001b[90m\u001b[4mconversions.jl:316\u001b[24m\u001b[39m\n\u001b[0m  array2py(::AbstractArray)\n\u001b[0m\u001b[90m   @\u001b[39m \u001b[35mPyCall\u001b[39m \u001b[90m~/.julia/packages/PyCall/1gn3u/src/\u001b[39m\u001b[90m\u001b[4mconversions.jl:332\u001b[24m\u001b[39m\n",
     "output_type": "error",
     "traceback": [
      "MethodError: no method matching array2py(::Vector{Float64}, ::Int64, ::Int64)\n\n\u001b[0mClosest candidates are:\n\u001b[0m  array2py(::AbstractArray{<:Any, N}, ::Integer, \u001b[91m::CartesianIndex{N}\u001b[39m) where N\n\u001b[0m\u001b[90m   @\u001b[39m \u001b[35mPyCall\u001b[39m \u001b[90m~/.julia/packages/PyCall/1gn3u/src/\u001b[39m\u001b[90m\u001b[4mconversions.jl:316\u001b[24m\u001b[39m\n\u001b[0m  array2py(::AbstractArray)\n\u001b[0m\u001b[90m   @\u001b[39m \u001b[35mPyCall\u001b[39m \u001b[90m~/.julia/packages/PyCall/1gn3u/src/\u001b[39m\u001b[90m\u001b[4mconversions.jl:332\u001b[24m\u001b[39m\n",
      "",
      "Stacktrace:",
      " [1] top-level scope",
      "   @ In[219]:1"
     ]
    }
   ],
   "source": [
    "apy_list = PyCall.array2py(a, 1, 1)\n",
    "\n",
    "pysum = pybuiltin(\"sum\")"
   ]
  },
  {
   "cell_type": "code",
   "execution_count": 220,
   "id": "32053ce4",
   "metadata": {},
   "outputs": [
    {
     "data": {
      "text/html": [
       "sum(a::<b>AbstractArray</b>; <i>dims, kw...</i>) in Base at <a href=\"https://github.com/JuliaLang/julia/tree/48d4fd48430af58502699fdf3504b90589df3852/base/reducedim.jl#L1010\" target=\"_blank\">reducedim.jl:1010</a>"
      ],
      "text/plain": [
       "sum(\u001b[90ma\u001b[39m::\u001b[1mAbstractArray\u001b[22m; dims, kw...)\n",
       "\u001b[90m     @\u001b[39m \u001b[90mBase\u001b[39m \u001b[90m\u001b[4mreducedim.jl:1010\u001b[24m\u001b[39m"
      ]
     },
     "execution_count": 220,
     "metadata": {},
     "output_type": "execute_result"
    }
   ],
   "source": [
    "@which sum(a)"
   ]
  },
  {
   "cell_type": "code",
   "execution_count": 221,
   "id": "decebd96",
   "metadata": {},
   "outputs": [
    {
     "data": {
      "text/plain": [
       "BenchmarkTools.Trial: 2406 samples with 1 evaluation.\n",
       " Range \u001b[90m(\u001b[39m\u001b[36m\u001b[1mmin\u001b[22m\u001b[39m … \u001b[35mmax\u001b[39m\u001b[90m):  \u001b[39m\u001b[36m\u001b[1m1.746 ms\u001b[22m\u001b[39m … \u001b[35m123.587 ms\u001b[39m  \u001b[90m┊\u001b[39m GC \u001b[90m(\u001b[39mmin … max\u001b[90m): \u001b[39m0.00% … 0.00%\n",
       " Time  \u001b[90m(\u001b[39m\u001b[34m\u001b[1mmedian\u001b[22m\u001b[39m\u001b[90m):     \u001b[39m\u001b[34m\u001b[1m1.857 ms               \u001b[22m\u001b[39m\u001b[90m┊\u001b[39m GC \u001b[90m(\u001b[39mmedian\u001b[90m):    \u001b[39m0.00%\n",
       " Time  \u001b[90m(\u001b[39m\u001b[32m\u001b[1mmean\u001b[22m\u001b[39m ± \u001b[32mσ\u001b[39m\u001b[90m):   \u001b[39m\u001b[32m\u001b[1m2.040 ms\u001b[22m\u001b[39m ± \u001b[32m  2.539 ms\u001b[39m  \u001b[90m┊\u001b[39m GC \u001b[90m(\u001b[39mmean ± σ\u001b[90m):  \u001b[39m0.00% ± 0.00%\n",
       "\n",
       "  \u001b[39m▃\u001b[39m█\u001b[39m█\u001b[39m▇\u001b[34m▅\u001b[39m\u001b[39m▅\u001b[39m▄\u001b[39m▄\u001b[39m▄\u001b[39m▃\u001b[32m▃\u001b[39m\u001b[39m▂\u001b[39m▂\u001b[39m▂\u001b[39m▁\u001b[39m▂\u001b[39m▁\u001b[39m▁\u001b[39m▂\u001b[39m \u001b[39m \u001b[39m \u001b[39m \u001b[39m \u001b[39m \u001b[39m \u001b[39m \u001b[39m \u001b[39m \u001b[39m \u001b[39m \u001b[39m \u001b[39m \u001b[39m \u001b[39m \u001b[39m \u001b[39m \u001b[39m \u001b[39m \u001b[39m \u001b[39m \u001b[39m \u001b[39m \u001b[39m \u001b[39m \u001b[39m \u001b[39m \u001b[39m \u001b[39m \u001b[39m \u001b[39m \u001b[39m \u001b[39m \u001b[39m \u001b[39m \u001b[39m \u001b[39m \u001b[39m \u001b[39m \u001b[39m \u001b[39m▁\n",
       "  \u001b[39m█\u001b[39m█\u001b[39m█\u001b[39m█\u001b[34m█\u001b[39m\u001b[39m█\u001b[39m█\u001b[39m█\u001b[39m█\u001b[39m█\u001b[32m█\u001b[39m\u001b[39m█\u001b[39m█\u001b[39m█\u001b[39m█\u001b[39m█\u001b[39m█\u001b[39m█\u001b[39m█\u001b[39m█\u001b[39m█\u001b[39m█\u001b[39m█\u001b[39m▇\u001b[39m▇\u001b[39m▇\u001b[39m█\u001b[39m▆\u001b[39m▆\u001b[39m▇\u001b[39m▆\u001b[39m▆\u001b[39m▆\u001b[39m▆\u001b[39m▆\u001b[39m▆\u001b[39m▄\u001b[39m▆\u001b[39m▄\u001b[39m▄\u001b[39m▄\u001b[39m▅\u001b[39m▄\u001b[39m▅\u001b[39m▆\u001b[39m▁\u001b[39m▁\u001b[39m▄\u001b[39m▁\u001b[39m▄\u001b[39m▄\u001b[39m▄\u001b[39m▄\u001b[39m▁\u001b[39m▁\u001b[39m▄\u001b[39m▄\u001b[39m▁\u001b[39m▄\u001b[39m \u001b[39m█\n",
       "  1.75 ms\u001b[90m      \u001b[39m\u001b[90mHistogram: \u001b[39m\u001b[90m\u001b[1mlog(\u001b[22m\u001b[39m\u001b[90mfrequency\u001b[39m\u001b[90m\u001b[1m)\u001b[22m\u001b[39m\u001b[90m by time\u001b[39m      3.54 ms \u001b[0m\u001b[1m<\u001b[22m\n",
       "\n",
       " Memory estimate\u001b[90m: \u001b[39m\u001b[33m0 bytes\u001b[39m, allocs estimate\u001b[90m: \u001b[39m\u001b[33m0\u001b[39m."
      ]
     },
     "execution_count": 221,
     "metadata": {},
     "output_type": "execute_result"
    }
   ],
   "source": [
    "j_bench = @benchmark sum($a)"
   ]
  },
  {
   "cell_type": "code",
   "execution_count": 223,
   "id": "a1bc1402",
   "metadata": {},
   "outputs": [
    {
     "data": {
      "text/plain": [
       "1.746333"
      ]
     },
     "execution_count": 223,
     "metadata": {},
     "output_type": "execute_result"
    }
   ],
   "source": [
    "minimum(j_bench.times) / 1e6"
   ]
  },
  {
   "cell_type": "markdown",
   "id": "1ceafac1",
   "metadata": {},
   "source": [
    "# LU Decomposition"
   ]
  },
  {
   "cell_type": "code",
   "execution_count": 226,
   "id": "ee7a2767",
   "metadata": {},
   "outputs": [],
   "source": [
    "using LinearAlgebra"
   ]
  },
  {
   "cell_type": "code",
   "execution_count": 237,
   "id": "e4a42268",
   "metadata": {},
   "outputs": [
    {
     "data": {
      "text/plain": [
       "3×3 Matrix{Float64}:\n",
       " 0.809621  0.401661  0.838093\n",
       " 0.695328  0.737456  0.650837\n",
       " 0.439901  0.118285  0.33064"
      ]
     },
     "execution_count": 237,
     "metadata": {},
     "output_type": "execute_result"
    }
   ],
   "source": [
    "A = rand(3, 3)"
   ]
  },
  {
   "cell_type": "code",
   "execution_count": 238,
   "id": "dd5b174e",
   "metadata": {},
   "outputs": [
    {
     "data": {
      "text/plain": [
       "LU{Float64, Matrix{Float64}, Vector{Int64}}\n",
       "L factor:\n",
       "3×3 Matrix{Float64}:\n",
       " 1.0        0.0       0.0\n",
       " 0.858831   1.0       0.0\n",
       " 0.543342  -0.254661  1.0\n",
       "U factor:\n",
       "3×3 Matrix{Float64}:\n",
       " 0.809621  0.401661   0.838093\n",
       " 0.0       0.392498  -0.0689433\n",
       " 0.0       0.0       -0.142288"
      ]
     },
     "execution_count": 238,
     "metadata": {},
     "output_type": "execute_result"
    }
   ],
   "source": [
    "# One way to perform an LU factorization is with the function `LU`, which returns matrices l and u\n",
    "# and permutation vector p.\n",
    "\n",
    "l, u, p = lu(A)"
   ]
  },
  {
   "cell_type": "code",
   "execution_count": 239,
   "id": "1372bdfc",
   "metadata": {},
   "outputs": [
    {
     "data": {
      "text/plain": [
       "3×3 Matrix{Float64}:\n",
       " 1.0        0.0       0.0\n",
       " 0.858831   1.0       0.0\n",
       " 0.543342  -0.254661  1.0"
      ]
     },
     "execution_count": 239,
     "metadata": {},
     "output_type": "execute_result"
    }
   ],
   "source": [
    "l"
   ]
  },
  {
   "cell_type": "code",
   "execution_count": 240,
   "id": "6cfa96bb",
   "metadata": {},
   "outputs": [
    {
     "data": {
      "text/plain": [
       "3×3 Matrix{Float64}:\n",
       " 0.809621  0.401661   0.838093\n",
       " 0.0       0.392498  -0.0689433\n",
       " 0.0       0.0       -0.142288"
      ]
     },
     "execution_count": 240,
     "metadata": {},
     "output_type": "execute_result"
    }
   ],
   "source": [
    "u"
   ]
  },
  {
   "cell_type": "code",
   "execution_count": 241,
   "id": "575f4ef4",
   "metadata": {},
   "outputs": [
    {
     "data": {
      "text/plain": [
       "3-element Vector{Int64}:\n",
       " 1\n",
       " 2\n",
       " 3"
      ]
     },
     "execution_count": 241,
     "metadata": {},
     "output_type": "execute_result"
    }
   ],
   "source": [
    "p"
   ]
  },
  {
   "cell_type": "code",
   "execution_count": 242,
   "id": "9c2b779b",
   "metadata": {},
   "outputs": [
    {
     "data": {
      "text/plain": [
       "3×3 Matrix{Float64}:\n",
       " 0.809621  0.401661  0.838093\n",
       " 0.695328  0.737456  0.650837\n",
       " 0.439901  0.118285  0.33064"
      ]
     },
     "execution_count": 242,
     "metadata": {},
     "output_type": "execute_result"
    }
   ],
   "source": [
    "l*u"
   ]
  },
  {
   "cell_type": "code",
   "execution_count": 243,
   "id": "eea0b432",
   "metadata": {},
   "outputs": [
    {
     "data": {
      "text/plain": [
       "0.0"
      ]
     },
     "execution_count": 243,
     "metadata": {},
     "output_type": "execute_result"
    }
   ],
   "source": [
    "norm(l*u - A)"
   ]
  },
  {
   "cell_type": "code",
   "execution_count": 246,
   "id": "11fa5331",
   "metadata": {},
   "outputs": [
    {
     "data": {
      "text/plain": [
       "3-element Vector{Float64}:\n",
       " 2.0493750951571785\n",
       " 2.083621065980288\n",
       " 0.8888267793201227"
      ]
     },
     "execution_count": 246,
     "metadata": {},
     "output_type": "execute_result"
    }
   ],
   "source": [
    "x = ones(3)\n",
    "b = A*x"
   ]
  },
  {
   "cell_type": "code",
   "execution_count": 251,
   "id": "18884566",
   "metadata": {},
   "outputs": [
    {
     "data": {
      "text/plain": [
       "3×3 Diagonal{Float64, Vector{Float64}}:\n",
       " 0.809621   ⋅         ⋅ \n",
       "  ⋅        0.737456   ⋅ \n",
       "  ⋅         ⋅        0.33064"
      ]
     },
     "execution_count": 251,
     "metadata": {},
     "output_type": "execute_result"
    }
   ],
   "source": [
    "B = Diagonal(A)"
   ]
  },
  {
   "cell_type": "code",
   "execution_count": 252,
   "id": "3eebb5dd",
   "metadata": {},
   "outputs": [
    {
     "data": {
      "text/plain": [
       "1.8777182065320341"
      ]
     },
     "execution_count": 252,
     "metadata": {},
     "output_type": "execute_result"
    }
   ],
   "source": [
    "sum(B)"
   ]
  },
  {
   "cell_type": "code",
   "execution_count": null,
   "id": "61a70cbd",
   "metadata": {},
   "outputs": [],
   "source": []
  }
 ],
 "metadata": {
  "kernelspec": {
   "display_name": "Julia 1.10.4",
   "language": "julia",
   "name": "julia-1.10"
  },
  "language_info": {
   "file_extension": ".jl",
   "mimetype": "application/julia",
   "name": "julia",
   "version": "1.10.4"
  }
 },
 "nbformat": 4,
 "nbformat_minor": 5
}
